{
 "cells": [
  {
   "cell_type": "markdown",
   "metadata": {},
   "source": [
    "### Introduction - Nate Silver's Election Prediction Meta-Analysis\n",
    "\n",
    "* Presenters: Ritesh Bansal and James Schmitz\n",
    "  * We don't know Nate Silver, but we are motivated by curiousity and respect of his work\n",
    "* Skipper Seabold put together original presentation and Jupyter Notebooks"
   ]
  },
  {
   "cell_type": "markdown",
   "metadata": {},
   "source": [
    "### Nate Silver's Analysis Goal\n",
    "\n",
    "\"...but somewhat contrary to the media portrayal of election forecasters as wizards who conjure up spells from their spreadsheets, our goal is not to divine some magic formula that miraculously predicts every election. Instead, it’s to make sense of publicly available information in a rigorous and disciplined way.\" - Nate Silver"
   ]
  },
  {
   "cell_type": "markdown",
   "metadata": {},
   "source": [
    "### Meta-Analysis\n",
    "\n",
    "(insert definition)"
   ]
  },
  {
   "cell_type": "markdown",
   "metadata": {},
   "source": [
    "### Polling - Combining Poll Results\n",
    "\n",
    "* Remove historical biases and de-emphasize old polls or polls with methodology flaws\n",
    "* Why are polls not accurate?\n",
    "* Likely votes vs Actual Voters\n",
    "* Is the sample of atual voters representative of the actual population?"
   ]
  },
  {
   "cell_type": "markdown",
   "metadata": {},
   "source": [
    "### Poll Time Decay\n",
    "\n",
    "* Polls decay over time\n",
    "* Adjust older polls for trends"
   ]
  },
  {
   "cell_type": "markdown",
   "metadata": {},
   "source": [
    "### Macroeconomic Prediction\n",
    "\n",
    "(is this the right term for this? how about fundamental analysis based on incumbant status, etc)"
   ]
  },
  {
   "cell_type": "markdown",
   "metadata": {},
   "source": [
    "### Combine Poll results with Macroeconomic Prediction\n",
    "\n",
    "* ?"
   ]
  },
  {
   "cell_type": "markdown",
   "metadata": {},
   "source": [
    "### Project out by allocating the undecided voters\n",
    "\n",
    "* ?"
   ]
  },
  {
   "cell_type": "markdown",
   "metadata": {},
   "source": [
    "### Model Prediction Uncertainty and Simulate\n",
    "\n",
    "* Guestimate Electorial college votes"
   ]
  }
 ],
 "metadata": {
  "kernelspec": {
   "display_name": "Python 2",
   "language": "python",
   "name": "python2"
  },
  "language_info": {
   "codemirror_mode": {
    "name": "ipython",
    "version": 2
   },
   "file_extension": ".py",
   "mimetype": "text/x-python",
   "name": "python",
   "nbconvert_exporter": "python",
   "pygments_lexer": "ipython2",
   "version": "2.7.11"
  }
 },
 "nbformat": 4,
 "nbformat_minor": 0
}
