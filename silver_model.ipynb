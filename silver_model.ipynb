{
 "cells": [
  {
   "cell_type": "markdown",
   "metadata": {},
   "source": [
    "GitHub link for the talk. You can clone the data and play with it yourself. Please submit any improvements as pull requests\n",
    "\n",
    "[https://github.com/jseabold/538model](https://github.com/jseabold/538model)"
   ]
  },
  {
   "cell_type": "code",
   "execution_count": 1,
   "metadata": {
    "collapsed": false
   },
   "outputs": [],
   "source": [
    "import datetime\n",
    "\n",
    "import numpy as np\n",
    "import statsmodels.api as sm\n",
    "import matplotlib.pyplot as plt\n",
    "import pandas\n",
    "from scipy import stats\n",
    "np.set_printoptions(precision=4, suppress=True)\n",
    "%matplotlib inline\n",
    "\n",
    "#pandas.set_options(notebook_repr_html=False,\n",
    "#                        precision=4,\n",
    "#                        max_columns=12, column_space=10,\n",
    "#                        max_colwidth=25)"
   ]
  },
  {
   "cell_type": "code",
   "execution_count": 2,
   "metadata": {
    "collapsed": false
   },
   "outputs": [],
   "source": [
    "today = datetime.datetime(2012, 10, 2)"
   ]
  },
  {
   "cell_type": "markdown",
   "metadata": {},
   "source": [
    "## Outline"
   ]
  },
  {
   "cell_type": "markdown",
   "metadata": {},
   "source": [
    "Methodology was obtained from the old [538 Blog](http://www.fivethirtyeight.com/2008/03/frequently-asked-questions-last-revised.html) with updates at the [new site hosted by the New York Times](http://fivethirtyeight.blogs.nytimes.com/methodology/)"
   ]
  },
  {
   "cell_type": "markdown",
   "metadata": {},
   "source": [
    "1. Polling Average: Aggregate polling data, and weight it according to our reliability scores.\n",
    "\n",
    "2. Trend Adjustment: Adjust the polling data for current trends.\n",
    "\n",
    "3. Regression: Analyze demographic data in each state by means of regression analysis.\n",
    "\n",
    "4. Snapshot: Combine the polling data with the regression analysis to produce an electoral snapshot. This is our estimate of what would happen if the election were held today.\n",
    "\n",
    "5. Projection: Translate the snapshot into a projection of what will happen in November, by allocating out undecided voters and applying a discount to current polling leads based on historical trends.\n",
    "\n",
    "6. Simulation: Simulate our results 10,000 times based on the results of the projection to account for the uncertainty in our estimates. The end result is a robust probabilistic assessment of what will happen in each state as well as in the nation as a whole. "
   ]
  },
  {
   "cell_type": "markdown",
   "metadata": {},
   "source": [
    "## Get the Data"
   ]
  },
  {
   "cell_type": "markdown",
   "metadata": {},
   "source": [
    "### Consensus forecast of GDP growth over the next two economic quarters <br />(Median of WSJ's monthly forecasting panel)"
   ]
  },
  {
   "cell_type": "markdown",
   "metadata": {},
   "source": [
    "The process for creating an economic index for the 538 model is described [here](http://fivethirtyeight.blogs.nytimes.com/2012/07/05/measuring-the-effect-of-the-economy-on-elections/#more-31732)."
   ]
  },
  {
   "cell_type": "raw",
   "metadata": {},
   "source": [
    "Obtained from WSJ.com on 10/2/12"
   ]
  },
  {
   "cell_type": "raw",
   "metadata": {},
   "source": [
    "Pandas methods are NaN aware, so we can just get the median."
   ]
  },
  {
   "cell_type": "code",
   "execution_count": 3,
   "metadata": {
    "collapsed": false
   },
   "outputs": [],
   "source": [
    "forecasts = pandas.read_csv(\"data_nuevo/wsj_forecast.csv\")"
   ]
  },
  {
   "cell_type": "code",
   "execution_count": 4,
   "metadata": {
    "collapsed": false
   },
   "outputs": [
    {
     "data": {
      "text/html": [
       "<div>\n",
       "<table border=\"1\" class=\"dataframe\">\n",
       "  <thead>\n",
       "    <tr style=\"text-align: right;\">\n",
       "      <th></th>\n",
       "      <th>Unnamed: 0</th>\n",
       "      <th>Unnamed: 0.1</th>\n",
       "      <th>Forecaster</th>\n",
       "      <th>Institution</th>\n",
       "      <th>gdp_q3_2012</th>\n",
       "      <th>gdp_q4_2012</th>\n",
       "    </tr>\n",
       "  </thead>\n",
       "  <tbody>\n",
       "    <tr>\n",
       "      <th>0</th>\n",
       "      <td>0</td>\n",
       "      <td>0</td>\n",
       "      <td>Paul Ashworth</td>\n",
       "      <td>Capital Economics</td>\n",
       "      <td>2.0</td>\n",
       "      <td>1.5</td>\n",
       "    </tr>\n",
       "    <tr>\n",
       "      <th>1</th>\n",
       "      <td>1</td>\n",
       "      <td>1</td>\n",
       "      <td>Nariman Behravesh</td>\n",
       "      <td>IHS Global Insight</td>\n",
       "      <td>1.5</td>\n",
       "      <td>1.6</td>\n",
       "    </tr>\n",
       "    <tr>\n",
       "      <th>2</th>\n",
       "      <td>2</td>\n",
       "      <td>2</td>\n",
       "      <td>Richard Berner/ David Greenlaw *</td>\n",
       "      <td>Morgan Stanley</td>\n",
       "      <td>NaN</td>\n",
       "      <td>NaN</td>\n",
       "    </tr>\n",
       "    <tr>\n",
       "      <th>3</th>\n",
       "      <td>3</td>\n",
       "      <td>3</td>\n",
       "      <td>Ram Bhagavatula</td>\n",
       "      <td>Combinatorics Capital</td>\n",
       "      <td>2.0</td>\n",
       "      <td>4.0</td>\n",
       "    </tr>\n",
       "    <tr>\n",
       "      <th>4</th>\n",
       "      <td>4</td>\n",
       "      <td>4</td>\n",
       "      <td>Beth Ann Bovino *</td>\n",
       "      <td>Standard and Poor's</td>\n",
       "      <td>NaN</td>\n",
       "      <td>NaN</td>\n",
       "    </tr>\n",
       "    <tr>\n",
       "      <th>5</th>\n",
       "      <td>5</td>\n",
       "      <td>5</td>\n",
       "      <td>Jay Brinkmann</td>\n",
       "      <td>Mortgage Bankers Association</td>\n",
       "      <td>1.8</td>\n",
       "      <td>1.9</td>\n",
       "    </tr>\n",
       "    <tr>\n",
       "      <th>6</th>\n",
       "      <td>6</td>\n",
       "      <td>6</td>\n",
       "      <td>Michael Carey</td>\n",
       "      <td>Credit Agricole CIB</td>\n",
       "      <td>1.7</td>\n",
       "      <td>1.6</td>\n",
       "    </tr>\n",
       "    <tr>\n",
       "      <th>7</th>\n",
       "      <td>7</td>\n",
       "      <td>7</td>\n",
       "      <td>Joseph Carson</td>\n",
       "      <td>AllianceBernstein</td>\n",
       "      <td>2.5</td>\n",
       "      <td>3.5</td>\n",
       "    </tr>\n",
       "    <tr>\n",
       "      <th>8</th>\n",
       "      <td>8</td>\n",
       "      <td>8</td>\n",
       "      <td>Julia Coronado</td>\n",
       "      <td>BNP Paribas</td>\n",
       "      <td>1.4</td>\n",
       "      <td>1.6</td>\n",
       "    </tr>\n",
       "    <tr>\n",
       "      <th>9</th>\n",
       "      <td>9</td>\n",
       "      <td>9</td>\n",
       "      <td>Mike Cosgrove</td>\n",
       "      <td>Econoclast</td>\n",
       "      <td>1.6</td>\n",
       "      <td>1.6</td>\n",
       "    </tr>\n",
       "    <tr>\n",
       "      <th>10</th>\n",
       "      <td>10</td>\n",
       "      <td>10</td>\n",
       "      <td>Lou Crandall</td>\n",
       "      <td>Wrightson ICAP</td>\n",
       "      <td>1.8</td>\n",
       "      <td>1.8</td>\n",
       "    </tr>\n",
       "    <tr>\n",
       "      <th>11</th>\n",
       "      <td>11</td>\n",
       "      <td>11</td>\n",
       "      <td>J. Dewey Daane</td>\n",
       "      <td>Vanderbilt University</td>\n",
       "      <td>1.5</td>\n",
       "      <td>1.5</td>\n",
       "    </tr>\n",
       "    <tr>\n",
       "      <th>...</th>\n",
       "      <td>...</td>\n",
       "      <td>...</td>\n",
       "      <td>...</td>\n",
       "      <td>...</td>\n",
       "      <td>...</td>\n",
       "      <td>...</td>\n",
       "    </tr>\n",
       "    <tr>\n",
       "      <th>39</th>\n",
       "      <td>39</td>\n",
       "      <td>39</td>\n",
       "      <td>James F. Smith</td>\n",
       "      <td>Parsec Financial Management</td>\n",
       "      <td>3.8</td>\n",
       "      <td>4.8</td>\n",
       "    </tr>\n",
       "    <tr>\n",
       "      <th>40</th>\n",
       "      <td>40</td>\n",
       "      <td>40</td>\n",
       "      <td>Sean M. Snaith</td>\n",
       "      <td>University of Central Florida</td>\n",
       "      <td>1.7</td>\n",
       "      <td>1.9</td>\n",
       "    </tr>\n",
       "    <tr>\n",
       "      <th>41</th>\n",
       "      <td>41</td>\n",
       "      <td>41</td>\n",
       "      <td>Sung Won Sohn</td>\n",
       "      <td>California State University</td>\n",
       "      <td>1.8</td>\n",
       "      <td>1.7</td>\n",
       "    </tr>\n",
       "    <tr>\n",
       "      <th>42</th>\n",
       "      <td>42</td>\n",
       "      <td>42</td>\n",
       "      <td>Neal Soss</td>\n",
       "      <td>CSFB</td>\n",
       "      <td>1.5</td>\n",
       "      <td>2.2</td>\n",
       "    </tr>\n",
       "    <tr>\n",
       "      <th>43</th>\n",
       "      <td>43</td>\n",
       "      <td>43</td>\n",
       "      <td>Stephen Stanley</td>\n",
       "      <td>Pierpont Securities</td>\n",
       "      <td>1.0</td>\n",
       "      <td>2.1</td>\n",
       "    </tr>\n",
       "    <tr>\n",
       "      <th>44</th>\n",
       "      <td>44</td>\n",
       "      <td>44</td>\n",
       "      <td>Susan M. Sterne</td>\n",
       "      <td>Economic Analysis Associates Inc.</td>\n",
       "      <td>2.2</td>\n",
       "      <td>1.9</td>\n",
       "    </tr>\n",
       "    <tr>\n",
       "      <th>45</th>\n",
       "      <td>45</td>\n",
       "      <td>45</td>\n",
       "      <td>Diane Swonk</td>\n",
       "      <td>Mesirow Financial</td>\n",
       "      <td>1.3</td>\n",
       "      <td>1.5</td>\n",
       "    </tr>\n",
       "    <tr>\n",
       "      <th>46</th>\n",
       "      <td>46</td>\n",
       "      <td>46</td>\n",
       "      <td>Carl Tannenbaum</td>\n",
       "      <td>The Northern Trust</td>\n",
       "      <td>1.7</td>\n",
       "      <td>2.0</td>\n",
       "    </tr>\n",
       "    <tr>\n",
       "      <th>47</th>\n",
       "      <td>47</td>\n",
       "      <td>47</td>\n",
       "      <td>Bart van Ark</td>\n",
       "      <td>The Conference Board</td>\n",
       "      <td>1.6</td>\n",
       "      <td>1.6</td>\n",
       "    </tr>\n",
       "    <tr>\n",
       "      <th>48</th>\n",
       "      <td>48</td>\n",
       "      <td>48</td>\n",
       "      <td>Brian S. Wesbury/ Robert Stein</td>\n",
       "      <td>First Trust Advisors, L.P.</td>\n",
       "      <td>2.5</td>\n",
       "      <td>3.0</td>\n",
       "    </tr>\n",
       "    <tr>\n",
       "      <th>49</th>\n",
       "      <td>49</td>\n",
       "      <td>49</td>\n",
       "      <td>William T. Wilson</td>\n",
       "      <td>Skolkovo Institute for Emerging Market Studies</td>\n",
       "      <td>1.9</td>\n",
       "      <td>2.2</td>\n",
       "    </tr>\n",
       "    <tr>\n",
       "      <th>50</th>\n",
       "      <td>50</td>\n",
       "      <td>50</td>\n",
       "      <td>Lawrence Yun</td>\n",
       "      <td>National Association of Realtors</td>\n",
       "      <td>1.7</td>\n",
       "      <td>2.1</td>\n",
       "    </tr>\n",
       "  </tbody>\n",
       "</table>\n",
       "<p>51 rows × 6 columns</p>\n",
       "</div>"
      ],
      "text/plain": [
       "    Unnamed: 0  Unnamed: 0.1                        Forecaster                                     Institution  \\\n",
       "0            0             0                     Paul Ashworth                               Capital Economics   \n",
       "1            1             1                 Nariman Behravesh                              IHS Global Insight   \n",
       "2            2             2  Richard Berner/ David Greenlaw *                                  Morgan Stanley   \n",
       "3            3             3                   Ram Bhagavatula                           Combinatorics Capital   \n",
       "4            4             4                 Beth Ann Bovino *                             Standard and Poor's   \n",
       "5            5             5                     Jay Brinkmann                    Mortgage Bankers Association   \n",
       "6            6             6                     Michael Carey                             Credit Agricole CIB   \n",
       "7            7             7                     Joseph Carson                               AllianceBernstein   \n",
       "8            8             8                    Julia Coronado                                     BNP Paribas   \n",
       "9            9             9                     Mike Cosgrove                                      Econoclast   \n",
       "10          10            10                      Lou Crandall                                  Wrightson ICAP   \n",
       "11          11            11                    J. Dewey Daane                           Vanderbilt University   \n",
       "..         ...           ...                               ...                                             ...   \n",
       "39          39            39                    James F. Smith                     Parsec Financial Management   \n",
       "40          40            40                    Sean M. Snaith                   University of Central Florida   \n",
       "41          41            41                     Sung Won Sohn                     California State University   \n",
       "42          42            42                         Neal Soss                                            CSFB   \n",
       "43          43            43                   Stephen Stanley                             Pierpont Securities   \n",
       "44          44            44                   Susan M. Sterne               Economic Analysis Associates Inc.   \n",
       "45          45            45                       Diane Swonk                               Mesirow Financial   \n",
       "46          46            46                  Carl Tannenbaum                               The Northern Trust   \n",
       "47          47            47                      Bart van Ark                            The Conference Board   \n",
       "48          48            48    Brian S. Wesbury/ Robert Stein                      First Trust Advisors, L.P.   \n",
       "49          49            49                 William T. Wilson  Skolkovo Institute for Emerging Market Studies   \n",
       "50          50            50                      Lawrence Yun                National Association of Realtors   \n",
       "\n",
       "    gdp_q3_2012  gdp_q4_2012  \n",
       "0           2.0          1.5  \n",
       "1           1.5          1.6  \n",
       "2           NaN          NaN  \n",
       "3           2.0          4.0  \n",
       "4           NaN          NaN  \n",
       "5           1.8          1.9  \n",
       "6           1.7          1.6  \n",
       "7           2.5          3.5  \n",
       "8           1.4          1.6  \n",
       "9           1.6          1.6  \n",
       "10          1.8          1.8  \n",
       "11          1.5          1.5  \n",
       "..          ...          ...  \n",
       "39          3.8          4.8  \n",
       "40          1.7          1.9  \n",
       "41          1.8          1.7  \n",
       "42          1.5          2.2  \n",
       "43          1.0          2.1  \n",
       "44          2.2          1.9  \n",
       "45          1.3          1.5  \n",
       "46          1.7          2.0  \n",
       "47          1.6          1.6  \n",
       "48          2.5          3.0  \n",
       "49          1.9          2.2  \n",
       "50          1.7          2.1  \n",
       "\n",
       "[51 rows x 6 columns]"
      ]
     },
     "execution_count": 4,
     "metadata": {},
     "output_type": "execute_result"
    }
   ],
   "source": [
    "forecasts"
   ]
  },
  {
   "cell_type": "code",
   "execution_count": 5,
   "metadata": {
    "collapsed": false
   },
   "outputs": [],
   "source": [
    "median_forecast = forecasts[['gdp_q3_2012', 'gdp_q4_2012']].median()"
   ]
  },
  {
   "cell_type": "code",
   "execution_count": 6,
   "metadata": {
    "collapsed": false
   },
   "outputs": [
    {
     "data": {
      "text/plain": [
       "gdp_q3_2012    1.8\n",
       "gdp_q4_2012    1.8\n",
       "dtype: float64"
      ]
     },
     "execution_count": 6,
     "metadata": {},
     "output_type": "execute_result"
    }
   ],
   "source": [
    "median_forecast"
   ]
  },
  {
   "cell_type": "markdown",
   "metadata": {},
   "source": [
    "### Polling Data"
   ]
  },
  {
   "cell_type": "markdown",
   "metadata": {},
   "source": [
    "I used Python to scrape the [Real Clear Politics](realclearpolitics.com) website and download data for the 2004 and 2008 elections. The scraping scripts are available in the github repository for this talk. State by state historical data for the 2004 and 2008 Presidential elections was obtained from [electoral-vote.com](www.electorical-vote.com)."
   ]
  },
  {
   "cell_type": "markdown",
   "metadata": {},
   "source": [
    "## Polling Average"
   ]
  },
  {
   "cell_type": "markdown",
   "metadata": {},
   "source": [
    "Details can be found at the 538 blog [here](http://www.fivethirtyeight.com/2008/03/pollster-ratings-updated.html)."
   ]
  },
  {
   "cell_type": "code",
   "execution_count": 7,
   "metadata": {
    "collapsed": false
   },
   "outputs": [],
   "source": [
    "tossup = [\"Colorado\", \"Florida\", \"Iowa\", \"New Hampshire\", \"Nevada\", \n",
    "          \"Ohio\", \"Virginia\", \"Wisconsin\"]"
   ]
  },
  {
   "cell_type": "code",
   "execution_count": 8,
   "metadata": {
    "collapsed": true
   },
   "outputs": [],
   "source": [
    "national_data2012 = pandas.read_pickle(\"data_nuevo/2012_poll_data_national.pkl\")"
   ]
  },
  {
   "cell_type": "code",
   "execution_count": 9,
   "metadata": {
    "collapsed": false
   },
   "outputs": [
    {
     "data": {
      "text/html": [
       "<div>\n",
       "<table border=\"1\" class=\"dataframe\">\n",
       "  <thead>\n",
       "    <tr style=\"text-align: right;\">\n",
       "      <th></th>\n",
       "      <th>Pollster</th>\n",
       "      <th>Sample</th>\n",
       "      <th>MoE</th>\n",
       "      <th>Obama (D)</th>\n",
       "      <th>Romney (R)</th>\n",
       "      <th>Spread</th>\n",
       "      <th>obama_spread</th>\n",
       "      <th>State</th>\n",
       "      <th>poll_date</th>\n",
       "    </tr>\n",
       "  </thead>\n",
       "  <tbody>\n",
       "    <tr>\n",
       "      <th>0</th>\n",
       "      <td>RCP Average</td>\n",
       "      <td>NaN</td>\n",
       "      <td>--</td>\n",
       "      <td>49.1</td>\n",
       "      <td>45.1</td>\n",
       "      <td>Obama +4.0</td>\n",
       "      <td>4</td>\n",
       "      <td>USA</td>\n",
       "      <td>2012-09-28</td>\n",
       "    </tr>\n",
       "    <tr>\n",
       "      <th>1</th>\n",
       "      <td>Rasmussen Tracking</td>\n",
       "      <td>1500</td>\n",
       "      <td>3.0</td>\n",
       "      <td>48.0</td>\n",
       "      <td>47.0</td>\n",
       "      <td>Obama +1</td>\n",
       "      <td>1</td>\n",
       "      <td>USA</td>\n",
       "      <td>2012-09-30</td>\n",
       "    </tr>\n",
       "    <tr>\n",
       "      <th>2</th>\n",
       "      <td>CNN/Opinion Research</td>\n",
       "      <td>783</td>\n",
       "      <td>3.5</td>\n",
       "      <td>50.0</td>\n",
       "      <td>47.0</td>\n",
       "      <td>Obama +3</td>\n",
       "      <td>3</td>\n",
       "      <td>USA</td>\n",
       "      <td>2012-09-29</td>\n",
       "    </tr>\n",
       "    <tr>\n",
       "      <th>3</th>\n",
       "      <td>Gallup Tracking</td>\n",
       "      <td>3050</td>\n",
       "      <td>2.0</td>\n",
       "      <td>50.0</td>\n",
       "      <td>44.0</td>\n",
       "      <td>Obama +6</td>\n",
       "      <td>6</td>\n",
       "      <td>USA</td>\n",
       "      <td>2012-09-28</td>\n",
       "    </tr>\n",
       "    <tr>\n",
       "      <th>4</th>\n",
       "      <td>Quinnipiac</td>\n",
       "      <td>1912</td>\n",
       "      <td>2.2</td>\n",
       "      <td>49.0</td>\n",
       "      <td>45.0</td>\n",
       "      <td>Obama +4</td>\n",
       "      <td>4</td>\n",
       "      <td>USA</td>\n",
       "      <td>2012-09-28</td>\n",
       "    </tr>\n",
       "  </tbody>\n",
       "</table>\n",
       "</div>"
      ],
      "text/plain": [
       "               Pollster  Sample  MoE  Obama (D)  Romney (R)      Spread  obama_spread State  poll_date\n",
       "0           RCP Average     NaN   --       49.1        45.1  Obama +4.0             4   USA 2012-09-28\n",
       "1    Rasmussen Tracking    1500  3.0       48.0        47.0    Obama +1             1   USA 2012-09-30\n",
       "2  CNN/Opinion Research     783  3.5       50.0        47.0    Obama +3             3   USA 2012-09-29\n",
       "3       Gallup Tracking    3050  2.0       50.0        44.0    Obama +6             6   USA 2012-09-28\n",
       "4            Quinnipiac    1912  2.2       49.0        45.0    Obama +4             4   USA 2012-09-28"
      ]
     },
     "execution_count": 9,
     "metadata": {},
     "output_type": "execute_result"
    }
   ],
   "source": [
    "national_data2012.head(5)"
   ]
  },
  {
   "cell_type": "code",
   "execution_count": 10,
   "metadata": {
    "collapsed": true
   },
   "outputs": [],
   "source": [
    "state_data2012 = pandas.read_pickle(\"data_nuevo/2012_poll_data_states.pkl\")"
   ]
  },
  {
   "cell_type": "code",
   "execution_count": 11,
   "metadata": {
    "collapsed": false
   },
   "outputs": [
    {
     "data": {
      "text/html": [
       "<div>\n",
       "<table border=\"1\" class=\"dataframe\">\n",
       "  <thead>\n",
       "    <tr style=\"text-align: right;\">\n",
       "      <th></th>\n",
       "      <th>Pollster</th>\n",
       "      <th>State</th>\n",
       "      <th>MoE</th>\n",
       "      <th>Obama (D)</th>\n",
       "      <th>Romney (R)</th>\n",
       "      <th>Sample</th>\n",
       "      <th>Spread</th>\n",
       "      <th>obama_spread</th>\n",
       "      <th>poll_date</th>\n",
       "    </tr>\n",
       "  </thead>\n",
       "  <tbody>\n",
       "    <tr>\n",
       "      <th>0</th>\n",
       "      <td>Rasmussen Reports</td>\n",
       "      <td>WA</td>\n",
       "      <td>4.5</td>\n",
       "      <td>52</td>\n",
       "      <td>41</td>\n",
       "      <td>500</td>\n",
       "      <td>Obama +11</td>\n",
       "      <td>11</td>\n",
       "      <td>2012-09-26</td>\n",
       "    </tr>\n",
       "    <tr>\n",
       "      <th>1</th>\n",
       "      <td>Gravis Marketing</td>\n",
       "      <td>WA</td>\n",
       "      <td>4.6</td>\n",
       "      <td>56</td>\n",
       "      <td>39</td>\n",
       "      <td>625</td>\n",
       "      <td>Obama +17</td>\n",
       "      <td>17</td>\n",
       "      <td>2012-09-22</td>\n",
       "    </tr>\n",
       "    <tr>\n",
       "      <th>2</th>\n",
       "      <td>Elway Poll</td>\n",
       "      <td>WA</td>\n",
       "      <td>5.0</td>\n",
       "      <td>53</td>\n",
       "      <td>36</td>\n",
       "      <td>405</td>\n",
       "      <td>Obama +17</td>\n",
       "      <td>17</td>\n",
       "      <td>2012-09-11</td>\n",
       "    </tr>\n",
       "    <tr>\n",
       "      <th>3</th>\n",
       "      <td>SurveyUSA</td>\n",
       "      <td>WA</td>\n",
       "      <td>4.4</td>\n",
       "      <td>54</td>\n",
       "      <td>38</td>\n",
       "      <td>524</td>\n",
       "      <td>Obama +16</td>\n",
       "      <td>16</td>\n",
       "      <td>2012-09-08</td>\n",
       "    </tr>\n",
       "    <tr>\n",
       "      <th>4</th>\n",
       "      <td>SurveyUSA</td>\n",
       "      <td>WA</td>\n",
       "      <td>4.4</td>\n",
       "      <td>54</td>\n",
       "      <td>37</td>\n",
       "      <td>524</td>\n",
       "      <td>Obama +17</td>\n",
       "      <td>17</td>\n",
       "      <td>2012-08-02</td>\n",
       "    </tr>\n",
       "  </tbody>\n",
       "</table>\n",
       "</div>"
      ],
      "text/plain": [
       "            Pollster State  MoE  Obama (D)  Romney (R)  Sample     Spread  obama_spread  poll_date\n",
       "0  Rasmussen Reports    WA  4.5         52          41     500  Obama +11            11 2012-09-26\n",
       "1   Gravis Marketing    WA  4.6         56          39     625  Obama +17            17 2012-09-22\n",
       "2         Elway Poll    WA  5.0         53          36     405  Obama +17            17 2012-09-11\n",
       "3          SurveyUSA    WA  4.4         54          38     524  Obama +16            16 2012-09-08\n",
       "4          SurveyUSA    WA  4.4         54          37     524  Obama +17            17 2012-08-02"
      ]
     },
     "execution_count": 11,
     "metadata": {},
     "output_type": "execute_result"
    }
   ],
   "source": [
    "state_data2012.head(5)"
   ]
  },
  {
   "cell_type": "code",
   "execution_count": 12,
   "metadata": {
    "collapsed": false
   },
   "outputs": [],
   "source": [
    "pollsters = state_data2012.Pollster.unique()\n",
    "pollsters.sort()"
   ]
  },
  {
   "cell_type": "code",
   "execution_count": 13,
   "metadata": {
    "collapsed": false
   },
   "outputs": [
    {
     "data": {
      "text/plain": [
       "120"
      ]
     },
     "execution_count": 13,
     "metadata": {},
     "output_type": "execute_result"
    }
   ],
   "source": [
    "len(pollsters)"
   ]
  },
  {
   "cell_type": "code",
   "execution_count": 14,
   "metadata": {
    "collapsed": false
   },
   "outputs": [
    {
     "name": "stdout",
     "output_type": "stream",
     "text": [
      "0                AFP/Magellan (R)\n",
      "1              AIF/McLaughlin (R)\n",
      "2                             ARG\n",
      "3            Albuquerque Journal*\n",
      "4                   Arizona State\n",
      "5                   Baltimore Sun\n",
      "6              Baydoun/Foster (D)\n",
      "7        Behavior Research Center\n",
      "8                  Bloomberg News\n",
      "9                    Boston Globe\n",
      "10             CBS/NYT/Quinnipiac\n",
      "11           CNN/Opinion Research\n",
      "                  ...            \n",
      "108           Virginian-Pilot/ODU\n",
      "109    Voter/Consumer Res/TIR (R)\n",
      "110                  WBUR/MassINC\n",
      "111                      WMUR/UNH\n",
      "112                           WPA\n",
      "113               WPR/St. Norbert\n",
      "114                          WPRI\n",
      "115                  WPRI/Fleming\n",
      "116               Washington Post\n",
      "117                  WeAskAmerica\n",
      "118                 WeAskAmerica*\n",
      "119         Western NE University\n",
      "dtype: object\n"
     ]
    }
   ],
   "source": [
    "print pandas.Series(pollsters)"
   ]
  },
  {
   "cell_type": "markdown",
   "metadata": {},
   "source": [
    "### 538 Pollster Ratings"
   ]
  },
  {
   "cell_type": "code",
   "execution_count": 15,
   "metadata": {
    "collapsed": false
   },
   "outputs": [],
   "source": [
    "weights = pandas.read_table(\"./data/pollster_weights.csv\")"
   ]
  },
  {
   "cell_type": "code",
   "execution_count": 16,
   "metadata": {
    "collapsed": false
   },
   "outputs": [
    {
     "data": {
      "text/html": [
       "<div>\n",
       "<table border=\"1\" class=\"dataframe\">\n",
       "  <thead>\n",
       "    <tr style=\"text-align: right;\">\n",
       "      <th></th>\n",
       "      <th>Pollster</th>\n",
       "      <th>Weight</th>\n",
       "      <th>PIE</th>\n",
       "    </tr>\n",
       "  </thead>\n",
       "  <tbody>\n",
       "    <tr>\n",
       "      <th>0</th>\n",
       "      <td>ABC / Washington Post</td>\n",
       "      <td>0.95</td>\n",
       "      <td>1.41</td>\n",
       "    </tr>\n",
       "    <tr>\n",
       "      <th>1</th>\n",
       "      <td>American Research Group</td>\n",
       "      <td>0.65</td>\n",
       "      <td>1.76</td>\n",
       "    </tr>\n",
       "    <tr>\n",
       "      <th>2</th>\n",
       "      <td>CBS / New York Times</td>\n",
       "      <td>0.66</td>\n",
       "      <td>1.84</td>\n",
       "    </tr>\n",
       "    <tr>\n",
       "      <th>3</th>\n",
       "      <td>Chicago Trib. / MarketShares</td>\n",
       "      <td>1.16</td>\n",
       "      <td>1.13</td>\n",
       "    </tr>\n",
       "    <tr>\n",
       "      <th>4</th>\n",
       "      <td>CNN / Opinion Research</td>\n",
       "      <td>0.77</td>\n",
       "      <td>1.59</td>\n",
       "    </tr>\n",
       "    <tr>\n",
       "      <th>5</th>\n",
       "      <td>Columbus Dispatch (OH)</td>\n",
       "      <td>0.50</td>\n",
       "      <td>6.76</td>\n",
       "    </tr>\n",
       "    <tr>\n",
       "      <th>6</th>\n",
       "      <td>EPIC-MRA</td>\n",
       "      <td>0.75</td>\n",
       "      <td>1.65</td>\n",
       "    </tr>\n",
       "    <tr>\n",
       "      <th>7</th>\n",
       "      <td>Fairleigh-Dickinson (NJ)</td>\n",
       "      <td>0.71</td>\n",
       "      <td>1.72</td>\n",
       "    </tr>\n",
       "    <tr>\n",
       "      <th>8</th>\n",
       "      <td>Field Poll (CA)</td>\n",
       "      <td>1.33</td>\n",
       "      <td>0.88</td>\n",
       "    </tr>\n",
       "    <tr>\n",
       "      <th>9</th>\n",
       "      <td>Fox / Opinion Dynamics</td>\n",
       "      <td>0.79</td>\n",
       "      <td>1.60</td>\n",
       "    </tr>\n",
       "    <tr>\n",
       "      <th>10</th>\n",
       "      <td>Franklin Pierce (NH)</td>\n",
       "      <td>0.74</td>\n",
       "      <td>1.60</td>\n",
       "    </tr>\n",
       "    <tr>\n",
       "      <th>11</th>\n",
       "      <td>Insider Advantage</td>\n",
       "      <td>0.95</td>\n",
       "      <td>1.29</td>\n",
       "    </tr>\n",
       "    <tr>\n",
       "      <th>...</th>\n",
       "      <td>...</td>\n",
       "      <td>...</td>\n",
       "      <td>...</td>\n",
       "    </tr>\n",
       "    <tr>\n",
       "      <th>20</th>\n",
       "      <td>Quinnipiac</td>\n",
       "      <td>0.95</td>\n",
       "      <td>1.34</td>\n",
       "    </tr>\n",
       "    <tr>\n",
       "      <th>21</th>\n",
       "      <td>Rasmussen</td>\n",
       "      <td>1.30</td>\n",
       "      <td>0.88</td>\n",
       "    </tr>\n",
       "    <tr>\n",
       "      <th>22</th>\n",
       "      <td>Research 2000</td>\n",
       "      <td>1.01</td>\n",
       "      <td>1.20</td>\n",
       "    </tr>\n",
       "    <tr>\n",
       "      <th>23</th>\n",
       "      <td>Selzer</td>\n",
       "      <td>1.47</td>\n",
       "      <td>0.92</td>\n",
       "    </tr>\n",
       "    <tr>\n",
       "      <th>24</th>\n",
       "      <td>Star Tribune (MN)</td>\n",
       "      <td>0.81</td>\n",
       "      <td>2.01</td>\n",
       "    </tr>\n",
       "    <tr>\n",
       "      <th>25</th>\n",
       "      <td>Strategic Vision</td>\n",
       "      <td>0.95</td>\n",
       "      <td>1.45</td>\n",
       "    </tr>\n",
       "    <tr>\n",
       "      <th>26</th>\n",
       "      <td>Suffolk (NH/MA)</td>\n",
       "      <td>0.77</td>\n",
       "      <td>1.37</td>\n",
       "    </tr>\n",
       "    <tr>\n",
       "      <th>27</th>\n",
       "      <td>SurveyUSA</td>\n",
       "      <td>1.91</td>\n",
       "      <td>0.72</td>\n",
       "    </tr>\n",
       "    <tr>\n",
       "      <th>28</th>\n",
       "      <td>Univ. New Hampshire</td>\n",
       "      <td>1.08</td>\n",
       "      <td>1.26</td>\n",
       "    </tr>\n",
       "    <tr>\n",
       "      <th>29</th>\n",
       "      <td>USA Today / Gallup</td>\n",
       "      <td>0.63</td>\n",
       "      <td>2.01</td>\n",
       "    </tr>\n",
       "    <tr>\n",
       "      <th>30</th>\n",
       "      <td>Zogby</td>\n",
       "      <td>0.64</td>\n",
       "      <td>1.72</td>\n",
       "    </tr>\n",
       "    <tr>\n",
       "      <th>31</th>\n",
       "      <td>Zogby Interactive</td>\n",
       "      <td>0.43</td>\n",
       "      <td>4.74</td>\n",
       "    </tr>\n",
       "  </tbody>\n",
       "</table>\n",
       "<p>32 rows × 3 columns</p>\n",
       "</div>"
      ],
      "text/plain": [
       "                        Pollster  Weight   PIE\n",
       "0          ABC / Washington Post    0.95  1.41\n",
       "1        American Research Group    0.65  1.76\n",
       "2           CBS / New York Times    0.66  1.84\n",
       "3   Chicago Trib. / MarketShares    1.16  1.13\n",
       "4         CNN / Opinion Research    0.77  1.59\n",
       "5         Columbus Dispatch (OH)    0.50  6.76\n",
       "6                       EPIC-MRA    0.75  1.65\n",
       "7       Fairleigh-Dickinson (NJ)    0.71  1.72\n",
       "8                Field Poll (CA)    1.33  0.88\n",
       "9         Fox / Opinion Dynamics    0.79  1.60\n",
       "10          Franklin Pierce (NH)    0.74  1.60\n",
       "11             Insider Advantage    0.95  1.29\n",
       "..                           ...     ...   ...\n",
       "20                    Quinnipiac    0.95  1.34\n",
       "21                     Rasmussen    1.30  0.88\n",
       "22                 Research 2000    1.01  1.20\n",
       "23                        Selzer    1.47  0.92\n",
       "24             Star Tribune (MN)    0.81  2.01\n",
       "25              Strategic Vision    0.95  1.45\n",
       "26               Suffolk (NH/MA)    0.77  1.37\n",
       "27                     SurveyUSA    1.91  0.72\n",
       "28           Univ. New Hampshire    1.08  1.26\n",
       "29            USA Today / Gallup    0.63  2.01\n",
       "30                         Zogby    0.64  1.72\n",
       "31             Zogby Interactive    0.43  4.74\n",
       "\n",
       "[32 rows x 3 columns]"
      ]
     },
     "execution_count": 16,
     "metadata": {},
     "output_type": "execute_result"
    }
   ],
   "source": [
    "weights"
   ]
  },
  {
   "cell_type": "code",
   "execution_count": 17,
   "metadata": {
    "collapsed": false
   },
   "outputs": [
    {
     "data": {
      "text/plain": [
       "Weight    0.907813\n",
       "PIE       1.706563\n",
       "dtype: float64"
      ]
     },
     "execution_count": 17,
     "metadata": {},
     "output_type": "execute_result"
    }
   ],
   "source": [
    "weights.mean()"
   ]
  },
  {
   "cell_type": "markdown",
   "metadata": {},
   "source": [
    "Clean up the pollster names a bit so we can merge with the weights."
   ]
  },
  {
   "cell_type": "code",
   "execution_count": 18,
   "metadata": {
    "collapsed": false
   },
   "outputs": [],
   "source": [
    "import pickle\n",
    "pollster_map = pickle.load(open(\"./data/pollster_map.pkl\", \"rb\"))"
   ]
  },
  {
   "cell_type": "code",
   "execution_count": 19,
   "metadata": {
    "collapsed": false
   },
   "outputs": [],
   "source": [
    "state_data2012.Pollster.replace(pollster_map, inplace=True);"
   ]
  },
  {
   "cell_type": "code",
   "execution_count": 20,
   "metadata": {
    "collapsed": false
   },
   "outputs": [],
   "source": [
    "national_data2012.Pollster.replace(pollster_map, inplace=True);"
   ]
  },
  {
   "cell_type": "markdown",
   "metadata": {},
   "source": [
    "Inner merge the data with the weights"
   ]
  },
  {
   "cell_type": "code",
   "execution_count": 21,
   "metadata": {
    "collapsed": false
   },
   "outputs": [],
   "source": [
    "state_data2012 = state_data2012.merge(weights, how=\"inner\", on=\"Pollster\")"
   ]
  },
  {
   "cell_type": "code",
   "execution_count": 22,
   "metadata": {
    "collapsed": false
   },
   "outputs": [
    {
     "data": {
      "text/html": [
       "<div>\n",
       "<table border=\"1\" class=\"dataframe\">\n",
       "  <thead>\n",
       "    <tr style=\"text-align: right;\">\n",
       "      <th></th>\n",
       "      <th>Pollster</th>\n",
       "      <th>State</th>\n",
       "      <th>MoE</th>\n",
       "      <th>Obama (D)</th>\n",
       "      <th>Romney (R)</th>\n",
       "      <th>Sample</th>\n",
       "      <th>Spread</th>\n",
       "      <th>obama_spread</th>\n",
       "      <th>poll_date</th>\n",
       "      <th>Weight</th>\n",
       "      <th>PIE</th>\n",
       "    </tr>\n",
       "  </thead>\n",
       "  <tbody>\n",
       "    <tr>\n",
       "      <th>0</th>\n",
       "      <td>Rasmussen</td>\n",
       "      <td>WA</td>\n",
       "      <td>4.5</td>\n",
       "      <td>52</td>\n",
       "      <td>41</td>\n",
       "      <td>500</td>\n",
       "      <td>Obama +11</td>\n",
       "      <td>11</td>\n",
       "      <td>2012-09-26</td>\n",
       "      <td>1.3</td>\n",
       "      <td>0.88</td>\n",
       "    </tr>\n",
       "    <tr>\n",
       "      <th>1</th>\n",
       "      <td>Rasmussen</td>\n",
       "      <td>WI</td>\n",
       "      <td>4.5</td>\n",
       "      <td>49</td>\n",
       "      <td>46</td>\n",
       "      <td>500</td>\n",
       "      <td>Obama +3</td>\n",
       "      <td>3</td>\n",
       "      <td>2012-09-17</td>\n",
       "      <td>1.3</td>\n",
       "      <td>0.88</td>\n",
       "    </tr>\n",
       "    <tr>\n",
       "      <th>2</th>\n",
       "      <td>Rasmussen</td>\n",
       "      <td>WI</td>\n",
       "      <td>4.5</td>\n",
       "      <td>47</td>\n",
       "      <td>48</td>\n",
       "      <td>500</td>\n",
       "      <td>Romney +1</td>\n",
       "      <td>-1</td>\n",
       "      <td>2012-08-15</td>\n",
       "      <td>1.3</td>\n",
       "      <td>0.88</td>\n",
       "    </tr>\n",
       "    <tr>\n",
       "      <th>3</th>\n",
       "      <td>Rasmussen</td>\n",
       "      <td>WI</td>\n",
       "      <td>4.5</td>\n",
       "      <td>49</td>\n",
       "      <td>46</td>\n",
       "      <td>500</td>\n",
       "      <td>Obama +3</td>\n",
       "      <td>3</td>\n",
       "      <td>2012-07-25</td>\n",
       "      <td>1.3</td>\n",
       "      <td>0.88</td>\n",
       "    </tr>\n",
       "    <tr>\n",
       "      <th>4</th>\n",
       "      <td>Rasmussen</td>\n",
       "      <td>WI</td>\n",
       "      <td>4.5</td>\n",
       "      <td>44</td>\n",
       "      <td>47</td>\n",
       "      <td>500</td>\n",
       "      <td>Romney +3</td>\n",
       "      <td>-3</td>\n",
       "      <td>2012-06-12</td>\n",
       "      <td>1.3</td>\n",
       "      <td>0.88</td>\n",
       "    </tr>\n",
       "  </tbody>\n",
       "</table>\n",
       "</div>"
      ],
      "text/plain": [
       "    Pollster State  MoE  Obama (D)  Romney (R)  Sample     Spread  obama_spread  poll_date  Weight   PIE\n",
       "0  Rasmussen    WA  4.5         52          41     500  Obama +11            11 2012-09-26     1.3  0.88\n",
       "1  Rasmussen    WI  4.5         49          46     500   Obama +3             3 2012-09-17     1.3  0.88\n",
       "2  Rasmussen    WI  4.5         47          48     500  Romney +1            -1 2012-08-15     1.3  0.88\n",
       "3  Rasmussen    WI  4.5         49          46     500   Obama +3             3 2012-07-25     1.3  0.88\n",
       "4  Rasmussen    WI  4.5         44          47     500  Romney +3            -3 2012-06-12     1.3  0.88"
      ]
     },
     "execution_count": 22,
     "metadata": {},
     "output_type": "execute_result"
    }
   ],
   "source": [
    "state_data2012.head(5)"
   ]
  },
  {
   "cell_type": "code",
   "execution_count": 23,
   "metadata": {
    "collapsed": false
   },
   "outputs": [
    {
     "data": {
      "text/plain": [
       "Pollster                object\n",
       "State                   object\n",
       "MoE                    float64\n",
       "Obama (D)              float64\n",
       "Romney (R)             float64\n",
       "Sample                 float64\n",
       "Spread                  object\n",
       "obama_spread           float64\n",
       "poll_date       datetime64[ns]\n",
       "Weight                 float64\n",
       "PIE                    float64\n",
       "dtype: object"
      ]
     },
     "execution_count": 23,
     "metadata": {},
     "output_type": "execute_result"
    }
   ],
   "source": [
    "state_data2012.dtypes"
   ]
  },
  {
   "cell_type": "markdown",
   "metadata": {},
   "source": [
    "#### First, we average each pollster for each state."
   ]
  },
  {
   "cell_type": "markdown",
   "metadata": {},
   "source": [
    "The first adjustment is an exponential decay for recency of the poll. Based on research in prior elections, a weight with a half-life of 30 days since the median date the poll has been in the field is assigned to each poll."
   ]
  },
  {
   "cell_type": "code",
   "execution_count": 24,
   "metadata": {
    "collapsed": false
   },
   "outputs": [],
   "source": [
    "def exp_decay(x):\n",
    "    # defensive coding, accepts timedeltas\n",
    "    #days = getattr(days, \"days\", days)\n",
    "    days = x.astype('timedelta64[D]')/ np.timedelta64(1, 'D')\n",
    "    # print(\"days is\", type(days))\n",
    "    return .5 ** (days/30.)"
   ]
  },
  {
   "cell_type": "code",
   "execution_count": 25,
   "metadata": {
    "collapsed": false
   },
   "outputs": [
    {
     "data": {
      "text/plain": [
       "(0, 45)"
      ]
     },
     "execution_count": 25,
     "metadata": {},
     "output_type": "execute_result"
    },
    {
     "name": "stderr",
     "output_type": "stream",
     "text": [
      "/home/jim/INSTALL/anaconda3/envs/pydata538/lib/python2.7/site-packages/matplotlib/collections.py:590: FutureWarning: elementwise comparison failed; returning scalar instead, but in the future will perform elementwise comparison\n",
      "  if self._edgecolors == str('face'):\n"
     ]
    },
    {
     "data": {
      "image/png": "[encoded data removed]",
      "text/plain": [
       "<matplotlib.figure.Figure at 0x7f27e24ebb90>"
      ]
     },
     "metadata": {},
     "output_type": "display_data"
    }
   ],
   "source": [
    "fig, ax = plt.subplots(figsize=(12,8), subplot_kw={\"xlabel\" : \"Days\",\n",
    "                                                   \"ylabel\" : \"Weight\"})\n",
    "days = np.arange(0, 45)\n",
    "ax.plot(days, exp_decay(days));\n",
    "ax.vlines(30, 0, .99, color='r', linewidth=4)\n",
    "ax.set_ylim(0,1)\n",
    "ax.set_xlim(0, 45)\n"
   ]
  },
  {
   "cell_type": "markdown",
   "metadata": {},
   "source": [
    "The second adjustment is for the sample size of the poll. Polls with a higher sample size receive a higher weight."
   ]
  },
  {
   "cell_type": "markdown",
   "metadata": {},
   "source": [
    "Binomial sampling error = +/- $50 * \\frac{1}{\\sqrt{nobs}}$ where the 50 depends on the underlying probability or population preferences, in this case assumed to be 50:50 (another way of calculating Margin of Error)"
   ]
  },
  {
   "cell_type": "code",
   "execution_count": 26,
   "metadata": {
    "collapsed": false
   },
   "outputs": [],
   "source": [
    "def average_error(nobs, p=50.):\n",
    "    return p*nobs**-.5"
   ]
  },
  {
   "cell_type": "markdown",
   "metadata": {},
   "source": [
    "The thinking here is that having 5 polls of 1200 is a lot like having one poll of 6000. However, we downweight older polls by only including the marginal effective sample size. Where the effective sample size is the size of the methodologically perfect poll for which we would be indifferent between it and the one we have with our current total error. Total error is determined as $TE = \\text{Average Error} + \\text{Long Run Pollster Induced Error}$. See [here](http://www.fivethirtyeight.com/2008/04/pollster-ratings-v30.html) for the detailed calculations of Pollster Induced Error."
   ]
  },
  {
   "cell_type": "code",
   "execution_count": 27,
   "metadata": {
    "collapsed": false
   },
   "outputs": [],
   "source": [
    "def effective_sample(total_error, p=50.):\n",
    "    return p**2 * (total_error**-2.)"
   ]
  },
  {
   "cell_type": "code",
   "execution_count": 28,
   "metadata": {
    "collapsed": false
   },
   "outputs": [],
   "source": [
    "state_pollsters = state_data2012.groupby([\"State\", \"Pollster\"])"
   ]
  },
  {
   "cell_type": "code",
   "execution_count": 29,
   "metadata": {
    "collapsed": false
   },
   "outputs": [],
   "source": [
    "ppp_az = state_pollsters.get_group((\"AZ\", \"Public Policy Polling (PPP)\"))"
   ]
  },
  {
   "cell_type": "code",
   "execution_count": 30,
   "metadata": {
    "collapsed": false
   },
   "outputs": [
    {
     "data": {
      "text/html": [
       "<div>\n",
       "<table border=\"1\" class=\"dataframe\">\n",
       "  <thead>\n",
       "    <tr style=\"text-align: right;\">\n",
       "      <th></th>\n",
       "      <th>Pollster</th>\n",
       "      <th>State</th>\n",
       "      <th>Obama (D)</th>\n",
       "      <th>Romney (R)</th>\n",
       "      <th>Sample</th>\n",
       "      <th>poll_date</th>\n",
       "    </tr>\n",
       "  </thead>\n",
       "  <tbody>\n",
       "    <tr>\n",
       "      <th>258</th>\n",
       "      <td>Public Policy Polling (PPP)</td>\n",
       "      <td>AZ</td>\n",
       "      <td>44</td>\n",
       "      <td>53</td>\n",
       "      <td>993</td>\n",
       "      <td>2012-09-08</td>\n",
       "    </tr>\n",
       "    <tr>\n",
       "      <th>259</th>\n",
       "      <td>Public Policy Polling (PPP)</td>\n",
       "      <td>AZ</td>\n",
       "      <td>41</td>\n",
       "      <td>52</td>\n",
       "      <td>833</td>\n",
       "      <td>2012-07-24</td>\n",
       "    </tr>\n",
       "    <tr>\n",
       "      <th>260</th>\n",
       "      <td>Public Policy Polling (PPP)</td>\n",
       "      <td>AZ</td>\n",
       "      <td>43</td>\n",
       "      <td>50</td>\n",
       "      <td>500</td>\n",
       "      <td>2012-05-19</td>\n",
       "    </tr>\n",
       "    <tr>\n",
       "      <th>261</th>\n",
       "      <td>Public Policy Polling (PPP)</td>\n",
       "      <td>AZ</td>\n",
       "      <td>47</td>\n",
       "      <td>47</td>\n",
       "      <td>743</td>\n",
       "      <td>2012-02-18</td>\n",
       "    </tr>\n",
       "    <tr>\n",
       "      <th>262</th>\n",
       "      <td>Public Policy Polling (PPP)</td>\n",
       "      <td>AZ</td>\n",
       "      <td>42</td>\n",
       "      <td>49</td>\n",
       "      <td>500</td>\n",
       "      <td>2011-11-19</td>\n",
       "    </tr>\n",
       "    <tr>\n",
       "      <th>263</th>\n",
       "      <td>Public Policy Polling (PPP)</td>\n",
       "      <td>AZ</td>\n",
       "      <td>44</td>\n",
       "      <td>48</td>\n",
       "      <td>623</td>\n",
       "      <td>2011-04-30</td>\n",
       "    </tr>\n",
       "    <tr>\n",
       "      <th>264</th>\n",
       "      <td>Public Policy Polling (PPP)</td>\n",
       "      <td>AZ</td>\n",
       "      <td>43</td>\n",
       "      <td>49</td>\n",
       "      <td>599</td>\n",
       "      <td>2011-01-29</td>\n",
       "    </tr>\n",
       "    <tr>\n",
       "      <th>265</th>\n",
       "      <td>Public Policy Polling (PPP)</td>\n",
       "      <td>AZ</td>\n",
       "      <td>43</td>\n",
       "      <td>50</td>\n",
       "      <td>617</td>\n",
       "      <td>2010-09-20</td>\n",
       "    </tr>\n",
       "  </tbody>\n",
       "</table>\n",
       "</div>"
      ],
      "text/plain": [
       "                        Pollster State  Obama (D)  Romney (R)  Sample  poll_date\n",
       "258  Public Policy Polling (PPP)    AZ         44          53     993 2012-09-08\n",
       "259  Public Policy Polling (PPP)    AZ         41          52     833 2012-07-24\n",
       "260  Public Policy Polling (PPP)    AZ         43          50     500 2012-05-19\n",
       "261  Public Policy Polling (PPP)    AZ         47          47     743 2012-02-18\n",
       "262  Public Policy Polling (PPP)    AZ         42          49     500 2011-11-19\n",
       "263  Public Policy Polling (PPP)    AZ         44          48     623 2011-04-30\n",
       "264  Public Policy Polling (PPP)    AZ         43          49     599 2011-01-29\n",
       "265  Public Policy Polling (PPP)    AZ         43          50     617 2010-09-20"
      ]
     },
     "execution_count": 30,
     "metadata": {},
     "output_type": "execute_result"
    }
   ],
   "source": [
    "var_idx = [\"Pollster\", \"State\", \"Obama (D)\", \"Romney (R)\", \"Sample\", \"poll_date\"]\n",
    "ppp_az[var_idx]"
   ]
  },
  {
   "cell_type": "code",
   "execution_count": 31,
   "metadata": {
    "collapsed": false
   },
   "outputs": [
    {
     "name": "stderr",
     "output_type": "stream",
     "text": [
      "/home/jim/INSTALL/anaconda3/envs/pydata538/lib/python2.7/site-packages/ipykernel/__main__.py:1: FutureWarning: sort(columns=....) is deprecated, use sort_values(by=.....)\n",
      "  if __name__ == '__main__':\n",
      "/home/jim/INSTALL/anaconda3/envs/pydata538/lib/python2.7/site-packages/pandas/core/frame.py:3167: SettingWithCopyWarning: \n",
      "A value is trying to be set on a copy of a slice from a DataFrame\n",
      "\n",
      "See the caveats in the documentation: http://pandas.pydata.org/pandas-docs/stable/indexing.html#indexing-view-versus-copy\n",
      "  inplace=inplace, kind=kind, na_position=na_position)\n"
     ]
    }
   ],
   "source": [
    "ppp_az.sort(\"poll_date\", ascending=False, inplace=True);"
   ]
  },
  {
   "cell_type": "code",
   "execution_count": 32,
   "metadata": {
    "collapsed": false
   },
   "outputs": [
    {
     "name": "stderr",
     "output_type": "stream",
     "text": [
      "/home/jim/INSTALL/anaconda3/envs/pydata538/lib/python2.7/site-packages/ipykernel/__main__.py:1: SettingWithCopyWarning: \n",
      "A value is trying to be set on a copy of a slice from a DataFrame.\n",
      "Try using .loc[row_indexer,col_indexer] = value instead\n",
      "\n",
      "See the caveats in the documentation: http://pandas.pydata.org/pandas-docs/stable/indexing.html#indexing-view-versus-copy\n",
      "  if __name__ == '__main__':\n",
      "/home/jim/INSTALL/anaconda3/envs/pydata538/lib/python2.7/site-packages/ipykernel/__main__.py:2: SettingWithCopyWarning: \n",
      "A value is trying to be set on a copy of a slice from a DataFrame.\n",
      "Try using .loc[row_indexer,col_indexer] = value instead\n",
      "\n",
      "See the caveats in the documentation: http://pandas.pydata.org/pandas-docs/stable/indexing.html#indexing-view-versus-copy\n",
      "  from ipykernel import kernelapp as app\n",
      "/home/jim/INSTALL/anaconda3/envs/pydata538/lib/python2.7/site-packages/ipykernel/__main__.py:3: SettingWithCopyWarning: \n",
      "A value is trying to be set on a copy of a slice from a DataFrame.\n",
      "Try using .loc[row_indexer,col_indexer] = value instead\n",
      "\n",
      "See the caveats in the documentation: http://pandas.pydata.org/pandas-docs/stable/indexing.html#indexing-view-versus-copy\n",
      "  app.launch_new_instance()\n"
     ]
    },
    {
     "data": {
      "text/html": [
       "<div>\n",
       "<table border=\"1\" class=\"dataframe\">\n",
       "  <thead>\n",
       "    <tr style=\"text-align: right;\">\n",
       "      <th></th>\n",
       "      <th>Pollster</th>\n",
       "      <th>State</th>\n",
       "      <th>Obama (D)</th>\n",
       "      <th>Romney (R)</th>\n",
       "      <th>Sample</th>\n",
       "      <th>poll_date</th>\n",
       "      <th>cumulative</th>\n",
       "    </tr>\n",
       "  </thead>\n",
       "  <tbody>\n",
       "    <tr>\n",
       "      <th>258</th>\n",
       "      <td>Public Policy Polling (PPP)</td>\n",
       "      <td>AZ</td>\n",
       "      <td>44</td>\n",
       "      <td>53</td>\n",
       "      <td>993</td>\n",
       "      <td>2012-09-08</td>\n",
       "      <td>993</td>\n",
       "    </tr>\n",
       "    <tr>\n",
       "      <th>259</th>\n",
       "      <td>Public Policy Polling (PPP)</td>\n",
       "      <td>AZ</td>\n",
       "      <td>41</td>\n",
       "      <td>52</td>\n",
       "      <td>833</td>\n",
       "      <td>2012-07-24</td>\n",
       "      <td>1826</td>\n",
       "    </tr>\n",
       "    <tr>\n",
       "      <th>260</th>\n",
       "      <td>Public Policy Polling (PPP)</td>\n",
       "      <td>AZ</td>\n",
       "      <td>43</td>\n",
       "      <td>50</td>\n",
       "      <td>500</td>\n",
       "      <td>2012-05-19</td>\n",
       "      <td>2326</td>\n",
       "    </tr>\n",
       "    <tr>\n",
       "      <th>261</th>\n",
       "      <td>Public Policy Polling (PPP)</td>\n",
       "      <td>AZ</td>\n",
       "      <td>47</td>\n",
       "      <td>47</td>\n",
       "      <td>743</td>\n",
       "      <td>2012-02-18</td>\n",
       "      <td>3069</td>\n",
       "    </tr>\n",
       "    <tr>\n",
       "      <th>262</th>\n",
       "      <td>Public Policy Polling (PPP)</td>\n",
       "      <td>AZ</td>\n",
       "      <td>42</td>\n",
       "      <td>49</td>\n",
       "      <td>500</td>\n",
       "      <td>2011-11-19</td>\n",
       "      <td>3569</td>\n",
       "    </tr>\n",
       "    <tr>\n",
       "      <th>263</th>\n",
       "      <td>Public Policy Polling (PPP)</td>\n",
       "      <td>AZ</td>\n",
       "      <td>44</td>\n",
       "      <td>48</td>\n",
       "      <td>623</td>\n",
       "      <td>2011-04-30</td>\n",
       "      <td>4192</td>\n",
       "    </tr>\n",
       "    <tr>\n",
       "      <th>264</th>\n",
       "      <td>Public Policy Polling (PPP)</td>\n",
       "      <td>AZ</td>\n",
       "      <td>43</td>\n",
       "      <td>49</td>\n",
       "      <td>599</td>\n",
       "      <td>2011-01-29</td>\n",
       "      <td>4791</td>\n",
       "    </tr>\n",
       "    <tr>\n",
       "      <th>265</th>\n",
       "      <td>Public Policy Polling (PPP)</td>\n",
       "      <td>AZ</td>\n",
       "      <td>43</td>\n",
       "      <td>50</td>\n",
       "      <td>617</td>\n",
       "      <td>2010-09-20</td>\n",
       "      <td>5408</td>\n",
       "    </tr>\n",
       "  </tbody>\n",
       "</table>\n",
       "</div>"
      ],
      "text/plain": [
       "                        Pollster State  Obama (D)  Romney (R)  Sample  poll_date  cumulative\n",
       "258  Public Policy Polling (PPP)    AZ         44          53     993 2012-09-08         993\n",
       "259  Public Policy Polling (PPP)    AZ         41          52     833 2012-07-24        1826\n",
       "260  Public Policy Polling (PPP)    AZ         43          50     500 2012-05-19        2326\n",
       "261  Public Policy Polling (PPP)    AZ         47          47     743 2012-02-18        3069\n",
       "262  Public Policy Polling (PPP)    AZ         42          49     500 2011-11-19        3569\n",
       "263  Public Policy Polling (PPP)    AZ         44          48     623 2011-04-30        4192\n",
       "264  Public Policy Polling (PPP)    AZ         43          49     599 2011-01-29        4791\n",
       "265  Public Policy Polling (PPP)    AZ         43          50     617 2010-09-20        5408"
      ]
     },
     "execution_count": 32,
     "metadata": {},
     "output_type": "execute_result"
    }
   ],
   "source": [
    "ppp_az[\"cumulative\"] = ppp_az[\"Sample\"].cumsum()\n",
    "ppp_az[\"average_error\"] = average_error(ppp_az[\"cumulative\"])\n",
    "ppp_az[\"total_error\"] = ppp_az[\"PIE\"] + ppp_az[\"average_error\"]\n",
    "ppp_az[var_idx + [\"cumulative\"]]"
   ]
  },
  {
   "cell_type": "code",
   "execution_count": 33,
   "metadata": {
    "collapsed": false
   },
   "outputs": [
    {
     "name": "stderr",
     "output_type": "stream",
     "text": [
      "/home/jim/INSTALL/anaconda3/envs/pydata538/lib/python2.7/site-packages/ipykernel/__main__.py:1: SettingWithCopyWarning: \n",
      "A value is trying to be set on a copy of a slice from a DataFrame.\n",
      "Try using .loc[row_indexer,col_indexer] = value instead\n",
      "\n",
      "See the caveats in the documentation: http://pandas.pydata.org/pandas-docs/stable/indexing.html#indexing-view-versus-copy\n",
      "  if __name__ == '__main__':\n",
      "/home/jim/INSTALL/anaconda3/envs/pydata538/lib/python2.7/site-packages/ipykernel/__main__.py:2: SettingWithCopyWarning: \n",
      "A value is trying to be set on a copy of a slice from a DataFrame.\n",
      "Try using .loc[row_indexer,col_indexer] = value instead\n",
      "\n",
      "See the caveats in the documentation: http://pandas.pydata.org/pandas-docs/stable/indexing.html#indexing-view-versus-copy\n",
      "  from ipykernel import kernelapp as app\n",
      "/home/jim/INSTALL/anaconda3/envs/pydata538/lib/python2.7/site-packages/pandas/core/generic.py:2862: SettingWithCopyWarning: \n",
      "A value is trying to be set on a copy of a slice from a DataFrame\n",
      "\n",
      "See the caveats in the documentation: http://pandas.pydata.org/pandas-docs/stable/indexing.html#indexing-view-versus-copy\n",
      "  self._update_inplace(new_data)\n"
     ]
    }
   ],
   "source": [
    "ppp_az[\"ESS\"] = effective_sample(ppp_az[\"total_error\"])\n",
    "ppp_az[\"MESS\"] = ppp_az[\"ESS\"].diff()\n",
    "# fill in first one\n",
    "ppp_az[\"MESS\"].fillna(ppp_az[\"ESS\"].head(1).item(), inplace=True);"
   ]
  },
  {
   "cell_type": "code",
   "execution_count": 34,
   "metadata": {
    "collapsed": false
   },
   "outputs": [
    {
     "data": {
      "text/html": [
       "<div>\n",
       "<table border=\"1\" class=\"dataframe\">\n",
       "  <thead>\n",
       "    <tr style=\"text-align: right;\">\n",
       "      <th></th>\n",
       "      <th>poll_date</th>\n",
       "      <th>Sample</th>\n",
       "      <th>cumulative</th>\n",
       "      <th>ESS</th>\n",
       "      <th>MESS</th>\n",
       "    </tr>\n",
       "  </thead>\n",
       "  <tbody>\n",
       "    <tr>\n",
       "      <th>258</th>\n",
       "      <td>2012-09-08</td>\n",
       "      <td>993</td>\n",
       "      <td>993</td>\n",
       "      <td>246.182451</td>\n",
       "      <td>246.182451</td>\n",
       "    </tr>\n",
       "    <tr>\n",
       "      <th>259</th>\n",
       "      <td>2012-07-24</td>\n",
       "      <td>833</td>\n",
       "      <td>1826</td>\n",
       "      <td>325.800656</td>\n",
       "      <td>79.618204</td>\n",
       "    </tr>\n",
       "    <tr>\n",
       "      <th>260</th>\n",
       "      <td>2012-05-19</td>\n",
       "      <td>500</td>\n",
       "      <td>2326</td>\n",
       "      <td>359.591232</td>\n",
       "      <td>33.790577</td>\n",
       "    </tr>\n",
       "    <tr>\n",
       "      <th>261</th>\n",
       "      <td>2012-02-18</td>\n",
       "      <td>743</td>\n",
       "      <td>3069</td>\n",
       "      <td>399.185055</td>\n",
       "      <td>39.593822</td>\n",
       "    </tr>\n",
       "    <tr>\n",
       "      <th>262</th>\n",
       "      <td>2011-11-19</td>\n",
       "      <td>500</td>\n",
       "      <td>3569</td>\n",
       "      <td>420.967611</td>\n",
       "      <td>21.782557</td>\n",
       "    </tr>\n",
       "    <tr>\n",
       "      <th>263</th>\n",
       "      <td>2011-04-30</td>\n",
       "      <td>623</td>\n",
       "      <td>4192</td>\n",
       "      <td>444.240505</td>\n",
       "      <td>23.272893</td>\n",
       "    </tr>\n",
       "    <tr>\n",
       "      <th>264</th>\n",
       "      <td>2011-01-29</td>\n",
       "      <td>599</td>\n",
       "      <td>4791</td>\n",
       "      <td>463.531139</td>\n",
       "      <td>19.290634</td>\n",
       "    </tr>\n",
       "    <tr>\n",
       "      <th>265</th>\n",
       "      <td>2010-09-20</td>\n",
       "      <td>617</td>\n",
       "      <td>5408</td>\n",
       "      <td>480.955020</td>\n",
       "      <td>17.423881</td>\n",
       "    </tr>\n",
       "  </tbody>\n",
       "</table>\n",
       "</div>"
      ],
      "text/plain": [
       "     poll_date  Sample  cumulative         ESS        MESS\n",
       "258 2012-09-08     993         993  246.182451  246.182451\n",
       "259 2012-07-24     833        1826  325.800656   79.618204\n",
       "260 2012-05-19     500        2326  359.591232   33.790577\n",
       "261 2012-02-18     743        3069  399.185055   39.593822\n",
       "262 2011-11-19     500        3569  420.967611   21.782557\n",
       "263 2011-04-30     623        4192  444.240505   23.272893\n",
       "264 2011-01-29     599        4791  463.531139   19.290634\n",
       "265 2010-09-20     617        5408  480.955020   17.423881"
      ]
     },
     "execution_count": 34,
     "metadata": {},
     "output_type": "execute_result"
    }
   ],
   "source": [
    "ppp_az[[\"poll_date\", \"Sample\", \"cumulative\", \"ESS\", \"MESS\"]]"
   ]
  },
  {
   "cell_type": "markdown",
   "metadata": {},
   "source": [
    "Now let's do it for every polling firm in every state."
   ]
  },
  {
   "cell_type": "code",
   "execution_count": 35,
   "metadata": {
    "collapsed": false
   },
   "outputs": [],
   "source": [
    "def calculate_mess(group):\n",
    "    cumulative = group[\"Sample\"].cumsum()\n",
    "    ae = average_error(cumulative)\n",
    "    total_error = ae + group[\"PIE\"]\n",
    "    ess = effective_sample(total_error)\n",
    "    mess = ess.diff()\n",
    "    mess.fillna(ess.head(1).item(), inplace=True)\n",
    "    #from IPython.core.debugger import Pdb; Pdb().set_trace()\n",
    "    return pandas.concat((ess, mess), axis=1)\n",
    "\n",
    "#state_data2012[\"ESS\", \"MESS\"] \n",
    "df = state_pollsters.apply(calculate_mess)\n",
    "df.rename(columns={0 : \"ESS\", 1 : \"MESS\"}, inplace=True);"
   ]
  },
  {
   "cell_type": "code",
   "execution_count": 36,
   "metadata": {
    "collapsed": false
   },
   "outputs": [],
   "source": [
    "state_data2012 = state_data2012.join(df)"
   ]
  },
  {
   "cell_type": "markdown",
   "metadata": {},
   "source": [
    "Give them the time weight"
   ]
  },
  {
   "cell_type": "code",
   "execution_count": 37,
   "metadata": {
    "collapsed": false
   },
   "outputs": [
    {
     "data": {
      "text/plain": [
       "0   2012-09-26\n",
       "Name: poll_date, dtype: datetime64[ns]"
      ]
     },
     "execution_count": 37,
     "metadata": {},
     "output_type": "execute_result"
    }
   ],
   "source": [
    "state_data2012[\"poll_date\"].head(1)"
   ]
  },
  {
   "cell_type": "code",
   "execution_count": 38,
   "metadata": {
    "collapsed": false
   },
   "outputs": [],
   "source": [
    "state_data2012[\"time_weight\"] = (today - state_data2012[\"poll_date\"]).apply(exp_decay)"
   ]
  },
  {
   "cell_type": "code",
   "execution_count": 39,
   "metadata": {
    "collapsed": false
   },
   "outputs": [
    {
     "data": {
      "text/plain": [
       "0      0.870551\n",
       "1      0.707107\n",
       "2      0.329877\n",
       "3      0.203063\n",
       "4      0.075189\n",
       "5      0.034276\n",
       "6      0.012691\n",
       "7      0.006494\n",
       "8      0.000370\n",
       "9      0.629961\n",
       "10     0.329877\n",
       "11     0.140308\n",
       "         ...   \n",
       "411    0.445449\n",
       "412    0.217638\n",
       "413    0.062500\n",
       "414    0.014579\n",
       "415    0.002893\n",
       "416    0.000587\n",
       "417    0.000031\n",
       "418    0.000001\n",
       "419    0.396850\n",
       "420    0.314980\n",
       "421    0.193893\n",
       "422    0.086370\n",
       "Name: time_weight, dtype: float64"
      ]
     },
     "execution_count": 39,
     "metadata": {},
     "output_type": "execute_result"
    }
   ],
   "source": [
    "state_data2012[\"time_weight\"]"
   ]
  },
  {
   "cell_type": "markdown",
   "metadata": {},
   "source": [
    "Now aggregate all of these. Weight them based on the sample size but also based on the time_weight."
   ]
  },
  {
   "cell_type": "code",
   "execution_count": 40,
   "metadata": {
    "collapsed": false
   },
   "outputs": [],
   "source": [
    "def weighted_mean(group):\n",
    "    weights1 = group[\"time_weight\"]\n",
    "    weights2 = group[\"MESS\"]\n",
    "    return np.sum(weights1*weights2*group[\"obama_spread\"]/(weights1*weights2).sum())"
   ]
  },
  {
   "cell_type": "code",
   "execution_count": 41,
   "metadata": {
    "collapsed": false
   },
   "outputs": [],
   "source": [
    "state_pollsters = state_data2012.groupby([\"State\", \"Pollster\"])\n",
    "state_polls = state_pollsters.apply(weighted_mean)"
   ]
  },
  {
   "cell_type": "code",
   "execution_count": 42,
   "metadata": {
    "collapsed": false
   },
   "outputs": [
    {
     "data": {
      "text/plain": [
       "State  Pollster                   \n",
       "AZ     Public Policy Polling (PPP)    -9.168494\n",
       "       Rasmussen                     -10.209446\n",
       "CA     Field Poll (CA)                23.343924\n",
       "       Public Policy Polling (PPP)    20.999075\n",
       "       Rasmussen                      22.000000\n",
       "       SurveyUSA                      22.123414\n",
       "CO     American Research Group         2.000000\n",
       "       Public Policy Polling (PPP)     5.469907\n",
       "       Rasmussen                      -1.573788\n",
       "CT     Public Policy Polling (PPP)    12.757757\n",
       "       Quinnipiac                      7.293983\n",
       "       Rasmussen                       8.000000\n",
       "                                        ...    \n",
       "VA     Mason-Dixon                     1.000000\n",
       "       Public Policy Polling (PPP)     5.095802\n",
       "       Quinnipiac                      0.578138\n",
       "       Rasmussen                       0.891780\n",
       "VT     Public Policy Polling (PPP)    20.000000\n",
       "WA     Public Policy Polling (PPP)    13.050886\n",
       "       Rasmussen                      11.000000\n",
       "       SurveyUSA                      15.310208\n",
       "WI     CNN / Opinion Research          4.000000\n",
       "       Public Policy Polling (PPP)     5.392554\n",
       "       Rasmussen                       2.116005\n",
       "WV     Public Policy Polling (PPP)   -19.756631\n",
       "dtype: float64"
      ]
     },
     "execution_count": 42,
     "metadata": {},
     "output_type": "execute_result"
    }
   ],
   "source": [
    "state_polls"
   ]
  },
  {
   "cell_type": "markdown",
   "metadata": {},
   "source": [
    "### 2004 and 2008 Polls"
   ]
  },
  {
   "cell_type": "code",
   "execution_count": 43,
   "metadata": {
    "collapsed": true
   },
   "outputs": [],
   "source": [
    "state_data2008= pandas.read_pickle(\"data_nuevo/state_data_2008.pkl\"); state_data2004 = pandas.read_pickle(\"data_nuevo/state_data_2004.pkl\")"
   ]
  },
  {
   "cell_type": "code",
   "execution_count": 44,
   "metadata": {
    "collapsed": false
   },
   "outputs": [
    {
     "data": {
      "text/plain": [
       "State                object\n",
       "Obama                 int64\n",
       "McCain                int64\n",
       "Pollster             object\n",
       "poll_date    datetime64[ns]\n",
       "dtype: object"
      ]
     },
     "execution_count": 44,
     "metadata": {},
     "output_type": "execute_result"
    }
   ],
   "source": [
    "state_data2008.dtypes"
   ]
  },
  {
   "cell_type": "code",
   "execution_count": 45,
   "metadata": {
    "collapsed": false
   },
   "outputs": [
    {
     "data": {
      "text/plain": [
       "State                object\n",
       "Kerry                 int64\n",
       "Bush                  int64\n",
       "Pollster             object\n",
       "poll_date    datetime64[ns]\n",
       "dtype: object"
      ]
     },
     "execution_count": 45,
     "metadata": {},
     "output_type": "execute_result"
    }
   ],
   "source": [
    "state_data2004.dtypes"
   ]
  },
  {
   "cell_type": "code",
   "execution_count": 46,
   "metadata": {
    "collapsed": false
   },
   "outputs": [
    {
     "data": {
      "text/html": [
       "<div>\n",
       "<table border=\"1\" class=\"dataframe\">\n",
       "  <thead>\n",
       "    <tr style=\"text-align: right;\">\n",
       "      <th></th>\n",
       "      <th>State</th>\n",
       "      <th>Kerry</th>\n",
       "      <th>Bush</th>\n",
       "      <th>Pollster</th>\n",
       "      <th>poll_date</th>\n",
       "    </tr>\n",
       "  </thead>\n",
       "  <tbody>\n",
       "    <tr>\n",
       "      <th>0</th>\n",
       "      <td>AL</td>\n",
       "      <td>39</td>\n",
       "      <td>57</td>\n",
       "      <td>SurveyUSA</td>\n",
       "      <td>2004-10-25</td>\n",
       "    </tr>\n",
       "    <tr>\n",
       "      <th>1</th>\n",
       "      <td>AL</td>\n",
       "      <td>32</td>\n",
       "      <td>56</td>\n",
       "      <td>Capital Survey</td>\n",
       "      <td>2004-10-12</td>\n",
       "    </tr>\n",
       "    <tr>\n",
       "      <th>2</th>\n",
       "      <td>AL</td>\n",
       "      <td>34</td>\n",
       "      <td>62</td>\n",
       "      <td>SurveyUSA</td>\n",
       "      <td>2004-10-01</td>\n",
       "    </tr>\n",
       "    <tr>\n",
       "      <th>3</th>\n",
       "      <td>AL</td>\n",
       "      <td>40</td>\n",
       "      <td>54</td>\n",
       "      <td>ARG</td>\n",
       "      <td>2004-09-14</td>\n",
       "    </tr>\n",
       "    <tr>\n",
       "      <th>4</th>\n",
       "      <td>AL</td>\n",
       "      <td>42</td>\n",
       "      <td>53</td>\n",
       "      <td>Rasmussen</td>\n",
       "      <td>2004-09-06</td>\n",
       "    </tr>\n",
       "  </tbody>\n",
       "</table>\n",
       "</div>"
      ],
      "text/plain": [
       "  State  Kerry  Bush        Pollster  poll_date\n",
       "0    AL     39    57       SurveyUSA 2004-10-25\n",
       "1    AL     32    56  Capital Survey 2004-10-12\n",
       "2    AL     34    62       SurveyUSA 2004-10-01\n",
       "3    AL     40    54             ARG 2004-09-14\n",
       "4    AL     42    53       Rasmussen 2004-09-06"
      ]
     },
     "execution_count": 46,
     "metadata": {},
     "output_type": "execute_result"
    }
   ],
   "source": [
    "state_data2004.head(5)"
   ]
  },
  {
   "cell_type": "code",
   "execution_count": 47,
   "metadata": {
    "collapsed": false
   },
   "outputs": [
    {
     "data": {
      "text/html": [
       "<div>\n",
       "<table border=\"1\" class=\"dataframe\">\n",
       "  <thead>\n",
       "    <tr style=\"text-align: right;\">\n",
       "      <th></th>\n",
       "      <th>State</th>\n",
       "      <th>Obama</th>\n",
       "      <th>McCain</th>\n",
       "      <th>Pollster</th>\n",
       "      <th>poll_date</th>\n",
       "    </tr>\n",
       "  </thead>\n",
       "  <tbody>\n",
       "    <tr>\n",
       "      <th>0</th>\n",
       "      <td>AL</td>\n",
       "      <td>36</td>\n",
       "      <td>61</td>\n",
       "      <td>SurveyUSA</td>\n",
       "      <td>2008-10-28</td>\n",
       "    </tr>\n",
       "    <tr>\n",
       "      <th>1</th>\n",
       "      <td>AL</td>\n",
       "      <td>34</td>\n",
       "      <td>54</td>\n",
       "      <td>Capital Survey</td>\n",
       "      <td>2008-10-16</td>\n",
       "    </tr>\n",
       "    <tr>\n",
       "      <th>2</th>\n",
       "      <td>AL</td>\n",
       "      <td>35</td>\n",
       "      <td>62</td>\n",
       "      <td>SurveyUSA</td>\n",
       "      <td>2008-10-09</td>\n",
       "    </tr>\n",
       "    <tr>\n",
       "      <th>3</th>\n",
       "      <td>AL</td>\n",
       "      <td>35</td>\n",
       "      <td>55</td>\n",
       "      <td>Capital Survey</td>\n",
       "      <td>2008-10-07</td>\n",
       "    </tr>\n",
       "    <tr>\n",
       "      <th>4</th>\n",
       "      <td>AL</td>\n",
       "      <td>39</td>\n",
       "      <td>60</td>\n",
       "      <td>Rasmussen</td>\n",
       "      <td>2008-09-22</td>\n",
       "    </tr>\n",
       "  </tbody>\n",
       "</table>\n",
       "</div>"
      ],
      "text/plain": [
       "  State  Obama  McCain        Pollster  poll_date\n",
       "0    AL     36      61       SurveyUSA 2008-10-28\n",
       "1    AL     34      54  Capital Survey 2008-10-16\n",
       "2    AL     35      62       SurveyUSA 2008-10-09\n",
       "3    AL     35      55  Capital Survey 2008-10-07\n",
       "4    AL     39      60       Rasmussen 2008-09-22"
      ]
     },
     "execution_count": 47,
     "metadata": {},
     "output_type": "execute_result"
    }
   ],
   "source": [
    "state_data2008.head(5)"
   ]
  },
  {
   "cell_type": "code",
   "execution_count": 48,
   "metadata": {
    "collapsed": false
   },
   "outputs": [],
   "source": [
    "state_groups = state_data2008.groupby(\"State\")"
   ]
  },
  {
   "cell_type": "code",
   "execution_count": 49,
   "metadata": {
    "collapsed": false
   },
   "outputs": [
    {
     "data": {
      "text/html": [
       "<div>\n",
       "<table border=\"1\" class=\"dataframe\">\n",
       "  <thead>\n",
       "    <tr style=\"text-align: right;\">\n",
       "      <th></th>\n",
       "      <th>McCain</th>\n",
       "      <th>Obama</th>\n",
       "    </tr>\n",
       "    <tr>\n",
       "      <th>State</th>\n",
       "      <th></th>\n",
       "      <th></th>\n",
       "    </tr>\n",
       "  </thead>\n",
       "  <tbody>\n",
       "    <tr>\n",
       "      <th>AK</th>\n",
       "      <td>52.000000</td>\n",
       "      <td>39.428571</td>\n",
       "    </tr>\n",
       "    <tr>\n",
       "      <th>AL</th>\n",
       "      <td>56.826087</td>\n",
       "      <td>34.347826</td>\n",
       "    </tr>\n",
       "    <tr>\n",
       "      <th>AR</th>\n",
       "      <td>51.000000</td>\n",
       "      <td>37.250000</td>\n",
       "    </tr>\n",
       "    <tr>\n",
       "      <th>AZ</th>\n",
       "      <td>49.333333</td>\n",
       "      <td>39.190476</td>\n",
       "    </tr>\n",
       "    <tr>\n",
       "      <th>CA</th>\n",
       "      <td>37.633333</td>\n",
       "      <td>53.266667</td>\n",
       "    </tr>\n",
       "    <tr>\n",
       "      <th>CO</th>\n",
       "      <td>44.466667</td>\n",
       "      <td>48.288889</td>\n",
       "    </tr>\n",
       "    <tr>\n",
       "      <th>CT</th>\n",
       "      <td>36.923077</td>\n",
       "      <td>52.692308</td>\n",
       "    </tr>\n",
       "    <tr>\n",
       "      <th>DC</th>\n",
       "      <td>13.000000</td>\n",
       "      <td>82.000000</td>\n",
       "    </tr>\n",
       "    <tr>\n",
       "      <th>DE</th>\n",
       "      <td>38.625000</td>\n",
       "      <td>55.500000</td>\n",
       "    </tr>\n",
       "    <tr>\n",
       "      <th>FL</th>\n",
       "      <td>46.393939</td>\n",
       "      <td>46.121212</td>\n",
       "    </tr>\n",
       "    <tr>\n",
       "      <th>GA</th>\n",
       "      <td>51.346154</td>\n",
       "      <td>43.153846</td>\n",
       "    </tr>\n",
       "    <tr>\n",
       "      <th>HI</th>\n",
       "      <td>30.000000</td>\n",
       "      <td>64.000000</td>\n",
       "    </tr>\n",
       "    <tr>\n",
       "      <th>...</th>\n",
       "      <td>...</td>\n",
       "      <td>...</td>\n",
       "    </tr>\n",
       "    <tr>\n",
       "      <th>RI</th>\n",
       "      <td>32.000000</td>\n",
       "      <td>53.000000</td>\n",
       "    </tr>\n",
       "    <tr>\n",
       "      <th>SC</th>\n",
       "      <td>53.300000</td>\n",
       "      <td>41.000000</td>\n",
       "    </tr>\n",
       "    <tr>\n",
       "      <th>SD</th>\n",
       "      <td>50.375000</td>\n",
       "      <td>39.875000</td>\n",
       "    </tr>\n",
       "    <tr>\n",
       "      <th>TN</th>\n",
       "      <td>54.363636</td>\n",
       "      <td>36.363636</td>\n",
       "    </tr>\n",
       "    <tr>\n",
       "      <th>TX</th>\n",
       "      <td>50.200000</td>\n",
       "      <td>40.400000</td>\n",
       "    </tr>\n",
       "    <tr>\n",
       "      <th>UT</th>\n",
       "      <td>58.600000</td>\n",
       "      <td>30.000000</td>\n",
       "    </tr>\n",
       "    <tr>\n",
       "      <th>VA</th>\n",
       "      <td>45.816667</td>\n",
       "      <td>47.933333</td>\n",
       "    </tr>\n",
       "    <tr>\n",
       "      <th>VT</th>\n",
       "      <td>34.750000</td>\n",
       "      <td>59.750000</td>\n",
       "    </tr>\n",
       "    <tr>\n",
       "      <th>WA</th>\n",
       "      <td>40.424242</td>\n",
       "      <td>51.515152</td>\n",
       "    </tr>\n",
       "    <tr>\n",
       "      <th>WI</th>\n",
       "      <td>41.921053</td>\n",
       "      <td>49.684211</td>\n",
       "    </tr>\n",
       "    <tr>\n",
       "      <th>WV</th>\n",
       "      <td>48.692308</td>\n",
       "      <td>42.538462</td>\n",
       "    </tr>\n",
       "    <tr>\n",
       "      <th>WY</th>\n",
       "      <td>59.333333</td>\n",
       "      <td>32.666667</td>\n",
       "    </tr>\n",
       "  </tbody>\n",
       "</table>\n",
       "<p>51 rows × 2 columns</p>\n",
       "</div>"
      ],
      "text/plain": [
       "          McCain      Obama\n",
       "State                      \n",
       "AK     52.000000  39.428571\n",
       "AL     56.826087  34.347826\n",
       "AR     51.000000  37.250000\n",
       "AZ     49.333333  39.190476\n",
       "CA     37.633333  53.266667\n",
       "CO     44.466667  48.288889\n",
       "CT     36.923077  52.692308\n",
       "DC     13.000000  82.000000\n",
       "DE     38.625000  55.500000\n",
       "FL     46.393939  46.121212\n",
       "GA     51.346154  43.153846\n",
       "HI     30.000000  64.000000\n",
       "...          ...        ...\n",
       "RI     32.000000  53.000000\n",
       "SC     53.300000  41.000000\n",
       "SD     50.375000  39.875000\n",
       "TN     54.363636  36.363636\n",
       "TX     50.200000  40.400000\n",
       "UT     58.600000  30.000000\n",
       "VA     45.816667  47.933333\n",
       "VT     34.750000  59.750000\n",
       "WA     40.424242  51.515152\n",
       "WI     41.921053  49.684211\n",
       "WV     48.692308  42.538462\n",
       "WY     59.333333  32.666667\n",
       "\n",
       "[51 rows x 2 columns]"
      ]
     },
     "execution_count": 49,
     "metadata": {},
     "output_type": "execute_result"
    }
   ],
   "source": [
    "state_groups.aggregate(dict(Obama=np.mean, McCain=np.mean))"
   ]
  },
  {
   "cell_type": "markdown",
   "metadata": {},
   "source": [
    "Means for the entire country (without weighting by population)"
   ]
  },
  {
   "cell_type": "code",
   "execution_count": 50,
   "metadata": {
    "collapsed": false
   },
   "outputs": [
    {
     "data": {
      "text/plain": [
       "McCain    45.337861\n",
       "Obama     46.082498\n",
       "dtype: float64"
      ]
     },
     "execution_count": 50,
     "metadata": {},
     "output_type": "execute_result"
    }
   ],
   "source": [
    "state_groups.aggregate(dict(Obama=np.mean, McCain=np.mean)).mean()"
   ]
  },
  {
   "cell_type": "code",
   "execution_count": 51,
   "metadata": {
    "collapsed": false
   },
   "outputs": [],
   "source": [
    "state_data2004.Pollster.replace(pollster_map, inplace=True)\n",
    "state_data2008.Pollster.replace(pollster_map, inplace=True);"
   ]
  },
  {
   "cell_type": "code",
   "execution_count": 52,
   "metadata": {
    "collapsed": false
   },
   "outputs": [],
   "source": [
    "state_data2004 = state_data2004.merge(weights, how=\"inner\", on=\"Pollster\")\n",
    "state_data2008 = state_data2008.merge(weights, how=\"inner\", on=\"Pollster\")"
   ]
  },
  {
   "cell_type": "code",
   "execution_count": 53,
   "metadata": {
    "collapsed": false
   },
   "outputs": [
    {
     "data": {
      "text/plain": [
       "26"
      ]
     },
     "execution_count": 53,
     "metadata": {},
     "output_type": "execute_result"
    }
   ],
   "source": [
    "len(state_data2004.Pollster.unique())"
   ]
  },
  {
   "cell_type": "code",
   "execution_count": 54,
   "metadata": {
    "collapsed": false
   },
   "outputs": [
    {
     "data": {
      "text/plain": [
       "21"
      ]
     },
     "execution_count": 54,
     "metadata": {},
     "output_type": "execute_result"
    }
   ],
   "source": [
    "len(state_data2008.Pollster.unique())"
   ]
  },
  {
   "cell_type": "code",
   "execution_count": 55,
   "metadata": {
    "collapsed": false
   },
   "outputs": [
    {
     "data": {
      "text/plain": [
       "datetime.datetime(2004, 11, 2, 0, 0)"
      ]
     },
     "execution_count": 55,
     "metadata": {},
     "output_type": "execute_result"
    }
   ],
   "source": [
    "date2004 = datetime.datetime(2004, 11, 2)\n",
    "date2004"
   ]
  },
  {
   "cell_type": "code",
   "execution_count": 56,
   "metadata": {
    "collapsed": false
   },
   "outputs": [
    {
     "data": {
      "text/plain": [
       "0       True\n",
       "1      False\n",
       "2      False\n",
       "3       True\n",
       "4       True\n",
       "5      False\n",
       "6      False\n",
       "7      False\n",
       "8       True\n",
       "9       True\n",
       "10      True\n",
       "11     False\n",
       "       ...  \n",
       "722     True\n",
       "723    False\n",
       "724    False\n",
       "725    False\n",
       "726    False\n",
       "727    False\n",
       "728     True\n",
       "729    False\n",
       "730     True\n",
       "731    False\n",
       "732     True\n",
       "733     True\n",
       "Name: poll_date, dtype: bool"
      ]
     },
     "execution_count": 56,
     "metadata": {},
     "output_type": "execute_result"
    }
   ],
   "source": [
    "(date2004 - state_data2004.poll_date) < datetime.timedelta(21)"
   ]
  },
  {
   "cell_type": "markdown",
   "metadata": {},
   "source": [
    "Restrict the samples to the 3 weeks leading up to the election"
   ]
  },
  {
   "cell_type": "code",
   "execution_count": 57,
   "metadata": {
    "collapsed": false
   },
   "outputs": [],
   "source": [
    "state_data2004 = state_data2004.ix[(date2004 - state_data2004.poll_date) <= datetime.timedelta(21)]\n",
    "state_data2004.reset_index(drop=True, inplace=True)"
   ]
  },
  {
   "cell_type": "code",
   "execution_count": 58,
   "metadata": {
    "collapsed": false
   },
   "outputs": [],
   "source": [
    "date2008 = datetime.datetime(2008, 11, 4)"
   ]
  },
  {
   "cell_type": "code",
   "execution_count": 59,
   "metadata": {
    "collapsed": false
   },
   "outputs": [],
   "source": [
    "state_data2008 = state_data2008.ix[(date2008 - state_data2008.poll_date) <= datetime.timedelta(21)]\n",
    "state_data2008.reset_index(drop=True, inplace=True)"
   ]
  },
  {
   "cell_type": "code",
   "execution_count": 60,
   "metadata": {
    "collapsed": false
   },
   "outputs": [
    {
     "data": {
      "text/plain": [
       "State                object\n",
       "Obama                 int64\n",
       "McCain                int64\n",
       "Pollster             object\n",
       "poll_date    datetime64[ns]\n",
       "Weight              float64\n",
       "PIE                 float64\n",
       "dtype: object"
      ]
     },
     "execution_count": 60,
     "metadata": {},
     "output_type": "execute_result"
    }
   ],
   "source": [
    "state_data2008.dtypes"
   ]
  },
  {
   "cell_type": "code",
   "execution_count": 61,
   "metadata": {
    "collapsed": false
   },
   "outputs": [],
   "source": [
    "state_data2004[\"time_weight\"] =(date2004 - state_data2004.poll_date).apply(exp_decay)\n",
    "state_data2008[\"time_weight\"] =(date2008 - state_data2008.poll_date).apply(exp_decay)"
   ]
  },
  {
   "cell_type": "code",
   "execution_count": 62,
   "metadata": {
    "collapsed": false
   },
   "outputs": [
    {
     "data": {
      "text/html": [
       "<div>\n",
       "<table border=\"1\" class=\"dataframe\">\n",
       "  <thead>\n",
       "    <tr style=\"text-align: right;\">\n",
       "      <th></th>\n",
       "      <th>time_weight</th>\n",
       "      <th>poll_date</th>\n",
       "    </tr>\n",
       "  </thead>\n",
       "  <tbody>\n",
       "    <tr>\n",
       "      <th>0</th>\n",
       "      <td>0.831238</td>\n",
       "      <td>2004-10-25</td>\n",
       "    </tr>\n",
       "    <tr>\n",
       "      <th>1</th>\n",
       "      <td>0.890899</td>\n",
       "      <td>2004-10-28</td>\n",
       "    </tr>\n",
       "    <tr>\n",
       "      <th>2</th>\n",
       "      <td>0.690956</td>\n",
       "      <td>2004-10-17</td>\n",
       "    </tr>\n",
       "    <tr>\n",
       "      <th>3</th>\n",
       "      <td>0.977160</td>\n",
       "      <td>2004-11-01</td>\n",
       "    </tr>\n",
       "    <tr>\n",
       "      <th>4</th>\n",
       "      <td>0.793701</td>\n",
       "      <td>2004-10-23</td>\n",
       "    </tr>\n",
       "  </tbody>\n",
       "</table>\n",
       "</div>"
      ],
      "text/plain": [
       "   time_weight  poll_date\n",
       "0     0.831238 2004-10-25\n",
       "1     0.890899 2004-10-28\n",
       "2     0.690956 2004-10-17\n",
       "3     0.977160 2004-11-01\n",
       "4     0.793701 2004-10-23"
      ]
     },
     "execution_count": 62,
     "metadata": {},
     "output_type": "execute_result"
    }
   ],
   "source": [
    "state_data2004[[\"time_weight\", \"poll_date\"]].head(5)"
   ]
  },
  {
   "cell_type": "code",
   "execution_count": 63,
   "metadata": {
    "collapsed": false
   },
   "outputs": [],
   "source": [
    "def max_date(x):\n",
    "    return x == x.max()"
   ]
  },
  {
   "cell_type": "code",
   "execution_count": 64,
   "metadata": {
    "collapsed": false
   },
   "outputs": [],
   "source": [
    "state_data2004[\"newest_poll\"] = state_data2004.groupby((\"State\", \"Pollster\")).poll_date.transform(max_date)\n",
    "state_data2008[\"newest_poll\"] = state_data2008.groupby((\"State\", \"Pollster\")).poll_date.transform(max_date)"
   ]
  },
  {
   "cell_type": "markdown",
   "metadata": {},
   "source": [
    "### Clustering States by Demographics"
   ]
  },
  {
   "cell_type": "markdown",
   "metadata": {},
   "source": [
    "There are notes on trend line adjustment, [here](http://www.fivethirtyeight.com/2008/06/we-know-more-than-we-think-big-change-2.html), [here](http://www.fivethirtyeight.com/2008/06/refinement-to-adjustment-part-i.html), [here](http://www.fivethirtyeight.com/2008/06/refinement-to-adjustment-part-ii.html), [here](http://www.fivethirtyeight.com/2008/06/trendline-now-calculated-from-daily.html), and [here](http://www.fivethirtyeight.com/2008/06/construction-season-over-technical.html). However, to the best of my knowledge, the similar state \"nearest neighbor\" clustering remains a black box."
   ]
  },
  {
   "cell_type": "markdown",
   "metadata": {},
   "source": [
    "Partican Voting Index data obtained from [Wikipedia](http://en.wikipedia.org/wiki/Cook_Partisan_Voting_Index)"
   ]
  },
  {
   "cell_type": "code",
   "execution_count": 65,
   "metadata": {
    "collapsed": false
   },
   "outputs": [],
   "source": [
    "pvi = pandas.read_csv(\"./data/partisan_voting.csv\") \n"
   ]
  },
  {
   "cell_type": "code",
   "execution_count": 66,
   "metadata": {
    "collapsed": false
   },
   "outputs": [
    {
     "data": {
      "text/html": [
       "<div>\n",
       "<table border=\"1\" class=\"dataframe\">\n",
       "  <thead>\n",
       "    <tr style=\"text-align: right;\">\n",
       "      <th></th>\n",
       "      <th>PVI</th>\n",
       "    </tr>\n",
       "    <tr>\n",
       "      <th>State</th>\n",
       "      <th></th>\n",
       "    </tr>\n",
       "  </thead>\n",
       "  <tbody>\n",
       "    <tr>\n",
       "      <th>Alabama</th>\n",
       "      <td>R+13</td>\n",
       "    </tr>\n",
       "    <tr>\n",
       "      <th>Alaska</th>\n",
       "      <td>R+13</td>\n",
       "    </tr>\n",
       "    <tr>\n",
       "      <th>Arizona</th>\n",
       "      <td>R+6</td>\n",
       "    </tr>\n",
       "    <tr>\n",
       "      <th>Arkansas</th>\n",
       "      <td>R+9</td>\n",
       "    </tr>\n",
       "    <tr>\n",
       "      <th>California</th>\n",
       "      <td>D+7</td>\n",
       "    </tr>\n",
       "    <tr>\n",
       "      <th>Colorado</th>\n",
       "      <td>EVEN</td>\n",
       "    </tr>\n",
       "    <tr>\n",
       "      <th>Connecticut</th>\n",
       "      <td>D+7</td>\n",
       "    </tr>\n",
       "    <tr>\n",
       "      <th>Delaware</th>\n",
       "      <td>D+7</td>\n",
       "    </tr>\n",
       "    <tr>\n",
       "      <th>District of Columbia</th>\n",
       "      <td>D+39</td>\n",
       "    </tr>\n",
       "    <tr>\n",
       "      <th>Florida</th>\n",
       "      <td>R+2</td>\n",
       "    </tr>\n",
       "    <tr>\n",
       "      <th>Georgia</th>\n",
       "      <td>R+7</td>\n",
       "    </tr>\n",
       "    <tr>\n",
       "      <th>Hawaii</th>\n",
       "      <td>D+12</td>\n",
       "    </tr>\n",
       "    <tr>\n",
       "      <th>...</th>\n",
       "      <td>...</td>\n",
       "    </tr>\n",
       "    <tr>\n",
       "      <th>Rhode Island</th>\n",
       "      <td>D+11</td>\n",
       "    </tr>\n",
       "    <tr>\n",
       "      <th>South Carolina</th>\n",
       "      <td>R+8</td>\n",
       "    </tr>\n",
       "    <tr>\n",
       "      <th>South Dakota</th>\n",
       "      <td>R+9</td>\n",
       "    </tr>\n",
       "    <tr>\n",
       "      <th>Tennessee</th>\n",
       "      <td>R+9</td>\n",
       "    </tr>\n",
       "    <tr>\n",
       "      <th>Texas</th>\n",
       "      <td>R+10</td>\n",
       "    </tr>\n",
       "    <tr>\n",
       "      <th>Utah</th>\n",
       "      <td>R+20</td>\n",
       "    </tr>\n",
       "    <tr>\n",
       "      <th>Vermont</th>\n",
       "      <td>D+13</td>\n",
       "    </tr>\n",
       "    <tr>\n",
       "      <th>Virginia</th>\n",
       "      <td>R+2</td>\n",
       "    </tr>\n",
       "    <tr>\n",
       "      <th>Washington</th>\n",
       "      <td>D+5</td>\n",
       "    </tr>\n",
       "    <tr>\n",
       "      <th>West Virginia</th>\n",
       "      <td>R+8</td>\n",
       "    </tr>\n",
       "    <tr>\n",
       "      <th>Wisconsin</th>\n",
       "      <td>D+2</td>\n",
       "    </tr>\n",
       "    <tr>\n",
       "      <th>Wyoming</th>\n",
       "      <td>R+20</td>\n",
       "    </tr>\n",
       "  </tbody>\n",
       "</table>\n",
       "<p>51 rows × 1 columns</p>\n",
       "</div>"
      ],
      "text/plain": [
       "                       PVI\n",
       "State                     \n",
       "Alabama               R+13\n",
       "Alaska                R+13\n",
       "Arizona               R+6 \n",
       "Arkansas              R+9 \n",
       "California            D+7 \n",
       "Colorado              EVEN\n",
       "Connecticut           D+7 \n",
       "Delaware              D+7 \n",
       "District of Columbia  D+39\n",
       "Florida               R+2 \n",
       "Georgia               R+7 \n",
       "Hawaii                D+12\n",
       "...                    ...\n",
       "Rhode Island          D+11\n",
       "South Carolina        R+8 \n",
       "South Dakota          R+9 \n",
       "Tennessee             R+9 \n",
       "Texas                 R+10\n",
       "Utah                  R+20\n",
       "Vermont               D+13\n",
       "Virginia              R+2 \n",
       "Washington            D+5 \n",
       "West Virginia         R+8 \n",
       "Wisconsin             D+2 \n",
       "Wyoming               R+20\n",
       "\n",
       "[51 rows x 1 columns]"
      ]
     },
     "execution_count": 66,
     "metadata": {},
     "output_type": "execute_result"
    }
   ],
   "source": [
    "pvi.set_index(\"State\", inplace=True);\n",
    "pvi"
   ]
  },
  {
   "cell_type": "code",
   "execution_count": 67,
   "metadata": {
    "collapsed": false
   },
   "outputs": [
    {
     "data": {
      "text/plain": [
       "State\n",
       "Alabama                -13\n",
       "Alaska                 -13\n",
       "Arizona                 -6\n",
       "Arkansas                -9\n",
       "California               7\n",
       "Colorado                 0\n",
       "Connecticut              7\n",
       "Delaware                 7\n",
       "District of Columbia    39\n",
       "Florida                 -2\n",
       "Georgia                 -7\n",
       "Hawaii                  12\n",
       "                        ..\n",
       "Rhode Island            11\n",
       "South Carolina          -8\n",
       "South Dakota            -9\n",
       "Tennessee               -9\n",
       "Texas                  -10\n",
       "Utah                   -20\n",
       "Vermont                 13\n",
       "Virginia                -2\n",
       "Washington               5\n",
       "West Virginia           -8\n",
       "Wisconsin                2\n",
       "Wyoming                -20\n",
       "Name: PVI, dtype: float64"
      ]
     },
     "execution_count": 67,
     "metadata": {},
     "output_type": "execute_result"
    }
   ],
   "source": [
    "pvi.PVI = pvi.PVI.replace({\"EVEN\" : \"0\"})\n",
    "pvi.PVI = pvi.PVI.str.replace(\"R\\+\", \"-\")\n",
    "pvi.PVI = pvi.PVI.str.replace(\"D\\+\", \"\")\n",
    "pvi.PVI = pvi.PVI.astype(float)\n",
    "pvi.PVI"
   ]
  },
  {
   "cell_type": "markdown",
   "metadata": {},
   "source": [
    "Party affliation of electorate obtained from [Gallup](http://www.gallup.com/poll/156437/Heavily-Democratic-States-Concentrated-East.aspx#2)."
   ]
  },
  {
   "cell_type": "code",
   "execution_count": 68,
   "metadata": {
    "collapsed": false
   },
   "outputs": [],
   "source": [
    "party_affil = pandas.read_csv(\"./data/gallup_electorate.csv\")"
   ]
  },
  {
   "cell_type": "code",
   "execution_count": 69,
   "metadata": {
    "collapsed": false
   },
   "outputs": [],
   "source": [
    "party_affil.Democrat = party_affil.Democrat.str.replace(\"%\", \"\").astype(float)\n",
    "party_affil.Republican = party_affil.Republican.str.replace(\"%\", \"\").astype(float)\n",
    "party_affil.set_index(\"State\", inplace=True);\n",
    "party_affil.rename(columns={\"Democrat Advantage\" : \"dem_adv\"}, inplace=True);\n",
    "party_affil[\"no_party\"] = 100 - party_affil.Democrat - party_affil.Republican"
   ]
  },
  {
   "cell_type": "code",
   "execution_count": 70,
   "metadata": {
    "collapsed": false
   },
   "outputs": [
    {
     "data": {
      "text/html": [
       "<div>\n",
       "<table border=\"1\" class=\"dataframe\">\n",
       "  <thead>\n",
       "    <tr style=\"text-align: right;\">\n",
       "      <th></th>\n",
       "      <th>Democrat</th>\n",
       "      <th>Republican</th>\n",
       "      <th>dem_adv</th>\n",
       "      <th>N</th>\n",
       "      <th>no_party</th>\n",
       "    </tr>\n",
       "    <tr>\n",
       "      <th>State</th>\n",
       "      <th></th>\n",
       "      <th></th>\n",
       "      <th></th>\n",
       "      <th></th>\n",
       "      <th></th>\n",
       "    </tr>\n",
       "  </thead>\n",
       "  <tbody>\n",
       "    <tr>\n",
       "      <th>District of Columbia</th>\n",
       "      <td>79.0</td>\n",
       "      <td>12.7</td>\n",
       "      <td>66.3000</td>\n",
       "      <td>416</td>\n",
       "      <td>8.3</td>\n",
       "    </tr>\n",
       "    <tr>\n",
       "      <th>Rhode Island</th>\n",
       "      <td>52.5</td>\n",
       "      <td>26.5</td>\n",
       "      <td>26.0000</td>\n",
       "      <td>623</td>\n",
       "      <td>21.0</td>\n",
       "    </tr>\n",
       "    <tr>\n",
       "      <th>Hawaii</th>\n",
       "      <td>54.3</td>\n",
       "      <td>28.7</td>\n",
       "      <td>25.6000</td>\n",
       "      <td>466</td>\n",
       "      <td>17.0</td>\n",
       "    </tr>\n",
       "    <tr>\n",
       "      <th>New York</th>\n",
       "      <td>52.0</td>\n",
       "      <td>30.8</td>\n",
       "      <td>21.2000</td>\n",
       "      <td>8674</td>\n",
       "      <td>17.2</td>\n",
       "    </tr>\n",
       "    <tr>\n",
       "      <th>Maryland</th>\n",
       "      <td>54.0</td>\n",
       "      <td>33.8</td>\n",
       "      <td>20.2000</td>\n",
       "      <td>3571</td>\n",
       "      <td>12.2</td>\n",
       "    </tr>\n",
       "    <tr>\n",
       "      <th>Massachusetts</th>\n",
       "      <td>52.5</td>\n",
       "      <td>33.4</td>\n",
       "      <td>19.1000</td>\n",
       "      <td>3583</td>\n",
       "      <td>14.1</td>\n",
       "    </tr>\n",
       "    <tr>\n",
       "      <th>Delaware</th>\n",
       "      <td>50.5</td>\n",
       "      <td>33.1</td>\n",
       "      <td>17.4000</td>\n",
       "      <td>540</td>\n",
       "      <td>16.4</td>\n",
       "    </tr>\n",
       "    <tr>\n",
       "      <th>Connecticut</th>\n",
       "      <td>49.8</td>\n",
       "      <td>34.4</td>\n",
       "      <td>15.4000</td>\n",
       "      <td>2020</td>\n",
       "      <td>15.8</td>\n",
       "    </tr>\n",
       "    <tr>\n",
       "      <th>Vermont</th>\n",
       "      <td>48.8</td>\n",
       "      <td>34.9</td>\n",
       "      <td>13.9000</td>\n",
       "      <td>550</td>\n",
       "      <td>16.3</td>\n",
       "    </tr>\n",
       "    <tr>\n",
       "      <th>California</th>\n",
       "      <td>48.3</td>\n",
       "      <td>34.6</td>\n",
       "      <td>13.7000</td>\n",
       "      <td>16197</td>\n",
       "      <td>17.1</td>\n",
       "    </tr>\n",
       "    <tr>\n",
       "      <th>Illinois</th>\n",
       "      <td>48.4</td>\n",
       "      <td>35.8</td>\n",
       "      <td>12.6000</td>\n",
       "      <td>5888</td>\n",
       "      <td>15.8</td>\n",
       "    </tr>\n",
       "    <tr>\n",
       "      <th>New Jersey</th>\n",
       "      <td>47.4</td>\n",
       "      <td>35.9</td>\n",
       "      <td>11.5000</td>\n",
       "      <td>4239</td>\n",
       "      <td>16.7</td>\n",
       "    </tr>\n",
       "    <tr>\n",
       "      <th>...</th>\n",
       "      <td>...</td>\n",
       "      <td>...</td>\n",
       "      <td>...</td>\n",
       "      <td>...</td>\n",
       "      <td>...</td>\n",
       "    </tr>\n",
       "    <tr>\n",
       "      <th>Tennessee</th>\n",
       "      <td>38.1</td>\n",
       "      <td>46.5</td>\n",
       "      <td>-8.4000</td>\n",
       "      <td>4231</td>\n",
       "      <td>15.4</td>\n",
       "    </tr>\n",
       "    <tr>\n",
       "      <th>Alaska</th>\n",
       "      <td>35.9</td>\n",
       "      <td>44.3</td>\n",
       "      <td>-8.4402</td>\n",
       "      <td>NaN</td>\n",
       "      <td>19.8</td>\n",
       "    </tr>\n",
       "    <tr>\n",
       "      <th>Oklahoma</th>\n",
       "      <td>38.6</td>\n",
       "      <td>48.0</td>\n",
       "      <td>-9.4000</td>\n",
       "      <td>2583</td>\n",
       "      <td>13.4</td>\n",
       "    </tr>\n",
       "    <tr>\n",
       "      <th>South Carolina</th>\n",
       "      <td>36.9</td>\n",
       "      <td>48.8</td>\n",
       "      <td>-11.9000</td>\n",
       "      <td>2858</td>\n",
       "      <td>14.3</td>\n",
       "    </tr>\n",
       "    <tr>\n",
       "      <th>North Dakota</th>\n",
       "      <td>35.8</td>\n",
       "      <td>49.0</td>\n",
       "      <td>-13.2000</td>\n",
       "      <td>547</td>\n",
       "      <td>15.2</td>\n",
       "    </tr>\n",
       "    <tr>\n",
       "      <th>Alabama</th>\n",
       "      <td>36.0</td>\n",
       "      <td>49.6</td>\n",
       "      <td>-13.6000</td>\n",
       "      <td>3197</td>\n",
       "      <td>14.4</td>\n",
       "    </tr>\n",
       "    <tr>\n",
       "      <th>Montana</th>\n",
       "      <td>35.9</td>\n",
       "      <td>49.6</td>\n",
       "      <td>-13.7000</td>\n",
       "      <td>1137</td>\n",
       "      <td>14.5</td>\n",
       "    </tr>\n",
       "    <tr>\n",
       "      <th>Kansas</th>\n",
       "      <td>34.4</td>\n",
       "      <td>51.3</td>\n",
       "      <td>-16.9000</td>\n",
       "      <td>1937</td>\n",
       "      <td>14.3</td>\n",
       "    </tr>\n",
       "    <tr>\n",
       "      <th>Nebraska</th>\n",
       "      <td>33.1</td>\n",
       "      <td>52.1</td>\n",
       "      <td>-19.0000</td>\n",
       "      <td>1351</td>\n",
       "      <td>14.8</td>\n",
       "    </tr>\n",
       "    <tr>\n",
       "      <th>Wyoming</th>\n",
       "      <td>26.7</td>\n",
       "      <td>56.6</td>\n",
       "      <td>-29.9000</td>\n",
       "      <td>600</td>\n",
       "      <td>16.7</td>\n",
       "    </tr>\n",
       "    <tr>\n",
       "      <th>Idaho</th>\n",
       "      <td>27.5</td>\n",
       "      <td>57.8</td>\n",
       "      <td>-30.3000</td>\n",
       "      <td>1336</td>\n",
       "      <td>14.7</td>\n",
       "    </tr>\n",
       "    <tr>\n",
       "      <th>Utah</th>\n",
       "      <td>24.5</td>\n",
       "      <td>63.8</td>\n",
       "      <td>-39.3000</td>\n",
       "      <td>2256</td>\n",
       "      <td>11.7</td>\n",
       "    </tr>\n",
       "  </tbody>\n",
       "</table>\n",
       "<p>51 rows × 5 columns</p>\n",
       "</div>"
      ],
      "text/plain": [
       "                      Democrat  Republican  dem_adv      N  no_party\n",
       "State                                                               \n",
       "District of Columbia      79.0        12.7  66.3000    416       8.3\n",
       "Rhode Island              52.5        26.5  26.0000    623      21.0\n",
       "Hawaii                    54.3        28.7  25.6000    466      17.0\n",
       "New York                  52.0        30.8  21.2000   8674      17.2\n",
       "Maryland                  54.0        33.8  20.2000   3571      12.2\n",
       "Massachusetts             52.5        33.4  19.1000   3583      14.1\n",
       "Delaware                  50.5        33.1  17.4000    540      16.4\n",
       "Connecticut               49.8        34.4  15.4000   2020      15.8\n",
       "Vermont                   48.8        34.9  13.9000    550      16.3\n",
       "California                48.3        34.6  13.7000  16197      17.1\n",
       "Illinois                  48.4        35.8  12.6000   5888      15.8\n",
       "New Jersey                47.4        35.9  11.5000   4239      16.7\n",
       "...                        ...         ...      ...    ...       ...\n",
       "Tennessee                 38.1        46.5  -8.4000   4231      15.4\n",
       "Alaska                    35.9        44.3  -8.4402    NaN      19.8\n",
       "Oklahoma                  38.6        48.0  -9.4000   2583      13.4\n",
       "South Carolina            36.9        48.8 -11.9000   2858      14.3\n",
       "North Dakota              35.8        49.0 -13.2000    547      15.2\n",
       "Alabama                   36.0        49.6 -13.6000   3197      14.4\n",
       "Montana                   35.9        49.6 -13.7000   1137      14.5\n",
       "Kansas                    34.4        51.3 -16.9000   1937      14.3\n",
       "Nebraska                  33.1        52.1 -19.0000   1351      14.8\n",
       "Wyoming                   26.7        56.6 -29.9000    600      16.7\n",
       "Idaho                     27.5        57.8 -30.3000   1336      14.7\n",
       "Utah                      24.5        63.8 -39.3000   2256      11.7\n",
       "\n",
       "[51 rows x 5 columns]"
      ]
     },
     "execution_count": 70,
     "metadata": {},
     "output_type": "execute_result"
    }
   ],
   "source": [
    "party_affil"
   ]
  },
  {
   "cell_type": "code",
   "execution_count": 71,
   "metadata": {
    "collapsed": false
   },
   "outputs": [],
   "source": [
    "census_data = pandas.read_csv(\"./data/census_demographics.csv\")"
   ]
  },
  {
   "cell_type": "code",
   "execution_count": 72,
   "metadata": {
    "collapsed": false
   },
   "outputs": [],
   "source": [
    "def capitalize(s):\n",
    "    s = s.title()\n",
    "    s = s.replace(\"Of\", \"of\")\n",
    "    return s"
   ]
  },
  {
   "cell_type": "code",
   "execution_count": 73,
   "metadata": {
    "collapsed": false
   },
   "outputs": [],
   "source": [
    "census_data[\"State\"] = census_data.state.map(capitalize)\n",
    "del census_data[\"state\"]"
   ]
  },
  {
   "cell_type": "code",
   "execution_count": 74,
   "metadata": {
    "collapsed": false
   },
   "outputs": [],
   "source": [
    "census_data.set_index(\"State\", inplace=True)"
   ]
  },
  {
   "cell_type": "code",
   "execution_count": 75,
   "metadata": {
    "collapsed": false
   },
   "outputs": [],
   "source": [
    "states_abbrev_dict = {\n",
    "        'AK': 'Alaska',\n",
    "        'AL': 'Alabama',\n",
    "        'AR': 'Arkansas',\n",
    "        'AS': 'American Samoa',\n",
    "        'AZ': 'Arizona',\n",
    "        'CA': 'California',\n",
    "        'CO': 'Colorado',\n",
    "        'CT': 'Connecticut',\n",
    "        'DC': 'District of Columbia',\n",
    "        'DE': 'Delaware',\n",
    "        'FL': 'Florida',\n",
    "        'GA': 'Georgia',\n",
    "        'GU': 'Guam',\n",
    "        'HI': 'Hawaii',\n",
    "        'IA': 'Iowa',\n",
    "        'ID': 'Idaho',\n",
    "        'IL': 'Illinois',\n",
    "        'IN': 'Indiana',\n",
    "        'KS': 'Kansas',\n",
    "        'KY': 'Kentucky',\n",
    "        'LA': 'Louisiana',\n",
    "        'MA': 'Massachusetts',\n",
    "        'MD': 'Maryland',\n",
    "        'ME': 'Maine',\n",
    "        'MI': 'Michigan',\n",
    "        'MN': 'Minnesota',\n",
    "        'MO': 'Missouri',\n",
    "        'MP': 'Northern Mariana Islands',\n",
    "        'MS': 'Mississippi',\n",
    "        'MT': 'Montana',\n",
    "        'NA': 'National',\n",
    "        'NC': 'North Carolina',\n",
    "        'ND': 'North Dakota',\n",
    "        'NE': 'Nebraska',\n",
    "        'NH': 'New Hampshire',\n",
    "        'NJ': 'New Jersey',\n",
    "        'NM': 'New Mexico',\n",
    "        'NV': 'Nevada',\n",
    "        'NY': 'New York',\n",
    "        'OH': 'Ohio',\n",
    "        'OK': 'Oklahoma',\n",
    "        'OR': 'Oregon',\n",
    "        'PA': 'Pennsylvania',\n",
    "        'PR': 'Puerto Rico',\n",
    "        'RI': 'Rhode Island',\n",
    "        'SC': 'South Carolina',\n",
    "        'SD': 'South Dakota',\n",
    "        'TN': 'Tennessee',\n",
    "        'TX': 'Texas',\n",
    "        'UT': 'Utah',\n",
    "        'VA': 'Virginia',\n",
    "        'VI': 'Virgin Islands',\n",
    "        'VT': 'Vermont',\n",
    "        'WA': 'Washington',\n",
    "        'WI': 'Wisconsin',\n",
    "        'WV': 'West Virginia',\n",
    "        'WY': 'Wyoming'\n",
    "}"
   ]
  },
  {
   "cell_type": "markdown",
   "metadata": {},
   "source": [
    "Campaign Contributions from FEC."
   ]
  },
  {
   "cell_type": "code",
   "execution_count": 76,
   "metadata": {
    "collapsed": false
   },
   "outputs": [],
   "source": [
    "obama_give = pandas.read_csv(\"./data/obama_indiv_state.csv\", \n",
    "                             header=None, names=[\"State\", \"obama_give\"])\n",
    "romney_give = pandas.read_csv(\"./data/romney_indiv_state.csv\",\n",
    "                             header=None, names=[\"State\", \"romney_give\"])"
   ]
  },
  {
   "cell_type": "code",
   "execution_count": 77,
   "metadata": {
    "collapsed": false
   },
   "outputs": [],
   "source": [
    "obama_give.State.replace(states_abbrev_dict, inplace=True);\n",
    "romney_give.State.replace(states_abbrev_dict, inplace=True);"
   ]
  },
  {
   "cell_type": "code",
   "execution_count": 78,
   "metadata": {
    "collapsed": false
   },
   "outputs": [],
   "source": [
    "obama_give.set_index(\"State\", inplace=True)\n",
    "romney_give.set_index(\"State\", inplace=True);"
   ]
  },
  {
   "cell_type": "code",
   "execution_count": 79,
   "metadata": {
    "collapsed": false
   },
   "outputs": [],
   "source": [
    "demo_data = census_data.join(party_affil[[\"dem_adv\", \"no_party\"]]).join(pvi)"
   ]
  },
  {
   "cell_type": "code",
   "execution_count": 80,
   "metadata": {
    "collapsed": false
   },
   "outputs": [],
   "source": [
    "demo_data = demo_data.join(obama_give).join(romney_give)"
   ]
  },
  {
   "cell_type": "code",
   "execution_count": 81,
   "metadata": {
    "collapsed": false
   },
   "outputs": [
    {
     "data": {
      "text/html": [
       "<div>\n",
       "<table border=\"1\" class=\"dataframe\">\n",
       "  <thead>\n",
       "    <tr style=\"text-align: right;\">\n",
       "      <th></th>\n",
       "      <th>obama_give</th>\n",
       "      <th>romney_give</th>\n",
       "    </tr>\n",
       "    <tr>\n",
       "      <th>State</th>\n",
       "      <th></th>\n",
       "      <th></th>\n",
       "    </tr>\n",
       "  </thead>\n",
       "  <tbody>\n",
       "    <tr>\n",
       "      <th>Alabama</th>\n",
       "      <td>0.244651</td>\n",
       "      <td>0.365672</td>\n",
       "    </tr>\n",
       "    <tr>\n",
       "      <th>Alaska</th>\n",
       "      <td>1.111870</td>\n",
       "      <td>0.498678</td>\n",
       "    </tr>\n",
       "    <tr>\n",
       "      <th>Arizona</th>\n",
       "      <td>0.568634</td>\n",
       "      <td>0.672651</td>\n",
       "    </tr>\n",
       "    <tr>\n",
       "      <th>Arkansas</th>\n",
       "      <td>0.246781</td>\n",
       "      <td>0.216652</td>\n",
       "    </tr>\n",
       "    <tr>\n",
       "      <th>California</th>\n",
       "      <td>1.128145</td>\n",
       "      <td>0.617581</td>\n",
       "    </tr>\n",
       "    <tr>\n",
       "      <th>Colorado</th>\n",
       "      <td>1.056366</td>\n",
       "      <td>0.796661</td>\n",
       "    </tr>\n",
       "    <tr>\n",
       "      <th>Connecticut</th>\n",
       "      <td>1.206698</td>\n",
       "      <td>1.544816</td>\n",
       "    </tr>\n",
       "    <tr>\n",
       "      <th>Delaware</th>\n",
       "      <td>0.766860</td>\n",
       "      <td>0.358712</td>\n",
       "    </tr>\n",
       "    <tr>\n",
       "      <th>District of Columbia</th>\n",
       "      <td>326.863621</td>\n",
       "      <td>2.535392</td>\n",
       "    </tr>\n",
       "    <tr>\n",
       "      <th>Florida</th>\n",
       "      <td>0.503180</td>\n",
       "      <td>0.874699</td>\n",
       "    </tr>\n",
       "    <tr>\n",
       "      <th>Georgia</th>\n",
       "      <td>0.467529</td>\n",
       "      <td>0.526246</td>\n",
       "    </tr>\n",
       "    <tr>\n",
       "      <th>Hawaii</th>\n",
       "      <td>1.006632</td>\n",
       "      <td>0.225184</td>\n",
       "    </tr>\n",
       "    <tr>\n",
       "      <th>...</th>\n",
       "      <td>...</td>\n",
       "      <td>...</td>\n",
       "    </tr>\n",
       "    <tr>\n",
       "      <th>Rhode Island</th>\n",
       "      <td>0.713200</td>\n",
       "      <td>0.358394</td>\n",
       "    </tr>\n",
       "    <tr>\n",
       "      <th>South Carolina</th>\n",
       "      <td>0.317250</td>\n",
       "      <td>0.351393</td>\n",
       "    </tr>\n",
       "    <tr>\n",
       "      <th>South Dakota</th>\n",
       "      <td>0.270970</td>\n",
       "      <td>0.518931</td>\n",
       "    </tr>\n",
       "    <tr>\n",
       "      <th>Tennessee</th>\n",
       "      <td>0.376523</td>\n",
       "      <td>0.522332</td>\n",
       "    </tr>\n",
       "    <tr>\n",
       "      <th>Texas</th>\n",
       "      <td>0.476729</td>\n",
       "      <td>0.690927</td>\n",
       "    </tr>\n",
       "    <tr>\n",
       "      <th>Utah</th>\n",
       "      <td>0.379436</td>\n",
       "      <td>2.394654</td>\n",
       "    </tr>\n",
       "    <tr>\n",
       "      <th>Vermont</th>\n",
       "      <td>1.602222</td>\n",
       "      <td>0.249971</td>\n",
       "    </tr>\n",
       "    <tr>\n",
       "      <th>Virginia</th>\n",
       "      <td>1.000185</td>\n",
       "      <td>0.938508</td>\n",
       "    </tr>\n",
       "    <tr>\n",
       "      <th>Washington</th>\n",
       "      <td>1.190590</td>\n",
       "      <td>0.475625</td>\n",
       "    </tr>\n",
       "    <tr>\n",
       "      <th>West Virginia</th>\n",
       "      <td>0.260437</td>\n",
       "      <td>0.321333</td>\n",
       "    </tr>\n",
       "    <tr>\n",
       "      <th>Wisconsin</th>\n",
       "      <td>0.455410</td>\n",
       "      <td>0.237802</td>\n",
       "    </tr>\n",
       "    <tr>\n",
       "      <th>Wyoming</th>\n",
       "      <td>0.746122</td>\n",
       "      <td>1.080021</td>\n",
       "    </tr>\n",
       "  </tbody>\n",
       "</table>\n",
       "<p>51 rows × 2 columns</p>\n",
       "</div>"
      ],
      "text/plain": [
       "                      obama_give  romney_give\n",
       "State                                        \n",
       "Alabama                 0.244651     0.365672\n",
       "Alaska                  1.111870     0.498678\n",
       "Arizona                 0.568634     0.672651\n",
       "Arkansas                0.246781     0.216652\n",
       "California              1.128145     0.617581\n",
       "Colorado                1.056366     0.796661\n",
       "Connecticut             1.206698     1.544816\n",
       "Delaware                0.766860     0.358712\n",
       "District of Columbia  326.863621     2.535392\n",
       "Florida                 0.503180     0.874699\n",
       "Georgia                 0.467529     0.526246\n",
       "Hawaii                  1.006632     0.225184\n",
       "...                          ...          ...\n",
       "Rhode Island            0.713200     0.358394\n",
       "South Carolina          0.317250     0.351393\n",
       "South Dakota            0.270970     0.518931\n",
       "Tennessee               0.376523     0.522332\n",
       "Texas                   0.476729     0.690927\n",
       "Utah                    0.379436     2.394654\n",
       "Vermont                 1.602222     0.249971\n",
       "Virginia                1.000185     0.938508\n",
       "Washington              1.190590     0.475625\n",
       "West Virginia           0.260437     0.321333\n",
       "Wisconsin               0.455410     0.237802\n",
       "Wyoming                 0.746122     1.080021\n",
       "\n",
       "[51 rows x 2 columns]"
      ]
     },
     "execution_count": 81,
     "metadata": {},
     "output_type": "execute_result"
    }
   ],
   "source": [
    "giving = demo_data[[\"obama_give\", \"romney_give\"]].div(demo_data[[\"vote_pop\", \"older_pop\"]].sum(1), axis=0)\n",
    "giving"
   ]
  },
  {
   "cell_type": "code",
   "execution_count": 82,
   "metadata": {
    "collapsed": false
   },
   "outputs": [],
   "source": [
    "demo_data[[\"obama_give\", \"romney_give\"]] = giving"
   ]
  },
  {
   "cell_type": "code",
   "execution_count": 83,
   "metadata": {
    "collapsed": false
   },
   "outputs": [],
   "source": [
    "from scipy import cluster as sp_cluster\n",
    "from sklearn import cluster, neighbors"
   ]
  },
  {
   "cell_type": "code",
   "execution_count": 84,
   "metadata": {
    "collapsed": false
   },
   "outputs": [],
   "source": [
    "clean_data = sp_cluster.vq.whiten(demo_data.values)"
   ]
  },
  {
   "cell_type": "code",
   "execution_count": 85,
   "metadata": {
    "collapsed": false
   },
   "outputs": [
    {
     "data": {
      "text/plain": [
       "array([ 1.,  1.,  1.,  1.,  1.,  1.,  1.,  1.,  1.,  1.,  1.,  1.,  1.,  1.,  1.,  1.,  1.])"
      ]
     },
     "execution_count": 85,
     "metadata": {},
     "output_type": "execute_result"
    }
   ],
   "source": [
    "clean_data.var(axis=0)"
   ]
  },
  {
   "cell_type": "code",
   "execution_count": 86,
   "metadata": {
    "collapsed": false
   },
   "outputs": [
    {
     "name": "stderr",
     "output_type": "stream",
     "text": [
      "/home/jim/INSTALL/anaconda3/envs/pydata538/lib/python2.7/site-packages/sklearn/utils/validation.py:386: DeprecationWarning: Passing 1d arrays as data is deprecated in 0.17 and willraise ValueError in 0.19. Reshape your data either using X.reshape(-1, 1) if your data has a single feature or X.reshape(1, -1) if it contains a single sample.\n",
      "  DeprecationWarning)\n"
     ]
    },
    {
     "data": {
      "text/plain": [
       "(array([[ 0.    ,  0.895 ,  1.4131,  1.4377,  2.0061,  2.1917,  2.3806]]),\n",
       " array([[ 0, 40, 18, 42, 24, 33, 17]]))"
      ]
     },
     "execution_count": 86,
     "metadata": {},
     "output_type": "execute_result"
    }
   ],
   "source": [
    "KNN = neighbors.NearestNeighbors(n_neighbors=7)\n",
    "KNN.fit(clean_data)\n",
    "KNN.kneighbors(clean_data[0], return_distance=True)"
   ]
  },
  {
   "cell_type": "code",
   "execution_count": 87,
   "metadata": {
    "collapsed": false
   },
   "outputs": [
    {
     "data": {
      "text/plain": [
       "('Alabama',\n",
       " Index([[u'Alabama', u'South Carolina', u'Louisiana', u'Tennessee', u'Mississippi', u'North Carolina', u'Kentucky']], dtype='object', name=u'State'))"
      ]
     },
     "execution_count": 87,
     "metadata": {},
     "output_type": "execute_result"
    }
   ],
   "source": [
    "idx = _[1]\n",
    "demo_data.index[0], demo_data.index[idx]"
   ]
  },
  {
   "cell_type": "code",
   "execution_count": 88,
   "metadata": {
    "collapsed": false
   },
   "outputs": [
    {
     "name": "stderr",
     "output_type": "stream",
     "text": [
      "/home/jim/INSTALL/anaconda3/envs/pydata538/lib/python2.7/site-packages/sklearn/utils/validation.py:386: DeprecationWarning: Passing 1d arrays as data is deprecated in 0.17 and willraise ValueError in 0.19. Reshape your data either using X.reshape(-1, 1) if your data has a single feature or X.reshape(1, -1) if it contains a single sample.\n",
      "  DeprecationWarning)\n",
      "/home/jim/INSTALL/anaconda3/envs/pydata538/lib/python2.7/site-packages/sklearn/utils/validation.py:386: DeprecationWarning: Passing 1d arrays as data is deprecated in 0.17 and willraise ValueError in 0.19. Reshape your data either using X.reshape(-1, 1) if your data has a single feature or X.reshape(1, -1) if it contains a single sample.\n",
      "  DeprecationWarning)\n",
      "/home/jim/INSTALL/anaconda3/envs/pydata538/lib/python2.7/site-packages/sklearn/utils/validation.py:386: DeprecationWarning: Passing 1d arrays as data is deprecated in 0.17 and willraise ValueError in 0.19. Reshape your data either using X.reshape(-1, 1) if your data has a single feature or X.reshape(1, -1) if it contains a single sample.\n",
      "  DeprecationWarning)\n",
      "/home/jim/INSTALL/anaconda3/envs/pydata538/lib/python2.7/site-packages/sklearn/utils/validation.py:386: DeprecationWarning: Passing 1d arrays as data is deprecated in 0.17 and willraise ValueError in 0.19. Reshape your data either using X.reshape(-1, 1) if your data has a single feature or X.reshape(1, -1) if it contains a single sample.\n",
      "  DeprecationWarning)\n",
      "/home/jim/INSTALL/anaconda3/envs/pydata538/lib/python2.7/site-packages/sklearn/utils/validation.py:386: DeprecationWarning: Passing 1d arrays as data is deprecated in 0.17 and willraise ValueError in 0.19. Reshape your data either using X.reshape(-1, 1) if your data has a single feature or X.reshape(1, -1) if it contains a single sample.\n",
      "  DeprecationWarning)\n",
      "/home/jim/INSTALL/anaconda3/envs/pydata538/lib/python2.7/site-packages/sklearn/utils/validation.py:386: DeprecationWarning: Passing 1d arrays as data is deprecated in 0.17 and willraise ValueError in 0.19. Reshape your data either using X.reshape(-1, 1) if your data has a single feature or X.reshape(1, -1) if it contains a single sample.\n",
      "  DeprecationWarning)\n",
      "/home/jim/INSTALL/anaconda3/envs/pydata538/lib/python2.7/site-packages/sklearn/utils/validation.py:386: DeprecationWarning: Passing 1d arrays as data is deprecated in 0.17 and willraise ValueError in 0.19. Reshape your data either using X.reshape(-1, 1) if your data has a single feature or X.reshape(1, -1) if it contains a single sample.\n",
      "  DeprecationWarning)\n",
      "/home/jim/INSTALL/anaconda3/envs/pydata538/lib/python2.7/site-packages/sklearn/utils/validation.py:386: DeprecationWarning: Passing 1d arrays as data is deprecated in 0.17 and willraise ValueError in 0.19. Reshape your data either using X.reshape(-1, 1) if your data has a single feature or X.reshape(1, -1) if it contains a single sample.\n",
      "  DeprecationWarning)\n",
      "/home/jim/INSTALL/anaconda3/envs/pydata538/lib/python2.7/site-packages/sklearn/utils/validation.py:386: DeprecationWarning: Passing 1d arrays as data is deprecated in 0.17 and willraise ValueError in 0.19. Reshape your data either using X.reshape(-1, 1) if your data has a single feature or X.reshape(1, -1) if it contains a single sample.\n",
      "  DeprecationWarning)\n",
      "/home/jim/INSTALL/anaconda3/envs/pydata538/lib/python2.7/site-packages/sklearn/utils/validation.py:386: DeprecationWarning: Passing 1d arrays as data is deprecated in 0.17 and willraise ValueError in 0.19. Reshape your data either using X.reshape(-1, 1) if your data has a single feature or X.reshape(1, -1) if it contains a single sample.\n",
      "  DeprecationWarning)\n",
      "/home/jim/INSTALL/anaconda3/envs/pydata538/lib/python2.7/site-packages/sklearn/utils/validation.py:386: DeprecationWarning: Passing 1d arrays as data is deprecated in 0.17 and willraise ValueError in 0.19. Reshape your data either using X.reshape(-1, 1) if your data has a single feature or X.reshape(1, -1) if it contains a single sample.\n",
      "  DeprecationWarning)\n",
      "/home/jim/INSTALL/anaconda3/envs/pydata538/lib/python2.7/site-packages/sklearn/utils/validation.py:386: DeprecationWarning: Passing 1d arrays as data is deprecated in 0.17 and willraise ValueError in 0.19. Reshape your data either using X.reshape(-1, 1) if your data has a single feature or X.reshape(1, -1) if it contains a single sample.\n",
      "  DeprecationWarning)\n",
      "/home/jim/INSTALL/anaconda3/envs/pydata538/lib/python2.7/site-packages/sklearn/utils/validation.py:386: DeprecationWarning: Passing 1d arrays as data is deprecated in 0.17 and willraise ValueError in 0.19. Reshape your data either using X.reshape(-1, 1) if your data has a single feature or X.reshape(1, -1) if it contains a single sample.\n",
      "  DeprecationWarning)\n",
      "/home/jim/INSTALL/anaconda3/envs/pydata538/lib/python2.7/site-packages/sklearn/utils/validation.py:386: DeprecationWarning: Passing 1d arrays as data is deprecated in 0.17 and willraise ValueError in 0.19. Reshape your data either using X.reshape(-1, 1) if your data has a single feature or X.reshape(1, -1) if it contains a single sample.\n",
      "  DeprecationWarning)\n",
      "/home/jim/INSTALL/anaconda3/envs/pydata538/lib/python2.7/site-packages/sklearn/utils/validation.py:386: DeprecationWarning: Passing 1d arrays as data is deprecated in 0.17 and willraise ValueError in 0.19. Reshape your data either using X.reshape(-1, 1) if your data has a single feature or X.reshape(1, -1) if it contains a single sample.\n",
      "  DeprecationWarning)\n",
      "/home/jim/INSTALL/anaconda3/envs/pydata538/lib/python2.7/site-packages/sklearn/utils/validation.py:386: DeprecationWarning: Passing 1d arrays as data is deprecated in 0.17 and willraise ValueError in 0.19. Reshape your data either using X.reshape(-1, 1) if your data has a single feature or X.reshape(1, -1) if it contains a single sample.\n",
      "  DeprecationWarning)\n",
      "/home/jim/INSTALL/anaconda3/envs/pydata538/lib/python2.7/site-packages/sklearn/utils/validation.py:386: DeprecationWarning: Passing 1d arrays as data is deprecated in 0.17 and willraise ValueError in 0.19. Reshape your data either using X.reshape(-1, 1) if your data has a single feature or X.reshape(1, -1) if it contains a single sample.\n",
      "  DeprecationWarning)\n",
      "/home/jim/INSTALL/anaconda3/envs/pydata538/lib/python2.7/site-packages/sklearn/utils/validation.py:386: DeprecationWarning: Passing 1d arrays as data is deprecated in 0.17 and willraise ValueError in 0.19. Reshape your data either using X.reshape(-1, 1) if your data has a single feature or X.reshape(1, -1) if it contains a single sample.\n",
      "  DeprecationWarning)\n",
      "/home/jim/INSTALL/anaconda3/envs/pydata538/lib/python2.7/site-packages/sklearn/utils/validation.py:386: DeprecationWarning: Passing 1d arrays as data is deprecated in 0.17 and willraise ValueError in 0.19. Reshape your data either using X.reshape(-1, 1) if your data has a single feature or X.reshape(1, -1) if it contains a single sample.\n",
      "  DeprecationWarning)\n",
      "/home/jim/INSTALL/anaconda3/envs/pydata538/lib/python2.7/site-packages/sklearn/utils/validation.py:386: DeprecationWarning: Passing 1d arrays as data is deprecated in 0.17 and willraise ValueError in 0.19. Reshape your data either using X.reshape(-1, 1) if your data has a single feature or X.reshape(1, -1) if it contains a single sample.\n",
      "  DeprecationWarning)\n",
      "/home/jim/INSTALL/anaconda3/envs/pydata538/lib/python2.7/site-packages/sklearn/utils/validation.py:386: DeprecationWarning: Passing 1d arrays as data is deprecated in 0.17 and willraise ValueError in 0.19. Reshape your data either using X.reshape(-1, 1) if your data has a single feature or X.reshape(1, -1) if it contains a single sample.\n",
      "  DeprecationWarning)\n",
      "/home/jim/INSTALL/anaconda3/envs/pydata538/lib/python2.7/site-packages/sklearn/utils/validation.py:386: DeprecationWarning: Passing 1d arrays as data is deprecated in 0.17 and willraise ValueError in 0.19. Reshape your data either using X.reshape(-1, 1) if your data has a single feature or X.reshape(1, -1) if it contains a single sample.\n",
      "  DeprecationWarning)\n",
      "/home/jim/INSTALL/anaconda3/envs/pydata538/lib/python2.7/site-packages/sklearn/utils/validation.py:386: DeprecationWarning: Passing 1d arrays as data is deprecated in 0.17 and willraise ValueError in 0.19. Reshape your data either using X.reshape(-1, 1) if your data has a single feature or X.reshape(1, -1) if it contains a single sample.\n",
      "  DeprecationWarning)\n",
      "/home/jim/INSTALL/anaconda3/envs/pydata538/lib/python2.7/site-packages/sklearn/utils/validation.py:386: DeprecationWarning: Passing 1d arrays as data is deprecated in 0.17 and willraise ValueError in 0.19. Reshape your data either using X.reshape(-1, 1) if your data has a single feature or X.reshape(1, -1) if it contains a single sample.\n",
      "  DeprecationWarning)\n",
      "/home/jim/INSTALL/anaconda3/envs/pydata538/lib/python2.7/site-packages/sklearn/utils/validation.py:386: DeprecationWarning: Passing 1d arrays as data is deprecated in 0.17 and willraise ValueError in 0.19. Reshape your data either using X.reshape(-1, 1) if your data has a single feature or X.reshape(1, -1) if it contains a single sample.\n",
      "  DeprecationWarning)\n",
      "/home/jim/INSTALL/anaconda3/envs/pydata538/lib/python2.7/site-packages/sklearn/utils/validation.py:386: DeprecationWarning: Passing 1d arrays as data is deprecated in 0.17 and willraise ValueError in 0.19. Reshape your data either using X.reshape(-1, 1) if your data has a single feature or X.reshape(1, -1) if it contains a single sample.\n",
      "  DeprecationWarning)\n",
      "/home/jim/INSTALL/anaconda3/envs/pydata538/lib/python2.7/site-packages/sklearn/utils/validation.py:386: DeprecationWarning: Passing 1d arrays as data is deprecated in 0.17 and willraise ValueError in 0.19. Reshape your data either using X.reshape(-1, 1) if your data has a single feature or X.reshape(1, -1) if it contains a single sample.\n",
      "  DeprecationWarning)\n",
      "/home/jim/INSTALL/anaconda3/envs/pydata538/lib/python2.7/site-packages/sklearn/utils/validation.py:386: DeprecationWarning: Passing 1d arrays as data is deprecated in 0.17 and willraise ValueError in 0.19. Reshape your data either using X.reshape(-1, 1) if your data has a single feature or X.reshape(1, -1) if it contains a single sample.\n",
      "  DeprecationWarning)\n",
      "/home/jim/INSTALL/anaconda3/envs/pydata538/lib/python2.7/site-packages/sklearn/utils/validation.py:386: DeprecationWarning: Passing 1d arrays as data is deprecated in 0.17 and willraise ValueError in 0.19. Reshape your data either using X.reshape(-1, 1) if your data has a single feature or X.reshape(1, -1) if it contains a single sample.\n",
      "  DeprecationWarning)\n",
      "/home/jim/INSTALL/anaconda3/envs/pydata538/lib/python2.7/site-packages/sklearn/utils/validation.py:386: DeprecationWarning: Passing 1d arrays as data is deprecated in 0.17 and willraise ValueError in 0.19. Reshape your data either using X.reshape(-1, 1) if your data has a single feature or X.reshape(1, -1) if it contains a single sample.\n",
      "  DeprecationWarning)\n",
      "/home/jim/INSTALL/anaconda3/envs/pydata538/lib/python2.7/site-packages/sklearn/utils/validation.py:386: DeprecationWarning: Passing 1d arrays as data is deprecated in 0.17 and willraise ValueError in 0.19. Reshape your data either using X.reshape(-1, 1) if your data has a single feature or X.reshape(1, -1) if it contains a single sample.\n",
      "  DeprecationWarning)\n",
      "/home/jim/INSTALL/anaconda3/envs/pydata538/lib/python2.7/site-packages/sklearn/utils/validation.py:386: DeprecationWarning: Passing 1d arrays as data is deprecated in 0.17 and willraise ValueError in 0.19. Reshape your data either using X.reshape(-1, 1) if your data has a single feature or X.reshape(1, -1) if it contains a single sample.\n",
      "  DeprecationWarning)\n",
      "/home/jim/INSTALL/anaconda3/envs/pydata538/lib/python2.7/site-packages/sklearn/utils/validation.py:386: DeprecationWarning: Passing 1d arrays as data is deprecated in 0.17 and willraise ValueError in 0.19. Reshape your data either using X.reshape(-1, 1) if your data has a single feature or X.reshape(1, -1) if it contains a single sample.\n",
      "  DeprecationWarning)\n",
      "/home/jim/INSTALL/anaconda3/envs/pydata538/lib/python2.7/site-packages/sklearn/utils/validation.py:386: DeprecationWarning: Passing 1d arrays as data is deprecated in 0.17 and willraise ValueError in 0.19. Reshape your data either using X.reshape(-1, 1) if your data has a single feature or X.reshape(1, -1) if it contains a single sample.\n",
      "  DeprecationWarning)\n",
      "/home/jim/INSTALL/anaconda3/envs/pydata538/lib/python2.7/site-packages/sklearn/utils/validation.py:386: DeprecationWarning: Passing 1d arrays as data is deprecated in 0.17 and willraise ValueError in 0.19. Reshape your data either using X.reshape(-1, 1) if your data has a single feature or X.reshape(1, -1) if it contains a single sample.\n",
      "  DeprecationWarning)\n",
      "/home/jim/INSTALL/anaconda3/envs/pydata538/lib/python2.7/site-packages/sklearn/utils/validation.py:386: DeprecationWarning: Passing 1d arrays as data is deprecated in 0.17 and willraise ValueError in 0.19. Reshape your data either using X.reshape(-1, 1) if your data has a single feature or X.reshape(1, -1) if it contains a single sample.\n",
      "  DeprecationWarning)\n",
      "/home/jim/INSTALL/anaconda3/envs/pydata538/lib/python2.7/site-packages/sklearn/utils/validation.py:386: DeprecationWarning: Passing 1d arrays as data is deprecated in 0.17 and willraise ValueError in 0.19. Reshape your data either using X.reshape(-1, 1) if your data has a single feature or X.reshape(1, -1) if it contains a single sample.\n",
      "  DeprecationWarning)\n",
      "/home/jim/INSTALL/anaconda3/envs/pydata538/lib/python2.7/site-packages/sklearn/utils/validation.py:386: DeprecationWarning: Passing 1d arrays as data is deprecated in 0.17 and willraise ValueError in 0.19. Reshape your data either using X.reshape(-1, 1) if your data has a single feature or X.reshape(1, -1) if it contains a single sample.\n",
      "  DeprecationWarning)\n",
      "/home/jim/INSTALL/anaconda3/envs/pydata538/lib/python2.7/site-packages/sklearn/utils/validation.py:386: DeprecationWarning: Passing 1d arrays as data is deprecated in 0.17 and willraise ValueError in 0.19. Reshape your data either using X.reshape(-1, 1) if your data has a single feature or X.reshape(1, -1) if it contains a single sample.\n",
      "  DeprecationWarning)\n",
      "/home/jim/INSTALL/anaconda3/envs/pydata538/lib/python2.7/site-packages/sklearn/utils/validation.py:386: DeprecationWarning: Passing 1d arrays as data is deprecated in 0.17 and willraise ValueError in 0.19. Reshape your data either using X.reshape(-1, 1) if your data has a single feature or X.reshape(1, -1) if it contains a single sample.\n",
      "  DeprecationWarning)\n",
      "/home/jim/INSTALL/anaconda3/envs/pydata538/lib/python2.7/site-packages/sklearn/utils/validation.py:386: DeprecationWarning: Passing 1d arrays as data is deprecated in 0.17 and willraise ValueError in 0.19. Reshape your data either using X.reshape(-1, 1) if your data has a single feature or X.reshape(1, -1) if it contains a single sample.\n",
      "  DeprecationWarning)\n",
      "/home/jim/INSTALL/anaconda3/envs/pydata538/lib/python2.7/site-packages/sklearn/utils/validation.py:386: DeprecationWarning: Passing 1d arrays as data is deprecated in 0.17 and willraise ValueError in 0.19. Reshape your data either using X.reshape(-1, 1) if your data has a single feature or X.reshape(1, -1) if it contains a single sample.\n",
      "  DeprecationWarning)\n",
      "/home/jim/INSTALL/anaconda3/envs/pydata538/lib/python2.7/site-packages/sklearn/utils/validation.py:386: DeprecationWarning: Passing 1d arrays as data is deprecated in 0.17 and willraise ValueError in 0.19. Reshape your data either using X.reshape(-1, 1) if your data has a single feature or X.reshape(1, -1) if it contains a single sample.\n",
      "  DeprecationWarning)\n",
      "/home/jim/INSTALL/anaconda3/envs/pydata538/lib/python2.7/site-packages/sklearn/utils/validation.py:386: DeprecationWarning: Passing 1d arrays as data is deprecated in 0.17 and willraise ValueError in 0.19. Reshape your data either using X.reshape(-1, 1) if your data has a single feature or X.reshape(1, -1) if it contains a single sample.\n",
      "  DeprecationWarning)\n",
      "/home/jim/INSTALL/anaconda3/envs/pydata538/lib/python2.7/site-packages/sklearn/utils/validation.py:386: DeprecationWarning: Passing 1d arrays as data is deprecated in 0.17 and willraise ValueError in 0.19. Reshape your data either using X.reshape(-1, 1) if your data has a single feature or X.reshape(1, -1) if it contains a single sample.\n",
      "  DeprecationWarning)\n",
      "/home/jim/INSTALL/anaconda3/envs/pydata538/lib/python2.7/site-packages/sklearn/utils/validation.py:386: DeprecationWarning: Passing 1d arrays as data is deprecated in 0.17 and willraise ValueError in 0.19. Reshape your data either using X.reshape(-1, 1) if your data has a single feature or X.reshape(1, -1) if it contains a single sample.\n",
      "  DeprecationWarning)\n",
      "/home/jim/INSTALL/anaconda3/envs/pydata538/lib/python2.7/site-packages/sklearn/utils/validation.py:386: DeprecationWarning: Passing 1d arrays as data is deprecated in 0.17 and willraise ValueError in 0.19. Reshape your data either using X.reshape(-1, 1) if your data has a single feature or X.reshape(1, -1) if it contains a single sample.\n",
      "  DeprecationWarning)\n",
      "/home/jim/INSTALL/anaconda3/envs/pydata538/lib/python2.7/site-packages/sklearn/utils/validation.py:386: DeprecationWarning: Passing 1d arrays as data is deprecated in 0.17 and willraise ValueError in 0.19. Reshape your data either using X.reshape(-1, 1) if your data has a single feature or X.reshape(1, -1) if it contains a single sample.\n",
      "  DeprecationWarning)\n",
      "/home/jim/INSTALL/anaconda3/envs/pydata538/lib/python2.7/site-packages/sklearn/utils/validation.py:386: DeprecationWarning: Passing 1d arrays as data is deprecated in 0.17 and willraise ValueError in 0.19. Reshape your data either using X.reshape(-1, 1) if your data has a single feature or X.reshape(1, -1) if it contains a single sample.\n",
      "  DeprecationWarning)\n",
      "/home/jim/INSTALL/anaconda3/envs/pydata538/lib/python2.7/site-packages/sklearn/utils/validation.py:386: DeprecationWarning: Passing 1d arrays as data is deprecated in 0.17 and willraise ValueError in 0.19. Reshape your data either using X.reshape(-1, 1) if your data has a single feature or X.reshape(1, -1) if it contains a single sample.\n",
      "  DeprecationWarning)\n",
      "/home/jim/INSTALL/anaconda3/envs/pydata538/lib/python2.7/site-packages/sklearn/utils/validation.py:386: DeprecationWarning: Passing 1d arrays as data is deprecated in 0.17 and willraise ValueError in 0.19. Reshape your data either using X.reshape(-1, 1) if your data has a single feature or X.reshape(1, -1) if it contains a single sample.\n",
      "  DeprecationWarning)\n"
     ]
    }
   ],
   "source": [
    "nearest_neighbor = {}\n",
    "for i, state in enumerate(demo_data.index):\n",
    "    neighborhood = KNN.kneighbors(clean_data[i], return_distance=True)\n",
    "    nearest_neighbor.update({state : (demo_data.index[neighborhood[1]],\n",
    "                                     neighborhood[0])})"
   ]
  },
  {
   "cell_type": "code",
   "execution_count": 89,
   "metadata": {
    "collapsed": false
   },
   "outputs": [
    {
     "data": {
      "text/plain": [
       "{'Alabama': (Index([[u'Alabama', u'South Carolina', u'Louisiana', u'Tennessee', u'Mississippi', u'North Carolina', u'Kentucky']], dtype='object', name=u'State'),\n",
       "  array([[ 0.    ,  0.895 ,  1.4131,  1.4377,  2.0061,  2.1917,  2.3806]])),\n",
       " 'Alaska': (Index([[u'Alaska', u'Colorado', u'Wyoming', u'Washington', u'Virginia', u'Nevada', u'New Hampshire']], dtype='object', name=u'State'),\n",
       "  array([[ 0.    ,  4.3342,  4.5308,  4.7701,  4.9261,  4.9871,  5.2991]])),\n",
       " 'Arizona': (Index([[u'Arizona', u'Oklahoma', u'New Mexico', u'Kansas', u'Nevada', u'North Carolina', u'Oregon']], dtype='object', name=u'State'),\n",
       "  array([[ 0.    ,  2.9343,  2.9355,  3.1193,  3.1995,  3.3985,  3.4008]])),\n",
       " 'Arkansas': (Index([[u'Arkansas', u'Tennessee', u'Alabama', u'Missouri', u'Indiana', u'Kentucky', u'South Carolina']], dtype='object', name=u'State'),\n",
       "  array([[ 0.    ,  2.2112,  2.4606,  2.612 ,  2.6739,  2.7217,  2.7387]])),\n",
       " 'California': (Index([[u'California', u'Texas', u'New York', u'Illinois', u'Florida', u'New Jersey', u'Georgia']], dtype='object', name=u'State'),\n",
       "  array([[ 0.    ,  4.0483,  4.6365,  5.9325,  6.0743,  6.8872,  7.3305]])),\n",
       " 'Colorado': (Index([[u'Colorado', u'Washington', u'Virginia', u'Minnesota', u'Illinois', u'New Hampshire', u'Oregon']], dtype='object', name=u'State'),\n",
       "  array([[ 0.    ,  2.0688,  2.5587,  3.0797,  3.091 ,  3.203 ,  3.2526]])),\n",
       " 'Connecticut': (Index([[u'Connecticut', u'Massachusetts', u'New Jersey', u'Virginia', u'New Hampshire', u'Washington', u'Maryland']], dtype='object', name=u'State'),\n",
       "  array([[ 0.    ,  2.0824,  2.5353,  3.2202,  3.5911,  3.6411,  3.7422]])),\n",
       " 'Delaware': (Index([[u'Delaware', u'Michigan', u'Washington', u'Oregon', u'Missouri', u'Illinois', u'Rhode Island']], dtype='object', name=u'State'),\n",
       "  array([[ 0.    ,  2.8113,  2.9256,  2.926 ,  3.0637,  3.0731,  3.1641]])),\n",
       " 'District of Columbia': (Index([[u'District of Columbia', u'Maryland', u'Massachusetts', u'Connecticut', u'Virginia', u'New Jersey', u'New York']], dtype='object', name=u'State'),\n",
       "  array([[  0.    ,  13.03  ,  13.3261,  13.6773,  14.119 ,  14.1531,  14.5409]])),\n",
       " 'Florida': (Index([[u'Florida', u'Pennsylvania', u'New York', u'Ohio', u'Arizona', u'Michigan', u'Illinois']], dtype='object', name=u'State'),\n",
       "  array([[ 0.    ,  3.6013,  4.1043,  4.154 ,  4.3315,  4.3721,  4.3781]])),\n",
       " 'Georgia': (Index([[u'Georgia', u'North Carolina', u'Louisiana', u'South Carolina', u'Tennessee', u'Alabama', u'Illinois']], dtype='object', name=u'State'),\n",
       "  array([[ 0.    ,  2.0943,  2.2277,  2.5821,  2.8322,  2.972 ,  3.1716]])),\n",
       " 'Hawaii': (Index([[u'Hawaii', u'Delaware', u'New Jersey', u'Washington', u'Illinois', u'Nevada', u'Rhode Island']], dtype='object', name=u'State'),\n",
       "  array([[ 0.    ,  3.5958,  4.0706,  4.0882,  4.4516,  4.5466,  4.6198]])),\n",
       " 'Idaho': (Index([[u'Idaho', u'Nebraska', u'Kansas', u'Oklahoma', u'Wyoming', u'Montana', u'South Dakota']], dtype='object', name=u'State'),\n",
       "  array([[ 0.    ,  2.1515,  2.2253,  2.3819,  2.8463,  2.9776,  3.0037]])),\n",
       " 'Illinois': (Index([[u'Illinois', u'Washington', u'New York', u'Michigan', u'Virginia', u'New Jersey', u'North Carolina']], dtype='object', name=u'State'),\n",
       "  array([[ 0.    ,  2.1981,  2.2448,  2.4582,  2.5843,  2.7518,  2.9154]])),\n",
       " 'Indiana': (Index([[u'Indiana', u'Missouri', u'Tennessee', u'Ohio', u'Michigan', u'Iowa', u'Wisconsin']], dtype='object', name=u'State'),\n",
       "  array([[ 0.    ,  1.092 ,  1.6695,  1.7382,  2.0651,  2.1233,  2.1329]])),\n",
       " 'Iowa': (Index([[u'Iowa', u'Maine', u'Wisconsin', u'Missouri', u'Montana', u'Oregon', u'North Dakota']], dtype='object', name=u'State'),\n",
       "  array([[ 0.    ,  1.8098,  1.8516,  1.8777,  1.9101,  1.9952,  2.0246]])),\n",
       " 'Kansas': (Index([[u'Kansas', u'Nebraska', u'North Dakota', u'Montana', u'Indiana', u'Idaho', u'Missouri']], dtype='object', name=u'State'),\n",
       "  array([[ 0.    ,  0.6986,  2.0249,  2.0884,  2.2029,  2.2253,  2.3144]])),\n",
       " 'Kentucky': (Index([[u'Kentucky', u'Tennessee', u'West Virginia', u'Indiana', u'Alabama', u'Oklahoma', u'Missouri']], dtype='object', name=u'State'),\n",
       "  array([[ 0.    ,  1.7644,  2.0265,  2.2391,  2.3806,  2.4241,  2.5181]])),\n",
       " 'Louisiana': (Index([[u'Louisiana', u'Alabama', u'South Carolina', u'Mississippi', u'Tennessee', u'Georgia', u'North Carolina']], dtype='object', name=u'State'),\n",
       "  array([[ 0.    ,  1.4131,  1.5056,  1.7716,  2.043 ,  2.2277,  2.2626]])),\n",
       " 'Maine': (Index([[u'Maine', u'Iowa', u'Vermont', u'North Dakota', u'Montana', u'Oregon', u'Missouri']], dtype='object', name=u'State'),\n",
       "  array([[ 0.    ,  1.8098,  2.1204,  2.3112,  2.3425,  2.5626,  2.6826]])),\n",
       " 'Maryland': (Index([[u'Maryland', u'Virginia', u'New Jersey', u'Massachusetts', u'Connecticut', u'Washington', u'Illinois']], dtype='object', name=u'State'),\n",
       "  array([[ 0.    ,  2.9214,  3.1488,  3.1622,  3.7422,  3.7991,  3.878 ]])),\n",
       " 'Massachusetts': (Index([[u'Massachusetts', u'Connecticut', u'New Jersey', u'Washington', u'Virginia', u'New Hampshire', u'Maryland']], dtype='object', name=u'State'),\n",
       "  array([[ 0.    ,  2.0824,  2.7455,  2.7496,  2.8705,  2.8822,  3.1622]])),\n",
       " 'Michigan': (Index([[u'Michigan', u'Ohio', u'Missouri', u'Indiana', u'Wisconsin', u'Pennsylvania', u'Oregon']], dtype='object', name=u'State'),\n",
       "  array([[ 0.    ,  0.9378,  1.5973,  2.0651,  2.1259,  2.1318,  2.2958]])),\n",
       " 'Minnesota': (Index([[u'Minnesota', u'Washington', u'Wisconsin', u'Oregon', u'New Hampshire', u'Iowa', u'Vermont']], dtype='object', name=u'State'),\n",
       "  array([[ 0.    ,  1.5917,  1.6802,  1.9837,  2.267 ,  2.697 ,  2.8457]])),\n",
       " 'Mississippi': (Index([[u'Mississippi', u'Louisiana', u'Alabama', u'South Carolina', u'Tennessee', u'North Carolina', u'Kentucky']], dtype='object', name=u'State'),\n",
       "  array([[ 0.    ,  1.7716,  2.0061,  2.3089,  3.1488,  3.2514,  3.4804]])),\n",
       " 'Missouri': (Index([[u'Missouri', u'Indiana', u'Ohio', u'Michigan', u'Tennessee', u'Iowa', u'Wisconsin']], dtype='object', name=u'State'),\n",
       "  array([[ 0.    ,  1.092 ,  1.4165,  1.5973,  1.617 ,  1.8777,  2.1894]])),\n",
       " 'Montana': (Index([[u'Montana', u'North Dakota', u'Nebraska', u'Iowa', u'Kansas', u'South Dakota', u'Maine']], dtype='object', name=u'State'),\n",
       "  array([[ 0.    ,  1.261 ,  1.818 ,  1.9101,  2.0884,  2.1583,  2.3425]])),\n",
       " 'Nebraska': (Index([[u'Nebraska', u'Kansas', u'North Dakota', u'Montana', u'Idaho', u'Iowa', u'Indiana']], dtype='object', name=u'State'),\n",
       "  array([[ 0.    ,  0.6986,  1.7342,  1.818 ,  2.1515,  2.2173,  2.2261]])),\n",
       " 'Nevada': (Index([[u'Nevada', u'Arizona', u'Illinois', u'Delaware', u'Indiana', u'New Mexico', u'Washington']], dtype='object', name=u'State'),\n",
       "  array([[ 0.    ,  3.1995,  3.3382,  3.493 ,  3.5531,  3.6011,  3.6074]])),\n",
       " 'New Hampshire': (Index([[u'New Hampshire', u'Minnesota', u'Washington', u'Vermont', u'Massachusetts', u'Oregon', u'Wisconsin']], dtype='object', name=u'State'),\n",
       "  array([[ 0.    ,  2.267 ,  2.5447,  2.7523,  2.8822,  3.0272,  3.0489]])),\n",
       " 'New Jersey': (Index([[u'New Jersey', u'Connecticut', u'Virginia', u'Massachusetts', u'Illinois', u'Washington', u'Maryland']], dtype='object', name=u'State'),\n",
       "  array([[ 0.    ,  2.5353,  2.6702,  2.7455,  2.7518,  3.0557,  3.1488]])),\n",
       " 'New Mexico': (Index([[u'New Mexico', u'Arizona', u'Nevada', u'Oklahoma', u'Oregon', u'North Carolina', u'Illinois']], dtype='object', name=u'State'),\n",
       "  array([[ 0.    ,  2.9355,  3.6011,  4.8648,  4.8963,  4.9717,  5.1184]])),\n",
       " 'New York': (Index([[u'New York', u'Illinois', u'New Jersey', u'Virginia', u'Michigan', u'Washington', u'Florida']], dtype='object', name=u'State'),\n",
       "  array([[ 0.    ,  2.2448,  3.4305,  3.7701,  3.9345,  4.0056,  4.1043]])),\n",
       " 'North Carolina': (Index([[u'North Carolina', u'South Carolina', u'Tennessee', u'Georgia', u'Alabama', u'Louisiana', u'Indiana']], dtype='object', name=u'State'),\n",
       "  array([[ 0.    ,  1.7201,  1.8596,  2.0943,  2.1917,  2.2626,  2.2931]])),\n",
       " 'North Dakota': (Index([[u'North Dakota', u'Montana', u'Nebraska', u'Iowa', u'Kansas', u'Missouri', u'Indiana']], dtype='object', name=u'State'),\n",
       "  array([[ 0.    ,  1.261 ,  1.7342,  2.0246,  2.0249,  2.2294,  2.3029]])),\n",
       " 'Ohio': (Index([[u'Ohio', u'Michigan', u'Missouri', u'Indiana', u'Pennsylvania', u'Wisconsin', u'North Carolina']], dtype='object', name=u'State'),\n",
       "  array([[ 0.    ,  0.9378,  1.4165,  1.7382,  1.8819,  2.192 ,  2.3251]])),\n",
       " 'Oklahoma': (Index([[u'Oklahoma', u'Tennessee', u'Indiana', u'Kansas', u'Idaho', u'Kentucky', u'Missouri']], dtype='object', name=u'State'),\n",
       "  array([[ 0.    ,  2.1644,  2.2664,  2.3192,  2.3819,  2.4241,  2.4273]])),\n",
       " 'Oregon': (Index([[u'Oregon', u'Wisconsin', u'Washington', u'Minnesota', u'Iowa', u'Michigan', u'Missouri']], dtype='object', name=u'State'),\n",
       "  array([[ 0.    ,  1.297 ,  1.9679,  1.9837,  1.9952,  2.2958,  2.3314]])),\n",
       " 'Pennsylvania': (Index([[u'Pennsylvania', u'Ohio', u'Michigan', u'Wisconsin', u'Oregon', u'North Carolina', u'Missouri']], dtype='object', name=u'State'),\n",
       "  array([[ 0.    ,  1.8819,  2.1318,  2.2291,  2.6733,  2.731 ,  2.7411]])),\n",
       " 'Rhode Island': (Index([[u'Rhode Island', u'Delaware', u'Vermont', u'Maine', u'Washington', u'Illinois', u'Nevada']], dtype='object', name=u'State'),\n",
       "  array([[ 0.    ,  3.1641,  3.6876,  3.9865,  4.0764,  4.1222,  4.1348]])),\n",
       " 'South Carolina': (Index([[u'South Carolina', u'Alabama', u'Louisiana', u'Tennessee', u'North Carolina', u'Mississippi', u'Missouri']], dtype='object', name=u'State'),\n",
       "  array([[ 0.    ,  0.895 ,  1.5056,  1.5187,  1.7201,  2.3089,  2.3979]])),\n",
       " 'South Dakota': (Index([[u'South Dakota', u'Montana', u'Nebraska', u'Kansas', u'Wisconsin', u'Iowa', u'Oklahoma']], dtype='object', name=u'State'),\n",
       "  array([[ 0.    ,  2.1583,  2.3366,  2.3479,  2.4675,  2.5475,  2.5613]])),\n",
       " 'Tennessee': (Index([[u'Tennessee', u'Alabama', u'South Carolina', u'Missouri', u'Indiana', u'Kentucky', u'North Carolina']], dtype='object', name=u'State'),\n",
       "  array([[ 0.    ,  1.4377,  1.5187,  1.617 ,  1.6695,  1.7644,  1.8596]])),\n",
       " 'Texas': (Index([[u'Texas', u'California', u'New York', u'Illinois', u'Georgia', u'Nevada', u'Arizona']], dtype='object', name=u'State'),\n",
       "  array([[ 0.    ,  4.0483,  4.7608,  4.8448,  4.8556,  5.077 ,  5.2005]])),\n",
       " 'Utah': (Index([[u'Utah', u'Idaho', u'Wyoming', u'Kansas', u'Oklahoma', u'Nebraska', u'South Dakota']], dtype='object', name=u'State'),\n",
       "  array([[ 0.    ,  4.4224,  5.167 ,  5.5232,  5.6994,  5.7875,  6.0012]])),\n",
       " 'Vermont': (Index([[u'Vermont', u'Maine', u'Oregon', u'New Hampshire', u'Minnesota', u'Washington', u'Iowa']], dtype='object', name=u'State'),\n",
       "  array([[ 0.    ,  2.1204,  2.6838,  2.7523,  2.8457,  3.0245,  3.0897]])),\n",
       " 'Virginia': (Index([[u'Virginia', u'Colorado', u'Washington', u'Illinois', u'New Jersey', u'Massachusetts', u'Maryland']], dtype='object', name=u'State'),\n",
       "  array([[ 0.    ,  2.5587,  2.5714,  2.5843,  2.6702,  2.8705,  2.9214]])),\n",
       " 'Washington': (Index([[u'Washington', u'Minnesota', u'Oregon', u'Colorado', u'Illinois', u'Wisconsin', u'New Hampshire']], dtype='object', name=u'State'),\n",
       "  array([[ 0.    ,  1.5917,  1.9679,  2.0688,  2.1981,  2.2739,  2.5447]])),\n",
       " 'West Virginia': (Index([[u'West Virginia', u'Kentucky', u'Tennessee', u'Arkansas', u'Oklahoma', u'Missouri', u'Indiana']], dtype='object', name=u'State'),\n",
       "  array([[ 0.    ,  2.0265,  3.1467,  3.2553,  3.3697,  3.3775,  3.3816]])),\n",
       " 'Wisconsin': (Index([[u'Wisconsin', u'Oregon', u'Minnesota', u'Iowa', u'Michigan', u'Indiana', u'Missouri']], dtype='object', name=u'State'),\n",
       "  array([[ 0.    ,  1.297 ,  1.6802,  1.8516,  2.1259,  2.1329,  2.1894]])),\n",
       " 'Wyoming': (Index([[u'Wyoming', u'Nebraska', u'Idaho', u'North Dakota', u'Kansas', u'Montana', u'Indiana']], dtype='object', name=u'State'),\n",
       "  array([[ 0.    ,  2.772 ,  2.8463,  2.8491,  2.9062,  3.3221,  3.7427]]))}"
      ]
     },
     "execution_count": 89,
     "metadata": {},
     "output_type": "execute_result"
    }
   ],
   "source": [
    "nearest_neighbor"
   ]
  },
  {
   "cell_type": "code",
   "execution_count": 90,
   "metadata": {
    "collapsed": false
   },
   "outputs": [],
   "source": [
    "k_means = cluster.KMeans(n_clusters=5, n_init=50)\n",
    "k_means.fit(clean_data)\n",
    "values = k_means.cluster_centers_.squeeze()\n",
    "labels = k_means.labels_"
   ]
  },
  {
   "cell_type": "code",
   "execution_count": 91,
   "metadata": {
    "collapsed": false
   },
   "outputs": [],
   "source": [
    "clusters = sp_cluster.vq.kmeans(clean_data, 5)[0]"
   ]
  },
  {
   "cell_type": "code",
   "execution_count": 92,
   "metadata": {
    "collapsed": false
   },
   "outputs": [],
   "source": [
    "def choose_group(data, clusters):\n",
    "    \"\"\"\n",
    "    Return the index of the cluster to which the rows in data\n",
    "    are \"closest\" (in the sense of the L2-norm)\n",
    "    \"\"\"\n",
    "    data = data[:,None] # add an axis for broadcasting\n",
    "    distances = data - clusters\n",
    "    groups = []\n",
    "    for row in distances:\n",
    "        dists = map(np.linalg.norm, row)\n",
    "        groups.append(np.argmin(dists))\n",
    "    return groups"
   ]
  },
  {
   "cell_type": "code",
   "execution_count": 93,
   "metadata": {
    "collapsed": false
   },
   "outputs": [],
   "source": [
    "groups = choose_group(clean_data, clusters)"
   ]
  },
  {
   "cell_type": "code",
   "execution_count": 94,
   "metadata": {
    "collapsed": false
   },
   "outputs": [
    {
     "data": {
      "text/plain": [
       "array([2, 4, 1, 2, 3, 4, 4, 4, 0, 3, 2, 4, 1, 4, 1, 1, 1, 2, 2, 1, 4, 4, 1, 4, 2, 1, 1, 1, 1, 4, 4, 1, 3, 2, 1, 1, 1, 1, 1, 4, 2, 1, 2, 3, 1, 4, 4, 4, 2, 1, 1])"
      ]
     },
     "execution_count": 94,
     "metadata": {},
     "output_type": "execute_result"
    }
   ],
   "source": [
    "np.array(groups)"
   ]
  },
  {
   "cell_type": "markdown",
   "metadata": {},
   "source": [
    "Or use a one-liner"
   ]
  },
  {
   "cell_type": "code",
   "execution_count": 95,
   "metadata": {
    "collapsed": false
   },
   "outputs": [],
   "source": [
    "groups = [np.argmin(map(np.linalg.norm, (clean_data[:,None] - clusters)[i])) for i in range(51)]"
   ]
  },
  {
   "cell_type": "code",
   "execution_count": 96,
   "metadata": {
    "collapsed": false
   },
   "outputs": [],
   "source": [
    "demo_data[\"kmeans_group\"] = groups\n",
    "demo_data[\"kmeans_labels\"] = labels"
   ]
  },
  {
   "cell_type": "code",
   "execution_count": 97,
   "metadata": {
    "collapsed": false
   },
   "outputs": [
    {
     "name": "stdout",
     "output_type": "stream",
     "text": [
      "['District of Columbia']\n",
      "['Arizona' 'Idaho' 'Indiana' 'Iowa' 'Kansas' 'Maine' 'Michigan' 'Missouri' 'Montana' 'Nebraska' 'Nevada' 'New Mexico' 'North Dakota' 'Ohio' 'Oklahoma' 'Oregon'\n",
      " 'Pennsylvania' 'South Dakota' 'Utah' 'Wisconsin' 'Wyoming']\n",
      "['Alabama' 'Arkansas' 'Georgia' 'Kentucky' 'Louisiana' 'Mississippi' 'North Carolina' 'South Carolina' 'Tennessee' 'West Virginia']\n",
      "['California' 'Florida' 'New York' 'Texas']\n",
      "['Alaska' 'Colorado' 'Connecticut' 'Delaware' 'Hawaii' 'Illinois' 'Maryland' 'Massachusetts' 'Minnesota' 'New Hampshire' 'New Jersey' 'Rhode Island' 'Vermont'\n",
      " 'Virginia' 'Washington']\n"
     ]
    }
   ],
   "source": [
    "for _, group in demo_data.groupby(\"kmeans_group\"):\n",
    "    group = group.index\n",
    "    group.values.sort()\n",
    "    print group.values"
   ]
  },
  {
   "cell_type": "code",
   "execution_count": 98,
   "metadata": {
    "collapsed": false
   },
   "outputs": [
    {
     "data": {
      "text/plain": [
       "array([4, 3, 0, 4, 2, 3, 3, 3, 1, 2, 4, 3, 0, 3, 0, 0, 0, 4, 4, 0, 3, 3, 0, 3, 4, 0, 0, 0, 3, 3, 3, 4, 2, 4, 0, 0, 4, 0, 0, 3, 4, 0, 4, 2, 0, 3, 3, 3, 4, 0, 0], dtype=int32)"
      ]
     },
     "execution_count": 98,
     "metadata": {},
     "output_type": "execute_result"
    }
   ],
   "source": [
    "labels"
   ]
  },
  {
   "cell_type": "code",
   "execution_count": 99,
   "metadata": {
    "collapsed": false
   },
   "outputs": [
    {
     "name": "stdout",
     "output_type": "stream",
     "text": [
      "['Arizona' 'Idaho' 'Indiana' 'Iowa' 'Kansas' 'Maine' 'Michigan' 'Missouri' 'Montana' 'Nebraska' 'North Dakota' 'Ohio' 'Oregon' 'Pennsylvania' 'South Dakota'\n",
      " 'Utah' 'Wisconsin' 'Wyoming']\n",
      "['District of Columbia']\n",
      "['California' 'Florida' 'New York' 'Texas']\n",
      "['Alaska' 'Colorado' 'Connecticut' 'Delaware' 'Hawaii' 'Illinois' 'Maryland' 'Massachusetts' 'Minnesota' 'Nevada' 'New Hampshire' 'New Jersey' 'Rhode Island'\n",
      " 'Vermont' 'Virginia' 'Washington']\n",
      "['Alabama' 'Arkansas' 'Georgia' 'Kentucky' 'Louisiana' 'Mississippi' 'New Mexico' 'North Carolina' 'Oklahoma' 'South Carolina' 'Tennessee' 'West Virginia']\n"
     ]
    }
   ],
   "source": [
    "demo_data[\"kmeans_labels\"] = labels\n",
    "for _, group in demo_data.groupby(\"kmeans_labels\"):\n",
    "    group = group.index.copy()\n",
    "    group.values.sort()\n",
    "    print group.values"
   ]
  },
  {
   "cell_type": "code",
   "execution_count": 100,
   "metadata": {
    "collapsed": false
   },
   "outputs": [],
   "source": [
    "demo_data = demo_data.reset_index()"
   ]
  },
  {
   "cell_type": "code",
   "execution_count": 101,
   "metadata": {
    "collapsed": false
   },
   "outputs": [],
   "source": [
    "state_data2012.State.replace(states_abbrev_dict, inplace=True);"
   ]
  },
  {
   "cell_type": "code",
   "execution_count": 102,
   "metadata": {
    "collapsed": false
   },
   "outputs": [],
   "source": [
    "state_data2012 = state_data2012.merge(demo_data[[\"State\", \"kmeans_labels\"]], on=\"State\")"
   ]
  },
  {
   "cell_type": "code",
   "execution_count": 103,
   "metadata": {
    "collapsed": false
   },
   "outputs": [],
   "source": [
    "kmeans_groups = state_data2012.groupby(\"kmeans_labels\")"
   ]
  },
  {
   "cell_type": "code",
   "execution_count": 104,
   "metadata": {
    "collapsed": false
   },
   "outputs": [],
   "source": [
    "group = kmeans_groups.get_group(kmeans_groups.groups.keys()[2])"
   ]
  },
  {
   "cell_type": "code",
   "execution_count": 105,
   "metadata": {
    "collapsed": false
   },
   "outputs": [
    {
     "data": {
      "text/plain": [
       "array(['Washington', 'New Hampshire', 'New Jersey', 'Nevada', 'Colorado', 'Connecticut', 'Virginia', 'Massachusetts', 'Rhode Island', 'Hawaii', 'Vermont',\n",
       "       'Maryland', 'Minnesota', 'Illinois'], dtype=object)"
      ]
     },
     "execution_count": 105,
     "metadata": {},
     "output_type": "execute_result"
    }
   ],
   "source": [
    "group.State.unique()"
   ]
  },
  {
   "cell_type": "code",
   "execution_count": 106,
   "metadata": {
    "collapsed": false
   },
   "outputs": [],
   "source": [
    "def edit_tick_label(tick_val, tick_pos):\n",
    "    if tick_val  < 0:\n",
    "        text = str(int(tick_val)).replace(\"-\", \"Romney+\")\n",
    "    else:\n",
    "        text = \"Obama+\"+str(int(tick_val))\n",
    "    return text"
   ]
  },
  {
   "cell_type": "code",
   "execution_count": 107,
   "metadata": {
    "collapsed": false
   },
   "outputs": [
    {
     "name": "stderr",
     "output_type": "stream",
     "text": [
      "/home/jim/INSTALL/anaconda3/envs/pydata538/lib/python2.7/site-packages/ipykernel/__main__.py:8: FutureWarning: sort(columns=....) is deprecated, use sort_values(by=.....)\n"
     ]
    },
    {
     "data": {
      "image/png": "[encoded data removed]",
      "text/plain": [
       "<matplotlib.figure.Figure at 0x7f27dac4e990>"
      ]
     },
     "metadata": {},
     "output_type": "display_data"
    }
   ],
   "source": [
    "from pandas import lib\n",
    "from matplotlib.ticker import FuncFormatter\n",
    "fig, axes = plt.subplots(figsize=(12,8))\n",
    "\n",
    "data = group[[\"poll_date\", \"obama_spread\"]]\n",
    "data = pandas.concat((data, national_data2012[[\"poll_date\", \"obama_spread\"]]))\n",
    "    \n",
    "data.sort(\"poll_date\", inplace=True)\n",
    "dates = pandas.DatetimeIndex(data.poll_date).asi8\n",
    "\n",
    "loess_res = sm.nonparametric.lowess(data.obama_spread.values, dates, \n",
    "                                    frac=.2, it=3)\n",
    "\n",
    "dates_x = pandas.to_datetime(dates)\n",
    "axes.scatter(dates_x, data[\"obama_spread\"])\n",
    "axes.plot(dates_x, loess_res[:,1], color='r')\n",
    "axes.yaxis.get_major_locator().set_params(nbins=12)\n",
    "axes.yaxis.set_major_formatter(FuncFormatter(edit_tick_label))\n",
    "axes.grid(False, axis='x')\n",
    "axes.hlines(0, dates_x[0], dates_x[-1], color='black', lw=3)\n",
    "axes.margins(0, .05)"
   ]
  },
  {
   "cell_type": "code",
   "execution_count": 108,
   "metadata": {
    "collapsed": false
   },
   "outputs": [
    {
     "data": {
      "text/plain": [
       "5.0108108613106328"
      ]
     },
     "execution_count": 108,
     "metadata": {},
     "output_type": "execute_result"
    }
   ],
   "source": [
    "loess_res[-7:,1].mean()"
   ]
  },
  {
   "cell_type": "code",
   "execution_count": 109,
   "metadata": {
    "collapsed": false
   },
   "outputs": [
    {
     "name": "stderr",
     "output_type": "stream",
     "text": [
      "/home/jim/INSTALL/anaconda3/envs/pydata538/lib/python2.7/site-packages/ipykernel/__main__.py:5: FutureWarning: sort(columns=....) is deprecated, use sort_values(by=.....)\n"
     ]
    },
    {
     "data": {
      "image/png": "[encoded data removed]",
      "text/plain": [
       "<matplotlib.figure.Figure at 0x7f27dac4e790>"
      ]
     },
     "metadata": {},
     "output_type": "display_data"
    }
   ],
   "source": [
    "from pandas import lib\n",
    "from matplotlib.ticker import FuncFormatter\n",
    "fig, axes = plt.subplots(figsize=(12,8))\n",
    "\n",
    "national_data2012.sort(\"poll_date\", inplace=True)\n",
    "dates = pandas.DatetimeIndex(national_data2012.poll_date).asi8\n",
    "\n",
    "loess_res = sm.nonparametric.lowess(national_data2012.obama_spread.values, dates, \n",
    "                                    frac=.075, it=3)\n",
    "\n",
    "dates_x = pandas.to_datetime(dates)\n",
    "axes.scatter(dates_x, national_data2012[\"obama_spread\"])\n",
    "axes.plot(dates_x, loess_res[:,1], color='r')\n",
    "axes.yaxis.get_major_locator().set_params(nbins=12)\n",
    "axes.yaxis.set_major_formatter(FuncFormatter(edit_tick_label))\n",
    "axes.grid(False, axis='x')\n",
    "axes.hlines(0, dates_x[0], dates_x[-1], color='black', lw=3)\n",
    "axes.margins(0, .05)"
   ]
  },
  {
   "cell_type": "code",
   "execution_count": 110,
   "metadata": {
    "collapsed": false
   },
   "outputs": [
    {
     "name": "stderr",
     "output_type": "stream",
     "text": [
      "/home/jim/INSTALL/anaconda3/envs/pydata538/lib/python2.7/site-packages/ipykernel/__main__.py:6: FutureWarning: sort(columns=....) is deprecated, use sort_values(by=.....)\n"
     ]
    }
   ],
   "source": [
    "trends = []\n",
    "for i, group in kmeans_groups:\n",
    "    data = group[[\"poll_date\", \"obama_spread\"]]\n",
    "    data = pandas.concat((data, national_data2012[[\"poll_date\", \"obama_spread\"]]))\n",
    "    \n",
    "    data.sort(\"poll_date\", inplace=True)\n",
    "    dates = pandas.DatetimeIndex(data.poll_date).asi8\n",
    "\n",
    "    loess_res = sm.nonparametric.lowess(data.obama_spread.values, dates, \n",
    "                                    frac=.1, it=3)\n",
    "    states = group.State.unique()\n",
    "    for state in states:\n",
    "        trends.append([state, loess_res[-7:,1].mean()])"
   ]
  },
  {
   "cell_type": "code",
   "execution_count": 111,
   "metadata": {
    "collapsed": false
   },
   "outputs": [
    {
     "data": {
      "text/plain": [
       "[['Wisconsin', 5.3767534315390426],\n",
       " ['North Dakota', 5.3767534315390426],\n",
       " ['Nebraska', 5.3767534315390426],\n",
       " ['Ohio', 5.3767534315390426],\n",
       " ['Pennsylvania', 5.3767534315390426],\n",
       " ['Indiana', 5.3767534315390426],\n",
       " ['Iowa', 5.3767534315390426],\n",
       " ['Arizona', 5.3767534315390426],\n",
       " ['Maine', 5.3767534315390426],\n",
       " ['Missouri', 5.3767534315390426],\n",
       " ['Michigan', 5.3767534315390426],\n",
       " ['Montana', 5.3767534315390426],\n",
       " ['Kansas', 5.3767534315390426],\n",
       " ['Oregon', 5.3767534315390426],\n",
       " ['South Dakota', 5.3767534315390426],\n",
       " ['Utah', 5.3767534315390426],\n",
       " ['Florida', 3.3877002862540975],\n",
       " ['California', 3.3877002862540975],\n",
       " ['New York', 3.3877002862540975],\n",
       " ['Texas', 3.3877002862540975],\n",
       " ['Washington', 4.5126101123209397],\n",
       " ['New Hampshire', 4.5126101123209397],\n",
       " ['New Jersey', 4.5126101123209397],\n",
       " ['Nevada', 4.5126101123209397],\n",
       " ['Colorado', 4.5126101123209397],\n",
       " ['Connecticut', 4.5126101123209397],\n",
       " ['Virginia', 4.5126101123209397],\n",
       " ['Massachusetts', 4.5126101123209397],\n",
       " ['Rhode Island', 4.5126101123209397],\n",
       " ['Hawaii', 4.5126101123209397],\n",
       " ['Vermont', 4.5126101123209397],\n",
       " ['Maryland', 4.5126101123209397],\n",
       " ['Minnesota', 4.5126101123209397],\n",
       " ['Illinois', 4.5126101123209397],\n",
       " ['New Mexico', 3.2804611900008411],\n",
       " ['North Carolina', 3.2804611900008411],\n",
       " ['Georgia', 3.2804611900008411],\n",
       " ['West Virginia', 3.2804611900008411],\n",
       " ['South Carolina', 3.2804611900008411],\n",
       " ['Tennessee', 3.2804611900008411],\n",
       " ['Mississippi', 3.2804611900008411]]"
      ]
     },
     "execution_count": 111,
     "metadata": {},
     "output_type": "execute_result"
    }
   ],
   "source": [
    "trends"
   ]
  },
  {
   "cell_type": "markdown",
   "metadata": {},
   "source": [
    "#### Adjust for sensitivity to time-trends"
   ]
  },
  {
   "cell_type": "markdown",
   "metadata": {},
   "source": [
    "$$\\text{Margin}=X_i+Z_t+\\epsilon$$\n",
    "\n",
    "where $S_i$ are Pollster:State dummies. In a state with a time-dependent trend, you might write\n",
    "\n",
    "$$\\text{Margin}=X_i+m*Z_t$$\n",
    "\n",
    "where $m$ is a multiplier representing uncertainty in the time-trend parameter. Solving for $m$ gives\n",
    "\n",
    "$$m=\\text{Margin}-\\frac{X_i}{Z_t}$$"
   ]
  },
  {
   "cell_type": "code",
   "execution_count": 112,
   "metadata": {
    "collapsed": false
   },
   "outputs": [],
   "source": [
    "from statsmodels.formula.api import ols, wls"
   ]
  },
  {
   "cell_type": "code",
   "execution_count": 113,
   "metadata": {
    "collapsed": false
   },
   "outputs": [],
   "source": [
    "#pollster_state_dummy = state_data2012.groupby([\"Pollster\", \"State\"])[\"obama_spread\"].mean()\n",
    "#daily_dummy = state_data2012.groupby([\"poll_date\"])[\"obama_spread\"].mean()"
   ]
  },
  {
   "cell_type": "code",
   "execution_count": 114,
   "metadata": {
    "collapsed": false
   },
   "outputs": [],
   "source": [
    "state_data2012[\"pollster_state\"] = state_data2012[\"Pollster\"] + \"-\" + state_data2012[\"State\"]"
   ]
  },
  {
   "cell_type": "markdown",
   "metadata": {},
   "source": [
    "There's actually a bug in pandas when you merge on datetimes. In order to avoid it, we need to sort our data now and once again after we merge on dates."
   ]
  },
  {
   "cell_type": "code",
   "execution_count": 115,
   "metadata": {
    "collapsed": false
   },
   "outputs": [
    {
     "name": "stderr",
     "output_type": "stream",
     "text": [
      "/home/jim/INSTALL/anaconda3/envs/pydata538/lib/python2.7/site-packages/ipykernel/__main__.py:1: FutureWarning: sort(columns=....) is deprecated, use sort_values(by=.....)\n",
      "  if __name__ == '__main__':\n"
     ]
    }
   ],
   "source": [
    "state_data2012.sort(columns=[\"pollster_state\", \"poll_date\"], inplace=True);"
   ]
  },
  {
   "cell_type": "code",
   "execution_count": 116,
   "metadata": {
    "collapsed": false
   },
   "outputs": [],
   "source": [
    "dummy_model = ols(\"obama_spread ~ C(pollster_state) + C(poll_date)\", data=state_data2012).fit()"
   ]
  },
  {
   "cell_type": "markdown",
   "metadata": {},
   "source": [
    "The base case is American Research Group-Colorado"
   ]
  },
  {
   "cell_type": "code",
   "execution_count": 117,
   "metadata": {
    "collapsed": false
   },
   "outputs": [
    {
     "name": "stderr",
     "output_type": "stream",
     "text": [
      "/home/jim/INSTALL/anaconda3/envs/pydata538/lib/python2.7/site-packages/ipykernel/__main__.py:1: FutureWarning: irow(i) is deprecated. Please use .iloc[i]\n",
      "  if __name__ == '__main__':\n"
     ]
    },
    {
     "data": {
      "text/plain": [
       "Pollster                   American Research Group\n",
       "State                                     Colorado\n",
       "MoE                                              4\n",
       "Obama (D)                                       49\n",
       "Romney (R)                                      47\n",
       "Sample                                         600\n",
       "Spread                                    Obama +2\n",
       "obama_spread                                     2\n",
       "poll_date                      2012-09-11 00:00:00\n",
       "Weight                                        0.65\n",
       "PIE                                           1.76\n",
       "ESS                                        173.017\n",
       "MESS                                       173.017\n",
       "time_weight                               0.615572\n",
       "kmeans_labels                                    3\n",
       "pollster_state    American Research Group-Colorado\n",
       "Name: 168, dtype: object"
      ]
     },
     "execution_count": 117,
     "metadata": {},
     "output_type": "execute_result"
    }
   ],
   "source": [
    "state_data2012.irow(0)"
   ]
  },
  {
   "cell_type": "code",
   "execution_count": 118,
   "metadata": {
    "collapsed": false
   },
   "outputs": [],
   "source": [
    "pollster_state = state_data2012[\"pollster_state\"].unique()\n",
    "pollster_state.sort()\n",
    "pollster_state_params = dummy_model.params[1:len(pollster_state)] + dummy_model.params[0]\n",
    "intercept = dummy_model.params[0]\n",
    "X = pandas.DataFrame(zip(pollster_state, np.r_[intercept, pollster_state_params]), \n",
    "                     columns=[\"pollster_state\", \"X\"])"
   ]
  },
  {
   "cell_type": "code",
   "execution_count": 119,
   "metadata": {
    "collapsed": false
   },
   "outputs": [],
   "source": [
    "dates = state_data2012.poll_date.unique()\n",
    "dates.sort()\n",
    "dates_params = intercept + dummy_model.params[-len(dates):]\n",
    "Z = pandas.DataFrame(zip(dates, dates_params), columns=[\"poll_date\", \"Z\"])"
   ]
  },
  {
   "cell_type": "markdown",
   "metadata": {},
   "source": [
    "Drop the ones less than 1."
   ]
  },
  {
   "cell_type": "code",
   "execution_count": 120,
   "metadata": {
    "collapsed": false
   },
   "outputs": [],
   "source": [
    "Z = Z.ix[np.abs(Z.Z) > 1]"
   ]
  },
  {
   "cell_type": "code",
   "execution_count": 121,
   "metadata": {
    "collapsed": false
   },
   "outputs": [],
   "source": [
    "state_data2012 = state_data2012.merge(X, on=\"pollster_state\", sort=False)\n",
    "state_data2012 = state_data2012.merge(Z, on=\"poll_date\", sort=False)"
   ]
  },
  {
   "cell_type": "code",
   "execution_count": 122,
   "metadata": {
    "collapsed": false
   },
   "outputs": [
    {
     "name": "stderr",
     "output_type": "stream",
     "text": [
      "/home/jim/INSTALL/anaconda3/envs/pydata538/lib/python2.7/site-packages/ipykernel/__main__.py:1: FutureWarning: sort(columns=....) is deprecated, use sort_values(by=.....)\n",
      "  if __name__ == '__main__':\n"
     ]
    }
   ],
   "source": [
    "state_data2012.sort(columns=[\"pollster_state\", \"poll_date\"], inplace=True);"
   ]
  },
  {
   "cell_type": "code",
   "execution_count": 123,
   "metadata": {
    "collapsed": false
   },
   "outputs": [],
   "source": [
    "state_data2012[\"m\"] = state_data2012[\"obama_spread\"].sub(state_data2012[\"X\"].div(state_data2012[\"Z\"]))"
   ]
  },
  {
   "cell_type": "code",
   "execution_count": 124,
   "metadata": {
    "collapsed": false
   },
   "outputs": [],
   "source": [
    "#m_dataframe.ix[m_dataframe.pollster_state == \"American Research Group-New Hampshire\"].values"
   ]
  },
  {
   "cell_type": "code",
   "execution_count": 125,
   "metadata": {
    "collapsed": false
   },
   "outputs": [],
   "source": [
    "m_dataframe = state_data2012[[\"State\", \"m\", \"poll_date\", \"Pollster\", \"pollster_state\"]]"
   ]
  },
  {
   "cell_type": "code",
   "execution_count": 126,
   "metadata": {
    "collapsed": false
   },
   "outputs": [
    {
     "data": {
      "text/plain": [
       "count    357.000000\n",
       "mean       3.364920\n",
       "std        9.414260\n",
       "min      -52.000000\n",
       "25%       -0.807689\n",
       "50%        2.696995\n",
       "75%        8.172477\n",
       "max       44.255926\n",
       "Name: m, dtype: float64"
      ]
     },
     "execution_count": 126,
     "metadata": {},
     "output_type": "execute_result"
    }
   ],
   "source": [
    "m_dataframe[\"m\"].describe()"
   ]
  },
  {
   "cell_type": "code",
   "execution_count": 127,
   "metadata": {
    "collapsed": false
   },
   "outputs": [],
   "source": [
    "m_size = m_dataframe.groupby(\"pollster_state\").size()"
   ]
  },
  {
   "cell_type": "code",
   "execution_count": 128,
   "metadata": {
    "collapsed": false
   },
   "outputs": [
    {
     "data": {
      "text/plain": [
       "pollster_state\n",
       "American Research Group-Colorado          1\n",
       "American Research Group-Florida           1\n",
       "American Research Group-Iowa              1\n",
       "American Research Group-Nevada            1\n",
       "American Research Group-New Hampshire     3\n",
       "American Research Group-North Carolina    1\n",
       "American Research Group-Ohio              1\n",
       "American Research Group-Virginia          1\n",
       "CNN / Opinion Research-Wisconsin          1\n",
       "Chicago Trib. / MarketShares-Illinois     1\n",
       "Columbus Dispatch (OH)-Ohio               2\n",
       "EPIC-MRA-Michigan                         8\n",
       "                                         ..\n",
       "Suffolk (NH/MA)-Florida                   2\n",
       "SurveyUSA-California                      4\n",
       "SurveyUSA-Florida                         2\n",
       "SurveyUSA-Georgia                         4\n",
       "SurveyUSA-Kansas                          2\n",
       "SurveyUSA-Michigan                        1\n",
       "SurveyUSA-New Jersey                      1\n",
       "SurveyUSA-New York                        1\n",
       "SurveyUSA-North Carolina                  2\n",
       "SurveyUSA-Oregon                          4\n",
       "SurveyUSA-Pennsylvania                    1\n",
       "SurveyUSA-Washington                      4\n",
       "dtype: int64"
      ]
     },
     "execution_count": 128,
     "metadata": {},
     "output_type": "execute_result"
    }
   ],
   "source": [
    "m_size"
   ]
  },
  {
   "cell_type": "code",
   "execution_count": 129,
   "metadata": {
    "collapsed": false
   },
   "outputs": [],
   "source": [
    "drop_idx = m_size.ix[m_size == 1]"
   ]
  },
  {
   "cell_type": "code",
   "execution_count": 130,
   "metadata": {
    "collapsed": false
   },
   "outputs": [],
   "source": [
    "m_dataframe = m_dataframe.set_index([\"pollster_state\", \"poll_date\"])"
   ]
  },
  {
   "cell_type": "code",
   "execution_count": 131,
   "metadata": {
    "collapsed": false
   },
   "outputs": [
    {
     "data": {
      "text/html": [
       "<div>\n",
       "<table border=\"1\" class=\"dataframe\">\n",
       "  <thead>\n",
       "    <tr style=\"text-align: right;\">\n",
       "      <th></th>\n",
       "      <th>State</th>\n",
       "      <th>m</th>\n",
       "      <th>Pollster</th>\n",
       "    </tr>\n",
       "    <tr>\n",
       "      <th>poll_date</th>\n",
       "      <th></th>\n",
       "      <th></th>\n",
       "      <th></th>\n",
       "    </tr>\n",
       "  </thead>\n",
       "  <tbody>\n",
       "    <tr>\n",
       "      <th>2012-03-17</th>\n",
       "      <td>New Hampshire</td>\n",
       "      <td>6.436534</td>\n",
       "      <td>American Research Group</td>\n",
       "    </tr>\n",
       "    <tr>\n",
       "      <th>2012-06-23</th>\n",
       "      <td>New Hampshire</td>\n",
       "      <td>0.071010</td>\n",
       "      <td>American Research Group</td>\n",
       "    </tr>\n",
       "    <tr>\n",
       "      <th>2012-09-26</th>\n",
       "      <td>New Hampshire</td>\n",
       "      <td>4.054884</td>\n",
       "      <td>American Research Group</td>\n",
       "    </tr>\n",
       "  </tbody>\n",
       "</table>\n",
       "</div>"
      ],
      "text/plain": [
       "                    State         m                 Pollster\n",
       "poll_date                                                   \n",
       "2012-03-17  New Hampshire  6.436534  American Research Group\n",
       "2012-06-23  New Hampshire  0.071010  American Research Group\n",
       "2012-09-26  New Hampshire  4.054884  American Research Group"
      ]
     },
     "execution_count": 131,
     "metadata": {},
     "output_type": "execute_result"
    }
   ],
   "source": [
    "m_dataframe.xs(\"American Research Group-New Hampshire\", level=0)"
   ]
  },
  {
   "cell_type": "code",
   "execution_count": 132,
   "metadata": {
    "collapsed": false
   },
   "outputs": [],
   "source": [
    "m_dataframe = m_dataframe.drop(drop_idx.index, level=0).reset_index()"
   ]
  },
  {
   "cell_type": "code",
   "execution_count": 133,
   "metadata": {
    "collapsed": false
   },
   "outputs": [
    {
     "data": {
      "text/html": [
       "<div>\n",
       "<table border=\"1\" class=\"dataframe\">\n",
       "  <thead>\n",
       "    <tr style=\"text-align: right;\">\n",
       "      <th></th>\n",
       "      <th>pollster_state</th>\n",
       "      <th>poll_date</th>\n",
       "      <th>State</th>\n",
       "      <th>m</th>\n",
       "      <th>Pollster</th>\n",
       "    </tr>\n",
       "  </thead>\n",
       "  <tbody>\n",
       "    <tr>\n",
       "      <th>0</th>\n",
       "      <td>American Research Group-New Hampshire</td>\n",
       "      <td>2012-03-17</td>\n",
       "      <td>New Hampshire</td>\n",
       "      <td>6.436534</td>\n",
       "      <td>American Research Group</td>\n",
       "    </tr>\n",
       "    <tr>\n",
       "      <th>1</th>\n",
       "      <td>American Research Group-New Hampshire</td>\n",
       "      <td>2012-06-23</td>\n",
       "      <td>New Hampshire</td>\n",
       "      <td>0.071010</td>\n",
       "      <td>American Research Group</td>\n",
       "    </tr>\n",
       "    <tr>\n",
       "      <th>2</th>\n",
       "      <td>American Research Group-New Hampshire</td>\n",
       "      <td>2012-09-26</td>\n",
       "      <td>New Hampshire</td>\n",
       "      <td>4.054884</td>\n",
       "      <td>American Research Group</td>\n",
       "    </tr>\n",
       "    <tr>\n",
       "      <th>3</th>\n",
       "      <td>Columbus Dispatch (OH)-Ohio</td>\n",
       "      <td>2012-08-20</td>\n",
       "      <td>Ohio</td>\n",
       "      <td>1.875520</td>\n",
       "      <td>Columbus Dispatch (OH)</td>\n",
       "    </tr>\n",
       "    <tr>\n",
       "      <th>4</th>\n",
       "      <td>Columbus Dispatch (OH)-Ohio</td>\n",
       "      <td>2012-09-24</td>\n",
       "      <td>Ohio</td>\n",
       "      <td>7.679307</td>\n",
       "      <td>Columbus Dispatch (OH)</td>\n",
       "    </tr>\n",
       "    <tr>\n",
       "      <th>5</th>\n",
       "      <td>EPIC-MRA-Michigan</td>\n",
       "      <td>2011-02-15</td>\n",
       "      <td>Michigan</td>\n",
       "      <td>-4.201071</td>\n",
       "      <td>EPIC-MRA</td>\n",
       "    </tr>\n",
       "    <tr>\n",
       "      <th>6</th>\n",
       "      <td>EPIC-MRA-Michigan</td>\n",
       "      <td>2011-07-10</td>\n",
       "      <td>Michigan</td>\n",
       "      <td>-3.096961</td>\n",
       "      <td>EPIC-MRA</td>\n",
       "    </tr>\n",
       "    <tr>\n",
       "      <th>7</th>\n",
       "      <td>EPIC-MRA-Michigan</td>\n",
       "      <td>2011-11-15</td>\n",
       "      <td>Michigan</td>\n",
       "      <td>-4.201071</td>\n",
       "      <td>EPIC-MRA</td>\n",
       "    </tr>\n",
       "    <tr>\n",
       "      <th>8</th>\n",
       "      <td>EPIC-MRA-Michigan</td>\n",
       "      <td>2012-01-23</td>\n",
       "      <td>Michigan</td>\n",
       "      <td>6.398112</td>\n",
       "      <td>EPIC-MRA</td>\n",
       "    </tr>\n",
       "    <tr>\n",
       "      <th>9</th>\n",
       "      <td>EPIC-MRA-Michigan</td>\n",
       "      <td>2012-04-02</td>\n",
       "      <td>Michigan</td>\n",
       "      <td>-0.219418</td>\n",
       "      <td>EPIC-MRA</td>\n",
       "    </tr>\n",
       "    <tr>\n",
       "      <th>10</th>\n",
       "      <td>EPIC-MRA-Michigan</td>\n",
       "      <td>2012-06-04</td>\n",
       "      <td>Michigan</td>\n",
       "      <td>1.427470</td>\n",
       "      <td>EPIC-MRA</td>\n",
       "    </tr>\n",
       "    <tr>\n",
       "      <th>11</th>\n",
       "      <td>EPIC-MRA-Michigan</td>\n",
       "      <td>2012-07-28</td>\n",
       "      <td>Michigan</td>\n",
       "      <td>2.361416</td>\n",
       "      <td>EPIC-MRA</td>\n",
       "    </tr>\n",
       "    <tr>\n",
       "      <th>...</th>\n",
       "      <td>...</td>\n",
       "      <td>...</td>\n",
       "      <td>...</td>\n",
       "      <td>...</td>\n",
       "      <td>...</td>\n",
       "    </tr>\n",
       "    <tr>\n",
       "      <th>309</th>\n",
       "      <td>SurveyUSA-Kansas</td>\n",
       "      <td>2011-11-10</td>\n",
       "      <td>Kansas</td>\n",
       "      <td>-26.128872</td>\n",
       "      <td>SurveyUSA</td>\n",
       "    </tr>\n",
       "    <tr>\n",
       "      <th>310</th>\n",
       "      <td>SurveyUSA-Kansas</td>\n",
       "      <td>2011-11-20</td>\n",
       "      <td>Kansas</td>\n",
       "      <td>-6.973400</td>\n",
       "      <td>SurveyUSA</td>\n",
       "    </tr>\n",
       "    <tr>\n",
       "      <th>311</th>\n",
       "      <td>SurveyUSA-North Carolina</td>\n",
       "      <td>2012-04-28</td>\n",
       "      <td>North Carolina</td>\n",
       "      <td>3.435788</td>\n",
       "      <td>SurveyUSA</td>\n",
       "    </tr>\n",
       "    <tr>\n",
       "      <th>312</th>\n",
       "      <td>SurveyUSA-North Carolina</td>\n",
       "      <td>2012-09-30</td>\n",
       "      <td>North Carolina</td>\n",
       "      <td>1.008145</td>\n",
       "      <td>SurveyUSA</td>\n",
       "    </tr>\n",
       "    <tr>\n",
       "      <th>313</th>\n",
       "      <td>SurveyUSA-Oregon</td>\n",
       "      <td>2011-11-20</td>\n",
       "      <td>Oregon</td>\n",
       "      <td>7.001203</td>\n",
       "      <td>SurveyUSA</td>\n",
       "    </tr>\n",
       "    <tr>\n",
       "      <th>314</th>\n",
       "      <td>SurveyUSA-Oregon</td>\n",
       "      <td>2012-03-17</td>\n",
       "      <td>Oregon</td>\n",
       "      <td>10.204604</td>\n",
       "      <td>SurveyUSA</td>\n",
       "    </tr>\n",
       "    <tr>\n",
       "      <th>315</th>\n",
       "      <td>SurveyUSA-Oregon</td>\n",
       "      <td>2012-05-09</td>\n",
       "      <td>Oregon</td>\n",
       "      <td>1.934380</td>\n",
       "      <td>SurveyUSA</td>\n",
       "    </tr>\n",
       "    <tr>\n",
       "      <th>316</th>\n",
       "      <td>SurveyUSA-Oregon</td>\n",
       "      <td>2012-09-12</td>\n",
       "      <td>Oregon</td>\n",
       "      <td>8.172477</td>\n",
       "      <td>SurveyUSA</td>\n",
       "    </tr>\n",
       "    <tr>\n",
       "      <th>317</th>\n",
       "      <td>SurveyUSA-Washington</td>\n",
       "      <td>2011-11-22</td>\n",
       "      <td>Washington</td>\n",
       "      <td>12.315353</td>\n",
       "      <td>SurveyUSA</td>\n",
       "    </tr>\n",
       "    <tr>\n",
       "      <th>318</th>\n",
       "      <td>SurveyUSA-Washington</td>\n",
       "      <td>2012-05-09</td>\n",
       "      <td>Washington</td>\n",
       "      <td>8.655616</td>\n",
       "      <td>SurveyUSA</td>\n",
       "    </tr>\n",
       "    <tr>\n",
       "      <th>319</th>\n",
       "      <td>SurveyUSA-Washington</td>\n",
       "      <td>2012-08-02</td>\n",
       "      <td>Washington</td>\n",
       "      <td>14.386038</td>\n",
       "      <td>SurveyUSA</td>\n",
       "    </tr>\n",
       "    <tr>\n",
       "      <th>320</th>\n",
       "      <td>SurveyUSA-Washington</td>\n",
       "      <td>2012-09-08</td>\n",
       "      <td>Washington</td>\n",
       "      <td>9.553699</td>\n",
       "      <td>SurveyUSA</td>\n",
       "    </tr>\n",
       "  </tbody>\n",
       "</table>\n",
       "<p>321 rows × 5 columns</p>\n",
       "</div>"
      ],
      "text/plain": [
       "                            pollster_state  poll_date           State          m                 Pollster\n",
       "0    American Research Group-New Hampshire 2012-03-17   New Hampshire   6.436534  American Research Group\n",
       "1    American Research Group-New Hampshire 2012-06-23   New Hampshire   0.071010  American Research Group\n",
       "2    American Research Group-New Hampshire 2012-09-26   New Hampshire   4.054884  American Research Group\n",
       "3              Columbus Dispatch (OH)-Ohio 2012-08-20            Ohio   1.875520   Columbus Dispatch (OH)\n",
       "4              Columbus Dispatch (OH)-Ohio 2012-09-24            Ohio   7.679307   Columbus Dispatch (OH)\n",
       "5                        EPIC-MRA-Michigan 2011-02-15        Michigan  -4.201071                 EPIC-MRA\n",
       "6                        EPIC-MRA-Michigan 2011-07-10        Michigan  -3.096961                 EPIC-MRA\n",
       "7                        EPIC-MRA-Michigan 2011-11-15        Michigan  -4.201071                 EPIC-MRA\n",
       "8                        EPIC-MRA-Michigan 2012-01-23        Michigan   6.398112                 EPIC-MRA\n",
       "9                        EPIC-MRA-Michigan 2012-04-02        Michigan  -0.219418                 EPIC-MRA\n",
       "10                       EPIC-MRA-Michigan 2012-06-04        Michigan   1.427470                 EPIC-MRA\n",
       "11                       EPIC-MRA-Michigan 2012-07-28        Michigan   2.361416                 EPIC-MRA\n",
       "..                                     ...        ...             ...        ...                      ...\n",
       "309                       SurveyUSA-Kansas 2011-11-10          Kansas -26.128872                SurveyUSA\n",
       "310                       SurveyUSA-Kansas 2011-11-20          Kansas  -6.973400                SurveyUSA\n",
       "311               SurveyUSA-North Carolina 2012-04-28  North Carolina   3.435788                SurveyUSA\n",
       "312               SurveyUSA-North Carolina 2012-09-30  North Carolina   1.008145                SurveyUSA\n",
       "313                       SurveyUSA-Oregon 2011-11-20          Oregon   7.001203                SurveyUSA\n",
       "314                       SurveyUSA-Oregon 2012-03-17          Oregon  10.204604                SurveyUSA\n",
       "315                       SurveyUSA-Oregon 2012-05-09          Oregon   1.934380                SurveyUSA\n",
       "316                       SurveyUSA-Oregon 2012-09-12          Oregon   8.172477                SurveyUSA\n",
       "317                   SurveyUSA-Washington 2011-11-22      Washington  12.315353                SurveyUSA\n",
       "318                   SurveyUSA-Washington 2012-05-09      Washington   8.655616                SurveyUSA\n",
       "319                   SurveyUSA-Washington 2012-08-02      Washington  14.386038                SurveyUSA\n",
       "320                   SurveyUSA-Washington 2012-09-08      Washington   9.553699                SurveyUSA\n",
       "\n",
       "[321 rows x 5 columns]"
      ]
     },
     "execution_count": 133,
     "metadata": {},
     "output_type": "execute_result"
    }
   ],
   "source": [
    "m_dataframe"
   ]
  },
  {
   "cell_type": "code",
   "execution_count": 134,
   "metadata": {
    "collapsed": false
   },
   "outputs": [],
   "source": [
    "m_regression_data = m_dataframe.merge(demo_data, on=\"State\")"
   ]
  },
  {
   "cell_type": "code",
   "execution_count": 135,
   "metadata": {
    "collapsed": false
   },
   "outputs": [
    {
     "data": {
      "text/html": [
       "<div>\n",
       "<table border=\"1\" class=\"dataframe\">\n",
       "  <thead>\n",
       "    <tr style=\"text-align: right;\">\n",
       "      <th></th>\n",
       "      <th>pollster_state</th>\n",
       "      <th>poll_date</th>\n",
       "      <th>State</th>\n",
       "      <th>m</th>\n",
       "      <th>Pollster</th>\n",
       "      <th>per_black</th>\n",
       "      <th>per_hisp</th>\n",
       "      <th>per_white</th>\n",
       "      <th>educ_hs</th>\n",
       "      <th>educ_coll</th>\n",
       "      <th>...</th>\n",
       "      <th>older_pop</th>\n",
       "      <th>per_older</th>\n",
       "      <th>per_vote</th>\n",
       "      <th>dem_adv</th>\n",
       "      <th>no_party</th>\n",
       "      <th>PVI</th>\n",
       "      <th>obama_give</th>\n",
       "      <th>romney_give</th>\n",
       "      <th>kmeans_group</th>\n",
       "      <th>kmeans_labels</th>\n",
       "    </tr>\n",
       "  </thead>\n",
       "  <tbody>\n",
       "    <tr>\n",
       "      <th>0</th>\n",
       "      <td>American Research Group-New Hampshire</td>\n",
       "      <td>2012-03-17</td>\n",
       "      <td>New Hampshire</td>\n",
       "      <td>6.436534</td>\n",
       "      <td>American Research Group</td>\n",
       "      <td>1.3</td>\n",
       "      <td>2.9</td>\n",
       "      <td>92.2</td>\n",
       "      <td>90.9</td>\n",
       "      <td>32.9</td>\n",
       "      <td>...</td>\n",
       "      <td>184547.160</td>\n",
       "      <td>0.140</td>\n",
       "      <td>0.648</td>\n",
       "      <td>-1.5</td>\n",
       "      <td>13.9</td>\n",
       "      <td>2</td>\n",
       "      <td>0.961563</td>\n",
       "      <td>0.733997</td>\n",
       "      <td>4</td>\n",
       "      <td>3</td>\n",
       "    </tr>\n",
       "    <tr>\n",
       "      <th>1</th>\n",
       "      <td>American Research Group-New Hampshire</td>\n",
       "      <td>2012-06-23</td>\n",
       "      <td>New Hampshire</td>\n",
       "      <td>0.071010</td>\n",
       "      <td>American Research Group</td>\n",
       "      <td>1.3</td>\n",
       "      <td>2.9</td>\n",
       "      <td>92.2</td>\n",
       "      <td>90.9</td>\n",
       "      <td>32.9</td>\n",
       "      <td>...</td>\n",
       "      <td>184547.160</td>\n",
       "      <td>0.140</td>\n",
       "      <td>0.648</td>\n",
       "      <td>-1.5</td>\n",
       "      <td>13.9</td>\n",
       "      <td>2</td>\n",
       "      <td>0.961563</td>\n",
       "      <td>0.733997</td>\n",
       "      <td>4</td>\n",
       "      <td>3</td>\n",
       "    </tr>\n",
       "    <tr>\n",
       "      <th>2</th>\n",
       "      <td>American Research Group-New Hampshire</td>\n",
       "      <td>2012-09-26</td>\n",
       "      <td>New Hampshire</td>\n",
       "      <td>4.054884</td>\n",
       "      <td>American Research Group</td>\n",
       "      <td>1.3</td>\n",
       "      <td>2.9</td>\n",
       "      <td>92.2</td>\n",
       "      <td>90.9</td>\n",
       "      <td>32.9</td>\n",
       "      <td>...</td>\n",
       "      <td>184547.160</td>\n",
       "      <td>0.140</td>\n",
       "      <td>0.648</td>\n",
       "      <td>-1.5</td>\n",
       "      <td>13.9</td>\n",
       "      <td>2</td>\n",
       "      <td>0.961563</td>\n",
       "      <td>0.733997</td>\n",
       "      <td>4</td>\n",
       "      <td>3</td>\n",
       "    </tr>\n",
       "    <tr>\n",
       "      <th>3</th>\n",
       "      <td>Public Policy Polling (PPP)-New Hampshire</td>\n",
       "      <td>2011-04-02</td>\n",
       "      <td>New Hampshire</td>\n",
       "      <td>3.118546</td>\n",
       "      <td>Public Policy Polling (PPP)</td>\n",
       "      <td>1.3</td>\n",
       "      <td>2.9</td>\n",
       "      <td>92.2</td>\n",
       "      <td>90.9</td>\n",
       "      <td>32.9</td>\n",
       "      <td>...</td>\n",
       "      <td>184547.160</td>\n",
       "      <td>0.140</td>\n",
       "      <td>0.648</td>\n",
       "      <td>-1.5</td>\n",
       "      <td>13.9</td>\n",
       "      <td>2</td>\n",
       "      <td>0.961563</td>\n",
       "      <td>0.733997</td>\n",
       "      <td>4</td>\n",
       "      <td>3</td>\n",
       "    </tr>\n",
       "    <tr>\n",
       "      <th>4</th>\n",
       "      <td>Public Policy Polling (PPP)-New Hampshire</td>\n",
       "      <td>2011-07-03</td>\n",
       "      <td>New Hampshire</td>\n",
       "      <td>-0.240062</td>\n",
       "      <td>Public Policy Polling (PPP)</td>\n",
       "      <td>1.3</td>\n",
       "      <td>2.9</td>\n",
       "      <td>92.2</td>\n",
       "      <td>90.9</td>\n",
       "      <td>32.9</td>\n",
       "      <td>...</td>\n",
       "      <td>184547.160</td>\n",
       "      <td>0.140</td>\n",
       "      <td>0.648</td>\n",
       "      <td>-1.5</td>\n",
       "      <td>13.9</td>\n",
       "      <td>2</td>\n",
       "      <td>0.961563</td>\n",
       "      <td>0.733997</td>\n",
       "      <td>4</td>\n",
       "      <td>3</td>\n",
       "    </tr>\n",
       "    <tr>\n",
       "      <th>5</th>\n",
       "      <td>Public Policy Polling (PPP)-New Hampshire</td>\n",
       "      <td>2012-05-12</td>\n",
       "      <td>New Hampshire</td>\n",
       "      <td>10.469450</td>\n",
       "      <td>Public Policy Polling (PPP)</td>\n",
       "      <td>1.3</td>\n",
       "      <td>2.9</td>\n",
       "      <td>92.2</td>\n",
       "      <td>90.9</td>\n",
       "      <td>32.9</td>\n",
       "      <td>...</td>\n",
       "      <td>184547.160</td>\n",
       "      <td>0.140</td>\n",
       "      <td>0.648</td>\n",
       "      <td>-1.5</td>\n",
       "      <td>13.9</td>\n",
       "      <td>2</td>\n",
       "      <td>0.961563</td>\n",
       "      <td>0.733997</td>\n",
       "      <td>4</td>\n",
       "      <td>3</td>\n",
       "    </tr>\n",
       "    <tr>\n",
       "      <th>6</th>\n",
       "      <td>Columbus Dispatch (OH)-Ohio</td>\n",
       "      <td>2012-08-20</td>\n",
       "      <td>Ohio</td>\n",
       "      <td>1.875520</td>\n",
       "      <td>Columbus Dispatch (OH)</td>\n",
       "      <td>12.4</td>\n",
       "      <td>3.2</td>\n",
       "      <td>81.0</td>\n",
       "      <td>87.4</td>\n",
       "      <td>24.1</td>\n",
       "      <td>...</td>\n",
       "      <td>1650927.993</td>\n",
       "      <td>0.143</td>\n",
       "      <td>0.624</td>\n",
       "      <td>3.6</td>\n",
       "      <td>15.4</td>\n",
       "      <td>-1</td>\n",
       "      <td>0.377548</td>\n",
       "      <td>0.427662</td>\n",
       "      <td>1</td>\n",
       "      <td>0</td>\n",
       "    </tr>\n",
       "    <tr>\n",
       "      <th>7</th>\n",
       "      <td>Columbus Dispatch (OH)-Ohio</td>\n",
       "      <td>2012-09-24</td>\n",
       "      <td>Ohio</td>\n",
       "      <td>7.679307</td>\n",
       "      <td>Columbus Dispatch (OH)</td>\n",
       "      <td>12.4</td>\n",
       "      <td>3.2</td>\n",
       "      <td>81.0</td>\n",
       "      <td>87.4</td>\n",
       "      <td>24.1</td>\n",
       "      <td>...</td>\n",
       "      <td>1650927.993</td>\n",
       "      <td>0.143</td>\n",
       "      <td>0.624</td>\n",
       "      <td>3.6</td>\n",
       "      <td>15.4</td>\n",
       "      <td>-1</td>\n",
       "      <td>0.377548</td>\n",
       "      <td>0.427662</td>\n",
       "      <td>1</td>\n",
       "      <td>0</td>\n",
       "    </tr>\n",
       "    <tr>\n",
       "      <th>8</th>\n",
       "      <td>Ohio Poll-Ohio</td>\n",
       "      <td>2011-09-16</td>\n",
       "      <td>Ohio</td>\n",
       "      <td>4.166959</td>\n",
       "      <td>Ohio Poll</td>\n",
       "      <td>12.4</td>\n",
       "      <td>3.2</td>\n",
       "      <td>81.0</td>\n",
       "      <td>87.4</td>\n",
       "      <td>24.1</td>\n",
       "      <td>...</td>\n",
       "      <td>1650927.993</td>\n",
       "      <td>0.143</td>\n",
       "      <td>0.624</td>\n",
       "      <td>3.6</td>\n",
       "      <td>15.4</td>\n",
       "      <td>-1</td>\n",
       "      <td>0.377548</td>\n",
       "      <td>0.427662</td>\n",
       "      <td>1</td>\n",
       "      <td>0</td>\n",
       "    </tr>\n",
       "    <tr>\n",
       "      <th>9</th>\n",
       "      <td>Ohio Poll-Ohio</td>\n",
       "      <td>2012-08-19</td>\n",
       "      <td>Ohio</td>\n",
       "      <td>1.501578</td>\n",
       "      <td>Ohio Poll</td>\n",
       "      <td>12.4</td>\n",
       "      <td>3.2</td>\n",
       "      <td>81.0</td>\n",
       "      <td>87.4</td>\n",
       "      <td>24.1</td>\n",
       "      <td>...</td>\n",
       "      <td>1650927.993</td>\n",
       "      <td>0.143</td>\n",
       "      <td>0.624</td>\n",
       "      <td>3.6</td>\n",
       "      <td>15.4</td>\n",
       "      <td>-1</td>\n",
       "      <td>0.377548</td>\n",
       "      <td>0.427662</td>\n",
       "      <td>1</td>\n",
       "      <td>0</td>\n",
       "    </tr>\n",
       "    <tr>\n",
       "      <th>10</th>\n",
       "      <td>Public Policy Polling (PPP)-Ohio</td>\n",
       "      <td>2011-03-12</td>\n",
       "      <td>Ohio</td>\n",
       "      <td>4.430867</td>\n",
       "      <td>Public Policy Polling (PPP)</td>\n",
       "      <td>12.4</td>\n",
       "      <td>3.2</td>\n",
       "      <td>81.0</td>\n",
       "      <td>87.4</td>\n",
       "      <td>24.1</td>\n",
       "      <td>...</td>\n",
       "      <td>1650927.993</td>\n",
       "      <td>0.143</td>\n",
       "      <td>0.624</td>\n",
       "      <td>3.6</td>\n",
       "      <td>15.4</td>\n",
       "      <td>-1</td>\n",
       "      <td>0.377548</td>\n",
       "      <td>0.427662</td>\n",
       "      <td>1</td>\n",
       "      <td>0</td>\n",
       "    </tr>\n",
       "    <tr>\n",
       "      <th>11</th>\n",
       "      <td>Public Policy Polling (PPP)-Ohio</td>\n",
       "      <td>2011-05-21</td>\n",
       "      <td>Ohio</td>\n",
       "      <td>2.960337</td>\n",
       "      <td>Public Policy Polling (PPP)</td>\n",
       "      <td>12.4</td>\n",
       "      <td>3.2</td>\n",
       "      <td>81.0</td>\n",
       "      <td>87.4</td>\n",
       "      <td>24.1</td>\n",
       "      <td>...</td>\n",
       "      <td>1650927.993</td>\n",
       "      <td>0.143</td>\n",
       "      <td>0.624</td>\n",
       "      <td>3.6</td>\n",
       "      <td>15.4</td>\n",
       "      <td>-1</td>\n",
       "      <td>0.377548</td>\n",
       "      <td>0.427662</td>\n",
       "      <td>1</td>\n",
       "      <td>0</td>\n",
       "    </tr>\n",
       "    <tr>\n",
       "      <th>...</th>\n",
       "      <td>...</td>\n",
       "      <td>...</td>\n",
       "      <td>...</td>\n",
       "      <td>...</td>\n",
       "      <td>...</td>\n",
       "      <td>...</td>\n",
       "      <td>...</td>\n",
       "      <td>...</td>\n",
       "      <td>...</td>\n",
       "      <td>...</td>\n",
       "      <td>...</td>\n",
       "      <td>...</td>\n",
       "      <td>...</td>\n",
       "      <td>...</td>\n",
       "      <td>...</td>\n",
       "      <td>...</td>\n",
       "      <td>...</td>\n",
       "      <td>...</td>\n",
       "      <td>...</td>\n",
       "      <td>...</td>\n",
       "      <td>...</td>\n",
       "    </tr>\n",
       "    <tr>\n",
       "      <th>309</th>\n",
       "      <td>Public Policy Polling (PPP)-Wisconsin</td>\n",
       "      <td>2012-09-19</td>\n",
       "      <td>Wisconsin</td>\n",
       "      <td>6.146157</td>\n",
       "      <td>Public Policy Polling (PPP)</td>\n",
       "      <td>6.5</td>\n",
       "      <td>6.1</td>\n",
       "      <td>83.1</td>\n",
       "      <td>89.4</td>\n",
       "      <td>25.8</td>\n",
       "      <td>...</td>\n",
       "      <td>793935.613</td>\n",
       "      <td>0.139</td>\n",
       "      <td>0.629</td>\n",
       "      <td>2.8</td>\n",
       "      <td>12.8</td>\n",
       "      <td>2</td>\n",
       "      <td>0.455410</td>\n",
       "      <td>0.237802</td>\n",
       "      <td>1</td>\n",
       "      <td>0</td>\n",
       "    </tr>\n",
       "    <tr>\n",
       "      <th>310</th>\n",
       "      <td>Rasmussen-Wisconsin</td>\n",
       "      <td>2011-10-26</td>\n",
       "      <td>Wisconsin</td>\n",
       "      <td>3.197725</td>\n",
       "      <td>Rasmussen</td>\n",
       "      <td>6.5</td>\n",
       "      <td>6.1</td>\n",
       "      <td>83.1</td>\n",
       "      <td>89.4</td>\n",
       "      <td>25.8</td>\n",
       "      <td>...</td>\n",
       "      <td>793935.613</td>\n",
       "      <td>0.139</td>\n",
       "      <td>0.629</td>\n",
       "      <td>2.8</td>\n",
       "      <td>12.8</td>\n",
       "      <td>2</td>\n",
       "      <td>0.455410</td>\n",
       "      <td>0.237802</td>\n",
       "      <td>1</td>\n",
       "      <td>0</td>\n",
       "    </tr>\n",
       "    <tr>\n",
       "      <th>311</th>\n",
       "      <td>Rasmussen-Wisconsin</td>\n",
       "      <td>2012-02-27</td>\n",
       "      <td>Wisconsin</td>\n",
       "      <td>4.357351</td>\n",
       "      <td>Rasmussen</td>\n",
       "      <td>6.5</td>\n",
       "      <td>6.1</td>\n",
       "      <td>83.1</td>\n",
       "      <td>89.4</td>\n",
       "      <td>25.8</td>\n",
       "      <td>...</td>\n",
       "      <td>793935.613</td>\n",
       "      <td>0.139</td>\n",
       "      <td>0.629</td>\n",
       "      <td>2.8</td>\n",
       "      <td>12.8</td>\n",
       "      <td>2</td>\n",
       "      <td>0.455410</td>\n",
       "      <td>0.237802</td>\n",
       "      <td>1</td>\n",
       "      <td>0</td>\n",
       "    </tr>\n",
       "    <tr>\n",
       "      <th>312</th>\n",
       "      <td>Rasmussen-Wisconsin</td>\n",
       "      <td>2012-03-27</td>\n",
       "      <td>Wisconsin</td>\n",
       "      <td>10.707061</td>\n",
       "      <td>Rasmussen</td>\n",
       "      <td>6.5</td>\n",
       "      <td>6.1</td>\n",
       "      <td>83.1</td>\n",
       "      <td>89.4</td>\n",
       "      <td>25.8</td>\n",
       "      <td>...</td>\n",
       "      <td>793935.613</td>\n",
       "      <td>0.139</td>\n",
       "      <td>0.629</td>\n",
       "      <td>2.8</td>\n",
       "      <td>12.8</td>\n",
       "      <td>2</td>\n",
       "      <td>0.455410</td>\n",
       "      <td>0.237802</td>\n",
       "      <td>1</td>\n",
       "      <td>0</td>\n",
       "    </tr>\n",
       "    <tr>\n",
       "      <th>313</th>\n",
       "      <td>Rasmussen-Wisconsin</td>\n",
       "      <td>2012-05-09</td>\n",
       "      <td>Wisconsin</td>\n",
       "      <td>2.821784</td>\n",
       "      <td>Rasmussen</td>\n",
       "      <td>6.5</td>\n",
       "      <td>6.1</td>\n",
       "      <td>83.1</td>\n",
       "      <td>89.4</td>\n",
       "      <td>25.8</td>\n",
       "      <td>...</td>\n",
       "      <td>793935.613</td>\n",
       "      <td>0.139</td>\n",
       "      <td>0.629</td>\n",
       "      <td>2.8</td>\n",
       "      <td>12.8</td>\n",
       "      <td>2</td>\n",
       "      <td>0.455410</td>\n",
       "      <td>0.237802</td>\n",
       "      <td>1</td>\n",
       "      <td>0</td>\n",
       "    </tr>\n",
       "    <tr>\n",
       "      <th>314</th>\n",
       "      <td>Rasmussen-Wisconsin</td>\n",
       "      <td>2012-06-12</td>\n",
       "      <td>Wisconsin</td>\n",
       "      <td>-1.913946</td>\n",
       "      <td>Rasmussen</td>\n",
       "      <td>6.5</td>\n",
       "      <td>6.1</td>\n",
       "      <td>83.1</td>\n",
       "      <td>89.4</td>\n",
       "      <td>25.8</td>\n",
       "      <td>...</td>\n",
       "      <td>793935.613</td>\n",
       "      <td>0.139</td>\n",
       "      <td>0.629</td>\n",
       "      <td>2.8</td>\n",
       "      <td>12.8</td>\n",
       "      <td>2</td>\n",
       "      <td>0.455410</td>\n",
       "      <td>0.237802</td>\n",
       "      <td>1</td>\n",
       "      <td>0</td>\n",
       "    </tr>\n",
       "    <tr>\n",
       "      <th>315</th>\n",
       "      <td>Rasmussen-Wisconsin</td>\n",
       "      <td>2012-07-25</td>\n",
       "      <td>Wisconsin</td>\n",
       "      <td>1.932597</td>\n",
       "      <td>Rasmussen</td>\n",
       "      <td>6.5</td>\n",
       "      <td>6.1</td>\n",
       "      <td>83.1</td>\n",
       "      <td>89.4</td>\n",
       "      <td>25.8</td>\n",
       "      <td>...</td>\n",
       "      <td>793935.613</td>\n",
       "      <td>0.139</td>\n",
       "      <td>0.629</td>\n",
       "      <td>2.8</td>\n",
       "      <td>12.8</td>\n",
       "      <td>2</td>\n",
       "      <td>0.455410</td>\n",
       "      <td>0.237802</td>\n",
       "      <td>1</td>\n",
       "      <td>0</td>\n",
       "    </tr>\n",
       "    <tr>\n",
       "      <th>316</th>\n",
       "      <td>Rasmussen-Wisconsin</td>\n",
       "      <td>2012-09-17</td>\n",
       "      <td>Wisconsin</td>\n",
       "      <td>1.932597</td>\n",
       "      <td>Rasmussen</td>\n",
       "      <td>6.5</td>\n",
       "      <td>6.1</td>\n",
       "      <td>83.1</td>\n",
       "      <td>89.4</td>\n",
       "      <td>25.8</td>\n",
       "      <td>...</td>\n",
       "      <td>793935.613</td>\n",
       "      <td>0.139</td>\n",
       "      <td>0.629</td>\n",
       "      <td>2.8</td>\n",
       "      <td>12.8</td>\n",
       "      <td>2</td>\n",
       "      <td>0.455410</td>\n",
       "      <td>0.237802</td>\n",
       "      <td>1</td>\n",
       "      <td>0</td>\n",
       "    </tr>\n",
       "    <tr>\n",
       "      <th>317</th>\n",
       "      <td>Rasmussen-Nebraska</td>\n",
       "      <td>2012-03-05</td>\n",
       "      <td>Nebraska</td>\n",
       "      <td>-19.056922</td>\n",
       "      <td>Rasmussen</td>\n",
       "      <td>4.7</td>\n",
       "      <td>9.5</td>\n",
       "      <td>81.8</td>\n",
       "      <td>90.0</td>\n",
       "      <td>27.7</td>\n",
       "      <td>...</td>\n",
       "      <td>250599.176</td>\n",
       "      <td>0.136</td>\n",
       "      <td>0.614</td>\n",
       "      <td>-19.0</td>\n",
       "      <td>14.8</td>\n",
       "      <td>-13</td>\n",
       "      <td>0.335630</td>\n",
       "      <td>0.351093</td>\n",
       "      <td>1</td>\n",
       "      <td>0</td>\n",
       "    </tr>\n",
       "    <tr>\n",
       "      <th>318</th>\n",
       "      <td>Rasmussen-Nebraska</td>\n",
       "      <td>2012-05-16</td>\n",
       "      <td>Nebraska</td>\n",
       "      <td>-20.181630</td>\n",
       "      <td>Rasmussen</td>\n",
       "      <td>4.7</td>\n",
       "      <td>9.5</td>\n",
       "      <td>81.8</td>\n",
       "      <td>90.0</td>\n",
       "      <td>27.7</td>\n",
       "      <td>...</td>\n",
       "      <td>250599.176</td>\n",
       "      <td>0.136</td>\n",
       "      <td>0.614</td>\n",
       "      <td>-19.0</td>\n",
       "      <td>14.8</td>\n",
       "      <td>-13</td>\n",
       "      <td>0.335630</td>\n",
       "      <td>0.351093</td>\n",
       "      <td>1</td>\n",
       "      <td>0</td>\n",
       "    </tr>\n",
       "    <tr>\n",
       "      <th>319</th>\n",
       "      <td>SurveyUSA-Kansas</td>\n",
       "      <td>2011-11-10</td>\n",
       "      <td>Kansas</td>\n",
       "      <td>-26.128872</td>\n",
       "      <td>SurveyUSA</td>\n",
       "      <td>6.1</td>\n",
       "      <td>10.8</td>\n",
       "      <td>77.8</td>\n",
       "      <td>89.2</td>\n",
       "      <td>29.3</td>\n",
       "      <td>...</td>\n",
       "      <td>381874.654</td>\n",
       "      <td>0.133</td>\n",
       "      <td>0.615</td>\n",
       "      <td>-16.9</td>\n",
       "      <td>14.3</td>\n",
       "      <td>-12</td>\n",
       "      <td>0.392000</td>\n",
       "      <td>0.469934</td>\n",
       "      <td>1</td>\n",
       "      <td>0</td>\n",
       "    </tr>\n",
       "    <tr>\n",
       "      <th>320</th>\n",
       "      <td>SurveyUSA-Kansas</td>\n",
       "      <td>2011-11-20</td>\n",
       "      <td>Kansas</td>\n",
       "      <td>-6.973400</td>\n",
       "      <td>SurveyUSA</td>\n",
       "      <td>6.1</td>\n",
       "      <td>10.8</td>\n",
       "      <td>77.8</td>\n",
       "      <td>89.2</td>\n",
       "      <td>29.3</td>\n",
       "      <td>...</td>\n",
       "      <td>381874.654</td>\n",
       "      <td>0.133</td>\n",
       "      <td>0.615</td>\n",
       "      <td>-16.9</td>\n",
       "      <td>14.3</td>\n",
       "      <td>-12</td>\n",
       "      <td>0.392000</td>\n",
       "      <td>0.469934</td>\n",
       "      <td>1</td>\n",
       "      <td>0</td>\n",
       "    </tr>\n",
       "  </tbody>\n",
       "</table>\n",
       "<p>321 rows × 24 columns</p>\n",
       "</div>"
      ],
      "text/plain": [
       "                                pollster_state  poll_date          State          m                     Pollster  \\\n",
       "0        American Research Group-New Hampshire 2012-03-17  New Hampshire   6.436534      American Research Group   \n",
       "1        American Research Group-New Hampshire 2012-06-23  New Hampshire   0.071010      American Research Group   \n",
       "2        American Research Group-New Hampshire 2012-09-26  New Hampshire   4.054884      American Research Group   \n",
       "3    Public Policy Polling (PPP)-New Hampshire 2011-04-02  New Hampshire   3.118546  Public Policy Polling (PPP)   \n",
       "4    Public Policy Polling (PPP)-New Hampshire 2011-07-03  New Hampshire  -0.240062  Public Policy Polling (PPP)   \n",
       "5    Public Policy Polling (PPP)-New Hampshire 2012-05-12  New Hampshire  10.469450  Public Policy Polling (PPP)   \n",
       "6                  Columbus Dispatch (OH)-Ohio 2012-08-20           Ohio   1.875520       Columbus Dispatch (OH)   \n",
       "7                  Columbus Dispatch (OH)-Ohio 2012-09-24           Ohio   7.679307       Columbus Dispatch (OH)   \n",
       "8                               Ohio Poll-Ohio 2011-09-16           Ohio   4.166959                    Ohio Poll   \n",
       "9                               Ohio Poll-Ohio 2012-08-19           Ohio   1.501578                    Ohio Poll   \n",
       "10            Public Policy Polling (PPP)-Ohio 2011-03-12           Ohio   4.430867  Public Policy Polling (PPP)   \n",
       "11            Public Policy Polling (PPP)-Ohio 2011-05-21           Ohio   2.960337  Public Policy Polling (PPP)   \n",
       "..                                         ...        ...            ...        ...                          ...   \n",
       "309      Public Policy Polling (PPP)-Wisconsin 2012-09-19      Wisconsin   6.146157  Public Policy Polling (PPP)   \n",
       "310                        Rasmussen-Wisconsin 2011-10-26      Wisconsin   3.197725                    Rasmussen   \n",
       "311                        Rasmussen-Wisconsin 2012-02-27      Wisconsin   4.357351                    Rasmussen   \n",
       "312                        Rasmussen-Wisconsin 2012-03-27      Wisconsin  10.707061                    Rasmussen   \n",
       "313                        Rasmussen-Wisconsin 2012-05-09      Wisconsin   2.821784                    Rasmussen   \n",
       "314                        Rasmussen-Wisconsin 2012-06-12      Wisconsin  -1.913946                    Rasmussen   \n",
       "315                        Rasmussen-Wisconsin 2012-07-25      Wisconsin   1.932597                    Rasmussen   \n",
       "316                        Rasmussen-Wisconsin 2012-09-17      Wisconsin   1.932597                    Rasmussen   \n",
       "317                         Rasmussen-Nebraska 2012-03-05       Nebraska -19.056922                    Rasmussen   \n",
       "318                         Rasmussen-Nebraska 2012-05-16       Nebraska -20.181630                    Rasmussen   \n",
       "319                           SurveyUSA-Kansas 2011-11-10         Kansas -26.128872                    SurveyUSA   \n",
       "320                           SurveyUSA-Kansas 2011-11-20         Kansas  -6.973400                    SurveyUSA   \n",
       "\n",
       "     per_black  per_hisp  per_white  educ_hs  educ_coll      ...          older_pop  per_older  per_vote  dem_adv  \\\n",
       "0          1.3       2.9       92.2     90.9       32.9      ...         184547.160      0.140     0.648     -1.5   \n",
       "1          1.3       2.9       92.2     90.9       32.9      ...         184547.160      0.140     0.648     -1.5   \n",
       "2          1.3       2.9       92.2     90.9       32.9      ...         184547.160      0.140     0.648     -1.5   \n",
       "3          1.3       2.9       92.2     90.9       32.9      ...         184547.160      0.140     0.648     -1.5   \n",
       "4          1.3       2.9       92.2     90.9       32.9      ...         184547.160      0.140     0.648     -1.5   \n",
       "5          1.3       2.9       92.2     90.9       32.9      ...         184547.160      0.140     0.648     -1.5   \n",
       "6         12.4       3.2       81.0     87.4       24.1      ...        1650927.993      0.143     0.624      3.6   \n",
       "7         12.4       3.2       81.0     87.4       24.1      ...        1650927.993      0.143     0.624      3.6   \n",
       "8         12.4       3.2       81.0     87.4       24.1      ...        1650927.993      0.143     0.624      3.6   \n",
       "9         12.4       3.2       81.0     87.4       24.1      ...        1650927.993      0.143     0.624      3.6   \n",
       "10        12.4       3.2       81.0     87.4       24.1      ...        1650927.993      0.143     0.624      3.6   \n",
       "11        12.4       3.2       81.0     87.4       24.1      ...        1650927.993      0.143     0.624      3.6   \n",
       "..         ...       ...        ...      ...        ...      ...                ...        ...       ...      ...   \n",
       "309        6.5       6.1       83.1     89.4       25.8      ...         793935.613      0.139     0.629      2.8   \n",
       "310        6.5       6.1       83.1     89.4       25.8      ...         793935.613      0.139     0.629      2.8   \n",
       "311        6.5       6.1       83.1     89.4       25.8      ...         793935.613      0.139     0.629      2.8   \n",
       "312        6.5       6.1       83.1     89.4       25.8      ...         793935.613      0.139     0.629      2.8   \n",
       "313        6.5       6.1       83.1     89.4       25.8      ...         793935.613      0.139     0.629      2.8   \n",
       "314        6.5       6.1       83.1     89.4       25.8      ...         793935.613      0.139     0.629      2.8   \n",
       "315        6.5       6.1       83.1     89.4       25.8      ...         793935.613      0.139     0.629      2.8   \n",
       "316        6.5       6.1       83.1     89.4       25.8      ...         793935.613      0.139     0.629      2.8   \n",
       "317        4.7       9.5       81.8     90.0       27.7      ...         250599.176      0.136     0.614    -19.0   \n",
       "318        4.7       9.5       81.8     90.0       27.7      ...         250599.176      0.136     0.614    -19.0   \n",
       "319        6.1      10.8       77.8     89.2       29.3      ...         381874.654      0.133     0.615    -16.9   \n",
       "320        6.1      10.8       77.8     89.2       29.3      ...         381874.654      0.133     0.615    -16.9   \n",
       "\n",
       "     no_party  PVI  obama_give  romney_give  kmeans_group  kmeans_labels  \n",
       "0        13.9    2    0.961563     0.733997             4              3  \n",
       "1        13.9    2    0.961563     0.733997             4              3  \n",
       "2        13.9    2    0.961563     0.733997             4              3  \n",
       "3        13.9    2    0.961563     0.733997             4              3  \n",
       "4        13.9    2    0.961563     0.733997             4              3  \n",
       "5        13.9    2    0.961563     0.733997             4              3  \n",
       "6        15.4   -1    0.377548     0.427662             1              0  \n",
       "7        15.4   -1    0.377548     0.427662             1              0  \n",
       "8        15.4   -1    0.377548     0.427662             1              0  \n",
       "9        15.4   -1    0.377548     0.427662             1              0  \n",
       "10       15.4   -1    0.377548     0.427662             1              0  \n",
       "11       15.4   -1    0.377548     0.427662             1              0  \n",
       "..        ...  ...         ...          ...           ...            ...  \n",
       "309      12.8    2    0.455410     0.237802             1              0  \n",
       "310      12.8    2    0.455410     0.237802             1              0  \n",
       "311      12.8    2    0.455410     0.237802             1              0  \n",
       "312      12.8    2    0.455410     0.237802             1              0  \n",
       "313      12.8    2    0.455410     0.237802             1              0  \n",
       "314      12.8    2    0.455410     0.237802             1              0  \n",
       "315      12.8    2    0.455410     0.237802             1              0  \n",
       "316      12.8    2    0.455410     0.237802             1              0  \n",
       "317      14.8  -13    0.335630     0.351093             1              0  \n",
       "318      14.8  -13    0.335630     0.351093             1              0  \n",
       "319      14.3  -12    0.392000     0.469934             1              0  \n",
       "320      14.3  -12    0.392000     0.469934             1              0  \n",
       "\n",
       "[321 rows x 24 columns]"
      ]
     },
     "execution_count": 135,
     "metadata": {},
     "output_type": "execute_result"
    }
   ],
   "source": [
    "m_regression_data"
   ]
  },
  {
   "cell_type": "code",
   "execution_count": 136,
   "metadata": {
    "collapsed": false
   },
   "outputs": [
    {
     "data": {
      "text/html": [
       "<div>\n",
       "<table border=\"1\" class=\"dataframe\">\n",
       "  <thead>\n",
       "    <tr style=\"text-align: right;\">\n",
       "      <th></th>\n",
       "      <th>PVI</th>\n",
       "      <th>per_black</th>\n",
       "      <th>per_hisp</th>\n",
       "      <th>older_pop</th>\n",
       "      <th>average_income</th>\n",
       "      <th>romney_give</th>\n",
       "      <th>obama_give</th>\n",
       "      <th>educ_coll</th>\n",
       "      <th>educ_hs</th>\n",
       "    </tr>\n",
       "  </thead>\n",
       "  <tbody>\n",
       "    <tr>\n",
       "      <th>PVI</th>\n",
       "      <td>1.000000</td>\n",
       "      <td>-0.294799</td>\n",
       "      <td>0.116418</td>\n",
       "      <td>0.150510</td>\n",
       "      <td>0.595083</td>\n",
       "      <td>0.291997</td>\n",
       "      <td>0.669193</td>\n",
       "      <td>0.494291</td>\n",
       "      <td>0.225624</td>\n",
       "    </tr>\n",
       "    <tr>\n",
       "      <th>per_black</th>\n",
       "      <td>-0.294799</td>\n",
       "      <td>1.000000</td>\n",
       "      <td>-0.173355</td>\n",
       "      <td>0.278531</td>\n",
       "      <td>-0.064176</td>\n",
       "      <td>0.111333</td>\n",
       "      <td>-0.280984</td>\n",
       "      <td>-0.110643</td>\n",
       "      <td>-0.497133</td>\n",
       "    </tr>\n",
       "    <tr>\n",
       "      <th>per_hisp</th>\n",
       "      <td>0.116418</td>\n",
       "      <td>-0.173355</td>\n",
       "      <td>1.000000</td>\n",
       "      <td>0.403386</td>\n",
       "      <td>0.099982</td>\n",
       "      <td>0.289653</td>\n",
       "      <td>0.307853</td>\n",
       "      <td>0.113554</td>\n",
       "      <td>-0.564734</td>\n",
       "    </tr>\n",
       "    <tr>\n",
       "      <th>older_pop</th>\n",
       "      <td>0.150510</td>\n",
       "      <td>0.278531</td>\n",
       "      <td>0.403386</td>\n",
       "      <td>1.000000</td>\n",
       "      <td>0.023183</td>\n",
       "      <td>0.237119</td>\n",
       "      <td>-0.036660</td>\n",
       "      <td>-0.074438</td>\n",
       "      <td>-0.478205</td>\n",
       "    </tr>\n",
       "    <tr>\n",
       "      <th>average_income</th>\n",
       "      <td>0.595083</td>\n",
       "      <td>-0.064176</td>\n",
       "      <td>0.099982</td>\n",
       "      <td>0.023183</td>\n",
       "      <td>1.000000</td>\n",
       "      <td>0.717860</td>\n",
       "      <td>0.704609</td>\n",
       "      <td>0.888344</td>\n",
       "      <td>0.249691</td>\n",
       "    </tr>\n",
       "    <tr>\n",
       "      <th>romney_give</th>\n",
       "      <td>0.291997</td>\n",
       "      <td>0.111333</td>\n",
       "      <td>0.289653</td>\n",
       "      <td>0.237119</td>\n",
       "      <td>0.717860</td>\n",
       "      <td>1.000000</td>\n",
       "      <td>0.554900</td>\n",
       "      <td>0.630611</td>\n",
       "      <td>-0.024673</td>\n",
       "    </tr>\n",
       "    <tr>\n",
       "      <th>obama_give</th>\n",
       "      <td>0.669193</td>\n",
       "      <td>-0.280984</td>\n",
       "      <td>0.307853</td>\n",
       "      <td>-0.036660</td>\n",
       "      <td>0.704609</td>\n",
       "      <td>0.554900</td>\n",
       "      <td>1.000000</td>\n",
       "      <td>0.835424</td>\n",
       "      <td>0.084808</td>\n",
       "    </tr>\n",
       "    <tr>\n",
       "      <th>educ_coll</th>\n",
       "      <td>0.494291</td>\n",
       "      <td>-0.110643</td>\n",
       "      <td>0.113554</td>\n",
       "      <td>-0.074438</td>\n",
       "      <td>0.888344</td>\n",
       "      <td>0.630611</td>\n",
       "      <td>0.835424</td>\n",
       "      <td>1.000000</td>\n",
       "      <td>0.272766</td>\n",
       "    </tr>\n",
       "    <tr>\n",
       "      <th>educ_hs</th>\n",
       "      <td>0.225624</td>\n",
       "      <td>-0.497133</td>\n",
       "      <td>-0.564734</td>\n",
       "      <td>-0.478205</td>\n",
       "      <td>0.249691</td>\n",
       "      <td>-0.024673</td>\n",
       "      <td>0.084808</td>\n",
       "      <td>0.272766</td>\n",
       "      <td>1.000000</td>\n",
       "    </tr>\n",
       "  </tbody>\n",
       "</table>\n",
       "</div>"
      ],
      "text/plain": [
       "                     PVI  per_black  per_hisp  older_pop  average_income  romney_give  obama_give  educ_coll   educ_hs\n",
       "PVI             1.000000  -0.294799  0.116418   0.150510        0.595083     0.291997    0.669193   0.494291  0.225624\n",
       "per_black      -0.294799   1.000000 -0.173355   0.278531       -0.064176     0.111333   -0.280984  -0.110643 -0.497133\n",
       "per_hisp        0.116418  -0.173355  1.000000   0.403386        0.099982     0.289653    0.307853   0.113554 -0.564734\n",
       "older_pop       0.150510   0.278531  0.403386   1.000000        0.023183     0.237119   -0.036660  -0.074438 -0.478205\n",
       "average_income  0.595083  -0.064176  0.099982   0.023183        1.000000     0.717860    0.704609   0.888344  0.249691\n",
       "romney_give     0.291997   0.111333  0.289653   0.237119        0.717860     1.000000    0.554900   0.630611 -0.024673\n",
       "obama_give      0.669193  -0.280984  0.307853  -0.036660        0.704609     0.554900    1.000000   0.835424  0.084808\n",
       "educ_coll       0.494291  -0.110643  0.113554  -0.074438        0.888344     0.630611    0.835424   1.000000  0.272766\n",
       "educ_hs         0.225624  -0.497133 -0.564734  -0.478205        0.249691    -0.024673    0.084808   0.272766  1.000000"
      ]
     },
     "execution_count": 136,
     "metadata": {},
     "output_type": "execute_result"
    }
   ],
   "source": [
    "m_regression_data[[\"PVI\", \"per_black\", \"per_hisp\", \"older_pop\", \"average_income\", \n",
    "                   \"romney_give\", \"obama_give\", \"educ_coll\", \"educ_hs\"]].corr()"
   ]
  },
  {
   "cell_type": "code",
   "execution_count": 137,
   "metadata": {
    "collapsed": false
   },
   "outputs": [
    {
     "data": {
      "text/plain": [
       "0     199 days\n",
       "1     101 days\n",
       "2       6 days\n",
       "3     549 days\n",
       "4     457 days\n",
       "5     143 days\n",
       "6      43 days\n",
       "7       8 days\n",
       "8     382 days\n",
       "9      44 days\n",
       "10    570 days\n",
       "11    500 days\n",
       "        ...   \n",
       "309    13 days\n",
       "310   342 days\n",
       "311   218 days\n",
       "312   189 days\n",
       "313   146 days\n",
       "314   112 days\n",
       "315    69 days\n",
       "316    15 days\n",
       "317   211 days\n",
       "318   139 days\n",
       "319   327 days\n",
       "320   317 days\n",
       "Name: poll_date, dtype: timedelta64[ns]"
      ]
     },
     "execution_count": 137,
     "metadata": {},
     "output_type": "execute_result"
    }
   ],
   "source": [
    "(today - m_regression_data[\"poll_date\"].astype('O'))"
   ]
  },
  {
   "cell_type": "code",
   "execution_count": 138,
   "metadata": {
    "collapsed": false
   },
   "outputs": [],
   "source": [
    "time_weights = (today - m_regression_data[\"poll_date\"].astype('O')).apply(exp_decay)"
   ]
  },
  {
   "cell_type": "code",
   "execution_count": 139,
   "metadata": {
    "collapsed": false
   },
   "outputs": [
    {
     "data": {
      "text/html": [
       "<table class=\"simpletable\">\n",
       "<caption>WLS Regression Results</caption>\n",
       "<tr>\n",
       "  <th>Dep. Variable:</th>            <td>m</td>        <th>  R-squared:         </th> <td>   0.705</td>\n",
       "</tr>\n",
       "<tr>\n",
       "  <th>Model:</th>                   <td>WLS</td>       <th>  Adj. R-squared:    </th> <td>   0.700</td>\n",
       "</tr>\n",
       "<tr>\n",
       "  <th>Method:</th>             <td>Least Squares</td>  <th>  F-statistic:       </th> <td>   150.4</td>\n",
       "</tr>\n",
       "<tr>\n",
       "  <th>Date:</th>             <td>Tue, 24 May 2016</td> <th>  Prob (F-statistic):</th> <td>3.09e-81</td>\n",
       "</tr>\n",
       "<tr>\n",
       "  <th>Time:</th>                 <td>20:59:22</td>     <th>  Log-Likelihood:    </th> <td> -1457.5</td>\n",
       "</tr>\n",
       "<tr>\n",
       "  <th>No. Observations:</th>      <td>   321</td>      <th>  AIC:               </th> <td>   2927.</td>\n",
       "</tr>\n",
       "<tr>\n",
       "  <th>Df Residuals:</th>          <td>   315</td>      <th>  BIC:               </th> <td>   2950.</td>\n",
       "</tr>\n",
       "<tr>\n",
       "  <th>Df Model:</th>              <td>     5</td>      <th>                     </th>     <td> </td>   \n",
       "</tr>\n",
       "<tr>\n",
       "  <th>Covariance Type:</th>      <td>nonrobust</td>    <th>                     </th>     <td> </td>   \n",
       "</tr>\n",
       "</table>\n",
       "<table class=\"simpletable\">\n",
       "<tr>\n",
       "         <td></td>           <th>coef</th>     <th>std err</th>      <th>t</th>      <th>P>|t|</th> <th>[95.0% Conf. Int.]</th> \n",
       "</tr>\n",
       "<tr>\n",
       "  <th>Intercept</th>      <td>    4.4405</td> <td>    2.504</td> <td>    1.773</td> <td> 0.077</td> <td>   -0.486     9.367</td>\n",
       "</tr>\n",
       "<tr>\n",
       "  <th>PVI</th>            <td>    1.5550</td> <td>    0.076</td> <td>   20.571</td> <td> 0.000</td> <td>    1.406     1.704</td>\n",
       "</tr>\n",
       "<tr>\n",
       "  <th>per_hisp</th>       <td>    0.1687</td> <td>    0.023</td> <td>    7.422</td> <td> 0.000</td> <td>    0.124     0.213</td>\n",
       "</tr>\n",
       "<tr>\n",
       "  <th>per_black</th>      <td>    0.1975</td> <td>    0.040</td> <td>    4.958</td> <td> 0.000</td> <td>    0.119     0.276</td>\n",
       "</tr>\n",
       "<tr>\n",
       "  <th>average_income</th> <td>   -0.0003</td> <td>    0.000</td> <td>   -1.807</td> <td> 0.072</td> <td>   -0.001  2.64e-05</td>\n",
       "</tr>\n",
       "<tr>\n",
       "  <th>educ_coll</th>      <td>    0.0594</td> <td>    0.121</td> <td>    0.491</td> <td> 0.624</td> <td>   -0.179     0.298</td>\n",
       "</tr>\n",
       "</table>\n",
       "<table class=\"simpletable\">\n",
       "<tr>\n",
       "  <th>Omnibus:</th>       <td>110.772</td> <th>  Durbin-Watson:     </th> <td>   1.687</td> \n",
       "</tr>\n",
       "<tr>\n",
       "  <th>Prob(Omnibus):</th> <td> 0.000</td>  <th>  Jarque-Bera (JB):  </th> <td>1222.490</td> \n",
       "</tr>\n",
       "<tr>\n",
       "  <th>Skew:</th>          <td>-1.077</td>  <th>  Prob(JB):          </th> <td>3.47e-266</td>\n",
       "</tr>\n",
       "<tr>\n",
       "  <th>Kurtosis:</th>      <td>12.315</td>  <th>  Cond. No.          </th> <td>2.71e+05</td> \n",
       "</tr>\n",
       "</table>"
      ],
      "text/plain": [
       "<class 'statsmodels.iolib.summary.Summary'>\n",
       "\"\"\"\n",
       "                            WLS Regression Results                            \n",
       "==============================================================================\n",
       "Dep. Variable:                      m   R-squared:                       0.705\n",
       "Model:                            WLS   Adj. R-squared:                  0.700\n",
       "Method:                 Least Squares   F-statistic:                     150.4\n",
       "Date:                Tue, 24 May 2016   Prob (F-statistic):           3.09e-81\n",
       "Time:                        20:59:22   Log-Likelihood:                -1457.5\n",
       "No. Observations:                 321   AIC:                             2927.\n",
       "Df Residuals:                     315   BIC:                             2950.\n",
       "Df Model:                           5                                         \n",
       "Covariance Type:            nonrobust                                         \n",
       "==================================================================================\n",
       "                     coef    std err          t      P>|t|      [95.0% Conf. Int.]\n",
       "----------------------------------------------------------------------------------\n",
       "Intercept          4.4405      2.504      1.773      0.077        -0.486     9.367\n",
       "PVI                1.5550      0.076     20.571      0.000         1.406     1.704\n",
       "per_hisp           0.1687      0.023      7.422      0.000         0.124     0.213\n",
       "per_black          0.1975      0.040      4.958      0.000         0.119     0.276\n",
       "average_income    -0.0003      0.000     -1.807      0.072        -0.001  2.64e-05\n",
       "educ_coll          0.0594      0.121      0.491      0.624        -0.179     0.298\n",
       "==============================================================================\n",
       "Omnibus:                      110.772   Durbin-Watson:                   1.687\n",
       "Prob(Omnibus):                  0.000   Jarque-Bera (JB):             1222.490\n",
       "Skew:                          -1.077   Prob(JB):                    3.47e-266\n",
       "Kurtosis:                      12.315   Cond. No.                     2.71e+05\n",
       "==============================================================================\n",
       "\n",
       "Warnings:\n",
       "[1] Standard Errors assume that the covariance matrix of the errors is correctly specified.\n",
       "[2] The condition number is large, 2.71e+05. This might indicate that there are\n",
       "strong multicollinearity or other numerical problems.\n",
       "\"\"\""
      ]
     },
     "execution_count": 139,
     "metadata": {},
     "output_type": "execute_result"
    }
   ],
   "source": [
    "m_model = wls(\"m ~ PVI + per_hisp + per_black + average_income + educ_coll\", data=m_regression_data, weights=time_weights).fit()\n",
    "m_model.summary()"
   ]
  },
  {
   "cell_type": "code",
   "execution_count": 140,
   "metadata": {
    "collapsed": false
   },
   "outputs": [],
   "source": [
    "state_resid = pandas.DataFrame(zip(m_model.resid, m_regression_data.State), \n",
    "                               columns=[\"resid\", \"State\"])"
   ]
  },
  {
   "cell_type": "code",
   "execution_count": 141,
   "metadata": {
    "collapsed": false
   },
   "outputs": [],
   "source": [
    "state_resid_group = state_resid.groupby(\"State\")"
   ]
  },
  {
   "cell_type": "code",
   "execution_count": 142,
   "metadata": {
    "collapsed": false
   },
   "outputs": [
    {
     "data": {
      "image/png": "[encoded data removed]",
      "text/plain": [
       "<matplotlib.figure.Figure at 0x7f27da95f810>"
      ]
     },
     "metadata": {},
     "output_type": "display_data"
    }
   ],
   "source": [
    "fig, axes = plt.subplots(figsize=(12,8), subplot_kw={\"ylabel\" : \"Residual\",\n",
    "                                                     \"xlabel\" : \"State\"})\n",
    "i = 0\n",
    "for state, group in state_resid_group:\n",
    "    x = [i] * len(group)\n",
    "    axes.scatter(x, group[\"resid\"], s=91)\n",
    "    i += 1\n",
    "states = m_regression_data.State.unique()\n",
    "states.sort()\n",
    "#axes.xaxis.get_major_locator().set_params(nbins=len(states))\n",
    "axes.margins(.05, .05)\n",
    "axes.xaxis.set_ticks(range(31))\n",
    "axes.xaxis.set_ticklabels(states);\n",
    "for label in axes.xaxis.get_ticklabels():\n",
    "    label.set_rotation(90)\n",
    "    label.set_fontsize('large')"
   ]
  },
  {
   "cell_type": "code",
   "execution_count": 143,
   "metadata": {
    "collapsed": false
   },
   "outputs": [],
   "source": [
    "demo_data = demo_data.drop(demo_data.index[demo_data['State'] == 'District of Columbia'])\n",
    "demo_data.reset_index(drop=True, inplace=True);"
   ]
  },
  {
   "cell_type": "code",
   "execution_count": 144,
   "metadata": {
    "collapsed": false
   },
   "outputs": [
    {
     "name": "stderr",
     "output_type": "stream",
     "text": [
      "/home/jim/INSTALL/anaconda3/envs/pydata538/lib/python2.7/site-packages/ipykernel/__main__.py:2: SettingWithCopyWarning: \n",
      "A value is trying to be set on a copy of a slice from a DataFrame.\n",
      "Try using .loc[row_indexer,col_indexer] = value instead\n",
      "\n",
      "See the caveats in the documentation: http://pandas.pydata.org/pandas-docs/stable/indexing.html#indexing-view-versus-copy\n",
      "  from ipykernel import kernelapp as app\n"
     ]
    }
   ],
   "source": [
    "exog = demo_data[[\"PVI\", \"per_hisp\", \"per_black\", \"average_income\", \"educ_coll\"]]\n",
    "exog[\"const\"] = 1"
   ]
  },
  {
   "cell_type": "code",
   "execution_count": 145,
   "metadata": {
    "collapsed": false
   },
   "outputs": [],
   "source": [
    "state_m = m_model.predict(exog)"
   ]
  },
  {
   "cell_type": "code",
   "execution_count": 146,
   "metadata": {
    "collapsed": false
   },
   "outputs": [
    {
     "data": {
      "text/plain": [
       "array([-15.4217, -21.6313,  -5.0082, -10.561 ,  16.1516,   1.9687,  10.9842,  14.074 ,   2.0836,  -4.6565,  18.1919, -25.1584,  15.7641,  -7.8211,   1.3951,\n",
       "       -17.1674, -14.4888,  -9.6044,   6.7223,  17.5189,  18.47  ,   8.243 ,   2.4987,  -8.0447,  -3.1677, -11.2639, -19.1112,   5.3443,   0.8928,   8.2712,\n",
       "        10.5977,  19.1728,  -1.8028, -16.6034,  -0.1732, -24.4563,   6.9845,   4.29  ,  18.3768,  -7.1117, -14.4658, -11.14  ,  -8.1462, -29.3198,  18.9368,\n",
       "        -0.9413,   7.9092, -12.3842,   3.4667, -31.8014])"
      ]
     },
     "execution_count": 146,
     "metadata": {},
     "output_type": "execute_result"
    }
   ],
   "source": [
    "state_m"
   ]
  },
  {
   "cell_type": "code",
   "execution_count": 147,
   "metadata": {
    "collapsed": false
   },
   "outputs": [],
   "source": [
    "unit_m = (state_m - state_m.min())/(state_m.max() - state_m.min())"
   ]
  },
  {
   "cell_type": "code",
   "execution_count": 148,
   "metadata": {
    "collapsed": false
   },
   "outputs": [],
   "source": [
    "unit_m *= 2"
   ]
  },
  {
   "cell_type": "code",
   "execution_count": 149,
   "metadata": {
    "collapsed": false
   },
   "outputs": [],
   "source": [
    "m_correction = zip(demo_data.State, unit_m)"
   ]
  },
  {
   "cell_type": "code",
   "execution_count": 150,
   "metadata": {
    "collapsed": false
   },
   "outputs": [
    {
     "data": {
      "image/png": "[encoded data removed]",
      "text/plain": [
       "<matplotlib.figure.Figure at 0x7f27da86c250>"
      ]
     },
     "metadata": {},
     "output_type": "display_data"
    }
   ],
   "source": [
    "fig, axes = plt.subplots(figsize=(12,8), subplot_kw={\"ylabel\" : \"Time Uncertainty\",\n",
    "                                                     \"xlabel\" : \"State\"})\n",
    "\n",
    "axes.scatter(range(len(unit_m)), unit_m, s=91)\n",
    "\n",
    "axes.margins(.05, .05)\n",
    "axes.xaxis.set_ticks(range(len(unit_m)))\n",
    "axes.xaxis.set_ticklabels(demo_data.State);\n",
    "for label in axes.xaxis.get_ticklabels():\n",
    "    label.set_rotation(90)\n",
    "    label.set_fontsize('large')"
   ]
  },
  {
   "cell_type": "code",
   "execution_count": 151,
   "metadata": {
    "collapsed": false
   },
   "outputs": [
    {
     "data": {
      "text/plain": [
       "[('Alabama', 0.64266809431777716),\n",
       " ('Alaska', 0.39903009038642717),\n",
       " ('Arizona', 1.051246922603376),\n",
       " ('Arkansas', 0.83337963581144936),\n",
       " ('California', 1.881462353213686),\n",
       " ('Colorado', 1.324988270334106),\n",
       " ('Connecticut', 1.6787175119991067),\n",
       " ('Delaware', 1.799946616374807),\n",
       " ('Florida', 1.3294994223427019),\n",
       " ('Georgia', 1.0650469049673559),\n",
       " ('Hawaii', 1.9615175450935425),\n",
       " ('Idaho', 0.26064183981635736),\n",
       " ('Illinois', 1.8662598338917602),\n",
       " ('Indiana', 0.94088023761213702),\n",
       " ('Iowa', 1.3024853082050274),\n",
       " ('Kansas', 0.57417594043010256),\n",
       " ('Kentucky', 0.67927212280317917),\n",
       " ('Louisiana', 0.87091088640015846),\n",
       " ('Maine', 1.5115003017124518),\n",
       " ('Maryland', 1.9351096983105949),\n",
       " ('Massachusetts', 1.972427859773499),\n",
       " ('Michigan', 1.5711658872394041),\n",
       " ('Minnesota', 1.3457855871862894),\n",
       " ('Mississippi', 0.93210857837494054),\n",
       " ('Missouri', 1.1234597785092511),\n",
       " ('Montana', 0.80580138724827355),\n",
       " ('Nebraska', 0.49790708186789584),\n",
       " ('Nevada', 1.4574319092076984),\n",
       " ('New Hampshire', 1.2827741396460712),\n",
       " ('New Jersey', 1.5722723314665106),\n",
       " ('New Mexico', 1.6635531253594085),\n",
       " ('New York', 2.0),\n",
       " ('North Carolina', 1.1770116288991701),\n",
       " ('North Dakota', 0.59630134352743591),\n",
       " ('Ohio', 1.2409505020643554),\n",
       " ('Oklahoma', 0.28819001562210417),\n",
       " ('Oregon', 1.5217875821850471),\n",
       " ('Pennsylvania', 1.4160660286631532),\n",
       " ('Rhode Island', 1.9687713407242875),\n",
       " ('South Carolina', 0.9687153444253096),\n",
       " ('South Dakota', 0.68017110979696893),\n",
       " ('Tennessee', 0.81066155479866131),\n",
       " ('Texas', 0.9281246620502277),\n",
       " ('Utah', 0.097369058861922542),\n",
       " ('Vermont', 1.9907421659897067),\n",
       " ('Virginia', 1.2108135939642581),\n",
       " ('Washington', 1.5580686388761602),\n",
       " ('West Virginia', 0.76184689415060114),\n",
       " ('Wisconsin', 1.3837649018595635),\n",
       " ('Wyoming', 0.0)]"
      ]
     },
     "execution_count": 151,
     "metadata": {},
     "output_type": "execute_result"
    }
   ],
   "source": [
    "m_correction"
   ]
  },
  {
   "cell_type": "code",
   "execution_count": 152,
   "metadata": {
    "collapsed": false
   },
   "outputs": [],
   "source": [
    "trends = pandas.DataFrame(trends, columns=[\"State\", \"trend\"])\n",
    "m_correction = pandas.DataFrame(m_correction, columns=[\"State\", \"m_correction\"])"
   ]
  },
  {
   "cell_type": "code",
   "execution_count": 153,
   "metadata": {
    "collapsed": false
   },
   "outputs": [],
   "source": [
    "trends = trends.merge(m_correction, on=\"State\")"
   ]
  },
  {
   "cell_type": "code",
   "execution_count": 154,
   "metadata": {
    "collapsed": false
   },
   "outputs": [],
   "source": [
    "trends.set_index(\"State\", inplace=True)"
   ]
  },
  {
   "cell_type": "code",
   "execution_count": 155,
   "metadata": {
    "collapsed": false
   },
   "outputs": [],
   "source": [
    "trends = trends.product(axis=1)"
   ]
  },
  {
   "cell_type": "markdown",
   "metadata": {},
   "source": [
    "### Snapshot: Combine Trend Estimates and State Polls"
   ]
  },
  {
   "cell_type": "code",
   "execution_count": 156,
   "metadata": {
    "collapsed": false
   },
   "outputs": [
    {
     "data": {
      "text/plain": [
       "State  Pollster                   \n",
       "AZ     Public Policy Polling (PPP)    -9.168494\n",
       "       Rasmussen                     -10.209446\n",
       "CA     Field Poll (CA)                23.343924\n",
       "       Public Policy Polling (PPP)    20.999075\n",
       "       Rasmussen                      22.000000\n",
       "       SurveyUSA                      22.123414\n",
       "CO     American Research Group         2.000000\n",
       "       Public Policy Polling (PPP)     5.469907\n",
       "       Rasmussen                      -1.573788\n",
       "CT     Public Policy Polling (PPP)    12.757757\n",
       "       Quinnipiac                      7.293983\n",
       "       Rasmussen                       8.000000\n",
       "                                        ...    \n",
       "VA     Mason-Dixon                     1.000000\n",
       "       Public Policy Polling (PPP)     5.095802\n",
       "       Quinnipiac                      0.578138\n",
       "       Rasmussen                       0.891780\n",
       "VT     Public Policy Polling (PPP)    20.000000\n",
       "WA     Public Policy Polling (PPP)    13.050886\n",
       "       Rasmussen                      11.000000\n",
       "       SurveyUSA                      15.310208\n",
       "WI     CNN / Opinion Research          4.000000\n",
       "       Public Policy Polling (PPP)     5.392554\n",
       "       Rasmussen                       2.116005\n",
       "WV     Public Policy Polling (PPP)   -19.756631\n",
       "Name: poll, dtype: float64"
      ]
     },
     "execution_count": 156,
     "metadata": {},
     "output_type": "execute_result"
    }
   ],
   "source": [
    "state_polls.name = \"poll\"\n",
    "state_polls"
   ]
  },
  {
   "cell_type": "code",
   "execution_count": 157,
   "metadata": {
    "collapsed": false
   },
   "outputs": [],
   "source": [
    "state_polls = state_polls.reset_index()\n",
    "state_polls.State = state_polls.State.replace(states_abbrev_dict)"
   ]
  },
  {
   "cell_type": "code",
   "execution_count": 158,
   "metadata": {
    "collapsed": false
   },
   "outputs": [
    {
     "data": {
      "text/plain": [
       "State\n",
       "Wisconsin         7.440163\n",
       "North Dakota      3.206165\n",
       "Nebraska          2.677124\n",
       "Ohio              6.672285\n",
       "Pennsylvania      7.613838\n",
       "Indiana           5.058881\n",
       "Iowa              7.003142\n",
       "Arizona           5.652295\n",
       "Maine             8.126964\n",
       "Missouri          6.040566\n",
       "Michigan          8.447772\n",
       "Montana           4.332595\n",
       "                    ...   \n",
       "Hawaii            8.851564\n",
       "Vermont           8.983443\n",
       "Maryland          8.732396\n",
       "Minnesota         6.073006\n",
       "Illinois          8.421703\n",
       "New Mexico        5.457221\n",
       "North Carolina    3.861141\n",
       "Georgia           3.493845\n",
       "West Virginia     2.499209\n",
       "South Carolina    3.177833\n",
       "Tennessee         2.659344\n",
       "Mississippi       3.057746\n",
       "Name: poll, dtype: float64"
      ]
     },
     "execution_count": 158,
     "metadata": {},
     "output_type": "execute_result"
    }
   ],
   "source": [
    "trends.name = \"poll\"\n",
    "trends"
   ]
  },
  {
   "cell_type": "code",
   "execution_count": 159,
   "metadata": {
    "collapsed": false
   },
   "outputs": [],
   "source": [
    "trends = trends.reset_index()\n",
    "trends[\"Pollster\"] = \"National\""
   ]
  },
  {
   "cell_type": "code",
   "execution_count": 160,
   "metadata": {
    "collapsed": false
   },
   "outputs": [
    {
     "data": {
      "text/html": [
       "<div>\n",
       "<table border=\"1\" class=\"dataframe\">\n",
       "  <thead>\n",
       "    <tr style=\"text-align: right;\">\n",
       "      <th></th>\n",
       "      <th>State</th>\n",
       "      <th>poll</th>\n",
       "      <th>Pollster</th>\n",
       "    </tr>\n",
       "  </thead>\n",
       "  <tbody>\n",
       "    <tr>\n",
       "      <th>0</th>\n",
       "      <td>Wisconsin</td>\n",
       "      <td>7.440163</td>\n",
       "      <td>National</td>\n",
       "    </tr>\n",
       "    <tr>\n",
       "      <th>1</th>\n",
       "      <td>North Dakota</td>\n",
       "      <td>3.206165</td>\n",
       "      <td>National</td>\n",
       "    </tr>\n",
       "    <tr>\n",
       "      <th>2</th>\n",
       "      <td>Nebraska</td>\n",
       "      <td>2.677124</td>\n",
       "      <td>National</td>\n",
       "    </tr>\n",
       "    <tr>\n",
       "      <th>3</th>\n",
       "      <td>Ohio</td>\n",
       "      <td>6.672285</td>\n",
       "      <td>National</td>\n",
       "    </tr>\n",
       "    <tr>\n",
       "      <th>4</th>\n",
       "      <td>Pennsylvania</td>\n",
       "      <td>7.613838</td>\n",
       "      <td>National</td>\n",
       "    </tr>\n",
       "    <tr>\n",
       "      <th>5</th>\n",
       "      <td>Indiana</td>\n",
       "      <td>5.058881</td>\n",
       "      <td>National</td>\n",
       "    </tr>\n",
       "    <tr>\n",
       "      <th>6</th>\n",
       "      <td>Iowa</td>\n",
       "      <td>7.003142</td>\n",
       "      <td>National</td>\n",
       "    </tr>\n",
       "    <tr>\n",
       "      <th>7</th>\n",
       "      <td>Arizona</td>\n",
       "      <td>5.652295</td>\n",
       "      <td>National</td>\n",
       "    </tr>\n",
       "    <tr>\n",
       "      <th>8</th>\n",
       "      <td>Maine</td>\n",
       "      <td>8.126964</td>\n",
       "      <td>National</td>\n",
       "    </tr>\n",
       "    <tr>\n",
       "      <th>9</th>\n",
       "      <td>Missouri</td>\n",
       "      <td>6.040566</td>\n",
       "      <td>National</td>\n",
       "    </tr>\n",
       "    <tr>\n",
       "      <th>10</th>\n",
       "      <td>Michigan</td>\n",
       "      <td>8.447772</td>\n",
       "      <td>National</td>\n",
       "    </tr>\n",
       "    <tr>\n",
       "      <th>11</th>\n",
       "      <td>Montana</td>\n",
       "      <td>4.332595</td>\n",
       "      <td>National</td>\n",
       "    </tr>\n",
       "    <tr>\n",
       "      <th>...</th>\n",
       "      <td>...</td>\n",
       "      <td>...</td>\n",
       "      <td>...</td>\n",
       "    </tr>\n",
       "    <tr>\n",
       "      <th>29</th>\n",
       "      <td>Hawaii</td>\n",
       "      <td>8.851564</td>\n",
       "      <td>National</td>\n",
       "    </tr>\n",
       "    <tr>\n",
       "      <th>30</th>\n",
       "      <td>Vermont</td>\n",
       "      <td>8.983443</td>\n",
       "      <td>National</td>\n",
       "    </tr>\n",
       "    <tr>\n",
       "      <th>31</th>\n",
       "      <td>Maryland</td>\n",
       "      <td>8.732396</td>\n",
       "      <td>National</td>\n",
       "    </tr>\n",
       "    <tr>\n",
       "      <th>32</th>\n",
       "      <td>Minnesota</td>\n",
       "      <td>6.073006</td>\n",
       "      <td>National</td>\n",
       "    </tr>\n",
       "    <tr>\n",
       "      <th>33</th>\n",
       "      <td>Illinois</td>\n",
       "      <td>8.421703</td>\n",
       "      <td>National</td>\n",
       "    </tr>\n",
       "    <tr>\n",
       "      <th>34</th>\n",
       "      <td>New Mexico</td>\n",
       "      <td>5.457221</td>\n",
       "      <td>National</td>\n",
       "    </tr>\n",
       "    <tr>\n",
       "      <th>35</th>\n",
       "      <td>North Carolina</td>\n",
       "      <td>3.861141</td>\n",
       "      <td>National</td>\n",
       "    </tr>\n",
       "    <tr>\n",
       "      <th>36</th>\n",
       "      <td>Georgia</td>\n",
       "      <td>3.493845</td>\n",
       "      <td>National</td>\n",
       "    </tr>\n",
       "    <tr>\n",
       "      <th>37</th>\n",
       "      <td>West Virginia</td>\n",
       "      <td>2.499209</td>\n",
       "      <td>National</td>\n",
       "    </tr>\n",
       "    <tr>\n",
       "      <th>38</th>\n",
       "      <td>South Carolina</td>\n",
       "      <td>3.177833</td>\n",
       "      <td>National</td>\n",
       "    </tr>\n",
       "    <tr>\n",
       "      <th>39</th>\n",
       "      <td>Tennessee</td>\n",
       "      <td>2.659344</td>\n",
       "      <td>National</td>\n",
       "    </tr>\n",
       "    <tr>\n",
       "      <th>40</th>\n",
       "      <td>Mississippi</td>\n",
       "      <td>3.057746</td>\n",
       "      <td>National</td>\n",
       "    </tr>\n",
       "  </tbody>\n",
       "</table>\n",
       "<p>41 rows × 3 columns</p>\n",
       "</div>"
      ],
      "text/plain": [
       "             State      poll  Pollster\n",
       "0        Wisconsin  7.440163  National\n",
       "1     North Dakota  3.206165  National\n",
       "2         Nebraska  2.677124  National\n",
       "3             Ohio  6.672285  National\n",
       "4     Pennsylvania  7.613838  National\n",
       "5          Indiana  5.058881  National\n",
       "6             Iowa  7.003142  National\n",
       "7          Arizona  5.652295  National\n",
       "8            Maine  8.126964  National\n",
       "9         Missouri  6.040566  National\n",
       "10        Michigan  8.447772  National\n",
       "11         Montana  4.332595  National\n",
       "..             ...       ...       ...\n",
       "29          Hawaii  8.851564  National\n",
       "30         Vermont  8.983443  National\n",
       "31        Maryland  8.732396  National\n",
       "32       Minnesota  6.073006  National\n",
       "33        Illinois  8.421703  National\n",
       "34      New Mexico  5.457221  National\n",
       "35  North Carolina  3.861141  National\n",
       "36         Georgia  3.493845  National\n",
       "37   West Virginia  2.499209  National\n",
       "38  South Carolina  3.177833  National\n",
       "39       Tennessee  2.659344  National\n",
       "40     Mississippi  3.057746  National\n",
       "\n",
       "[41 rows x 3 columns]"
      ]
     },
     "execution_count": 160,
     "metadata": {},
     "output_type": "execute_result"
    }
   ],
   "source": [
    "trends"
   ]
  },
  {
   "cell_type": "code",
   "execution_count": 161,
   "metadata": {
    "collapsed": false
   },
   "outputs": [],
   "source": [
    "polls = pandas.concat((state_polls, trends))"
   ]
  },
  {
   "cell_type": "code",
   "execution_count": 162,
   "metadata": {
    "collapsed": false
   },
   "outputs": [
    {
     "data": {
      "text/html": [
       "<div>\n",
       "<table border=\"1\" class=\"dataframe\">\n",
       "  <thead>\n",
       "    <tr style=\"text-align: right;\">\n",
       "      <th></th>\n",
       "      <th>Pollster</th>\n",
       "      <th>Weight</th>\n",
       "      <th>PIE</th>\n",
       "    </tr>\n",
       "  </thead>\n",
       "  <tbody>\n",
       "    <tr>\n",
       "      <th>0</th>\n",
       "      <td>ABC / Washington Post</td>\n",
       "      <td>0.95</td>\n",
       "      <td>1.41</td>\n",
       "    </tr>\n",
       "    <tr>\n",
       "      <th>1</th>\n",
       "      <td>American Research Group</td>\n",
       "      <td>0.65</td>\n",
       "      <td>1.76</td>\n",
       "    </tr>\n",
       "    <tr>\n",
       "      <th>2</th>\n",
       "      <td>CBS / New York Times</td>\n",
       "      <td>0.66</td>\n",
       "      <td>1.84</td>\n",
       "    </tr>\n",
       "    <tr>\n",
       "      <th>3</th>\n",
       "      <td>Chicago Trib. / MarketShares</td>\n",
       "      <td>1.16</td>\n",
       "      <td>1.13</td>\n",
       "    </tr>\n",
       "    <tr>\n",
       "      <th>4</th>\n",
       "      <td>CNN / Opinion Research</td>\n",
       "      <td>0.77</td>\n",
       "      <td>1.59</td>\n",
       "    </tr>\n",
       "    <tr>\n",
       "      <th>5</th>\n",
       "      <td>Columbus Dispatch (OH)</td>\n",
       "      <td>0.50</td>\n",
       "      <td>6.76</td>\n",
       "    </tr>\n",
       "    <tr>\n",
       "      <th>6</th>\n",
       "      <td>EPIC-MRA</td>\n",
       "      <td>0.75</td>\n",
       "      <td>1.65</td>\n",
       "    </tr>\n",
       "    <tr>\n",
       "      <th>7</th>\n",
       "      <td>Fairleigh-Dickinson (NJ)</td>\n",
       "      <td>0.71</td>\n",
       "      <td>1.72</td>\n",
       "    </tr>\n",
       "    <tr>\n",
       "      <th>8</th>\n",
       "      <td>Field Poll (CA)</td>\n",
       "      <td>1.33</td>\n",
       "      <td>0.88</td>\n",
       "    </tr>\n",
       "    <tr>\n",
       "      <th>9</th>\n",
       "      <td>Fox / Opinion Dynamics</td>\n",
       "      <td>0.79</td>\n",
       "      <td>1.60</td>\n",
       "    </tr>\n",
       "    <tr>\n",
       "      <th>10</th>\n",
       "      <td>Franklin Pierce (NH)</td>\n",
       "      <td>0.74</td>\n",
       "      <td>1.60</td>\n",
       "    </tr>\n",
       "    <tr>\n",
       "      <th>11</th>\n",
       "      <td>Insider Advantage</td>\n",
       "      <td>0.95</td>\n",
       "      <td>1.29</td>\n",
       "    </tr>\n",
       "    <tr>\n",
       "      <th>...</th>\n",
       "      <td>...</td>\n",
       "      <td>...</td>\n",
       "      <td>...</td>\n",
       "    </tr>\n",
       "    <tr>\n",
       "      <th>20</th>\n",
       "      <td>Quinnipiac</td>\n",
       "      <td>0.95</td>\n",
       "      <td>1.34</td>\n",
       "    </tr>\n",
       "    <tr>\n",
       "      <th>21</th>\n",
       "      <td>Rasmussen</td>\n",
       "      <td>1.30</td>\n",
       "      <td>0.88</td>\n",
       "    </tr>\n",
       "    <tr>\n",
       "      <th>22</th>\n",
       "      <td>Research 2000</td>\n",
       "      <td>1.01</td>\n",
       "      <td>1.20</td>\n",
       "    </tr>\n",
       "    <tr>\n",
       "      <th>23</th>\n",
       "      <td>Selzer</td>\n",
       "      <td>1.47</td>\n",
       "      <td>0.92</td>\n",
       "    </tr>\n",
       "    <tr>\n",
       "      <th>24</th>\n",
       "      <td>Star Tribune (MN)</td>\n",
       "      <td>0.81</td>\n",
       "      <td>2.01</td>\n",
       "    </tr>\n",
       "    <tr>\n",
       "      <th>25</th>\n",
       "      <td>Strategic Vision</td>\n",
       "      <td>0.95</td>\n",
       "      <td>1.45</td>\n",
       "    </tr>\n",
       "    <tr>\n",
       "      <th>26</th>\n",
       "      <td>Suffolk (NH/MA)</td>\n",
       "      <td>0.77</td>\n",
       "      <td>1.37</td>\n",
       "    </tr>\n",
       "    <tr>\n",
       "      <th>27</th>\n",
       "      <td>SurveyUSA</td>\n",
       "      <td>1.91</td>\n",
       "      <td>0.72</td>\n",
       "    </tr>\n",
       "    <tr>\n",
       "      <th>28</th>\n",
       "      <td>Univ. New Hampshire</td>\n",
       "      <td>1.08</td>\n",
       "      <td>1.26</td>\n",
       "    </tr>\n",
       "    <tr>\n",
       "      <th>29</th>\n",
       "      <td>USA Today / Gallup</td>\n",
       "      <td>0.63</td>\n",
       "      <td>2.01</td>\n",
       "    </tr>\n",
       "    <tr>\n",
       "      <th>30</th>\n",
       "      <td>Zogby</td>\n",
       "      <td>0.64</td>\n",
       "      <td>1.72</td>\n",
       "    </tr>\n",
       "    <tr>\n",
       "      <th>31</th>\n",
       "      <td>Zogby Interactive</td>\n",
       "      <td>0.43</td>\n",
       "      <td>4.74</td>\n",
       "    </tr>\n",
       "  </tbody>\n",
       "</table>\n",
       "<p>32 rows × 3 columns</p>\n",
       "</div>"
      ],
      "text/plain": [
       "                        Pollster  Weight   PIE\n",
       "0          ABC / Washington Post    0.95  1.41\n",
       "1        American Research Group    0.65  1.76\n",
       "2           CBS / New York Times    0.66  1.84\n",
       "3   Chicago Trib. / MarketShares    1.16  1.13\n",
       "4         CNN / Opinion Research    0.77  1.59\n",
       "5         Columbus Dispatch (OH)    0.50  6.76\n",
       "6                       EPIC-MRA    0.75  1.65\n",
       "7       Fairleigh-Dickinson (NJ)    0.71  1.72\n",
       "8                Field Poll (CA)    1.33  0.88\n",
       "9         Fox / Opinion Dynamics    0.79  1.60\n",
       "10          Franklin Pierce (NH)    0.74  1.60\n",
       "11             Insider Advantage    0.95  1.29\n",
       "..                           ...     ...   ...\n",
       "20                    Quinnipiac    0.95  1.34\n",
       "21                     Rasmussen    1.30  0.88\n",
       "22                 Research 2000    1.01  1.20\n",
       "23                        Selzer    1.47  0.92\n",
       "24             Star Tribune (MN)    0.81  2.01\n",
       "25              Strategic Vision    0.95  1.45\n",
       "26               Suffolk (NH/MA)    0.77  1.37\n",
       "27                     SurveyUSA    1.91  0.72\n",
       "28           Univ. New Hampshire    1.08  1.26\n",
       "29            USA Today / Gallup    0.63  2.01\n",
       "30                         Zogby    0.64  1.72\n",
       "31             Zogby Interactive    0.43  4.74\n",
       "\n",
       "[32 rows x 3 columns]"
      ]
     },
     "execution_count": 162,
     "metadata": {},
     "output_type": "execute_result"
    }
   ],
   "source": [
    "weights"
   ]
  },
  {
   "cell_type": "code",
   "execution_count": 163,
   "metadata": {
    "collapsed": false
   },
   "outputs": [],
   "source": [
    "natl_weight = pandas.DataFrame([[\"National\", weights.Weight.mean(), weights.PIE.mean()]],\n",
    "                                columns=[\"Pollster\", \"Weight\", \"PIE\"])\n",
    "weights = pandas.concat((weights, natl_weight)).reset_index(drop=True)"
   ]
  },
  {
   "cell_type": "code",
   "execution_count": 164,
   "metadata": {
    "collapsed": false
   },
   "outputs": [],
   "source": [
    "polls = polls.merge(weights, on=\"Pollster\", how=\"left\")"
   ]
  },
  {
   "cell_type": "code",
   "execution_count": 165,
   "metadata": {
    "collapsed": false
   },
   "outputs": [
    {
     "name": "stderr",
     "output_type": "stream",
     "text": [
      "/home/jim/INSTALL/anaconda3/envs/pydata538/lib/python2.7/site-packages/ipykernel/__main__.py:1: FutureWarning: sort(columns=....) is deprecated, use sort_values(by=.....)\n",
      "  if __name__ == '__main__':\n"
     ]
    }
   ],
   "source": [
    "polls = polls.sort(\"State\")"
   ]
  },
  {
   "cell_type": "code",
   "execution_count": 166,
   "metadata": {
    "collapsed": false
   },
   "outputs": [],
   "source": [
    "def weighted_mean(group):\n",
    "    return (group[\"poll\"] * group[\"Weight\"] / group[\"Weight\"].sum()).sum()"
   ]
  },
  {
   "cell_type": "code",
   "execution_count": 167,
   "metadata": {
    "collapsed": false
   },
   "outputs": [
    {
     "data": {
      "text/html": [
       "<div>\n",
       "<table border=\"1\" class=\"dataframe\">\n",
       "  <thead>\n",
       "    <tr style=\"text-align: right;\">\n",
       "      <th></th>\n",
       "      <th>resid</th>\n",
       "      <th>State</th>\n",
       "    </tr>\n",
       "  </thead>\n",
       "  <tbody>\n",
       "    <tr>\n",
       "      <th>304</th>\n",
       "      <td>5.224651</td>\n",
       "      <td>Wisconsin</td>\n",
       "    </tr>\n",
       "    <tr>\n",
       "      <th>305</th>\n",
       "      <td>7.432851</td>\n",
       "      <td>Wisconsin</td>\n",
       "    </tr>\n",
       "    <tr>\n",
       "      <th>306</th>\n",
       "      <td>0.277203</td>\n",
       "      <td>Wisconsin</td>\n",
       "    </tr>\n",
       "    <tr>\n",
       "      <th>307</th>\n",
       "      <td>10.002459</td>\n",
       "      <td>Wisconsin</td>\n",
       "    </tr>\n",
       "    <tr>\n",
       "      <th>308</th>\n",
       "      <td>0.728450</td>\n",
       "      <td>Wisconsin</td>\n",
       "    </tr>\n",
       "    <tr>\n",
       "      <th>309</th>\n",
       "      <td>2.679444</td>\n",
       "      <td>Wisconsin</td>\n",
       "    </tr>\n",
       "    <tr>\n",
       "      <th>310</th>\n",
       "      <td>-0.268988</td>\n",
       "      <td>Wisconsin</td>\n",
       "    </tr>\n",
       "    <tr>\n",
       "      <th>311</th>\n",
       "      <td>0.890637</td>\n",
       "      <td>Wisconsin</td>\n",
       "    </tr>\n",
       "    <tr>\n",
       "      <th>312</th>\n",
       "      <td>7.240347</td>\n",
       "      <td>Wisconsin</td>\n",
       "    </tr>\n",
       "    <tr>\n",
       "      <th>313</th>\n",
       "      <td>-0.644929</td>\n",
       "      <td>Wisconsin</td>\n",
       "    </tr>\n",
       "    <tr>\n",
       "      <th>314</th>\n",
       "      <td>-5.380660</td>\n",
       "      <td>Wisconsin</td>\n",
       "    </tr>\n",
       "    <tr>\n",
       "      <th>315</th>\n",
       "      <td>-1.534117</td>\n",
       "      <td>Wisconsin</td>\n",
       "    </tr>\n",
       "    <tr>\n",
       "      <th>316</th>\n",
       "      <td>-1.534117</td>\n",
       "      <td>Wisconsin</td>\n",
       "    </tr>\n",
       "  </tbody>\n",
       "</table>\n",
       "</div>"
      ],
      "text/plain": [
       "         resid      State\n",
       "304   5.224651  Wisconsin\n",
       "305   7.432851  Wisconsin\n",
       "306   0.277203  Wisconsin\n",
       "307  10.002459  Wisconsin\n",
       "308   0.728450  Wisconsin\n",
       "309   2.679444  Wisconsin\n",
       "310  -0.268988  Wisconsin\n",
       "311   0.890637  Wisconsin\n",
       "312   7.240347  Wisconsin\n",
       "313  -0.644929  Wisconsin\n",
       "314  -5.380660  Wisconsin\n",
       "315  -1.534117  Wisconsin\n",
       "316  -1.534117  Wisconsin"
      ]
     },
     "execution_count": 167,
     "metadata": {},
     "output_type": "execute_result"
    }
   ],
   "source": [
    "group"
   ]
  },
  {
   "cell_type": "code",
   "execution_count": 168,
   "metadata": {
    "collapsed": false
   },
   "outputs": [],
   "source": [
    "results = polls.groupby(\"State\").aggregate(weighted_mean)[\"poll\"]"
   ]
  },
  {
   "cell_type": "code",
   "execution_count": 169,
   "metadata": {
    "collapsed": false
   },
   "outputs": [
    {
     "data": {
      "text/plain": [
       "State\n",
       "Arizona           -5.453958\n",
       "California        19.966475\n",
       "Colorado           2.667843\n",
       "Connecticut        8.936227\n",
       "Florida            2.170963\n",
       "Georgia           -8.811154\n",
       "Hawaii            18.584803\n",
       "Illinois          15.477867\n",
       "Indiana           -7.340970\n",
       "Iowa               2.038001\n",
       "Kansas            -9.766281\n",
       "Maine             12.222222\n",
       "                    ...    \n",
       "Pennsylvania       5.436914\n",
       "Rhode Island      13.236853\n",
       "South Carolina    -6.334382\n",
       "South Dakota      -1.522121\n",
       "Tennessee         -2.521086\n",
       "Texas             -2.295507\n",
       "Utah             -29.179269\n",
       "Vermont           14.891764\n",
       "Virginia           2.420244\n",
       "Washington        12.312505\n",
       "West Virginia     -9.436884\n",
       "Wisconsin          4.530315\n",
       "Name: poll, dtype: float64"
      ]
     },
     "execution_count": 169,
     "metadata": {},
     "output_type": "execute_result"
    }
   ],
   "source": [
    "results"
   ]
  },
  {
   "cell_type": "code",
   "execution_count": 170,
   "metadata": {
    "collapsed": false
   },
   "outputs": [],
   "source": [
    "results = results.reset_index()\n",
    "results[\"obama\"] = 0\n",
    "results[\"romney\"] = 0\n",
    "results.ix[results[\"poll\"] > 0, [\"obama\"]] = 1\n",
    "results.ix[results[\"poll\"] < 0, [\"romney\"]] = 1"
   ]
  },
  {
   "cell_type": "code",
   "execution_count": 171,
   "metadata": {
    "collapsed": false
   },
   "outputs": [],
   "source": [
    "results[[\"State\", \"poll\"]].to_csv(\"./data/2012-predicted.csv\", index=False)"
   ]
  },
  {
   "cell_type": "code",
   "execution_count": 172,
   "metadata": {
    "collapsed": false
   },
   "outputs": [],
   "source": [
    "electoral_votes = pandas.read_csv(\"./data/electoral_votes.csv\")"
   ]
  },
  {
   "cell_type": "code",
   "execution_count": 173,
   "metadata": {
    "collapsed": false
   },
   "outputs": [
    {
     "name": "stderr",
     "output_type": "stream",
     "text": [
      "/home/jim/INSTALL/anaconda3/envs/pydata538/lib/python2.7/site-packages/ipykernel/__main__.py:1: FutureWarning: sort(columns=....) is deprecated, use sort_values(by=.....)\n",
      "  if __name__ == '__main__':\n"
     ]
    }
   ],
   "source": [
    "electoral_votes.sort(\"State\", inplace=True)\n",
    "electoral_votes.reset_index(drop=True, inplace=True)"
   ]
  },
  {
   "cell_type": "code",
   "execution_count": 174,
   "metadata": {
    "collapsed": false
   },
   "outputs": [],
   "source": [
    "results = electoral_votes.merge(results, on=\"State\", how=\"left\")"
   ]
  },
  {
   "cell_type": "code",
   "execution_count": 175,
   "metadata": {
    "collapsed": false
   },
   "outputs": [],
   "source": [
    "results = results.set_index(\"State\")\n",
    "red_states = [\"Alabama\", \"Alaska\", \"Arkansas\", \"Idaho\", \"Kentucky\", \"Louisiana\",\n",
    "              \"Oklahoma\", \"Wyoming\"]\n",
    "blue_states = [\"Delaware\", \"District of Columbia\"]\n",
    "results.ix[red_states, [\"romney\"]] = 1\n",
    "results.ix[red_states, [\"obama\"]] = 0\n",
    "results.ix[blue_states, [\"obama\"]] = 1\n",
    "results.ix[blue_states, [\"romney\"]] = 0"
   ]
  },
  {
   "cell_type": "code",
   "execution_count": 307,
   "metadata": {
    "collapsed": false
   },
   "outputs": [
    {
     "data": {
      "text/html": [
       "<div>\n",
       "<table border=\"1\" class=\"dataframe\">\n",
       "  <thead>\n",
       "    <tr style=\"text-align: right;\">\n",
       "      <th></th>\n",
       "      <th>Votes</th>\n",
       "      <th>poll</th>\n",
       "      <th>obama</th>\n",
       "      <th>romney</th>\n",
       "    </tr>\n",
       "    <tr>\n",
       "      <th>State</th>\n",
       "      <th></th>\n",
       "      <th></th>\n",
       "      <th></th>\n",
       "      <th></th>\n",
       "    </tr>\n",
       "  </thead>\n",
       "  <tbody>\n",
       "    <tr>\n",
       "      <th>Alabama</th>\n",
       "      <td>9</td>\n",
       "      <td>NaN</td>\n",
       "      <td>0</td>\n",
       "      <td>1</td>\n",
       "    </tr>\n",
       "    <tr>\n",
       "      <th>Alaska</th>\n",
       "      <td>3</td>\n",
       "      <td>NaN</td>\n",
       "      <td>0</td>\n",
       "      <td>1</td>\n",
       "    </tr>\n",
       "    <tr>\n",
       "      <th>Arizona</th>\n",
       "      <td>11</td>\n",
       "      <td>-5.453958</td>\n",
       "      <td>0</td>\n",
       "      <td>1</td>\n",
       "    </tr>\n",
       "    <tr>\n",
       "      <th>Arkansas</th>\n",
       "      <td>6</td>\n",
       "      <td>NaN</td>\n",
       "      <td>0</td>\n",
       "      <td>1</td>\n",
       "    </tr>\n",
       "    <tr>\n",
       "      <th>California</th>\n",
       "      <td>55</td>\n",
       "      <td>19.966475</td>\n",
       "      <td>1</td>\n",
       "      <td>0</td>\n",
       "    </tr>\n",
       "    <tr>\n",
       "      <th>Colorado</th>\n",
       "      <td>9</td>\n",
       "      <td>2.667843</td>\n",
       "      <td>1</td>\n",
       "      <td>0</td>\n",
       "    </tr>\n",
       "    <tr>\n",
       "      <th>Connecticut</th>\n",
       "      <td>7</td>\n",
       "      <td>8.936227</td>\n",
       "      <td>1</td>\n",
       "      <td>0</td>\n",
       "    </tr>\n",
       "    <tr>\n",
       "      <th>Delaware</th>\n",
       "      <td>3</td>\n",
       "      <td>NaN</td>\n",
       "      <td>1</td>\n",
       "      <td>0</td>\n",
       "    </tr>\n",
       "    <tr>\n",
       "      <th>District of Columbia</th>\n",
       "      <td>3</td>\n",
       "      <td>NaN</td>\n",
       "      <td>1</td>\n",
       "      <td>0</td>\n",
       "    </tr>\n",
       "    <tr>\n",
       "      <th>Florida</th>\n",
       "      <td>29</td>\n",
       "      <td>2.170963</td>\n",
       "      <td>1</td>\n",
       "      <td>0</td>\n",
       "    </tr>\n",
       "    <tr>\n",
       "      <th>Georgia</th>\n",
       "      <td>16</td>\n",
       "      <td>-8.811154</td>\n",
       "      <td>0</td>\n",
       "      <td>1</td>\n",
       "    </tr>\n",
       "    <tr>\n",
       "      <th>Hawaii</th>\n",
       "      <td>4</td>\n",
       "      <td>18.584803</td>\n",
       "      <td>1</td>\n",
       "      <td>0</td>\n",
       "    </tr>\n",
       "    <tr>\n",
       "      <th>...</th>\n",
       "      <td>...</td>\n",
       "      <td>...</td>\n",
       "      <td>...</td>\n",
       "      <td>...</td>\n",
       "    </tr>\n",
       "    <tr>\n",
       "      <th>Rhode Island</th>\n",
       "      <td>4</td>\n",
       "      <td>13.236853</td>\n",
       "      <td>1</td>\n",
       "      <td>0</td>\n",
       "    </tr>\n",
       "    <tr>\n",
       "      <th>South Carolina</th>\n",
       "      <td>9</td>\n",
       "      <td>-6.334382</td>\n",
       "      <td>0</td>\n",
       "      <td>1</td>\n",
       "    </tr>\n",
       "    <tr>\n",
       "      <th>South Dakota</th>\n",
       "      <td>3</td>\n",
       "      <td>-1.522121</td>\n",
       "      <td>0</td>\n",
       "      <td>1</td>\n",
       "    </tr>\n",
       "    <tr>\n",
       "      <th>Tennessee</th>\n",
       "      <td>11</td>\n",
       "      <td>-2.521086</td>\n",
       "      <td>0</td>\n",
       "      <td>1</td>\n",
       "    </tr>\n",
       "    <tr>\n",
       "      <th>Texas</th>\n",
       "      <td>38</td>\n",
       "      <td>-2.295507</td>\n",
       "      <td>0</td>\n",
       "      <td>1</td>\n",
       "    </tr>\n",
       "    <tr>\n",
       "      <th>Utah</th>\n",
       "      <td>6</td>\n",
       "      <td>-29.179269</td>\n",
       "      <td>0</td>\n",
       "      <td>1</td>\n",
       "    </tr>\n",
       "    <tr>\n",
       "      <th>Vermont</th>\n",
       "      <td>3</td>\n",
       "      <td>14.891764</td>\n",
       "      <td>1</td>\n",
       "      <td>0</td>\n",
       "    </tr>\n",
       "    <tr>\n",
       "      <th>Virginia</th>\n",
       "      <td>13</td>\n",
       "      <td>2.420244</td>\n",
       "      <td>1</td>\n",
       "      <td>0</td>\n",
       "    </tr>\n",
       "    <tr>\n",
       "      <th>Washington</th>\n",
       "      <td>12</td>\n",
       "      <td>12.312505</td>\n",
       "      <td>1</td>\n",
       "      <td>0</td>\n",
       "    </tr>\n",
       "    <tr>\n",
       "      <th>West Virginia</th>\n",
       "      <td>5</td>\n",
       "      <td>-9.436884</td>\n",
       "      <td>0</td>\n",
       "      <td>1</td>\n",
       "    </tr>\n",
       "    <tr>\n",
       "      <th>Wisconsin</th>\n",
       "      <td>10</td>\n",
       "      <td>4.530315</td>\n",
       "      <td>1</td>\n",
       "      <td>0</td>\n",
       "    </tr>\n",
       "    <tr>\n",
       "      <th>Wyoming</th>\n",
       "      <td>3</td>\n",
       "      <td>NaN</td>\n",
       "      <td>0</td>\n",
       "      <td>1</td>\n",
       "    </tr>\n",
       "  </tbody>\n",
       "</table>\n",
       "<p>51 rows × 4 columns</p>\n",
       "</div>"
      ],
      "text/plain": [
       "                      Votes       poll  obama  romney\n",
       "State                                                \n",
       "Alabama                   9        NaN      0       1\n",
       "Alaska                    3        NaN      0       1\n",
       "Arizona                  11  -5.453958      0       1\n",
       "Arkansas                  6        NaN      0       1\n",
       "California               55  19.966475      1       0\n",
       "Colorado                  9   2.667843      1       0\n",
       "Connecticut               7   8.936227      1       0\n",
       "Delaware                  3        NaN      1       0\n",
       "District of Columbia      3        NaN      1       0\n",
       "Florida                  29   2.170963      1       0\n",
       "Georgia                  16  -8.811154      0       1\n",
       "Hawaii                    4  18.584803      1       0\n",
       "...                     ...        ...    ...     ...\n",
       "Rhode Island              4  13.236853      1       0\n",
       "South Carolina            9  -6.334382      0       1\n",
       "South Dakota              3  -1.522121      0       1\n",
       "Tennessee                11  -2.521086      0       1\n",
       "Texas                    38  -2.295507      0       1\n",
       "Utah                      6 -29.179269      0       1\n",
       "Vermont                   3  14.891764      1       0\n",
       "Virginia                 13   2.420244      1       0\n",
       "Washington               12  12.312505      1       0\n",
       "West Virginia             5  -9.436884      0       1\n",
       "Wisconsin                10   4.530315      1       0\n",
       "Wyoming                   3        NaN      0       1\n",
       "\n",
       "[51 rows x 4 columns]"
      ]
     },
     "execution_count": 307,
     "metadata": {},
     "output_type": "execute_result"
    }
   ],
   "source": [
    "results"
   ]
  },
  {
   "cell_type": "code",
   "execution_count": 177,
   "metadata": {
    "collapsed": false
   },
   "outputs": [
    {
     "data": {
      "text/plain": [
       "328.0"
      ]
     },
     "execution_count": 177,
     "metadata": {},
     "output_type": "execute_result"
    }
   ],
   "source": [
    "results[\"Votes\"].mul(results[\"obama\"]).sum()"
   ]
  },
  {
   "cell_type": "code",
   "execution_count": 178,
   "metadata": {
    "collapsed": false
   },
   "outputs": [
    {
     "data": {
      "text/plain": [
       "210.0"
      ]
     },
     "execution_count": 178,
     "metadata": {},
     "output_type": "execute_result"
    }
   ],
   "source": [
    "results[\"Votes\"].mul(results[\"romney\"]).sum()"
   ]
  },
  {
   "cell_type": "code",
   "execution_count": 179,
   "metadata": {
    "collapsed": false
   },
   "outputs": [
    {
     "data": {
      "text/html": [
       "<div>\n",
       "<table border=\"1\" class=\"dataframe\">\n",
       "  <thead>\n",
       "    <tr style=\"text-align: right;\">\n",
       "      <th></th>\n",
       "      <th>Votes</th>\n",
       "      <th>poll</th>\n",
       "      <th>obama</th>\n",
       "      <th>romney</th>\n",
       "    </tr>\n",
       "    <tr>\n",
       "      <th>State</th>\n",
       "      <th></th>\n",
       "      <th></th>\n",
       "      <th></th>\n",
       "      <th></th>\n",
       "    </tr>\n",
       "  </thead>\n",
       "  <tbody>\n",
       "    <tr>\n",
       "      <th>Alabama</th>\n",
       "      <td>9</td>\n",
       "      <td>NaN</td>\n",
       "      <td>0</td>\n",
       "      <td>1</td>\n",
       "    </tr>\n",
       "    <tr>\n",
       "      <th>Alaska</th>\n",
       "      <td>3</td>\n",
       "      <td>NaN</td>\n",
       "      <td>0</td>\n",
       "      <td>1</td>\n",
       "    </tr>\n",
       "    <tr>\n",
       "      <th>Arizona</th>\n",
       "      <td>11</td>\n",
       "      <td>-5.453958</td>\n",
       "      <td>0</td>\n",
       "      <td>1</td>\n",
       "    </tr>\n",
       "    <tr>\n",
       "      <th>Arkansas</th>\n",
       "      <td>6</td>\n",
       "      <td>NaN</td>\n",
       "      <td>0</td>\n",
       "      <td>1</td>\n",
       "    </tr>\n",
       "    <tr>\n",
       "      <th>California</th>\n",
       "      <td>55</td>\n",
       "      <td>19.966475</td>\n",
       "      <td>1</td>\n",
       "      <td>0</td>\n",
       "    </tr>\n",
       "    <tr>\n",
       "      <th>Colorado</th>\n",
       "      <td>9</td>\n",
       "      <td>2.667843</td>\n",
       "      <td>1</td>\n",
       "      <td>0</td>\n",
       "    </tr>\n",
       "    <tr>\n",
       "      <th>Connecticut</th>\n",
       "      <td>7</td>\n",
       "      <td>8.936227</td>\n",
       "      <td>1</td>\n",
       "      <td>0</td>\n",
       "    </tr>\n",
       "    <tr>\n",
       "      <th>Delaware</th>\n",
       "      <td>3</td>\n",
       "      <td>NaN</td>\n",
       "      <td>1</td>\n",
       "      <td>0</td>\n",
       "    </tr>\n",
       "    <tr>\n",
       "      <th>District of Columbia</th>\n",
       "      <td>3</td>\n",
       "      <td>NaN</td>\n",
       "      <td>1</td>\n",
       "      <td>0</td>\n",
       "    </tr>\n",
       "    <tr>\n",
       "      <th>Florida</th>\n",
       "      <td>29</td>\n",
       "      <td>2.170963</td>\n",
       "      <td>1</td>\n",
       "      <td>0</td>\n",
       "    </tr>\n",
       "    <tr>\n",
       "      <th>Georgia</th>\n",
       "      <td>16</td>\n",
       "      <td>-8.811154</td>\n",
       "      <td>0</td>\n",
       "      <td>1</td>\n",
       "    </tr>\n",
       "    <tr>\n",
       "      <th>Hawaii</th>\n",
       "      <td>4</td>\n",
       "      <td>18.584803</td>\n",
       "      <td>1</td>\n",
       "      <td>0</td>\n",
       "    </tr>\n",
       "    <tr>\n",
       "      <th>...</th>\n",
       "      <td>...</td>\n",
       "      <td>...</td>\n",
       "      <td>...</td>\n",
       "      <td>...</td>\n",
       "    </tr>\n",
       "    <tr>\n",
       "      <th>Rhode Island</th>\n",
       "      <td>4</td>\n",
       "      <td>13.236853</td>\n",
       "      <td>1</td>\n",
       "      <td>0</td>\n",
       "    </tr>\n",
       "    <tr>\n",
       "      <th>South Carolina</th>\n",
       "      <td>9</td>\n",
       "      <td>-6.334382</td>\n",
       "      <td>0</td>\n",
       "      <td>1</td>\n",
       "    </tr>\n",
       "    <tr>\n",
       "      <th>South Dakota</th>\n",
       "      <td>3</td>\n",
       "      <td>-1.522121</td>\n",
       "      <td>0</td>\n",
       "      <td>1</td>\n",
       "    </tr>\n",
       "    <tr>\n",
       "      <th>Tennessee</th>\n",
       "      <td>11</td>\n",
       "      <td>-2.521086</td>\n",
       "      <td>0</td>\n",
       "      <td>1</td>\n",
       "    </tr>\n",
       "    <tr>\n",
       "      <th>Texas</th>\n",
       "      <td>38</td>\n",
       "      <td>-2.295507</td>\n",
       "      <td>0</td>\n",
       "      <td>1</td>\n",
       "    </tr>\n",
       "    <tr>\n",
       "      <th>Utah</th>\n",
       "      <td>6</td>\n",
       "      <td>-29.179269</td>\n",
       "      <td>0</td>\n",
       "      <td>1</td>\n",
       "    </tr>\n",
       "    <tr>\n",
       "      <th>Vermont</th>\n",
       "      <td>3</td>\n",
       "      <td>14.891764</td>\n",
       "      <td>1</td>\n",
       "      <td>0</td>\n",
       "    </tr>\n",
       "    <tr>\n",
       "      <th>Virginia</th>\n",
       "      <td>13</td>\n",
       "      <td>2.420244</td>\n",
       "      <td>1</td>\n",
       "      <td>0</td>\n",
       "    </tr>\n",
       "    <tr>\n",
       "      <th>Washington</th>\n",
       "      <td>12</td>\n",
       "      <td>12.312505</td>\n",
       "      <td>1</td>\n",
       "      <td>0</td>\n",
       "    </tr>\n",
       "    <tr>\n",
       "      <th>West Virginia</th>\n",
       "      <td>5</td>\n",
       "      <td>-9.436884</td>\n",
       "      <td>0</td>\n",
       "      <td>1</td>\n",
       "    </tr>\n",
       "    <tr>\n",
       "      <th>Wisconsin</th>\n",
       "      <td>10</td>\n",
       "      <td>4.530315</td>\n",
       "      <td>1</td>\n",
       "      <td>0</td>\n",
       "    </tr>\n",
       "    <tr>\n",
       "      <th>Wyoming</th>\n",
       "      <td>3</td>\n",
       "      <td>NaN</td>\n",
       "      <td>0</td>\n",
       "      <td>1</td>\n",
       "    </tr>\n",
       "  </tbody>\n",
       "</table>\n",
       "<p>51 rows × 4 columns</p>\n",
       "</div>"
      ],
      "text/plain": [
       "                      Votes       poll  obama  romney\n",
       "State                                                \n",
       "Alabama                   9        NaN      0       1\n",
       "Alaska                    3        NaN      0       1\n",
       "Arizona                  11  -5.453958      0       1\n",
       "Arkansas                  6        NaN      0       1\n",
       "California               55  19.966475      1       0\n",
       "Colorado                  9   2.667843      1       0\n",
       "Connecticut               7   8.936227      1       0\n",
       "Delaware                  3        NaN      1       0\n",
       "District of Columbia      3        NaN      1       0\n",
       "Florida                  29   2.170963      1       0\n",
       "Georgia                  16  -8.811154      0       1\n",
       "Hawaii                    4  18.584803      1       0\n",
       "...                     ...        ...    ...     ...\n",
       "Rhode Island              4  13.236853      1       0\n",
       "South Carolina            9  -6.334382      0       1\n",
       "South Dakota              3  -1.522121      0       1\n",
       "Tennessee                11  -2.521086      0       1\n",
       "Texas                    38  -2.295507      0       1\n",
       "Utah                      6 -29.179269      0       1\n",
       "Vermont                   3  14.891764      1       0\n",
       "Virginia                 13   2.420244      1       0\n",
       "Washington               12  12.312505      1       0\n",
       "West Virginia             5  -9.436884      0       1\n",
       "Wisconsin                10   4.530315      1       0\n",
       "Wyoming                   3        NaN      0       1\n",
       "\n",
       "[51 rows x 4 columns]"
      ]
     },
     "execution_count": 179,
     "metadata": {},
     "output_type": "execute_result"
    }
   ],
   "source": [
    "results"
   ]
  },
  {
   "cell_type": "markdown",
   "metadata": {},
   "source": [
    "TODO:"
   ]
  },
  {
   "cell_type": "markdown",
   "metadata": {},
   "source": [
    "Divide undecided voters probabilistically."
   ]
  },
  {
   "cell_type": "markdown",
   "metadata": {},
   "source": [
    "Do historical adjustments based on how polls changed in the past conditional on \"election environment\""
   ]
  },
  {
   "cell_type": "markdown",
   "metadata": {},
   "source": [
    "\"Error analysis\""
   ]
  },
  {
   "cell_type": "markdown",
   "metadata": {},
   "source": [
    "# Error Analysis"
   ]
  },
  {
   "cell_type": "markdown",
   "metadata": {},
   "source": [
    "Polling errors are from sample variance and other ambiguities inherent to polling\n",
    "\n",
    "Model the Polling error, based on these factors:\n",
    "\n",
    "* The error is higher in races with fewer polls\n",
    "* The error is higher in races where the polls disagree with one another.\n",
    "* The error is higher when there are a larger number of undecided voters.\n",
    "* The error is higher when the margin between the two candidates is lopsided.\n",
    "* The error is higher the further one is from Election Day.\n",
    "\n",
    "We don't have the data to model this but we will guestimate so we can show you the full process.\n",
    "\n",
    "We need error estimates for each state (local error) and for the generic ballot (national error). These are combined to get the total error for each state.\n",
    "\n",
    "The national error creates correlation between the state results.\n",
    "\n",
    "$$\n",
    "LocalError = \\sqrt{TotalError^{2} + NationalError^{2}}\n",
    "$$\n",
    "\n",
    "\n",
    "\n",
    "Source: http://fivethirtyeight.blogs.nytimes.com/methodology/?_r=0"
   ]
  },
  {
   "cell_type": "code",
   "execution_count": 282,
   "metadata": {
    "collapsed": false
   },
   "outputs": [
    {
     "data": {
      "text/plain": [
       "Colorado         1.3\n",
       "Florida          2.2\n",
       "Iowa             1.3\n",
       "New Hampshire    2.5\n",
       "Nevada           2.2\n",
       "Ohio             1.2\n",
       "Virginia         2.2\n",
       "Wisconsin        1.5\n",
       "dtype: float64"
      ]
     },
     "execution_count": 282,
     "metadata": {},
     "output_type": "execute_result"
    }
   ],
   "source": [
    "national_margin_of_error = 2.5\n",
    "local_margin_of_error = Series(np.array([1.3, 2.2, 1.3, 2.5, 2.2, 1.2, 2.2, 1.5]), index=tossup)\n",
    "local_margin_of_error"
   ]
  },
  {
   "cell_type": "code",
   "execution_count": 283,
   "metadata": {
    "collapsed": true
   },
   "outputs": [],
   "source": [
    "np.random.seed(1)\n",
    "N = 10000\n",
    "local_error_sim = DataFrame(np.random.randn(N, len(tossup)), columns=tossup).multiply(local_margin_of_error)\n",
    "national_error_sim = Series(np.random.randn(N) * national_margin_of_error)"
   ]
  },
  {
   "cell_type": "code",
   "execution_count": 284,
   "metadata": {
    "collapsed": false
   },
   "outputs": [
    {
     "data": {
      "text/html": [
       "<div>\n",
       "<table border=\"1\" class=\"dataframe\">\n",
       "  <thead>\n",
       "    <tr style=\"text-align: right;\">\n",
       "      <th></th>\n",
       "      <th>Colorado</th>\n",
       "      <th>Florida</th>\n",
       "      <th>Iowa</th>\n",
       "      <th>New Hampshire</th>\n",
       "      <th>Nevada</th>\n",
       "      <th>Ohio</th>\n",
       "      <th>Virginia</th>\n",
       "      <th>Wisconsin</th>\n",
       "    </tr>\n",
       "  </thead>\n",
       "  <tbody>\n",
       "    <tr>\n",
       "      <th>0</th>\n",
       "      <td>2.111649</td>\n",
       "      <td>-1.345864</td>\n",
       "      <td>-0.686623</td>\n",
       "      <td>-2.682422</td>\n",
       "      <td>1.903897</td>\n",
       "      <td>-2.761846</td>\n",
       "      <td>3.838586</td>\n",
       "      <td>-1.141810</td>\n",
       "    </tr>\n",
       "    <tr>\n",
       "      <th>1</th>\n",
       "      <td>0.414751</td>\n",
       "      <td>-0.548615</td>\n",
       "      <td>1.900740</td>\n",
       "      <td>-5.150352</td>\n",
       "      <td>-0.709318</td>\n",
       "      <td>-0.460865</td>\n",
       "      <td>2.494293</td>\n",
       "      <td>-1.649837</td>\n",
       "    </tr>\n",
       "    <tr>\n",
       "      <th>2</th>\n",
       "      <td>-0.224157</td>\n",
       "      <td>-1.931289</td>\n",
       "      <td>0.054878</td>\n",
       "      <td>1.457038</td>\n",
       "      <td>-2.421362</td>\n",
       "      <td>1.373668</td>\n",
       "      <td>1.983500</td>\n",
       "      <td>0.753742</td>\n",
       "    </tr>\n",
       "    <tr>\n",
       "      <th>3</th>\n",
       "      <td>1.171113</td>\n",
       "      <td>-1.504201</td>\n",
       "      <td>-0.159757</td>\n",
       "      <td>-2.339424</td>\n",
       "      <td>-0.589354</td>\n",
       "      <td>0.636427</td>\n",
       "      <td>-1.521654</td>\n",
       "      <td>-0.595130</td>\n",
       "    </tr>\n",
       "    <tr>\n",
       "      <th>4</th>\n",
       "      <td>-0.893325</td>\n",
       "      <td>-1.859452</td>\n",
       "      <td>-0.872620</td>\n",
       "      <td>-0.031661</td>\n",
       "      <td>-2.458083</td>\n",
       "      <td>0.281299</td>\n",
       "      <td>3.651565</td>\n",
       "      <td>1.113066</td>\n",
       "    </tr>\n",
       "    <tr>\n",
       "      <th>5</th>\n",
       "      <td>-0.249386</td>\n",
       "      <td>-1.952784</td>\n",
       "      <td>-0.971306</td>\n",
       "      <td>4.231137</td>\n",
       "      <td>0.111777</td>\n",
       "      <td>-0.764395</td>\n",
       "      <td>0.420014</td>\n",
       "      <td>3.150383</td>\n",
       "    </tr>\n",
       "    <tr>\n",
       "      <th>6</th>\n",
       "      <td>0.156207</td>\n",
       "      <td>1.357847</td>\n",
       "      <td>0.390221</td>\n",
       "      <td>-0.880625</td>\n",
       "      <td>-2.513540</td>\n",
       "      <td>-0.419211</td>\n",
       "      <td>-0.459567</td>\n",
       "      <td>0.879935</td>\n",
       "    </tr>\n",
       "    <tr>\n",
       "      <th>7</th>\n",
       "      <td>1.090678</td>\n",
       "      <td>2.048425</td>\n",
       "      <td>0.371264</td>\n",
       "      <td>2.212853</td>\n",
       "      <td>-1.659675</td>\n",
       "      <td>1.503442</td>\n",
       "      <td>1.128446</td>\n",
       "      <td>-0.447139</td>\n",
       "    </tr>\n",
       "    <tr>\n",
       "      <th>8</th>\n",
       "      <td>0.635074</td>\n",
       "      <td>-0.166258</td>\n",
       "      <td>1.471118</td>\n",
       "      <td>3.799542</td>\n",
       "      <td>4.808266</td>\n",
       "      <td>-1.675796</td>\n",
       "      <td>-3.177050</td>\n",
       "      <td>-0.756699</td>\n",
       "    </tr>\n",
       "    <tr>\n",
       "      <th>9</th>\n",
       "      <td>0.208048</td>\n",
       "      <td>1.927572</td>\n",
       "      <td>0.410325</td>\n",
       "      <td>-5.055503</td>\n",
       "      <td>-0.673649</td>\n",
       "      <td>0.993570</td>\n",
       "      <td>0.506208</td>\n",
       "      <td>1.143017</td>\n",
       "    </tr>\n",
       "  </tbody>\n",
       "</table>\n",
       "</div>"
      ],
      "text/plain": [
       "   Colorado   Florida      Iowa  New Hampshire    Nevada      Ohio  Virginia  Wisconsin\n",
       "0  2.111649 -1.345864 -0.686623      -2.682422  1.903897 -2.761846  3.838586  -1.141810\n",
       "1  0.414751 -0.548615  1.900740      -5.150352 -0.709318 -0.460865  2.494293  -1.649837\n",
       "2 -0.224157 -1.931289  0.054878       1.457038 -2.421362  1.373668  1.983500   0.753742\n",
       "3  1.171113 -1.504201 -0.159757      -2.339424 -0.589354  0.636427 -1.521654  -0.595130\n",
       "4 -0.893325 -1.859452 -0.872620      -0.031661 -2.458083  0.281299  3.651565   1.113066\n",
       "5 -0.249386 -1.952784 -0.971306       4.231137  0.111777 -0.764395  0.420014   3.150383\n",
       "6  0.156207  1.357847  0.390221      -0.880625 -2.513540 -0.419211 -0.459567   0.879935\n",
       "7  1.090678  2.048425  0.371264       2.212853 -1.659675  1.503442  1.128446  -0.447139\n",
       "8  0.635074 -0.166258  1.471118       3.799542  4.808266 -1.675796 -3.177050  -0.756699\n",
       "9  0.208048  1.927572  0.410325      -5.055503 -0.673649  0.993570  0.506208   1.143017"
      ]
     },
     "execution_count": 284,
     "metadata": {},
     "output_type": "execute_result"
    }
   ],
   "source": [
    "# local error deviations\n",
    "local_error_sim.iloc[:10,]"
   ]
  },
  {
   "cell_type": "code",
   "execution_count": 285,
   "metadata": {
    "collapsed": false
   },
   "outputs": [
    {
     "data": {
      "text/html": [
       "<div>\n",
       "<table border=\"1\" class=\"dataframe\">\n",
       "  <thead>\n",
       "    <tr style=\"text-align: right;\">\n",
       "      <th></th>\n",
       "      <th>Colorado</th>\n",
       "      <th>Florida</th>\n",
       "      <th>Iowa</th>\n",
       "      <th>New Hampshire</th>\n",
       "      <th>Nevada</th>\n",
       "      <th>Ohio</th>\n",
       "      <th>Virginia</th>\n",
       "      <th>Wisconsin</th>\n",
       "    </tr>\n",
       "  </thead>\n",
       "  <tbody>\n",
       "    <tr>\n",
       "      <th>0</th>\n",
       "      <td>5.309166</td>\n",
       "      <td>1.851653</td>\n",
       "      <td>2.510894</td>\n",
       "      <td>0.515095</td>\n",
       "      <td>5.101414</td>\n",
       "      <td>0.435670</td>\n",
       "      <td>7.036103</td>\n",
       "      <td>2.055707</td>\n",
       "    </tr>\n",
       "    <tr>\n",
       "      <th>1</th>\n",
       "      <td>0.010694</td>\n",
       "      <td>-0.952671</td>\n",
       "      <td>1.496684</td>\n",
       "      <td>-5.554408</td>\n",
       "      <td>-1.113375</td>\n",
       "      <td>-0.864922</td>\n",
       "      <td>2.090236</td>\n",
       "      <td>-2.053894</td>\n",
       "    </tr>\n",
       "    <tr>\n",
       "      <th>2</th>\n",
       "      <td>-1.796023</td>\n",
       "      <td>-3.503155</td>\n",
       "      <td>-1.516988</td>\n",
       "      <td>-0.114828</td>\n",
       "      <td>-3.993228</td>\n",
       "      <td>-0.198198</td>\n",
       "      <td>0.411633</td>\n",
       "      <td>-0.818125</td>\n",
       "    </tr>\n",
       "    <tr>\n",
       "      <th>3</th>\n",
       "      <td>-2.074291</td>\n",
       "      <td>-4.749605</td>\n",
       "      <td>-3.405161</td>\n",
       "      <td>-5.584828</td>\n",
       "      <td>-3.834758</td>\n",
       "      <td>-2.608977</td>\n",
       "      <td>-4.767058</td>\n",
       "      <td>-3.840534</td>\n",
       "    </tr>\n",
       "    <tr>\n",
       "      <th>4</th>\n",
       "      <td>2.319566</td>\n",
       "      <td>1.353438</td>\n",
       "      <td>2.340271</td>\n",
       "      <td>3.181229</td>\n",
       "      <td>0.754808</td>\n",
       "      <td>3.494189</td>\n",
       "      <td>6.864455</td>\n",
       "      <td>4.325957</td>\n",
       "    </tr>\n",
       "    <tr>\n",
       "      <th>5</th>\n",
       "      <td>-1.913171</td>\n",
       "      <td>-3.616568</td>\n",
       "      <td>-2.635090</td>\n",
       "      <td>2.567352</td>\n",
       "      <td>-1.552008</td>\n",
       "      <td>-2.428179</td>\n",
       "      <td>-1.243771</td>\n",
       "      <td>1.486598</td>\n",
       "    </tr>\n",
       "    <tr>\n",
       "      <th>6</th>\n",
       "      <td>-0.276474</td>\n",
       "      <td>0.925166</td>\n",
       "      <td>-0.042459</td>\n",
       "      <td>-1.313305</td>\n",
       "      <td>-2.946220</td>\n",
       "      <td>-0.851892</td>\n",
       "      <td>-0.892248</td>\n",
       "      <td>0.447254</td>\n",
       "    </tr>\n",
       "    <tr>\n",
       "      <th>7</th>\n",
       "      <td>1.280872</td>\n",
       "      <td>2.238618</td>\n",
       "      <td>0.561457</td>\n",
       "      <td>2.403047</td>\n",
       "      <td>-1.469482</td>\n",
       "      <td>1.693635</td>\n",
       "      <td>1.318639</td>\n",
       "      <td>-0.256946</td>\n",
       "    </tr>\n",
       "    <tr>\n",
       "      <th>8</th>\n",
       "      <td>1.049680</td>\n",
       "      <td>0.248349</td>\n",
       "      <td>1.885724</td>\n",
       "      <td>4.214148</td>\n",
       "      <td>5.222872</td>\n",
       "      <td>-1.261189</td>\n",
       "      <td>-2.762444</td>\n",
       "      <td>-0.342093</td>\n",
       "    </tr>\n",
       "    <tr>\n",
       "      <th>9</th>\n",
       "      <td>-3.075249</td>\n",
       "      <td>-1.355726</td>\n",
       "      <td>-2.872972</td>\n",
       "      <td>-8.338800</td>\n",
       "      <td>-3.956946</td>\n",
       "      <td>-2.289728</td>\n",
       "      <td>-2.777089</td>\n",
       "      <td>-2.140280</td>\n",
       "    </tr>\n",
       "  </tbody>\n",
       "</table>\n",
       "</div>"
      ],
      "text/plain": [
       "   Colorado   Florida      Iowa  New Hampshire    Nevada      Ohio  Virginia  Wisconsin\n",
       "0  5.309166  1.851653  2.510894       0.515095  5.101414  0.435670  7.036103   2.055707\n",
       "1  0.010694 -0.952671  1.496684      -5.554408 -1.113375 -0.864922  2.090236  -2.053894\n",
       "2 -1.796023 -3.503155 -1.516988      -0.114828 -3.993228 -0.198198  0.411633  -0.818125\n",
       "3 -2.074291 -4.749605 -3.405161      -5.584828 -3.834758 -2.608977 -4.767058  -3.840534\n",
       "4  2.319566  1.353438  2.340271       3.181229  0.754808  3.494189  6.864455   4.325957\n",
       "5 -1.913171 -3.616568 -2.635090       2.567352 -1.552008 -2.428179 -1.243771   1.486598\n",
       "6 -0.276474  0.925166 -0.042459      -1.313305 -2.946220 -0.851892 -0.892248   0.447254\n",
       "7  1.280872  2.238618  0.561457       2.403047 -1.469482  1.693635  1.318639  -0.256946\n",
       "8  1.049680  0.248349  1.885724       4.214148  5.222872 -1.261189 -2.762444  -0.342093\n",
       "9 -3.075249 -1.355726 -2.872972      -8.338800 -3.956946 -2.289728 -2.777089  -2.140280"
      ]
     },
     "execution_count": 285,
     "metadata": {},
     "output_type": "execute_result"
    }
   ],
   "source": [
    "# total error deviations\n",
    "total_error_sim = local_error_sim.add(national_error_sim, axis='rows')\n",
    "total_error_sim.iloc[:10,]"
   ]
  },
  {
   "cell_type": "code",
   "execution_count": 286,
   "metadata": {
    "collapsed": false
   },
   "outputs": [
    {
     "data": {
      "text/html": [
       "<div>\n",
       "<table border=\"1\" class=\"dataframe\">\n",
       "  <thead>\n",
       "    <tr style=\"text-align: right;\">\n",
       "      <th></th>\n",
       "      <th>Colorado</th>\n",
       "      <th>Florida</th>\n",
       "      <th>Iowa</th>\n",
       "      <th>New Hampshire</th>\n",
       "      <th>Nevada</th>\n",
       "      <th>Ohio</th>\n",
       "      <th>Virginia</th>\n",
       "      <th>Wisconsin</th>\n",
       "    </tr>\n",
       "  </thead>\n",
       "  <tbody>\n",
       "    <tr>\n",
       "      <th>0</th>\n",
       "      <td>7.977009</td>\n",
       "      <td>4.022616</td>\n",
       "      <td>4.548895</td>\n",
       "      <td>-1.031961</td>\n",
       "      <td>10.194544</td>\n",
       "      <td>4.611726</td>\n",
       "      <td>9.456347</td>\n",
       "      <td>6.586022</td>\n",
       "    </tr>\n",
       "    <tr>\n",
       "      <th>1</th>\n",
       "      <td>2.678537</td>\n",
       "      <td>1.218292</td>\n",
       "      <td>3.534685</td>\n",
       "      <td>-7.101465</td>\n",
       "      <td>3.979756</td>\n",
       "      <td>3.311133</td>\n",
       "      <td>4.510480</td>\n",
       "      <td>2.476422</td>\n",
       "    </tr>\n",
       "    <tr>\n",
       "      <th>2</th>\n",
       "      <td>0.871820</td>\n",
       "      <td>-1.332192</td>\n",
       "      <td>0.521013</td>\n",
       "      <td>-1.661884</td>\n",
       "      <td>1.099902</td>\n",
       "      <td>3.977857</td>\n",
       "      <td>2.831878</td>\n",
       "      <td>3.712191</td>\n",
       "    </tr>\n",
       "    <tr>\n",
       "      <th>3</th>\n",
       "      <td>0.593552</td>\n",
       "      <td>-2.578642</td>\n",
       "      <td>-1.367160</td>\n",
       "      <td>-7.131884</td>\n",
       "      <td>1.258372</td>\n",
       "      <td>1.567078</td>\n",
       "      <td>-2.346813</td>\n",
       "      <td>0.689781</td>\n",
       "    </tr>\n",
       "    <tr>\n",
       "      <th>4</th>\n",
       "      <td>4.987409</td>\n",
       "      <td>3.524401</td>\n",
       "      <td>4.378272</td>\n",
       "      <td>1.634173</td>\n",
       "      <td>5.847938</td>\n",
       "      <td>7.670245</td>\n",
       "      <td>9.284700</td>\n",
       "      <td>8.856272</td>\n",
       "    </tr>\n",
       "    <tr>\n",
       "      <th>5</th>\n",
       "      <td>0.754672</td>\n",
       "      <td>-1.445605</td>\n",
       "      <td>-0.597089</td>\n",
       "      <td>1.020296</td>\n",
       "      <td>3.541123</td>\n",
       "      <td>1.747876</td>\n",
       "      <td>1.176474</td>\n",
       "      <td>6.016913</td>\n",
       "    </tr>\n",
       "    <tr>\n",
       "      <th>6</th>\n",
       "      <td>2.391369</td>\n",
       "      <td>3.096129</td>\n",
       "      <td>1.995542</td>\n",
       "      <td>-2.860361</td>\n",
       "      <td>2.146910</td>\n",
       "      <td>3.324164</td>\n",
       "      <td>1.527997</td>\n",
       "      <td>4.977570</td>\n",
       "    </tr>\n",
       "    <tr>\n",
       "      <th>7</th>\n",
       "      <td>3.948715</td>\n",
       "      <td>4.409581</td>\n",
       "      <td>2.599458</td>\n",
       "      <td>0.855990</td>\n",
       "      <td>3.623648</td>\n",
       "      <td>5.869691</td>\n",
       "      <td>3.738883</td>\n",
       "      <td>4.273370</td>\n",
       "    </tr>\n",
       "    <tr>\n",
       "      <th>8</th>\n",
       "      <td>3.717523</td>\n",
       "      <td>2.419312</td>\n",
       "      <td>3.923725</td>\n",
       "      <td>2.667092</td>\n",
       "      <td>10.316002</td>\n",
       "      <td>2.914866</td>\n",
       "      <td>-0.342200</td>\n",
       "      <td>4.188223</td>\n",
       "    </tr>\n",
       "    <tr>\n",
       "      <th>9</th>\n",
       "      <td>-0.407406</td>\n",
       "      <td>0.815238</td>\n",
       "      <td>-0.834971</td>\n",
       "      <td>-9.885856</td>\n",
       "      <td>1.136184</td>\n",
       "      <td>1.886328</td>\n",
       "      <td>-0.356844</td>\n",
       "      <td>2.390035</td>\n",
       "    </tr>\n",
       "  </tbody>\n",
       "</table>\n",
       "</div>"
      ],
      "text/plain": [
       "   Colorado   Florida      Iowa  New Hampshire     Nevada      Ohio  Virginia  Wisconsin\n",
       "0  7.977009  4.022616  4.548895      -1.031961  10.194544  4.611726  9.456347   6.586022\n",
       "1  2.678537  1.218292  3.534685      -7.101465   3.979756  3.311133  4.510480   2.476422\n",
       "2  0.871820 -1.332192  0.521013      -1.661884   1.099902  3.977857  2.831878   3.712191\n",
       "3  0.593552 -2.578642 -1.367160      -7.131884   1.258372  1.567078 -2.346813   0.689781\n",
       "4  4.987409  3.524401  4.378272       1.634173   5.847938  7.670245  9.284700   8.856272\n",
       "5  0.754672 -1.445605 -0.597089       1.020296   3.541123  1.747876  1.176474   6.016913\n",
       "6  2.391369  3.096129  1.995542      -2.860361   2.146910  3.324164  1.527997   4.977570\n",
       "7  3.948715  4.409581  2.599458       0.855990   3.623648  5.869691  3.738883   4.273370\n",
       "8  3.717523  2.419312  3.923725       2.667092  10.316002  2.914866 -0.342200   4.188223\n",
       "9 -0.407406  0.815238 -0.834971      -9.885856   1.136184  1.886328 -0.356844   2.390035"
      ]
     },
     "execution_count": 286,
     "metadata": {},
     "output_type": "execute_result"
    }
   ],
   "source": [
    "# to that we add the model predictions for each state\n",
    "simulated_poll_predictions = total_error_sim.add(results.ix[tossup, 'poll'])\n",
    "simulated_poll_predictions.iloc[:10,]"
   ]
  },
  {
   "cell_type": "code",
   "execution_count": 287,
   "metadata": {
    "collapsed": false
   },
   "outputs": [
    {
     "data": {
      "text/html": [
       "<div>\n",
       "<table border=\"1\" class=\"dataframe\">\n",
       "  <thead>\n",
       "    <tr style=\"text-align: right;\">\n",
       "      <th></th>\n",
       "      <th>Colorado</th>\n",
       "      <th>Florida</th>\n",
       "      <th>Iowa</th>\n",
       "      <th>New Hampshire</th>\n",
       "      <th>Nevada</th>\n",
       "      <th>Ohio</th>\n",
       "      <th>Virginia</th>\n",
       "      <th>Wisconsin</th>\n",
       "    </tr>\n",
       "  </thead>\n",
       "  <tbody>\n",
       "    <tr>\n",
       "      <th>Colorado</th>\n",
       "      <td>1.000000</td>\n",
       "      <td>0.661364</td>\n",
       "      <td>0.782967</td>\n",
       "      <td>0.632265</td>\n",
       "      <td>0.666076</td>\n",
       "      <td>0.801657</td>\n",
       "      <td>0.663607</td>\n",
       "      <td>0.762725</td>\n",
       "    </tr>\n",
       "    <tr>\n",
       "      <th>Florida</th>\n",
       "      <td>0.661364</td>\n",
       "      <td>1.000000</td>\n",
       "      <td>0.666801</td>\n",
       "      <td>0.517375</td>\n",
       "      <td>0.559425</td>\n",
       "      <td>0.671366</td>\n",
       "      <td>0.558036</td>\n",
       "      <td>0.643287</td>\n",
       "    </tr>\n",
       "    <tr>\n",
       "      <th>Iowa</th>\n",
       "      <td>0.782967</td>\n",
       "      <td>0.666801</td>\n",
       "      <td>1.000000</td>\n",
       "      <td>0.625854</td>\n",
       "      <td>0.659162</td>\n",
       "      <td>0.799275</td>\n",
       "      <td>0.661989</td>\n",
       "      <td>0.763126</td>\n",
       "    </tr>\n",
       "    <tr>\n",
       "      <th>New Hampshire</th>\n",
       "      <td>0.632265</td>\n",
       "      <td>0.517375</td>\n",
       "      <td>0.625854</td>\n",
       "      <td>1.000000</td>\n",
       "      <td>0.536203</td>\n",
       "      <td>0.640725</td>\n",
       "      <td>0.537008</td>\n",
       "      <td>0.612874</td>\n",
       "    </tr>\n",
       "    <tr>\n",
       "      <th>Nevada</th>\n",
       "      <td>0.666076</td>\n",
       "      <td>0.559425</td>\n",
       "      <td>0.659162</td>\n",
       "      <td>0.536203</td>\n",
       "      <td>1.000000</td>\n",
       "      <td>0.674964</td>\n",
       "      <td>0.555986</td>\n",
       "      <td>0.646501</td>\n",
       "    </tr>\n",
       "    <tr>\n",
       "      <th>Ohio</th>\n",
       "      <td>0.801657</td>\n",
       "      <td>0.671366</td>\n",
       "      <td>0.799275</td>\n",
       "      <td>0.640725</td>\n",
       "      <td>0.674964</td>\n",
       "      <td>1.000000</td>\n",
       "      <td>0.669790</td>\n",
       "      <td>0.770683</td>\n",
       "    </tr>\n",
       "    <tr>\n",
       "      <th>Virginia</th>\n",
       "      <td>0.663607</td>\n",
       "      <td>0.558036</td>\n",
       "      <td>0.661989</td>\n",
       "      <td>0.537008</td>\n",
       "      <td>0.555986</td>\n",
       "      <td>0.669790</td>\n",
       "      <td>1.000000</td>\n",
       "      <td>0.641731</td>\n",
       "    </tr>\n",
       "    <tr>\n",
       "      <th>Wisconsin</th>\n",
       "      <td>0.762725</td>\n",
       "      <td>0.643287</td>\n",
       "      <td>0.763126</td>\n",
       "      <td>0.612874</td>\n",
       "      <td>0.646501</td>\n",
       "      <td>0.770683</td>\n",
       "      <td>0.641731</td>\n",
       "      <td>1.000000</td>\n",
       "    </tr>\n",
       "  </tbody>\n",
       "</table>\n",
       "</div>"
      ],
      "text/plain": [
       "               Colorado   Florida      Iowa  New Hampshire    Nevada      Ohio  Virginia  Wisconsin\n",
       "Colorado       1.000000  0.661364  0.782967       0.632265  0.666076  0.801657  0.663607   0.762725\n",
       "Florida        0.661364  1.000000  0.666801       0.517375  0.559425  0.671366  0.558036   0.643287\n",
       "Iowa           0.782967  0.666801  1.000000       0.625854  0.659162  0.799275  0.661989   0.763126\n",
       "New Hampshire  0.632265  0.517375  0.625854       1.000000  0.536203  0.640725  0.537008   0.612874\n",
       "Nevada         0.666076  0.559425  0.659162       0.536203  1.000000  0.674964  0.555986   0.646501\n",
       "Ohio           0.801657  0.671366  0.799275       0.640725  0.674964  1.000000  0.669790   0.770683\n",
       "Virginia       0.663607  0.558036  0.661989       0.537008  0.555986  0.669790  1.000000   0.641731\n",
       "Wisconsin      0.762725  0.643287  0.763126       0.612874  0.646501  0.770683  0.641731   1.000000"
      ]
     },
     "execution_count": 287,
     "metadata": {},
     "output_type": "execute_result"
    }
   ],
   "source": [
    "simulated_poll_predictions.corr()"
   ]
  },
  {
   "cell_type": "code",
   "execution_count": 288,
   "metadata": {
    "collapsed": false
   },
   "outputs": [],
   "source": [
    "bins = np.arange(-10, 10, 0.2)\n",
    "histograms = {s: np.histogram(simulated_poll_predictions[s], bins=bins, density=True)[0] for s in tossup}"
   ]
  },
  {
   "cell_type": "code",
   "execution_count": 289,
   "metadata": {
    "collapsed": false
   },
   "outputs": [
    {
     "data": {
      "image/png": "[encoded data removed]",
      "text/plain": [
       "<matplotlib.figure.Figure at 0x7f27cad67c90>"
      ]
     },
     "metadata": {},
     "output_type": "display_data"
    }
   ],
   "source": [
    "fig, axes = plt.subplots(len(tossup), 1, sharex=True, figsize=(16,  8))\n",
    "\n",
    "for state, ax in zip(tossup, axes):\n",
    "    ax.fill_between(bins[1:], 0, histograms[state], facecolor='red')\n",
    "    ax.fill_between(bins[50:], 0, histograms[state][49:], facecolor='blue')\n",
    "    ax.set_title(state)\n",
    "    ax.plot([0.0, 0.0], [0, 0.2], color='k', linewidth=4)  "
   ]
  },
  {
   "cell_type": "code",
   "execution_count": 308,
   "metadata": {
    "collapsed": false
   },
   "outputs": [
    {
     "name": "stdout",
     "output_type": "stream",
     "text": [
      "Solid Obama Electorial College Votes 237.0\n",
      "Solid Romney Electorial College Votes 206.0\n"
     ]
    }
   ],
   "source": [
    "# electorial votes for the non-tossup states\n",
    "solid = set(results.index).difference(tossup)\n",
    "solid_obama = results[\"Votes\"].mul(results[\"obama\"])[solid].sum()\n",
    "solid_romney = results[\"Votes\"].mul(results[\"romney\"])[solid].sum()\n",
    "\n",
    "print \"Solid Obama Electorial College Votes\", solid_obama\n",
    "print \"Solid Romney Electorial College Votes\", solid_romney"
   ]
  },
  {
   "cell_type": "code",
   "execution_count": 312,
   "metadata": {
    "collapsed": true
   },
   "outputs": [],
   "source": [
    "# electorial college votes for the tossup states, from the simulation\n",
    "tossup_electoral_votes = electoral_votes.set_index('State').ix[tossup, 'Votes']\n",
    "\n",
    "obama_simulated_electorial_college = (simulated_poll_predictions > 0).multiply(tossup_electoral_votes)\n",
    "obama_simulated_electorial_college['Solid States'] = solid_obama\n",
    "obama_simulated_electorial_college['Total'] = obama_simulated_electorial_college.sum(axis=1)\n",
    "\n",
    "romney_simulated_electorial_college = (simulated_poll_predictions < 0).multiply(tossup_electoral_votes)\n",
    "romney_simulated_electorial_college['Solid States'] = solid_romney\n",
    "romney_simulated_electorial_college['Total'] = romney_simulated_electorial_college.sum(axis=1)"
   ]
  },
  {
   "cell_type": "code",
   "execution_count": 313,
   "metadata": {
    "collapsed": false
   },
   "outputs": [
    {
     "data": {
      "text/html": [
       "<div>\n",
       "<table border=\"1\" class=\"dataframe\">\n",
       "  <thead>\n",
       "    <tr style=\"text-align: right;\">\n",
       "      <th></th>\n",
       "      <th>Colorado</th>\n",
       "      <th>Florida</th>\n",
       "      <th>Iowa</th>\n",
       "      <th>New Hampshire</th>\n",
       "      <th>Nevada</th>\n",
       "      <th>Ohio</th>\n",
       "      <th>Virginia</th>\n",
       "      <th>Wisconsin</th>\n",
       "      <th>Solid States</th>\n",
       "      <th>Total</th>\n",
       "    </tr>\n",
       "  </thead>\n",
       "  <tbody>\n",
       "    <tr>\n",
       "      <th>0</th>\n",
       "      <td>9</td>\n",
       "      <td>29</td>\n",
       "      <td>6</td>\n",
       "      <td>0</td>\n",
       "      <td>6</td>\n",
       "      <td>18</td>\n",
       "      <td>13</td>\n",
       "      <td>10</td>\n",
       "      <td>237</td>\n",
       "      <td>328</td>\n",
       "    </tr>\n",
       "    <tr>\n",
       "      <th>1</th>\n",
       "      <td>9</td>\n",
       "      <td>29</td>\n",
       "      <td>6</td>\n",
       "      <td>0</td>\n",
       "      <td>6</td>\n",
       "      <td>18</td>\n",
       "      <td>13</td>\n",
       "      <td>10</td>\n",
       "      <td>237</td>\n",
       "      <td>328</td>\n",
       "    </tr>\n",
       "    <tr>\n",
       "      <th>2</th>\n",
       "      <td>9</td>\n",
       "      <td>0</td>\n",
       "      <td>6</td>\n",
       "      <td>0</td>\n",
       "      <td>6</td>\n",
       "      <td>18</td>\n",
       "      <td>13</td>\n",
       "      <td>10</td>\n",
       "      <td>237</td>\n",
       "      <td>299</td>\n",
       "    </tr>\n",
       "    <tr>\n",
       "      <th>3</th>\n",
       "      <td>9</td>\n",
       "      <td>0</td>\n",
       "      <td>0</td>\n",
       "      <td>0</td>\n",
       "      <td>6</td>\n",
       "      <td>18</td>\n",
       "      <td>0</td>\n",
       "      <td>10</td>\n",
       "      <td>237</td>\n",
       "      <td>280</td>\n",
       "    </tr>\n",
       "    <tr>\n",
       "      <th>4</th>\n",
       "      <td>9</td>\n",
       "      <td>29</td>\n",
       "      <td>6</td>\n",
       "      <td>4</td>\n",
       "      <td>6</td>\n",
       "      <td>18</td>\n",
       "      <td>13</td>\n",
       "      <td>10</td>\n",
       "      <td>237</td>\n",
       "      <td>332</td>\n",
       "    </tr>\n",
       "    <tr>\n",
       "      <th>5</th>\n",
       "      <td>9</td>\n",
       "      <td>0</td>\n",
       "      <td>0</td>\n",
       "      <td>4</td>\n",
       "      <td>6</td>\n",
       "      <td>18</td>\n",
       "      <td>13</td>\n",
       "      <td>10</td>\n",
       "      <td>237</td>\n",
       "      <td>297</td>\n",
       "    </tr>\n",
       "    <tr>\n",
       "      <th>6</th>\n",
       "      <td>9</td>\n",
       "      <td>29</td>\n",
       "      <td>6</td>\n",
       "      <td>0</td>\n",
       "      <td>6</td>\n",
       "      <td>18</td>\n",
       "      <td>13</td>\n",
       "      <td>10</td>\n",
       "      <td>237</td>\n",
       "      <td>328</td>\n",
       "    </tr>\n",
       "    <tr>\n",
       "      <th>7</th>\n",
       "      <td>9</td>\n",
       "      <td>29</td>\n",
       "      <td>6</td>\n",
       "      <td>4</td>\n",
       "      <td>6</td>\n",
       "      <td>18</td>\n",
       "      <td>13</td>\n",
       "      <td>10</td>\n",
       "      <td>237</td>\n",
       "      <td>332</td>\n",
       "    </tr>\n",
       "    <tr>\n",
       "      <th>8</th>\n",
       "      <td>9</td>\n",
       "      <td>29</td>\n",
       "      <td>6</td>\n",
       "      <td>4</td>\n",
       "      <td>6</td>\n",
       "      <td>18</td>\n",
       "      <td>0</td>\n",
       "      <td>10</td>\n",
       "      <td>237</td>\n",
       "      <td>319</td>\n",
       "    </tr>\n",
       "    <tr>\n",
       "      <th>9</th>\n",
       "      <td>0</td>\n",
       "      <td>29</td>\n",
       "      <td>0</td>\n",
       "      <td>0</td>\n",
       "      <td>6</td>\n",
       "      <td>18</td>\n",
       "      <td>0</td>\n",
       "      <td>10</td>\n",
       "      <td>237</td>\n",
       "      <td>300</td>\n",
       "    </tr>\n",
       "  </tbody>\n",
       "</table>\n",
       "</div>"
      ],
      "text/plain": [
       "   Colorado  Florida  Iowa  New Hampshire  Nevada  Ohio  Virginia  Wisconsin  Solid States  Total\n",
       "0         9       29     6              0       6    18        13         10           237    328\n",
       "1         9       29     6              0       6    18        13         10           237    328\n",
       "2         9        0     6              0       6    18        13         10           237    299\n",
       "3         9        0     0              0       6    18         0         10           237    280\n",
       "4         9       29     6              4       6    18        13         10           237    332\n",
       "5         9        0     0              4       6    18        13         10           237    297\n",
       "6         9       29     6              0       6    18        13         10           237    328\n",
       "7         9       29     6              4       6    18        13         10           237    332\n",
       "8         9       29     6              4       6    18         0         10           237    319\n",
       "9         0       29     0              0       6    18         0         10           237    300"
      ]
     },
     "execution_count": 313,
     "metadata": {},
     "output_type": "execute_result"
    }
   ],
   "source": [
    "obama_simulated_electorial_college.iloc[:10,]"
   ]
  },
  {
   "cell_type": "code",
   "execution_count": 314,
   "metadata": {
    "collapsed": false
   },
   "outputs": [
    {
     "data": {
      "text/html": [
       "<div>\n",
       "<table border=\"1\" class=\"dataframe\">\n",
       "  <thead>\n",
       "    <tr style=\"text-align: right;\">\n",
       "      <th></th>\n",
       "      <th>Colorado</th>\n",
       "      <th>Florida</th>\n",
       "      <th>Iowa</th>\n",
       "      <th>New Hampshire</th>\n",
       "      <th>Nevada</th>\n",
       "      <th>Ohio</th>\n",
       "      <th>Virginia</th>\n",
       "      <th>Wisconsin</th>\n",
       "      <th>Solid States</th>\n",
       "      <th>Total</th>\n",
       "    </tr>\n",
       "  </thead>\n",
       "  <tbody>\n",
       "    <tr>\n",
       "      <th>0</th>\n",
       "      <td>0</td>\n",
       "      <td>0</td>\n",
       "      <td>0</td>\n",
       "      <td>4</td>\n",
       "      <td>0</td>\n",
       "      <td>0</td>\n",
       "      <td>0</td>\n",
       "      <td>0</td>\n",
       "      <td>206</td>\n",
       "      <td>210</td>\n",
       "    </tr>\n",
       "    <tr>\n",
       "      <th>1</th>\n",
       "      <td>0</td>\n",
       "      <td>0</td>\n",
       "      <td>0</td>\n",
       "      <td>4</td>\n",
       "      <td>0</td>\n",
       "      <td>0</td>\n",
       "      <td>0</td>\n",
       "      <td>0</td>\n",
       "      <td>206</td>\n",
       "      <td>210</td>\n",
       "    </tr>\n",
       "    <tr>\n",
       "      <th>2</th>\n",
       "      <td>0</td>\n",
       "      <td>29</td>\n",
       "      <td>0</td>\n",
       "      <td>4</td>\n",
       "      <td>0</td>\n",
       "      <td>0</td>\n",
       "      <td>0</td>\n",
       "      <td>0</td>\n",
       "      <td>206</td>\n",
       "      <td>239</td>\n",
       "    </tr>\n",
       "    <tr>\n",
       "      <th>3</th>\n",
       "      <td>0</td>\n",
       "      <td>29</td>\n",
       "      <td>6</td>\n",
       "      <td>4</td>\n",
       "      <td>0</td>\n",
       "      <td>0</td>\n",
       "      <td>13</td>\n",
       "      <td>0</td>\n",
       "      <td>206</td>\n",
       "      <td>258</td>\n",
       "    </tr>\n",
       "    <tr>\n",
       "      <th>4</th>\n",
       "      <td>0</td>\n",
       "      <td>0</td>\n",
       "      <td>0</td>\n",
       "      <td>0</td>\n",
       "      <td>0</td>\n",
       "      <td>0</td>\n",
       "      <td>0</td>\n",
       "      <td>0</td>\n",
       "      <td>206</td>\n",
       "      <td>206</td>\n",
       "    </tr>\n",
       "    <tr>\n",
       "      <th>5</th>\n",
       "      <td>0</td>\n",
       "      <td>29</td>\n",
       "      <td>6</td>\n",
       "      <td>0</td>\n",
       "      <td>0</td>\n",
       "      <td>0</td>\n",
       "      <td>0</td>\n",
       "      <td>0</td>\n",
       "      <td>206</td>\n",
       "      <td>241</td>\n",
       "    </tr>\n",
       "    <tr>\n",
       "      <th>6</th>\n",
       "      <td>0</td>\n",
       "      <td>0</td>\n",
       "      <td>0</td>\n",
       "      <td>4</td>\n",
       "      <td>0</td>\n",
       "      <td>0</td>\n",
       "      <td>0</td>\n",
       "      <td>0</td>\n",
       "      <td>206</td>\n",
       "      <td>210</td>\n",
       "    </tr>\n",
       "    <tr>\n",
       "      <th>7</th>\n",
       "      <td>0</td>\n",
       "      <td>0</td>\n",
       "      <td>0</td>\n",
       "      <td>0</td>\n",
       "      <td>0</td>\n",
       "      <td>0</td>\n",
       "      <td>0</td>\n",
       "      <td>0</td>\n",
       "      <td>206</td>\n",
       "      <td>206</td>\n",
       "    </tr>\n",
       "    <tr>\n",
       "      <th>8</th>\n",
       "      <td>0</td>\n",
       "      <td>0</td>\n",
       "      <td>0</td>\n",
       "      <td>0</td>\n",
       "      <td>0</td>\n",
       "      <td>0</td>\n",
       "      <td>13</td>\n",
       "      <td>0</td>\n",
       "      <td>206</td>\n",
       "      <td>219</td>\n",
       "    </tr>\n",
       "    <tr>\n",
       "      <th>9</th>\n",
       "      <td>9</td>\n",
       "      <td>0</td>\n",
       "      <td>6</td>\n",
       "      <td>4</td>\n",
       "      <td>0</td>\n",
       "      <td>0</td>\n",
       "      <td>13</td>\n",
       "      <td>0</td>\n",
       "      <td>206</td>\n",
       "      <td>238</td>\n",
       "    </tr>\n",
       "  </tbody>\n",
       "</table>\n",
       "</div>"
      ],
      "text/plain": [
       "   Colorado  Florida  Iowa  New Hampshire  Nevada  Ohio  Virginia  Wisconsin  Solid States  Total\n",
       "0         0        0     0              4       0     0         0          0           206    210\n",
       "1         0        0     0              4       0     0         0          0           206    210\n",
       "2         0       29     0              4       0     0         0          0           206    239\n",
       "3         0       29     6              4       0     0        13          0           206    258\n",
       "4         0        0     0              0       0     0         0          0           206    206\n",
       "5         0       29     6              0       0     0         0          0           206    241\n",
       "6         0        0     0              4       0     0         0          0           206    210\n",
       "7         0        0     0              0       0     0         0          0           206    206\n",
       "8         0        0     0              0       0     0        13          0           206    219\n",
       "9         9        0     6              4       0     0        13          0           206    238"
      ]
     },
     "execution_count": 314,
     "metadata": {},
     "output_type": "execute_result"
    }
   ],
   "source": [
    "romney_simulated_electorial_college.iloc[:10,]"
   ]
  },
  {
   "cell_type": "code",
   "execution_count": 319,
   "metadata": {
    "collapsed": false
   },
   "outputs": [
    {
     "data": {
      "text/plain": [
       "<matplotlib.axes._subplots.AxesSubplot at 0x7f27ca204d90>"
      ]
     },
     "execution_count": 319,
     "metadata": {},
     "output_type": "execute_result"
    },
    {
     "data": {
      "image/png": "[encoded data removed]",
      "text/plain": [
       "<matplotlib.figure.Figure at 0x7f27cb50de90>"
      ]
     },
     "metadata": {},
     "output_type": "display_data"
    }
   ],
   "source": [
    "obama_simulated_electorial_college['Total'].hist(bins=300, figsize=(16, 4))"
   ]
  },
  {
   "cell_type": "code",
   "execution_count": 320,
   "metadata": {
    "collapsed": false
   },
   "outputs": [
    {
     "data": {
      "text/plain": [
       "<matplotlib.axes._subplots.AxesSubplot at 0x7f27c9644f50>"
      ]
     },
     "execution_count": 320,
     "metadata": {},
     "output_type": "execute_result"
    },
    {
     "data": {
      "image/png": "[encoded data removed]",
      "text/plain": [
       "<matplotlib.figure.Figure at 0x7f27c9685990>"
      ]
     },
     "metadata": {},
     "output_type": "display_data"
    }
   ],
   "source": [
    "romney_simulated_electorial_college['Total'].hist(bins=300, figsize=(16, 4))"
   ]
  },
  {
   "cell_type": "code",
   "execution_count": 321,
   "metadata": {
    "collapsed": false
   },
   "outputs": [
    {
     "data": {
      "text/plain": [
       "0.93440000000000001"
      ]
     },
     "execution_count": 321,
     "metadata": {},
     "output_type": "execute_result"
    }
   ],
   "source": [
    "sum(obama_simulated_electorial_college['Total'] > romney_simulated_electorial_college['Total']) / float(N)"
   ]
  }
 ],
 "metadata": {
  "kernelspec": {
   "display_name": "Python 2",
   "language": "python",
   "name": "python2"
  },
  "language_info": {
   "codemirror_mode": {
    "name": "ipython",
    "version": 2
   },
   "file_extension": ".py",
   "mimetype": "text/x-python",
   "name": "python",
   "nbconvert_exporter": "python",
   "pygments_lexer": "ipython2",
   "version": "2.7.11"
  }
 },
 "nbformat": 4,
 "nbformat_minor": 0
}
