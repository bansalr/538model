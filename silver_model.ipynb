{
 "cells": [
  {
   "cell_type": "markdown",
   "metadata": {},
   "source": [
    "GitHub link for the talk. You can clone the data and play with it yourself. Please submit any improvements as pull requests\n",
    "\n",
    "[https://github.com/jseabold/538model](https://github.com/jseabold/538model)"
   ]
  },
  {
   "cell_type": "code",
   "execution_count": 1,
   "metadata": {
    "collapsed": false
   },
   "outputs": [],
   "source": [
    "import datetime\n",
    "\n",
    "import numpy as np\n",
    "import statsmodels.api as sm\n",
    "import matplotlib.pyplot as plt\n",
    "import pandas\n",
    "from pandas import DataFrame, Series\n",
    "from scipy import stats\n",
    "np.set_printoptions(precision=4, suppress=True)\n",
    "%matplotlib inline\n"
   ]
  },
  {
   "cell_type": "code",
   "execution_count": 2,
   "metadata": {
    "collapsed": false
   },
   "outputs": [],
   "source": [
    "today = datetime.datetime(2012, 10, 2)"
   ]
  },
  {
   "cell_type": "markdown",
   "metadata": {},
   "source": [
    "## Outline"
   ]
  },
  {
   "cell_type": "markdown",
   "metadata": {},
   "source": [
    "Methodology was obtained from the old [538 Blog](http://www.fivethirtyeight.com/2008/03/frequently-asked-questions-last-revised.html) with updates at the [new site hosted by the New York Times](http://fivethirtyeight.blogs.nytimes.com/methodology/)"
   ]
  },
  {
   "cell_type": "markdown",
   "metadata": {},
   "source": [
    "1. Polling Average: Aggregate polling data, and weight it according to our reliability scores.\n",
    "\n",
    "2. Trend Adjustment: Adjust the polling data for current trends.\n",
    "\n",
    "3. Regression: Analyze demographic data in each state by means of regression analysis.\n",
    "\n",
    "4. Snapshot: Combine the polling data with the regression analysis to produce an electoral snapshot. This is our estimate of what would happen if the election were held today.\n",
    "\n",
    "5. Projection: Translate the snapshot into a projection of what will happen in November, by allocating out undecided voters and applying a discount to current polling leads based on historical trends.\n",
    "\n",
    "6. Simulation: Simulate our results 10,000 times based on the results of the projection to account for the uncertainty in our estimates. The end result is a robust probabilistic assessment of what will happen in each state as well as in the nation as a whole. "
   ]
  },
  {
   "cell_type": "markdown",
   "metadata": {},
   "source": [
    "## Get the Data"
   ]
  },
  {
   "cell_type": "markdown",
   "metadata": {},
   "source": [
    "### Consensus forecast of GDP growth over the next two economic quarters <br />(Median of WSJ's monthly forecasting panel)"
   ]
  },
  {
   "cell_type": "markdown",
   "metadata": {},
   "source": [
    "The process for creating an economic index for the 538 model is described [here](http://fivethirtyeight.blogs.nytimes.com/2012/07/05/measuring-the-effect-of-the-economy-on-elections/#more-31732)."
   ]
  },
  {
   "cell_type": "raw",
   "metadata": {},
   "source": [
    "Obtained from WSJ.com on 10/2/12"
   ]
  },
  {
   "cell_type": "raw",
   "metadata": {},
   "source": [
    "Pandas methods are NaN aware, so we can just get the median."
   ]
  },
  {
   "cell_type": "code",
   "execution_count": 3,
   "metadata": {
    "collapsed": false
   },
   "outputs": [],
   "source": [
    "forecasts = pandas.read_csv(\"data_nuevo/wsj_forecast.csv\")"
   ]
  },
  {
   "cell_type": "code",
   "execution_count": 4,
   "metadata": {
    "collapsed": false
   },
   "outputs": [
    {
     "data": {
      "text/html": [
       "<div>\n",
       "<table border=\"1\" class=\"dataframe\">\n",
       "  <thead>\n",
       "    <tr style=\"text-align: right;\">\n",
       "      <th></th>\n",
       "      <th>Unnamed: 0</th>\n",
       "      <th>Unnamed: 0.1</th>\n",
       "      <th>Forecaster</th>\n",
       "      <th>Institution</th>\n",
       "      <th>gdp_q3_2012</th>\n",
       "      <th>gdp_q4_2012</th>\n",
       "    </tr>\n",
       "  </thead>\n",
       "  <tbody>\n",
       "    <tr>\n",
       "      <th>0</th>\n",
       "      <td>0</td>\n",
       "      <td>0</td>\n",
       "      <td>Paul Ashworth</td>\n",
       "      <td>Capital Economics</td>\n",
       "      <td>2.0</td>\n",
       "      <td>1.5</td>\n",
       "    </tr>\n",
       "    <tr>\n",
       "      <th>1</th>\n",
       "      <td>1</td>\n",
       "      <td>1</td>\n",
       "      <td>Nariman Behravesh</td>\n",
       "      <td>IHS Global Insight</td>\n",
       "      <td>1.5</td>\n",
       "      <td>1.6</td>\n",
       "    </tr>\n",
       "    <tr>\n",
       "      <th>2</th>\n",
       "      <td>2</td>\n",
       "      <td>2</td>\n",
       "      <td>Richard Berner/ David Greenlaw *</td>\n",
       "      <td>Morgan Stanley</td>\n",
       "      <td>NaN</td>\n",
       "      <td>NaN</td>\n",
       "    </tr>\n",
       "    <tr>\n",
       "      <th>3</th>\n",
       "      <td>3</td>\n",
       "      <td>3</td>\n",
       "      <td>Ram Bhagavatula</td>\n",
       "      <td>Combinatorics Capital</td>\n",
       "      <td>2.0</td>\n",
       "      <td>4.0</td>\n",
       "    </tr>\n",
       "    <tr>\n",
       "      <th>4</th>\n",
       "      <td>4</td>\n",
       "      <td>4</td>\n",
       "      <td>Beth Ann Bovino *</td>\n",
       "      <td>Standard and Poor's</td>\n",
       "      <td>NaN</td>\n",
       "      <td>NaN</td>\n",
       "    </tr>\n",
       "    <tr>\n",
       "      <th>5</th>\n",
       "      <td>5</td>\n",
       "      <td>5</td>\n",
       "      <td>Jay Brinkmann</td>\n",
       "      <td>Mortgage Bankers Association</td>\n",
       "      <td>1.8</td>\n",
       "      <td>1.9</td>\n",
       "    </tr>\n",
       "    <tr>\n",
       "      <th>6</th>\n",
       "      <td>6</td>\n",
       "      <td>6</td>\n",
       "      <td>Michael Carey</td>\n",
       "      <td>Credit Agricole CIB</td>\n",
       "      <td>1.7</td>\n",
       "      <td>1.6</td>\n",
       "    </tr>\n",
       "    <tr>\n",
       "      <th>7</th>\n",
       "      <td>7</td>\n",
       "      <td>7</td>\n",
       "      <td>Joseph Carson</td>\n",
       "      <td>AllianceBernstein</td>\n",
       "      <td>2.5</td>\n",
       "      <td>3.5</td>\n",
       "    </tr>\n",
       "    <tr>\n",
       "      <th>8</th>\n",
       "      <td>8</td>\n",
       "      <td>8</td>\n",
       "      <td>Julia Coronado</td>\n",
       "      <td>BNP Paribas</td>\n",
       "      <td>1.4</td>\n",
       "      <td>1.6</td>\n",
       "    </tr>\n",
       "    <tr>\n",
       "      <th>9</th>\n",
       "      <td>9</td>\n",
       "      <td>9</td>\n",
       "      <td>Mike Cosgrove</td>\n",
       "      <td>Econoclast</td>\n",
       "      <td>1.6</td>\n",
       "      <td>1.6</td>\n",
       "    </tr>\n",
       "    <tr>\n",
       "      <th>10</th>\n",
       "      <td>10</td>\n",
       "      <td>10</td>\n",
       "      <td>Lou Crandall</td>\n",
       "      <td>Wrightson ICAP</td>\n",
       "      <td>1.8</td>\n",
       "      <td>1.8</td>\n",
       "    </tr>\n",
       "    <tr>\n",
       "      <th>11</th>\n",
       "      <td>11</td>\n",
       "      <td>11</td>\n",
       "      <td>J. Dewey Daane</td>\n",
       "      <td>Vanderbilt University</td>\n",
       "      <td>1.5</td>\n",
       "      <td>1.5</td>\n",
       "    </tr>\n",
       "    <tr>\n",
       "      <th>12</th>\n",
       "      <td>12</td>\n",
       "      <td>12</td>\n",
       "      <td>Douglas Duncan</td>\n",
       "      <td>Fannie Mae</td>\n",
       "      <td>1.8</td>\n",
       "      <td>1.7</td>\n",
       "    </tr>\n",
       "    <tr>\n",
       "      <th>13</th>\n",
       "      <td>13</td>\n",
       "      <td>13</td>\n",
       "      <td>Robert Dye</td>\n",
       "      <td>Comerica Bank</td>\n",
       "      <td>2.5</td>\n",
       "      <td>2.2</td>\n",
       "    </tr>\n",
       "    <tr>\n",
       "      <th>14</th>\n",
       "      <td>14</td>\n",
       "      <td>14</td>\n",
       "      <td>Maria Fiorini Ramirez/Joshua Shapiro</td>\n",
       "      <td>MFR, Inc.</td>\n",
       "      <td>1.4</td>\n",
       "      <td>1.2</td>\n",
       "    </tr>\n",
       "    <tr>\n",
       "      <th>15</th>\n",
       "      <td>15</td>\n",
       "      <td>15</td>\n",
       "      <td>Ethan Harris</td>\n",
       "      <td>Bank of America Securities- Merrill Lynch</td>\n",
       "      <td>1.3</td>\n",
       "      <td>1.0</td>\n",
       "    </tr>\n",
       "    <tr>\n",
       "      <th>16</th>\n",
       "      <td>16</td>\n",
       "      <td>16</td>\n",
       "      <td>Maury Harris</td>\n",
       "      <td>UBS</td>\n",
       "      <td>1.5</td>\n",
       "      <td>1.8</td>\n",
       "    </tr>\n",
       "    <tr>\n",
       "      <th>17</th>\n",
       "      <td>17</td>\n",
       "      <td>17</td>\n",
       "      <td>Jan Hatzius</td>\n",
       "      <td>Goldman, Sachs &amp; Co.</td>\n",
       "      <td>2.3</td>\n",
       "      <td>1.5</td>\n",
       "    </tr>\n",
       "    <tr>\n",
       "      <th>18</th>\n",
       "      <td>18</td>\n",
       "      <td>18</td>\n",
       "      <td>Tracy Herrick</td>\n",
       "      <td>Avidbank</td>\n",
       "      <td>1.8</td>\n",
       "      <td>1.8</td>\n",
       "    </tr>\n",
       "    <tr>\n",
       "      <th>19</th>\n",
       "      <td>19</td>\n",
       "      <td>19</td>\n",
       "      <td>Stuart Hoffman *</td>\n",
       "      <td>PNC Financial Services Group</td>\n",
       "      <td>NaN</td>\n",
       "      <td>NaN</td>\n",
       "    </tr>\n",
       "    <tr>\n",
       "      <th>20</th>\n",
       "      <td>20</td>\n",
       "      <td>20</td>\n",
       "      <td>Gene Huang</td>\n",
       "      <td>FedEx Corp.</td>\n",
       "      <td>1.9</td>\n",
       "      <td>1.7</td>\n",
       "    </tr>\n",
       "    <tr>\n",
       "      <th>21</th>\n",
       "      <td>21</td>\n",
       "      <td>21</td>\n",
       "      <td>William B. Hummer</td>\n",
       "      <td>Wintrust Wealth Management</td>\n",
       "      <td>1.7</td>\n",
       "      <td>1.9</td>\n",
       "    </tr>\n",
       "    <tr>\n",
       "      <th>22</th>\n",
       "      <td>22</td>\n",
       "      <td>22</td>\n",
       "      <td>Bruce Kasman</td>\n",
       "      <td>JP Morgan Chase &amp; Co.</td>\n",
       "      <td>1.5</td>\n",
       "      <td>2.0</td>\n",
       "    </tr>\n",
       "    <tr>\n",
       "      <th>23</th>\n",
       "      <td>23</td>\n",
       "      <td>23</td>\n",
       "      <td>Joseph LaVorgna</td>\n",
       "      <td>Deutsche Bank Securities Inc.</td>\n",
       "      <td>2.7</td>\n",
       "      <td>2.8</td>\n",
       "    </tr>\n",
       "    <tr>\n",
       "      <th>24</th>\n",
       "      <td>24</td>\n",
       "      <td>24</td>\n",
       "      <td>Edward Leamer/David Shulman</td>\n",
       "      <td>UCLA Anderson Forecast</td>\n",
       "      <td>1.3</td>\n",
       "      <td>1.5</td>\n",
       "    </tr>\n",
       "    <tr>\n",
       "      <th>25</th>\n",
       "      <td>25</td>\n",
       "      <td>25</td>\n",
       "      <td>Don Leavens/Tim Gill</td>\n",
       "      <td>NEMA Business Information Services</td>\n",
       "      <td>1.7</td>\n",
       "      <td>1.7</td>\n",
       "    </tr>\n",
       "    <tr>\n",
       "      <th>26</th>\n",
       "      <td>26</td>\n",
       "      <td>26</td>\n",
       "      <td>John Lonski</td>\n",
       "      <td>Moody's Investors Service</td>\n",
       "      <td>1.5</td>\n",
       "      <td>1.3</td>\n",
       "    </tr>\n",
       "    <tr>\n",
       "      <th>27</th>\n",
       "      <td>27</td>\n",
       "      <td>27</td>\n",
       "      <td>Dean Maki</td>\n",
       "      <td>Barclays Capital</td>\n",
       "      <td>2.0</td>\n",
       "      <td>2.5</td>\n",
       "    </tr>\n",
       "    <tr>\n",
       "      <th>28</th>\n",
       "      <td>28</td>\n",
       "      <td>28</td>\n",
       "      <td>Aneta Markowska *</td>\n",
       "      <td>Societe Generale</td>\n",
       "      <td>NaN</td>\n",
       "      <td>NaN</td>\n",
       "    </tr>\n",
       "    <tr>\n",
       "      <th>29</th>\n",
       "      <td>29</td>\n",
       "      <td>29</td>\n",
       "      <td>Jim Meil/Arun Raha</td>\n",
       "      <td>Eaton Corp.</td>\n",
       "      <td>1.2</td>\n",
       "      <td>2.1</td>\n",
       "    </tr>\n",
       "    <tr>\n",
       "      <th>30</th>\n",
       "      <td>30</td>\n",
       "      <td>30</td>\n",
       "      <td>Mark Nielson</td>\n",
       "      <td>MacroEcon Global Advisors</td>\n",
       "      <td>2.2</td>\n",
       "      <td>2.8</td>\n",
       "    </tr>\n",
       "    <tr>\n",
       "      <th>31</th>\n",
       "      <td>31</td>\n",
       "      <td>31</td>\n",
       "      <td>Michael P. Niemira</td>\n",
       "      <td>International Council of Shopping Centers</td>\n",
       "      <td>2.3</td>\n",
       "      <td>2.2</td>\n",
       "    </tr>\n",
       "    <tr>\n",
       "      <th>32</th>\n",
       "      <td>32</td>\n",
       "      <td>32</td>\n",
       "      <td>Jim O'Sullivan</td>\n",
       "      <td>High Frequency Economics</td>\n",
       "      <td>2.5</td>\n",
       "      <td>2.0</td>\n",
       "    </tr>\n",
       "    <tr>\n",
       "      <th>33</th>\n",
       "      <td>33</td>\n",
       "      <td>33</td>\n",
       "      <td>Nicholas S. Perna</td>\n",
       "      <td>Perna Associates</td>\n",
       "      <td>2.2</td>\n",
       "      <td>1.5</td>\n",
       "    </tr>\n",
       "    <tr>\n",
       "      <th>34</th>\n",
       "      <td>34</td>\n",
       "      <td>34</td>\n",
       "      <td>Dr. Joel Prakken/ Chris Varvares</td>\n",
       "      <td>Macroeconomic Advisers</td>\n",
       "      <td>1.5</td>\n",
       "      <td>1.4</td>\n",
       "    </tr>\n",
       "    <tr>\n",
       "      <th>35</th>\n",
       "      <td>35</td>\n",
       "      <td>35</td>\n",
       "      <td>David Resler</td>\n",
       "      <td>Nomura Securities International</td>\n",
       "      <td>1.9</td>\n",
       "      <td>1.7</td>\n",
       "    </tr>\n",
       "    <tr>\n",
       "      <th>36</th>\n",
       "      <td>36</td>\n",
       "      <td>36</td>\n",
       "      <td>John Ryding/Conrad DeQuadros</td>\n",
       "      <td>RDQ Economics</td>\n",
       "      <td>2.1</td>\n",
       "      <td>2.4</td>\n",
       "    </tr>\n",
       "    <tr>\n",
       "      <th>37</th>\n",
       "      <td>37</td>\n",
       "      <td>37</td>\n",
       "      <td>John Silvia</td>\n",
       "      <td>Wells Fargo &amp; Co.</td>\n",
       "      <td>1.6</td>\n",
       "      <td>1.7</td>\n",
       "    </tr>\n",
       "    <tr>\n",
       "      <th>38</th>\n",
       "      <td>38</td>\n",
       "      <td>38</td>\n",
       "      <td>Allen Sinai</td>\n",
       "      <td>Decision Economics, Inc.</td>\n",
       "      <td>2.1</td>\n",
       "      <td>2.7</td>\n",
       "    </tr>\n",
       "    <tr>\n",
       "      <th>39</th>\n",
       "      <td>39</td>\n",
       "      <td>39</td>\n",
       "      <td>James F. Smith</td>\n",
       "      <td>Parsec Financial Management</td>\n",
       "      <td>3.8</td>\n",
       "      <td>4.8</td>\n",
       "    </tr>\n",
       "    <tr>\n",
       "      <th>40</th>\n",
       "      <td>40</td>\n",
       "      <td>40</td>\n",
       "      <td>Sean M. Snaith</td>\n",
       "      <td>University of Central Florida</td>\n",
       "      <td>1.7</td>\n",
       "      <td>1.9</td>\n",
       "    </tr>\n",
       "    <tr>\n",
       "      <th>41</th>\n",
       "      <td>41</td>\n",
       "      <td>41</td>\n",
       "      <td>Sung Won Sohn</td>\n",
       "      <td>California State University</td>\n",
       "      <td>1.8</td>\n",
       "      <td>1.7</td>\n",
       "    </tr>\n",
       "    <tr>\n",
       "      <th>42</th>\n",
       "      <td>42</td>\n",
       "      <td>42</td>\n",
       "      <td>Neal Soss</td>\n",
       "      <td>CSFB</td>\n",
       "      <td>1.5</td>\n",
       "      <td>2.2</td>\n",
       "    </tr>\n",
       "    <tr>\n",
       "      <th>43</th>\n",
       "      <td>43</td>\n",
       "      <td>43</td>\n",
       "      <td>Stephen Stanley</td>\n",
       "      <td>Pierpont Securities</td>\n",
       "      <td>1.0</td>\n",
       "      <td>2.1</td>\n",
       "    </tr>\n",
       "    <tr>\n",
       "      <th>44</th>\n",
       "      <td>44</td>\n",
       "      <td>44</td>\n",
       "      <td>Susan M. Sterne</td>\n",
       "      <td>Economic Analysis Associates Inc.</td>\n",
       "      <td>2.2</td>\n",
       "      <td>1.9</td>\n",
       "    </tr>\n",
       "    <tr>\n",
       "      <th>45</th>\n",
       "      <td>45</td>\n",
       "      <td>45</td>\n",
       "      <td>Diane Swonk</td>\n",
       "      <td>Mesirow Financial</td>\n",
       "      <td>1.3</td>\n",
       "      <td>1.5</td>\n",
       "    </tr>\n",
       "    <tr>\n",
       "      <th>46</th>\n",
       "      <td>46</td>\n",
       "      <td>46</td>\n",
       "      <td>Carl Tannenbaum</td>\n",
       "      <td>The Northern Trust</td>\n",
       "      <td>1.7</td>\n",
       "      <td>2.0</td>\n",
       "    </tr>\n",
       "    <tr>\n",
       "      <th>47</th>\n",
       "      <td>47</td>\n",
       "      <td>47</td>\n",
       "      <td>Bart van Ark</td>\n",
       "      <td>The Conference Board</td>\n",
       "      <td>1.6</td>\n",
       "      <td>1.6</td>\n",
       "    </tr>\n",
       "    <tr>\n",
       "      <th>48</th>\n",
       "      <td>48</td>\n",
       "      <td>48</td>\n",
       "      <td>Brian S. Wesbury/ Robert Stein</td>\n",
       "      <td>First Trust Advisors, L.P.</td>\n",
       "      <td>2.5</td>\n",
       "      <td>3.0</td>\n",
       "    </tr>\n",
       "    <tr>\n",
       "      <th>49</th>\n",
       "      <td>49</td>\n",
       "      <td>49</td>\n",
       "      <td>William T. Wilson</td>\n",
       "      <td>Skolkovo Institute for Emerging Market Studies</td>\n",
       "      <td>1.9</td>\n",
       "      <td>2.2</td>\n",
       "    </tr>\n",
       "    <tr>\n",
       "      <th>50</th>\n",
       "      <td>50</td>\n",
       "      <td>50</td>\n",
       "      <td>Lawrence Yun</td>\n",
       "      <td>National Association of Realtors</td>\n",
       "      <td>1.7</td>\n",
       "      <td>2.1</td>\n",
       "    </tr>\n",
       "  </tbody>\n",
       "</table>\n",
       "</div>"
      ],
      "text/plain": [
       "    Unnamed: 0  Unnamed: 0.1                            Forecaster  \\\n",
       "0            0             0                         Paul Ashworth   \n",
       "1            1             1                     Nariman Behravesh   \n",
       "2            2             2      Richard Berner/ David Greenlaw *   \n",
       "3            3             3                       Ram Bhagavatula   \n",
       "4            4             4                     Beth Ann Bovino *   \n",
       "5            5             5                         Jay Brinkmann   \n",
       "6            6             6                         Michael Carey   \n",
       "7            7             7                         Joseph Carson   \n",
       "8            8             8                        Julia Coronado   \n",
       "9            9             9                         Mike Cosgrove   \n",
       "10          10            10                          Lou Crandall   \n",
       "11          11            11                        J. Dewey Daane   \n",
       "12          12            12                        Douglas Duncan   \n",
       "13          13            13                            Robert Dye   \n",
       "14          14            14  Maria Fiorini Ramirez/Joshua Shapiro   \n",
       "15          15            15                          Ethan Harris   \n",
       "16          16            16                          Maury Harris   \n",
       "17          17            17                           Jan Hatzius   \n",
       "18          18            18                         Tracy Herrick   \n",
       "19          19            19                      Stuart Hoffman *   \n",
       "20          20            20                            Gene Huang   \n",
       "21          21            21                     William B. Hummer   \n",
       "22          22            22                          Bruce Kasman   \n",
       "23          23            23                       Joseph LaVorgna   \n",
       "24          24            24           Edward Leamer/David Shulman   \n",
       "25          25            25                  Don Leavens/Tim Gill   \n",
       "26          26            26                           John Lonski   \n",
       "27          27            27                             Dean Maki   \n",
       "28          28            28                     Aneta Markowska *   \n",
       "29          29            29                    Jim Meil/Arun Raha   \n",
       "30          30            30                          Mark Nielson   \n",
       "31          31            31                    Michael P. Niemira   \n",
       "32          32            32                        Jim O'Sullivan   \n",
       "33          33            33                     Nicholas S. Perna   \n",
       "34          34            34      Dr. Joel Prakken/ Chris Varvares   \n",
       "35          35            35                          David Resler   \n",
       "36          36            36          John Ryding/Conrad DeQuadros   \n",
       "37          37            37                           John Silvia   \n",
       "38          38            38                           Allen Sinai   \n",
       "39          39            39                        James F. Smith   \n",
       "40          40            40                        Sean M. Snaith   \n",
       "41          41            41                         Sung Won Sohn   \n",
       "42          42            42                             Neal Soss   \n",
       "43          43            43                       Stephen Stanley   \n",
       "44          44            44                       Susan M. Sterne   \n",
       "45          45            45                           Diane Swonk   \n",
       "46          46            46                      Carl Tannenbaum    \n",
       "47          47            47                          Bart van Ark   \n",
       "48          48            48        Brian S. Wesbury/ Robert Stein   \n",
       "49          49            49                     William T. Wilson   \n",
       "50          50            50                          Lawrence Yun   \n",
       "\n",
       "                                       Institution  gdp_q3_2012  gdp_q4_2012  \n",
       "0                                Capital Economics          2.0          1.5  \n",
       "1                               IHS Global Insight          1.5          1.6  \n",
       "2                                   Morgan Stanley          NaN          NaN  \n",
       "3                            Combinatorics Capital          2.0          4.0  \n",
       "4                              Standard and Poor's          NaN          NaN  \n",
       "5                     Mortgage Bankers Association          1.8          1.9  \n",
       "6                              Credit Agricole CIB          1.7          1.6  \n",
       "7                                AllianceBernstein          2.5          3.5  \n",
       "8                                      BNP Paribas          1.4          1.6  \n",
       "9                                       Econoclast          1.6          1.6  \n",
       "10                                  Wrightson ICAP          1.8          1.8  \n",
       "11                           Vanderbilt University          1.5          1.5  \n",
       "12                                      Fannie Mae          1.8          1.7  \n",
       "13                                   Comerica Bank          2.5          2.2  \n",
       "14                                       MFR, Inc.          1.4          1.2  \n",
       "15       Bank of America Securities- Merrill Lynch          1.3          1.0  \n",
       "16                                             UBS          1.5          1.8  \n",
       "17                            Goldman, Sachs & Co.          2.3          1.5  \n",
       "18                                        Avidbank          1.8          1.8  \n",
       "19                    PNC Financial Services Group          NaN          NaN  \n",
       "20                                     FedEx Corp.          1.9          1.7  \n",
       "21                      Wintrust Wealth Management          1.7          1.9  \n",
       "22                           JP Morgan Chase & Co.          1.5          2.0  \n",
       "23                   Deutsche Bank Securities Inc.          2.7          2.8  \n",
       "24                          UCLA Anderson Forecast          1.3          1.5  \n",
       "25              NEMA Business Information Services          1.7          1.7  \n",
       "26                       Moody's Investors Service          1.5          1.3  \n",
       "27                                Barclays Capital          2.0          2.5  \n",
       "28                                Societe Generale          NaN          NaN  \n",
       "29                                     Eaton Corp.          1.2          2.1  \n",
       "30                       MacroEcon Global Advisors          2.2          2.8  \n",
       "31       International Council of Shopping Centers          2.3          2.2  \n",
       "32                        High Frequency Economics          2.5          2.0  \n",
       "33                                Perna Associates          2.2          1.5  \n",
       "34                          Macroeconomic Advisers          1.5          1.4  \n",
       "35                 Nomura Securities International          1.9          1.7  \n",
       "36                                   RDQ Economics          2.1          2.4  \n",
       "37                               Wells Fargo & Co.          1.6          1.7  \n",
       "38                        Decision Economics, Inc.          2.1          2.7  \n",
       "39                     Parsec Financial Management          3.8          4.8  \n",
       "40                   University of Central Florida          1.7          1.9  \n",
       "41                     California State University          1.8          1.7  \n",
       "42                                            CSFB          1.5          2.2  \n",
       "43                             Pierpont Securities          1.0          2.1  \n",
       "44               Economic Analysis Associates Inc.          2.2          1.9  \n",
       "45                               Mesirow Financial          1.3          1.5  \n",
       "46                              The Northern Trust          1.7          2.0  \n",
       "47                            The Conference Board          1.6          1.6  \n",
       "48                      First Trust Advisors, L.P.          2.5          3.0  \n",
       "49  Skolkovo Institute for Emerging Market Studies          1.9          2.2  \n",
       "50                National Association of Realtors          1.7          2.1  "
      ]
     },
     "execution_count": 4,
     "metadata": {},
     "output_type": "execute_result"
    }
   ],
   "source": [
    "forecasts"
   ]
  },
  {
   "cell_type": "code",
   "execution_count": 5,
   "metadata": {
    "collapsed": false
   },
   "outputs": [],
   "source": [
    "median_forecast = forecasts[['gdp_q3_2012', 'gdp_q4_2012']].median()"
   ]
  },
  {
   "cell_type": "code",
   "execution_count": 6,
   "metadata": {
    "collapsed": false
   },
   "outputs": [
    {
     "data": {
      "text/plain": [
       "gdp_q3_2012    1.8\n",
       "gdp_q4_2012    1.8\n",
       "dtype: float64"
      ]
     },
     "execution_count": 6,
     "metadata": {},
     "output_type": "execute_result"
    }
   ],
   "source": [
    "median_forecast"
   ]
  },
  {
   "cell_type": "markdown",
   "metadata": {},
   "source": [
    "### Polling Data"
   ]
  },
  {
   "cell_type": "markdown",
   "metadata": {},
   "source": [
    "I used Python to scrape the [Real Clear Politics](realclearpolitics.com) website and download data for the 2004 and 2008 elections. The scraping scripts are available in the github repository for this talk. State by state historical data for the 2004 and 2008 Presidential elections was obtained from [electoral-vote.com](www.electorical-vote.com)."
   ]
  },
  {
   "cell_type": "markdown",
   "metadata": {},
   "source": [
    "## Polling Average"
   ]
  },
  {
   "cell_type": "markdown",
   "metadata": {},
   "source": [
    "Details can be found at the 538 blog [here](http://www.fivethirtyeight.com/2008/03/pollster-ratings-updated.html)."
   ]
  },
  {
   "cell_type": "code",
   "execution_count": 7,
   "metadata": {
    "collapsed": false
   },
   "outputs": [],
   "source": [
    "tossup = [\"Colorado\", \"Florida\", \"Iowa\", \"New Hampshire\", \"Nevada\", \n",
    "          \"Ohio\", \"Virginia\", \"Wisconsin\"]"
   ]
  },
  {
   "cell_type": "code",
   "execution_count": 8,
   "metadata": {
    "collapsed": true
   },
   "outputs": [],
   "source": [
    "national_data2012 = pandas.read_pickle(\"data_nuevo/2012_poll_data_national.pkl\")"
   ]
  },
  {
   "cell_type": "code",
   "execution_count": 208,
   "metadata": {
    "collapsed": false
   },
   "outputs": [
    {
     "data": {
      "text/plain": [
       "(290, 9)"
      ]
     },
     "execution_count": 208,
     "metadata": {},
     "output_type": "execute_result"
    }
   ],
   "source": [
    "national_data2012.shape"
   ]
  },
  {
   "cell_type": "code",
   "execution_count": 9,
   "metadata": {
    "collapsed": false
   },
   "outputs": [
    {
     "data": {
      "text/html": [
       "<div>\n",
       "<table border=\"1\" class=\"dataframe\">\n",
       "  <thead>\n",
       "    <tr style=\"text-align: right;\">\n",
       "      <th></th>\n",
       "      <th>Pollster</th>\n",
       "      <th>Sample</th>\n",
       "      <th>MoE</th>\n",
       "      <th>Obama (D)</th>\n",
       "      <th>Romney (R)</th>\n",
       "      <th>Spread</th>\n",
       "      <th>obama_spread</th>\n",
       "      <th>State</th>\n",
       "      <th>poll_date</th>\n",
       "    </tr>\n",
       "  </thead>\n",
       "  <tbody>\n",
       "    <tr>\n",
       "      <th>0</th>\n",
       "      <td>RCP Average</td>\n",
       "      <td>NaN</td>\n",
       "      <td>--</td>\n",
       "      <td>49.1</td>\n",
       "      <td>45.1</td>\n",
       "      <td>Obama +4.0</td>\n",
       "      <td>4</td>\n",
       "      <td>USA</td>\n",
       "      <td>2012-09-28</td>\n",
       "    </tr>\n",
       "    <tr>\n",
       "      <th>1</th>\n",
       "      <td>Rasmussen Tracking</td>\n",
       "      <td>1500</td>\n",
       "      <td>3.0</td>\n",
       "      <td>48.0</td>\n",
       "      <td>47.0</td>\n",
       "      <td>Obama +1</td>\n",
       "      <td>1</td>\n",
       "      <td>USA</td>\n",
       "      <td>2012-09-30</td>\n",
       "    </tr>\n",
       "    <tr>\n",
       "      <th>2</th>\n",
       "      <td>CNN/Opinion Research</td>\n",
       "      <td>783</td>\n",
       "      <td>3.5</td>\n",
       "      <td>50.0</td>\n",
       "      <td>47.0</td>\n",
       "      <td>Obama +3</td>\n",
       "      <td>3</td>\n",
       "      <td>USA</td>\n",
       "      <td>2012-09-29</td>\n",
       "    </tr>\n",
       "    <tr>\n",
       "      <th>3</th>\n",
       "      <td>Gallup Tracking</td>\n",
       "      <td>3050</td>\n",
       "      <td>2.0</td>\n",
       "      <td>50.0</td>\n",
       "      <td>44.0</td>\n",
       "      <td>Obama +6</td>\n",
       "      <td>6</td>\n",
       "      <td>USA</td>\n",
       "      <td>2012-09-28</td>\n",
       "    </tr>\n",
       "    <tr>\n",
       "      <th>4</th>\n",
       "      <td>Quinnipiac</td>\n",
       "      <td>1912</td>\n",
       "      <td>2.2</td>\n",
       "      <td>49.0</td>\n",
       "      <td>45.0</td>\n",
       "      <td>Obama +4</td>\n",
       "      <td>4</td>\n",
       "      <td>USA</td>\n",
       "      <td>2012-09-28</td>\n",
       "    </tr>\n",
       "  </tbody>\n",
       "</table>\n",
       "</div>"
      ],
      "text/plain": [
       "               Pollster  Sample  MoE  Obama (D)  Romney (R)      Spread  \\\n",
       "0           RCP Average     NaN   --       49.1        45.1  Obama +4.0   \n",
       "1    Rasmussen Tracking    1500  3.0       48.0        47.0    Obama +1   \n",
       "2  CNN/Opinion Research     783  3.5       50.0        47.0    Obama +3   \n",
       "3       Gallup Tracking    3050  2.0       50.0        44.0    Obama +6   \n",
       "4            Quinnipiac    1912  2.2       49.0        45.0    Obama +4   \n",
       "\n",
       "   obama_spread State  poll_date  \n",
       "0             4   USA 2012-09-28  \n",
       "1             1   USA 2012-09-30  \n",
       "2             3   USA 2012-09-29  \n",
       "3             6   USA 2012-09-28  \n",
       "4             4   USA 2012-09-28  "
      ]
     },
     "execution_count": 9,
     "metadata": {},
     "output_type": "execute_result"
    }
   ],
   "source": [
    "national_data2012.head(5)"
   ]
  },
  {
   "cell_type": "code",
   "execution_count": 10,
   "metadata": {
    "collapsed": true
   },
   "outputs": [],
   "source": [
    "state_data2012 = pandas.read_pickle(\"data_nuevo/2012_poll_data_states.pkl\")"
   ]
  },
  {
   "cell_type": "code",
   "execution_count": 209,
   "metadata": {
    "collapsed": false
   },
   "outputs": [
    {
     "data": {
      "text/plain": [
       "(357, 19)"
      ]
     },
     "execution_count": 209,
     "metadata": {},
     "output_type": "execute_result"
    }
   ],
   "source": [
    "state_data2012.shape"
   ]
  },
  {
   "cell_type": "code",
   "execution_count": 11,
   "metadata": {
    "collapsed": false
   },
   "outputs": [
    {
     "data": {
      "text/html": [
       "<div>\n",
       "<table border=\"1\" class=\"dataframe\">\n",
       "  <thead>\n",
       "    <tr style=\"text-align: right;\">\n",
       "      <th></th>\n",
       "      <th>Pollster</th>\n",
       "      <th>State</th>\n",
       "      <th>MoE</th>\n",
       "      <th>Obama (D)</th>\n",
       "      <th>Romney (R)</th>\n",
       "      <th>Sample</th>\n",
       "      <th>Spread</th>\n",
       "      <th>obama_spread</th>\n",
       "      <th>poll_date</th>\n",
       "    </tr>\n",
       "  </thead>\n",
       "  <tbody>\n",
       "    <tr>\n",
       "      <th>0</th>\n",
       "      <td>Rasmussen Reports</td>\n",
       "      <td>WA</td>\n",
       "      <td>4.5</td>\n",
       "      <td>52</td>\n",
       "      <td>41</td>\n",
       "      <td>500</td>\n",
       "      <td>Obama +11</td>\n",
       "      <td>11</td>\n",
       "      <td>2012-09-26</td>\n",
       "    </tr>\n",
       "    <tr>\n",
       "      <th>1</th>\n",
       "      <td>Gravis Marketing</td>\n",
       "      <td>WA</td>\n",
       "      <td>4.6</td>\n",
       "      <td>56</td>\n",
       "      <td>39</td>\n",
       "      <td>625</td>\n",
       "      <td>Obama +17</td>\n",
       "      <td>17</td>\n",
       "      <td>2012-09-22</td>\n",
       "    </tr>\n",
       "    <tr>\n",
       "      <th>2</th>\n",
       "      <td>Elway Poll</td>\n",
       "      <td>WA</td>\n",
       "      <td>5.0</td>\n",
       "      <td>53</td>\n",
       "      <td>36</td>\n",
       "      <td>405</td>\n",
       "      <td>Obama +17</td>\n",
       "      <td>17</td>\n",
       "      <td>2012-09-11</td>\n",
       "    </tr>\n",
       "    <tr>\n",
       "      <th>3</th>\n",
       "      <td>SurveyUSA</td>\n",
       "      <td>WA</td>\n",
       "      <td>4.4</td>\n",
       "      <td>54</td>\n",
       "      <td>38</td>\n",
       "      <td>524</td>\n",
       "      <td>Obama +16</td>\n",
       "      <td>16</td>\n",
       "      <td>2012-09-08</td>\n",
       "    </tr>\n",
       "    <tr>\n",
       "      <th>4</th>\n",
       "      <td>SurveyUSA</td>\n",
       "      <td>WA</td>\n",
       "      <td>4.4</td>\n",
       "      <td>54</td>\n",
       "      <td>37</td>\n",
       "      <td>524</td>\n",
       "      <td>Obama +17</td>\n",
       "      <td>17</td>\n",
       "      <td>2012-08-02</td>\n",
       "    </tr>\n",
       "  </tbody>\n",
       "</table>\n",
       "</div>"
      ],
      "text/plain": [
       "            Pollster State  MoE  Obama (D)  Romney (R)  Sample     Spread  \\\n",
       "0  Rasmussen Reports    WA  4.5         52          41     500  Obama +11   \n",
       "1   Gravis Marketing    WA  4.6         56          39     625  Obama +17   \n",
       "2         Elway Poll    WA  5.0         53          36     405  Obama +17   \n",
       "3          SurveyUSA    WA  4.4         54          38     524  Obama +16   \n",
       "4          SurveyUSA    WA  4.4         54          37     524  Obama +17   \n",
       "\n",
       "   obama_spread  poll_date  \n",
       "0            11 2012-09-26  \n",
       "1            17 2012-09-22  \n",
       "2            17 2012-09-11  \n",
       "3            16 2012-09-08  \n",
       "4            17 2012-08-02  "
      ]
     },
     "execution_count": 11,
     "metadata": {},
     "output_type": "execute_result"
    }
   ],
   "source": [
    "state_data2012.head(5)"
   ]
  },
  {
   "cell_type": "code",
   "execution_count": 12,
   "metadata": {
    "collapsed": false
   },
   "outputs": [],
   "source": [
    "pollsters = state_data2012.Pollster.unique()\n",
    "pollsters.sort()"
   ]
  },
  {
   "cell_type": "code",
   "execution_count": 13,
   "metadata": {
    "collapsed": false
   },
   "outputs": [
    {
     "data": {
      "text/plain": [
       "120"
      ]
     },
     "execution_count": 13,
     "metadata": {},
     "output_type": "execute_result"
    }
   ],
   "source": [
    "len(pollsters)"
   ]
  },
  {
   "cell_type": "code",
   "execution_count": 14,
   "metadata": {
    "collapsed": false
   },
   "outputs": [
    {
     "name": "stdout",
     "output_type": "stream",
     "text": [
      "0                AFP/Magellan (R)\n",
      "1              AIF/McLaughlin (R)\n",
      "2                             ARG\n",
      "3            Albuquerque Journal*\n",
      "4                   Arizona State\n",
      "5                   Baltimore Sun\n",
      "6              Baydoun/Foster (D)\n",
      "7        Behavior Research Center\n",
      "8                  Bloomberg News\n",
      "9                    Boston Globe\n",
      "10             CBS/NYT/Quinnipiac\n",
      "11           CNN/Opinion Research\n",
      "12                       CNN/Time\n",
      "13             CNU/Times-Dispatch\n",
      "14     Caddell/McLaughlin/SAN (R)\n",
      "15        Castleton State College\n",
      "16                Chicago Tribune\n",
      "17                    Civitas (R)\n",
      "18                Clarus Research\n",
      "19             Columbus Dispatch*\n",
      "20      Courier-Journal/SurveyUSA\n",
      "21              Critical Insights\n",
      "22              Daily Kos/PPP (D)\n",
      "23                      Dartmouth\n",
      "24          Denver Post/SurveyUSA\n",
      "25            Des Moines Register\n",
      "26                   Deseret News\n",
      "27               Deseret News/KSL\n",
      "28                   Detroit News\n",
      "29                       EPIC-MRA\n",
      "                  ...            \n",
      "90                          Siena\n",
      "91                    Sooner Poll\n",
      "92             St. Cloud State U.\n",
      "93      Star Tribune/Mason-Dixon*\n",
      "94             Strategies 360 (D)\n",
      "95             Suffolk University\n",
      "96                  Suffolk/7News\n",
      "97                   Suffolk/WSVN\n",
      "98                   Suffolk/WWBT\n",
      "99        Sunshine State News/VSS\n",
      "100                     SurveyUSA\n",
      "101         SurveyUSA/Civitas (R)\n",
      "102            Talk Business Poll\n",
      "103         Tennessean/Vanderbilt\n",
      "104            The Simon Poll/SIU\n",
      "105           The Washington Poll\n",
      "106    Tribune-Review/Susquehanna\n",
      "107           UMass/Boston Herald\n",
      "108           Virginian-Pilot/ODU\n",
      "109    Voter/Consumer Res/TIR (R)\n",
      "110                  WBUR/MassINC\n",
      "111                      WMUR/UNH\n",
      "112                           WPA\n",
      "113               WPR/St. Norbert\n",
      "114                          WPRI\n",
      "115                  WPRI/Fleming\n",
      "116               Washington Post\n",
      "117                  WeAskAmerica\n",
      "118                 WeAskAmerica*\n",
      "119         Western NE University\n",
      "dtype: object\n"
     ]
    }
   ],
   "source": [
    "print pandas.Series(pollsters)"
   ]
  },
  {
   "cell_type": "markdown",
   "metadata": {},
   "source": [
    "### 538 Pollster Ratings"
   ]
  },
  {
   "cell_type": "code",
   "execution_count": 15,
   "metadata": {
    "collapsed": false
   },
   "outputs": [],
   "source": [
    "weights = pandas.read_table(\"./data/pollster_weights.csv\")"
   ]
  },
  {
   "cell_type": "code",
   "execution_count": 16,
   "metadata": {
    "collapsed": false
   },
   "outputs": [
    {
     "data": {
      "text/html": [
       "<div>\n",
       "<table border=\"1\" class=\"dataframe\">\n",
       "  <thead>\n",
       "    <tr style=\"text-align: right;\">\n",
       "      <th></th>\n",
       "      <th>Pollster</th>\n",
       "      <th>Weight</th>\n",
       "      <th>PIE</th>\n",
       "    </tr>\n",
       "  </thead>\n",
       "  <tbody>\n",
       "    <tr>\n",
       "      <th>0</th>\n",
       "      <td>ABC / Washington Post</td>\n",
       "      <td>0.95</td>\n",
       "      <td>1.41</td>\n",
       "    </tr>\n",
       "    <tr>\n",
       "      <th>1</th>\n",
       "      <td>American Research Group</td>\n",
       "      <td>0.65</td>\n",
       "      <td>1.76</td>\n",
       "    </tr>\n",
       "    <tr>\n",
       "      <th>2</th>\n",
       "      <td>CBS / New York Times</td>\n",
       "      <td>0.66</td>\n",
       "      <td>1.84</td>\n",
       "    </tr>\n",
       "    <tr>\n",
       "      <th>3</th>\n",
       "      <td>Chicago Trib. / MarketShares</td>\n",
       "      <td>1.16</td>\n",
       "      <td>1.13</td>\n",
       "    </tr>\n",
       "    <tr>\n",
       "      <th>4</th>\n",
       "      <td>CNN / Opinion Research</td>\n",
       "      <td>0.77</td>\n",
       "      <td>1.59</td>\n",
       "    </tr>\n",
       "    <tr>\n",
       "      <th>5</th>\n",
       "      <td>Columbus Dispatch (OH)</td>\n",
       "      <td>0.50</td>\n",
       "      <td>6.76</td>\n",
       "    </tr>\n",
       "    <tr>\n",
       "      <th>6</th>\n",
       "      <td>EPIC-MRA</td>\n",
       "      <td>0.75</td>\n",
       "      <td>1.65</td>\n",
       "    </tr>\n",
       "    <tr>\n",
       "      <th>7</th>\n",
       "      <td>Fairleigh-Dickinson (NJ)</td>\n",
       "      <td>0.71</td>\n",
       "      <td>1.72</td>\n",
       "    </tr>\n",
       "    <tr>\n",
       "      <th>8</th>\n",
       "      <td>Field Poll (CA)</td>\n",
       "      <td>1.33</td>\n",
       "      <td>0.88</td>\n",
       "    </tr>\n",
       "    <tr>\n",
       "      <th>9</th>\n",
       "      <td>Fox / Opinion Dynamics</td>\n",
       "      <td>0.79</td>\n",
       "      <td>1.60</td>\n",
       "    </tr>\n",
       "    <tr>\n",
       "      <th>10</th>\n",
       "      <td>Franklin Pierce (NH)</td>\n",
       "      <td>0.74</td>\n",
       "      <td>1.60</td>\n",
       "    </tr>\n",
       "    <tr>\n",
       "      <th>11</th>\n",
       "      <td>Insider Advantage</td>\n",
       "      <td>0.95</td>\n",
       "      <td>1.29</td>\n",
       "    </tr>\n",
       "    <tr>\n",
       "      <th>12</th>\n",
       "      <td>Keystone (PA)</td>\n",
       "      <td>0.64</td>\n",
       "      <td>1.55</td>\n",
       "    </tr>\n",
       "    <tr>\n",
       "      <th>13</th>\n",
       "      <td>LA Times / Bloomberg</td>\n",
       "      <td>0.83</td>\n",
       "      <td>1.44</td>\n",
       "    </tr>\n",
       "    <tr>\n",
       "      <th>14</th>\n",
       "      <td>Marist (NY)</td>\n",
       "      <td>0.69</td>\n",
       "      <td>1.73</td>\n",
       "    </tr>\n",
       "    <tr>\n",
       "      <th>15</th>\n",
       "      <td>Mason-Dixon</td>\n",
       "      <td>1.10</td>\n",
       "      <td>1.15</td>\n",
       "    </tr>\n",
       "    <tr>\n",
       "      <th>16</th>\n",
       "      <td>Mitchell</td>\n",
       "      <td>0.96</td>\n",
       "      <td>1.43</td>\n",
       "    </tr>\n",
       "    <tr>\n",
       "      <th>17</th>\n",
       "      <td>Ohio Poll</td>\n",
       "      <td>1.24</td>\n",
       "      <td>1.05</td>\n",
       "    </tr>\n",
       "    <tr>\n",
       "      <th>18</th>\n",
       "      <td>Public Opinion Strategies</td>\n",
       "      <td>0.63</td>\n",
       "      <td>1.81</td>\n",
       "    </tr>\n",
       "    <tr>\n",
       "      <th>19</th>\n",
       "      <td>Public Policy Polling (PPP)</td>\n",
       "      <td>1.05</td>\n",
       "      <td>1.60</td>\n",
       "    </tr>\n",
       "    <tr>\n",
       "      <th>20</th>\n",
       "      <td>Quinnipiac</td>\n",
       "      <td>0.95</td>\n",
       "      <td>1.34</td>\n",
       "    </tr>\n",
       "    <tr>\n",
       "      <th>21</th>\n",
       "      <td>Rasmussen</td>\n",
       "      <td>1.30</td>\n",
       "      <td>0.88</td>\n",
       "    </tr>\n",
       "    <tr>\n",
       "      <th>22</th>\n",
       "      <td>Research 2000</td>\n",
       "      <td>1.01</td>\n",
       "      <td>1.20</td>\n",
       "    </tr>\n",
       "    <tr>\n",
       "      <th>23</th>\n",
       "      <td>Selzer</td>\n",
       "      <td>1.47</td>\n",
       "      <td>0.92</td>\n",
       "    </tr>\n",
       "    <tr>\n",
       "      <th>24</th>\n",
       "      <td>Star Tribune (MN)</td>\n",
       "      <td>0.81</td>\n",
       "      <td>2.01</td>\n",
       "    </tr>\n",
       "    <tr>\n",
       "      <th>25</th>\n",
       "      <td>Strategic Vision</td>\n",
       "      <td>0.95</td>\n",
       "      <td>1.45</td>\n",
       "    </tr>\n",
       "    <tr>\n",
       "      <th>26</th>\n",
       "      <td>Suffolk (NH/MA)</td>\n",
       "      <td>0.77</td>\n",
       "      <td>1.37</td>\n",
       "    </tr>\n",
       "    <tr>\n",
       "      <th>27</th>\n",
       "      <td>SurveyUSA</td>\n",
       "      <td>1.91</td>\n",
       "      <td>0.72</td>\n",
       "    </tr>\n",
       "    <tr>\n",
       "      <th>28</th>\n",
       "      <td>Univ. New Hampshire</td>\n",
       "      <td>1.08</td>\n",
       "      <td>1.26</td>\n",
       "    </tr>\n",
       "    <tr>\n",
       "      <th>29</th>\n",
       "      <td>USA Today / Gallup</td>\n",
       "      <td>0.63</td>\n",
       "      <td>2.01</td>\n",
       "    </tr>\n",
       "    <tr>\n",
       "      <th>30</th>\n",
       "      <td>Zogby</td>\n",
       "      <td>0.64</td>\n",
       "      <td>1.72</td>\n",
       "    </tr>\n",
       "    <tr>\n",
       "      <th>31</th>\n",
       "      <td>Zogby Interactive</td>\n",
       "      <td>0.43</td>\n",
       "      <td>4.74</td>\n",
       "    </tr>\n",
       "  </tbody>\n",
       "</table>\n",
       "</div>"
      ],
      "text/plain": [
       "                        Pollster  Weight   PIE\n",
       "0          ABC / Washington Post    0.95  1.41\n",
       "1        American Research Group    0.65  1.76\n",
       "2           CBS / New York Times    0.66  1.84\n",
       "3   Chicago Trib. / MarketShares    1.16  1.13\n",
       "4         CNN / Opinion Research    0.77  1.59\n",
       "5         Columbus Dispatch (OH)    0.50  6.76\n",
       "6                       EPIC-MRA    0.75  1.65\n",
       "7       Fairleigh-Dickinson (NJ)    0.71  1.72\n",
       "8                Field Poll (CA)    1.33  0.88\n",
       "9         Fox / Opinion Dynamics    0.79  1.60\n",
       "10          Franklin Pierce (NH)    0.74  1.60\n",
       "11             Insider Advantage    0.95  1.29\n",
       "12                 Keystone (PA)    0.64  1.55\n",
       "13          LA Times / Bloomberg    0.83  1.44\n",
       "14                   Marist (NY)    0.69  1.73\n",
       "15                   Mason-Dixon    1.10  1.15\n",
       "16                      Mitchell    0.96  1.43\n",
       "17                     Ohio Poll    1.24  1.05\n",
       "18     Public Opinion Strategies    0.63  1.81\n",
       "19   Public Policy Polling (PPP)    1.05  1.60\n",
       "20                    Quinnipiac    0.95  1.34\n",
       "21                     Rasmussen    1.30  0.88\n",
       "22                 Research 2000    1.01  1.20\n",
       "23                        Selzer    1.47  0.92\n",
       "24             Star Tribune (MN)    0.81  2.01\n",
       "25              Strategic Vision    0.95  1.45\n",
       "26               Suffolk (NH/MA)    0.77  1.37\n",
       "27                     SurveyUSA    1.91  0.72\n",
       "28           Univ. New Hampshire    1.08  1.26\n",
       "29            USA Today / Gallup    0.63  2.01\n",
       "30                         Zogby    0.64  1.72\n",
       "31             Zogby Interactive    0.43  4.74"
      ]
     },
     "execution_count": 16,
     "metadata": {},
     "output_type": "execute_result"
    }
   ],
   "source": [
    "weights"
   ]
  },
  {
   "cell_type": "code",
   "execution_count": 17,
   "metadata": {
    "collapsed": false
   },
   "outputs": [
    {
     "data": {
      "text/plain": [
       "Weight    0.907813\n",
       "PIE       1.706563\n",
       "dtype: float64"
      ]
     },
     "execution_count": 17,
     "metadata": {},
     "output_type": "execute_result"
    }
   ],
   "source": [
    "weights.mean()"
   ]
  },
  {
   "cell_type": "code",
   "execution_count": 18,
   "metadata": {
    "collapsed": false
   },
   "outputs": [],
   "source": [
    "import pickle\n",
    "pollster_map = pickle.load(open(\"./data/pollster_map.pkl\", \"rb\"))"
   ]
  },
  {
   "cell_type": "code",
   "execution_count": 19,
   "metadata": {
    "collapsed": false
   },
   "outputs": [],
   "source": [
    "state_data2012.Pollster.replace(pollster_map, inplace=True);"
   ]
  },
  {
   "cell_type": "code",
   "execution_count": 20,
   "metadata": {
    "collapsed": false
   },
   "outputs": [],
   "source": [
    "national_data2012.Pollster.replace(pollster_map, inplace=True);"
   ]
  },
  {
   "cell_type": "markdown",
   "metadata": {},
   "source": [
    "Inner merge the data with the weights"
   ]
  },
  {
   "cell_type": "code",
   "execution_count": 21,
   "metadata": {
    "collapsed": false
   },
   "outputs": [],
   "source": [
    "state_data2012 = state_data2012.merge(weights, how=\"inner\", on=\"Pollster\")"
   ]
  },
  {
   "cell_type": "code",
   "execution_count": 22,
   "metadata": {
    "collapsed": false
   },
   "outputs": [
    {
     "data": {
      "text/html": [
       "<div>\n",
       "<table border=\"1\" class=\"dataframe\">\n",
       "  <thead>\n",
       "    <tr style=\"text-align: right;\">\n",
       "      <th></th>\n",
       "      <th>Pollster</th>\n",
       "      <th>State</th>\n",
       "      <th>MoE</th>\n",
       "      <th>Obama (D)</th>\n",
       "      <th>Romney (R)</th>\n",
       "      <th>Sample</th>\n",
       "      <th>Spread</th>\n",
       "      <th>obama_spread</th>\n",
       "      <th>poll_date</th>\n",
       "      <th>Weight</th>\n",
       "      <th>PIE</th>\n",
       "    </tr>\n",
       "  </thead>\n",
       "  <tbody>\n",
       "    <tr>\n",
       "      <th>0</th>\n",
       "      <td>Rasmussen</td>\n",
       "      <td>WA</td>\n",
       "      <td>4.5</td>\n",
       "      <td>52</td>\n",
       "      <td>41</td>\n",
       "      <td>500</td>\n",
       "      <td>Obama +11</td>\n",
       "      <td>11</td>\n",
       "      <td>2012-09-26</td>\n",
       "      <td>1.3</td>\n",
       "      <td>0.88</td>\n",
       "    </tr>\n",
       "    <tr>\n",
       "      <th>1</th>\n",
       "      <td>Rasmussen</td>\n",
       "      <td>WI</td>\n",
       "      <td>4.5</td>\n",
       "      <td>49</td>\n",
       "      <td>46</td>\n",
       "      <td>500</td>\n",
       "      <td>Obama +3</td>\n",
       "      <td>3</td>\n",
       "      <td>2012-09-17</td>\n",
       "      <td>1.3</td>\n",
       "      <td>0.88</td>\n",
       "    </tr>\n",
       "    <tr>\n",
       "      <th>2</th>\n",
       "      <td>Rasmussen</td>\n",
       "      <td>WI</td>\n",
       "      <td>4.5</td>\n",
       "      <td>47</td>\n",
       "      <td>48</td>\n",
       "      <td>500</td>\n",
       "      <td>Romney +1</td>\n",
       "      <td>-1</td>\n",
       "      <td>2012-08-15</td>\n",
       "      <td>1.3</td>\n",
       "      <td>0.88</td>\n",
       "    </tr>\n",
       "    <tr>\n",
       "      <th>3</th>\n",
       "      <td>Rasmussen</td>\n",
       "      <td>WI</td>\n",
       "      <td>4.5</td>\n",
       "      <td>49</td>\n",
       "      <td>46</td>\n",
       "      <td>500</td>\n",
       "      <td>Obama +3</td>\n",
       "      <td>3</td>\n",
       "      <td>2012-07-25</td>\n",
       "      <td>1.3</td>\n",
       "      <td>0.88</td>\n",
       "    </tr>\n",
       "    <tr>\n",
       "      <th>4</th>\n",
       "      <td>Rasmussen</td>\n",
       "      <td>WI</td>\n",
       "      <td>4.5</td>\n",
       "      <td>44</td>\n",
       "      <td>47</td>\n",
       "      <td>500</td>\n",
       "      <td>Romney +3</td>\n",
       "      <td>-3</td>\n",
       "      <td>2012-06-12</td>\n",
       "      <td>1.3</td>\n",
       "      <td>0.88</td>\n",
       "    </tr>\n",
       "  </tbody>\n",
       "</table>\n",
       "</div>"
      ],
      "text/plain": [
       "    Pollster State  MoE  Obama (D)  Romney (R)  Sample     Spread  \\\n",
       "0  Rasmussen    WA  4.5         52          41     500  Obama +11   \n",
       "1  Rasmussen    WI  4.5         49          46     500   Obama +3   \n",
       "2  Rasmussen    WI  4.5         47          48     500  Romney +1   \n",
       "3  Rasmussen    WI  4.5         49          46     500   Obama +3   \n",
       "4  Rasmussen    WI  4.5         44          47     500  Romney +3   \n",
       "\n",
       "   obama_spread  poll_date  Weight   PIE  \n",
       "0            11 2012-09-26     1.3  0.88  \n",
       "1             3 2012-09-17     1.3  0.88  \n",
       "2            -1 2012-08-15     1.3  0.88  \n",
       "3             3 2012-07-25     1.3  0.88  \n",
       "4            -3 2012-06-12     1.3  0.88  "
      ]
     },
     "execution_count": 22,
     "metadata": {},
     "output_type": "execute_result"
    }
   ],
   "source": [
    "state_data2012.head(5)"
   ]
  },
  {
   "cell_type": "code",
   "execution_count": 23,
   "metadata": {
    "collapsed": false
   },
   "outputs": [
    {
     "data": {
      "text/plain": [
       "Pollster                object\n",
       "State                   object\n",
       "MoE                    float64\n",
       "Obama (D)              float64\n",
       "Romney (R)             float64\n",
       "Sample                 float64\n",
       "Spread                  object\n",
       "obama_spread           float64\n",
       "poll_date       datetime64[ns]\n",
       "Weight                 float64\n",
       "PIE                    float64\n",
       "dtype: object"
      ]
     },
     "execution_count": 23,
     "metadata": {},
     "output_type": "execute_result"
    }
   ],
   "source": [
    "state_data2012.dtypes"
   ]
  },
  {
   "cell_type": "markdown",
   "metadata": {},
   "source": [
    "#### First, we average each pollster for each state."
   ]
  },
  {
   "cell_type": "markdown",
   "metadata": {},
   "source": [
    "The first adjustment is an exponential decay for recency of the poll. Based on research in prior elections, a weight with a half-life of 30 days since the median date the poll has been in the field is assigned to each poll."
   ]
  },
  {
   "cell_type": "code",
   "execution_count": 24,
   "metadata": {
    "collapsed": false
   },
   "outputs": [],
   "source": [
    "def exp_decay(x):\n",
    "    # defensive coding, accepts timedeltas\n",
    "    #days = getattr(days, \"days\", days)\n",
    "    days = x.astype('timedelta64[D]')/ np.timedelta64(1, 'D')\n",
    "    # print(\"days is\", type(days))\n",
    "    return .5 ** (days/30.)"
   ]
  },
  {
   "cell_type": "code",
   "execution_count": 25,
   "metadata": {
    "collapsed": false
   },
   "outputs": [
    {
     "data": {
      "text/plain": [
       "(0, 45)"
      ]
     },
     "execution_count": 25,
     "metadata": {},
     "output_type": "execute_result"
    },
    {
     "name": "stderr",
     "output_type": "stream",
     "text": [
      "//anaconda/envs/pydata/lib/python2.7/site-packages/matplotlib/collections.py:590: FutureWarning: elementwise comparison failed; returning scalar instead, but in the future will perform elementwise comparison\n",
      "  if self._edgecolors == str('face'):\n"
     ]
    },
    {
     "data": {
      "image/png": "[encoded data removed]",
      "text/plain": [
       "<matplotlib.figure.Figure at 0x10ecf7050>"
      ]
     },
     "metadata": {},
     "output_type": "display_data"
    }
   ],
   "source": [
    "fig, ax = plt.subplots(figsize=(12,8), subplot_kw={\"xlabel\" : \"Days\",\n",
    "                                                   \"ylabel\" : \"Weight\"})\n",
    "days = np.arange(0, 45)\n",
    "ax.plot(days, exp_decay(days));\n",
    "ax.vlines(30, 0, .99, color='r', linewidth=4)\n",
    "ax.set_ylim(0,1)\n",
    "ax.set_xlim(0, 45)\n"
   ]
  },
  {
   "cell_type": "markdown",
   "metadata": {},
   "source": [
    "The second adjustment is for the sample size of the poll. Polls with a higher sample size receive a higher weight."
   ]
  },
  {
   "cell_type": "markdown",
   "metadata": {},
   "source": [
    "Binomial sampling error = +/- $50 * \\frac{1}{\\sqrt{nobs}}$ where the 50 depends on the underlying probability or population preferences, in this case assumed to be 50:50 (another way of calculating Margin of Error)"
   ]
  },
  {
   "cell_type": "code",
   "execution_count": 26,
   "metadata": {
    "collapsed": false
   },
   "outputs": [],
   "source": [
    "def average_error(nobs, p=50.):\n",
    "    return p*nobs**-.5"
   ]
  },
  {
   "cell_type": "markdown",
   "metadata": {},
   "source": [
    "The thinking here is that having 5 polls of 1200 is a lot like having one poll of 6000. However, we downweight older polls by only including the marginal effective sample size. Where the effective sample size is the size of the methodologically perfect poll for which we would be indifferent between it and the one we have with our current total error. Total error is determined as $TE = \\text{Average Error} + \\text{Long Run Pollster Induced Error}$. See [here](http://www.fivethirtyeight.com/2008/04/pollster-ratings-v30.html) for the detailed calculations of Pollster Induced Error."
   ]
  },
  {
   "cell_type": "code",
   "execution_count": 27,
   "metadata": {
    "collapsed": false
   },
   "outputs": [],
   "source": [
    "def effective_sample(total_error, p=50.):\n",
    "    return p**2 * (total_error**-2.)"
   ]
  },
  {
   "cell_type": "code",
   "execution_count": 28,
   "metadata": {
    "collapsed": false
   },
   "outputs": [],
   "source": [
    "state_pollsters = state_data2012.groupby([\"State\", \"Pollster\"])"
   ]
  },
  {
   "cell_type": "code",
   "execution_count": 29,
   "metadata": {
    "collapsed": false
   },
   "outputs": [],
   "source": [
    "ppp_az = state_pollsters.get_group((\"AZ\", \"Public Policy Polling (PPP)\"))"
   ]
  },
  {
   "cell_type": "code",
   "execution_count": 30,
   "metadata": {
    "collapsed": false
   },
   "outputs": [
    {
     "data": {
      "text/html": [
       "<div>\n",
       "<table border=\"1\" class=\"dataframe\">\n",
       "  <thead>\n",
       "    <tr style=\"text-align: right;\">\n",
       "      <th></th>\n",
       "      <th>Pollster</th>\n",
       "      <th>State</th>\n",
       "      <th>Obama (D)</th>\n",
       "      <th>Romney (R)</th>\n",
       "      <th>Sample</th>\n",
       "      <th>poll_date</th>\n",
       "    </tr>\n",
       "  </thead>\n",
       "  <tbody>\n",
       "    <tr>\n",
       "      <th>258</th>\n",
       "      <td>Public Policy Polling (PPP)</td>\n",
       "      <td>AZ</td>\n",
       "      <td>44</td>\n",
       "      <td>53</td>\n",
       "      <td>993</td>\n",
       "      <td>2012-09-08</td>\n",
       "    </tr>\n",
       "    <tr>\n",
       "      <th>259</th>\n",
       "      <td>Public Policy Polling (PPP)</td>\n",
       "      <td>AZ</td>\n",
       "      <td>41</td>\n",
       "      <td>52</td>\n",
       "      <td>833</td>\n",
       "      <td>2012-07-24</td>\n",
       "    </tr>\n",
       "    <tr>\n",
       "      <th>260</th>\n",
       "      <td>Public Policy Polling (PPP)</td>\n",
       "      <td>AZ</td>\n",
       "      <td>43</td>\n",
       "      <td>50</td>\n",
       "      <td>500</td>\n",
       "      <td>2012-05-19</td>\n",
       "    </tr>\n",
       "    <tr>\n",
       "      <th>261</th>\n",
       "      <td>Public Policy Polling (PPP)</td>\n",
       "      <td>AZ</td>\n",
       "      <td>47</td>\n",
       "      <td>47</td>\n",
       "      <td>743</td>\n",
       "      <td>2012-02-18</td>\n",
       "    </tr>\n",
       "    <tr>\n",
       "      <th>262</th>\n",
       "      <td>Public Policy Polling (PPP)</td>\n",
       "      <td>AZ</td>\n",
       "      <td>42</td>\n",
       "      <td>49</td>\n",
       "      <td>500</td>\n",
       "      <td>2011-11-19</td>\n",
       "    </tr>\n",
       "    <tr>\n",
       "      <th>263</th>\n",
       "      <td>Public Policy Polling (PPP)</td>\n",
       "      <td>AZ</td>\n",
       "      <td>44</td>\n",
       "      <td>48</td>\n",
       "      <td>623</td>\n",
       "      <td>2011-04-30</td>\n",
       "    </tr>\n",
       "    <tr>\n",
       "      <th>264</th>\n",
       "      <td>Public Policy Polling (PPP)</td>\n",
       "      <td>AZ</td>\n",
       "      <td>43</td>\n",
       "      <td>49</td>\n",
       "      <td>599</td>\n",
       "      <td>2011-01-29</td>\n",
       "    </tr>\n",
       "    <tr>\n",
       "      <th>265</th>\n",
       "      <td>Public Policy Polling (PPP)</td>\n",
       "      <td>AZ</td>\n",
       "      <td>43</td>\n",
       "      <td>50</td>\n",
       "      <td>617</td>\n",
       "      <td>2010-09-20</td>\n",
       "    </tr>\n",
       "  </tbody>\n",
       "</table>\n",
       "</div>"
      ],
      "text/plain": [
       "                        Pollster State  Obama (D)  Romney (R)  Sample  \\\n",
       "258  Public Policy Polling (PPP)    AZ         44          53     993   \n",
       "259  Public Policy Polling (PPP)    AZ         41          52     833   \n",
       "260  Public Policy Polling (PPP)    AZ         43          50     500   \n",
       "261  Public Policy Polling (PPP)    AZ         47          47     743   \n",
       "262  Public Policy Polling (PPP)    AZ         42          49     500   \n",
       "263  Public Policy Polling (PPP)    AZ         44          48     623   \n",
       "264  Public Policy Polling (PPP)    AZ         43          49     599   \n",
       "265  Public Policy Polling (PPP)    AZ         43          50     617   \n",
       "\n",
       "     poll_date  \n",
       "258 2012-09-08  \n",
       "259 2012-07-24  \n",
       "260 2012-05-19  \n",
       "261 2012-02-18  \n",
       "262 2011-11-19  \n",
       "263 2011-04-30  \n",
       "264 2011-01-29  \n",
       "265 2010-09-20  "
      ]
     },
     "execution_count": 30,
     "metadata": {},
     "output_type": "execute_result"
    }
   ],
   "source": [
    "var_idx = [\"Pollster\", \"State\", \"Obama (D)\", \"Romney (R)\", \"Sample\", \"poll_date\"]\n",
    "ppp_az[var_idx]"
   ]
  },
  {
   "cell_type": "code",
   "execution_count": 31,
   "metadata": {
    "collapsed": false
   },
   "outputs": [
    {
     "name": "stderr",
     "output_type": "stream",
     "text": [
      "//anaconda/envs/pydata/lib/python2.7/site-packages/pandas/core/frame.py:2915: SettingWithCopyWarning: \n",
      "A value is trying to be set on a copy of a slice from a DataFrame\n",
      "\n",
      "See the the caveats in the documentation: http://pandas.pydata.org/pandas-docs/stable/indexing.html#indexing-view-versus-copy\n",
      "  inplace=inplace, kind=kind, na_position=na_position)\n"
     ]
    }
   ],
   "source": [
    "ppp_az.sort(\"poll_date\", ascending=False, inplace=True);"
   ]
  },
  {
   "cell_type": "code",
   "execution_count": 32,
   "metadata": {
    "collapsed": false
   },
   "outputs": [
    {
     "name": "stderr",
     "output_type": "stream",
     "text": [
      "/anaconda/envs/pydata/lib/python2.7/site-packages/ipykernel/__main__.py:1: SettingWithCopyWarning: \n",
      "A value is trying to be set on a copy of a slice from a DataFrame.\n",
      "Try using .loc[row_indexer,col_indexer] = value instead\n",
      "\n",
      "See the the caveats in the documentation: http://pandas.pydata.org/pandas-docs/stable/indexing.html#indexing-view-versus-copy\n",
      "  if __name__ == '__main__':\n",
      "/anaconda/envs/pydata/lib/python2.7/site-packages/ipykernel/__main__.py:2: SettingWithCopyWarning: \n",
      "A value is trying to be set on a copy of a slice from a DataFrame.\n",
      "Try using .loc[row_indexer,col_indexer] = value instead\n",
      "\n",
      "See the the caveats in the documentation: http://pandas.pydata.org/pandas-docs/stable/indexing.html#indexing-view-versus-copy\n",
      "  from ipykernel import kernelapp as app\n",
      "/anaconda/envs/pydata/lib/python2.7/site-packages/ipykernel/__main__.py:3: SettingWithCopyWarning: \n",
      "A value is trying to be set on a copy of a slice from a DataFrame.\n",
      "Try using .loc[row_indexer,col_indexer] = value instead\n",
      "\n",
      "See the the caveats in the documentation: http://pandas.pydata.org/pandas-docs/stable/indexing.html#indexing-view-versus-copy\n",
      "  app.launch_new_instance()\n"
     ]
    },
    {
     "data": {
      "text/html": [
       "<div>\n",
       "<table border=\"1\" class=\"dataframe\">\n",
       "  <thead>\n",
       "    <tr style=\"text-align: right;\">\n",
       "      <th></th>\n",
       "      <th>Pollster</th>\n",
       "      <th>State</th>\n",
       "      <th>Obama (D)</th>\n",
       "      <th>Romney (R)</th>\n",
       "      <th>Sample</th>\n",
       "      <th>poll_date</th>\n",
       "      <th>cumulative</th>\n",
       "    </tr>\n",
       "  </thead>\n",
       "  <tbody>\n",
       "    <tr>\n",
       "      <th>258</th>\n",
       "      <td>Public Policy Polling (PPP)</td>\n",
       "      <td>AZ</td>\n",
       "      <td>44</td>\n",
       "      <td>53</td>\n",
       "      <td>993</td>\n",
       "      <td>2012-09-08</td>\n",
       "      <td>993</td>\n",
       "    </tr>\n",
       "    <tr>\n",
       "      <th>259</th>\n",
       "      <td>Public Policy Polling (PPP)</td>\n",
       "      <td>AZ</td>\n",
       "      <td>41</td>\n",
       "      <td>52</td>\n",
       "      <td>833</td>\n",
       "      <td>2012-07-24</td>\n",
       "      <td>1826</td>\n",
       "    </tr>\n",
       "    <tr>\n",
       "      <th>260</th>\n",
       "      <td>Public Policy Polling (PPP)</td>\n",
       "      <td>AZ</td>\n",
       "      <td>43</td>\n",
       "      <td>50</td>\n",
       "      <td>500</td>\n",
       "      <td>2012-05-19</td>\n",
       "      <td>2326</td>\n",
       "    </tr>\n",
       "    <tr>\n",
       "      <th>261</th>\n",
       "      <td>Public Policy Polling (PPP)</td>\n",
       "      <td>AZ</td>\n",
       "      <td>47</td>\n",
       "      <td>47</td>\n",
       "      <td>743</td>\n",
       "      <td>2012-02-18</td>\n",
       "      <td>3069</td>\n",
       "    </tr>\n",
       "    <tr>\n",
       "      <th>262</th>\n",
       "      <td>Public Policy Polling (PPP)</td>\n",
       "      <td>AZ</td>\n",
       "      <td>42</td>\n",
       "      <td>49</td>\n",
       "      <td>500</td>\n",
       "      <td>2011-11-19</td>\n",
       "      <td>3569</td>\n",
       "    </tr>\n",
       "    <tr>\n",
       "      <th>263</th>\n",
       "      <td>Public Policy Polling (PPP)</td>\n",
       "      <td>AZ</td>\n",
       "      <td>44</td>\n",
       "      <td>48</td>\n",
       "      <td>623</td>\n",
       "      <td>2011-04-30</td>\n",
       "      <td>4192</td>\n",
       "    </tr>\n",
       "    <tr>\n",
       "      <th>264</th>\n",
       "      <td>Public Policy Polling (PPP)</td>\n",
       "      <td>AZ</td>\n",
       "      <td>43</td>\n",
       "      <td>49</td>\n",
       "      <td>599</td>\n",
       "      <td>2011-01-29</td>\n",
       "      <td>4791</td>\n",
       "    </tr>\n",
       "    <tr>\n",
       "      <th>265</th>\n",
       "      <td>Public Policy Polling (PPP)</td>\n",
       "      <td>AZ</td>\n",
       "      <td>43</td>\n",
       "      <td>50</td>\n",
       "      <td>617</td>\n",
       "      <td>2010-09-20</td>\n",
       "      <td>5408</td>\n",
       "    </tr>\n",
       "  </tbody>\n",
       "</table>\n",
       "</div>"
      ],
      "text/plain": [
       "                        Pollster State  Obama (D)  Romney (R)  Sample  \\\n",
       "258  Public Policy Polling (PPP)    AZ         44          53     993   \n",
       "259  Public Policy Polling (PPP)    AZ         41          52     833   \n",
       "260  Public Policy Polling (PPP)    AZ         43          50     500   \n",
       "261  Public Policy Polling (PPP)    AZ         47          47     743   \n",
       "262  Public Policy Polling (PPP)    AZ         42          49     500   \n",
       "263  Public Policy Polling (PPP)    AZ         44          48     623   \n",
       "264  Public Policy Polling (PPP)    AZ         43          49     599   \n",
       "265  Public Policy Polling (PPP)    AZ         43          50     617   \n",
       "\n",
       "     poll_date  cumulative  \n",
       "258 2012-09-08         993  \n",
       "259 2012-07-24        1826  \n",
       "260 2012-05-19        2326  \n",
       "261 2012-02-18        3069  \n",
       "262 2011-11-19        3569  \n",
       "263 2011-04-30        4192  \n",
       "264 2011-01-29        4791  \n",
       "265 2010-09-20        5408  "
      ]
     },
     "execution_count": 32,
     "metadata": {},
     "output_type": "execute_result"
    }
   ],
   "source": [
    "ppp_az[\"cumulative\"] = ppp_az[\"Sample\"].cumsum()\n",
    "ppp_az[\"average_error\"] = average_error(ppp_az[\"cumulative\"])\n",
    "ppp_az[\"total_error\"] = ppp_az[\"PIE\"] + ppp_az[\"average_error\"]\n",
    "ppp_az[var_idx + [\"cumulative\"]]"
   ]
  },
  {
   "cell_type": "code",
   "execution_count": 33,
   "metadata": {
    "collapsed": false
   },
   "outputs": [
    {
     "name": "stderr",
     "output_type": "stream",
     "text": [
      "/anaconda/envs/pydata/lib/python2.7/site-packages/ipykernel/__main__.py:1: SettingWithCopyWarning: \n",
      "A value is trying to be set on a copy of a slice from a DataFrame.\n",
      "Try using .loc[row_indexer,col_indexer] = value instead\n",
      "\n",
      "See the the caveats in the documentation: http://pandas.pydata.org/pandas-docs/stable/indexing.html#indexing-view-versus-copy\n",
      "  if __name__ == '__main__':\n",
      "/anaconda/envs/pydata/lib/python2.7/site-packages/ipykernel/__main__.py:2: SettingWithCopyWarning: \n",
      "A value is trying to be set on a copy of a slice from a DataFrame.\n",
      "Try using .loc[row_indexer,col_indexer] = value instead\n",
      "\n",
      "See the the caveats in the documentation: http://pandas.pydata.org/pandas-docs/stable/indexing.html#indexing-view-versus-copy\n",
      "  from ipykernel import kernelapp as app\n",
      "//anaconda/envs/pydata/lib/python2.7/site-packages/pandas/core/generic.py:2602: SettingWithCopyWarning: \n",
      "A value is trying to be set on a copy of a slice from a DataFrame\n",
      "\n",
      "See the the caveats in the documentation: http://pandas.pydata.org/pandas-docs/stable/indexing.html#indexing-view-versus-copy\n",
      "  self._update_inplace(new_data)\n"
     ]
    }
   ],
   "source": [
    "ppp_az[\"ESS\"] = effective_sample(ppp_az[\"total_error\"])\n",
    "ppp_az[\"MESS\"] = ppp_az[\"ESS\"].diff()\n",
    "# fill in first one\n",
    "ppp_az[\"MESS\"].fillna(ppp_az[\"ESS\"].head(1).item(), inplace=True);"
   ]
  },
  {
   "cell_type": "code",
   "execution_count": 34,
   "metadata": {
    "collapsed": false
   },
   "outputs": [
    {
     "data": {
      "text/html": [
       "<div>\n",
       "<table border=\"1\" class=\"dataframe\">\n",
       "  <thead>\n",
       "    <tr style=\"text-align: right;\">\n",
       "      <th></th>\n",
       "      <th>poll_date</th>\n",
       "      <th>Sample</th>\n",
       "      <th>cumulative</th>\n",
       "      <th>ESS</th>\n",
       "      <th>MESS</th>\n",
       "    </tr>\n",
       "  </thead>\n",
       "  <tbody>\n",
       "    <tr>\n",
       "      <th>258</th>\n",
       "      <td>2012-09-08</td>\n",
       "      <td>993</td>\n",
       "      <td>993</td>\n",
       "      <td>246.182451</td>\n",
       "      <td>246.182451</td>\n",
       "    </tr>\n",
       "    <tr>\n",
       "      <th>259</th>\n",
       "      <td>2012-07-24</td>\n",
       "      <td>833</td>\n",
       "      <td>1826</td>\n",
       "      <td>325.800656</td>\n",
       "      <td>79.618204</td>\n",
       "    </tr>\n",
       "    <tr>\n",
       "      <th>260</th>\n",
       "      <td>2012-05-19</td>\n",
       "      <td>500</td>\n",
       "      <td>2326</td>\n",
       "      <td>359.591232</td>\n",
       "      <td>33.790577</td>\n",
       "    </tr>\n",
       "    <tr>\n",
       "      <th>261</th>\n",
       "      <td>2012-02-18</td>\n",
       "      <td>743</td>\n",
       "      <td>3069</td>\n",
       "      <td>399.185055</td>\n",
       "      <td>39.593822</td>\n",
       "    </tr>\n",
       "    <tr>\n",
       "      <th>262</th>\n",
       "      <td>2011-11-19</td>\n",
       "      <td>500</td>\n",
       "      <td>3569</td>\n",
       "      <td>420.967611</td>\n",
       "      <td>21.782557</td>\n",
       "    </tr>\n",
       "    <tr>\n",
       "      <th>263</th>\n",
       "      <td>2011-04-30</td>\n",
       "      <td>623</td>\n",
       "      <td>4192</td>\n",
       "      <td>444.240505</td>\n",
       "      <td>23.272893</td>\n",
       "    </tr>\n",
       "    <tr>\n",
       "      <th>264</th>\n",
       "      <td>2011-01-29</td>\n",
       "      <td>599</td>\n",
       "      <td>4791</td>\n",
       "      <td>463.531139</td>\n",
       "      <td>19.290634</td>\n",
       "    </tr>\n",
       "    <tr>\n",
       "      <th>265</th>\n",
       "      <td>2010-09-20</td>\n",
       "      <td>617</td>\n",
       "      <td>5408</td>\n",
       "      <td>480.955020</td>\n",
       "      <td>17.423881</td>\n",
       "    </tr>\n",
       "  </tbody>\n",
       "</table>\n",
       "</div>"
      ],
      "text/plain": [
       "     poll_date  Sample  cumulative         ESS        MESS\n",
       "258 2012-09-08     993         993  246.182451  246.182451\n",
       "259 2012-07-24     833        1826  325.800656   79.618204\n",
       "260 2012-05-19     500        2326  359.591232   33.790577\n",
       "261 2012-02-18     743        3069  399.185055   39.593822\n",
       "262 2011-11-19     500        3569  420.967611   21.782557\n",
       "263 2011-04-30     623        4192  444.240505   23.272893\n",
       "264 2011-01-29     599        4791  463.531139   19.290634\n",
       "265 2010-09-20     617        5408  480.955020   17.423881"
      ]
     },
     "execution_count": 34,
     "metadata": {},
     "output_type": "execute_result"
    }
   ],
   "source": [
    "ppp_az[[\"poll_date\", \"Sample\", \"cumulative\", \"ESS\", \"MESS\"]]"
   ]
  },
  {
   "cell_type": "markdown",
   "metadata": {},
   "source": [
    "Now let's do it for every polling firm in every state."
   ]
  },
  {
   "cell_type": "code",
   "execution_count": 35,
   "metadata": {
    "collapsed": false
   },
   "outputs": [],
   "source": [
    "def calculate_mess(group):\n",
    "    cumulative = group[\"Sample\"].cumsum()\n",
    "    ae = average_error(cumulative)\n",
    "    total_error = ae + group[\"PIE\"]\n",
    "    ess = effective_sample(total_error)\n",
    "    mess = ess.diff()\n",
    "    mess.fillna(ess.head(1).item(), inplace=True)\n",
    "    #from IPython.core.debugger import Pdb; Pdb().set_trace()\n",
    "    return pandas.concat((ess, mess), axis=1)\n",
    "\n",
    "#state_data2012[\"ESS\", \"MESS\"] \n",
    "df = state_pollsters.apply(calculate_mess)\n",
    "df.rename(columns={0 : \"ESS\", 1 : \"MESS\"}, inplace=True);"
   ]
  },
  {
   "cell_type": "code",
   "execution_count": 36,
   "metadata": {
    "collapsed": false
   },
   "outputs": [],
   "source": [
    "state_data2012 = state_data2012.join(df)"
   ]
  },
  {
   "cell_type": "markdown",
   "metadata": {},
   "source": [
    "Give them the time weight"
   ]
  },
  {
   "cell_type": "code",
   "execution_count": 37,
   "metadata": {
    "collapsed": false
   },
   "outputs": [
    {
     "data": {
      "text/plain": [
       "0   2012-09-26\n",
       "Name: poll_date, dtype: datetime64[ns]"
      ]
     },
     "execution_count": 37,
     "metadata": {},
     "output_type": "execute_result"
    }
   ],
   "source": [
    "state_data2012[\"poll_date\"].head(1)"
   ]
  },
  {
   "cell_type": "code",
   "execution_count": 38,
   "metadata": {
    "collapsed": false
   },
   "outputs": [],
   "source": [
    "state_data2012[\"time_weight\"] = (today - state_data2012[\"poll_date\"]).apply(exp_decay)"
   ]
  },
  {
   "cell_type": "code",
   "execution_count": 39,
   "metadata": {
    "collapsed": false
   },
   "outputs": [
    {
     "data": {
      "text/plain": [
       "0      0.870551\n",
       "1      0.707107\n",
       "2      0.329877\n",
       "3      0.203063\n",
       "4      0.075189\n",
       "5      0.034276\n",
       "6      0.012691\n",
       "7      0.006494\n",
       "8      0.000370\n",
       "9      0.629961\n",
       "10     0.329877\n",
       "11     0.140308\n",
       "12     0.024803\n",
       "13     0.009184\n",
       "14     0.004284\n",
       "15     0.000615\n",
       "16     0.723635\n",
       "17     0.090454\n",
       "18     0.050766\n",
       "19     0.890899\n",
       "20     0.378929\n",
       "21     0.014919\n",
       "22     0.004809\n",
       "23     0.644685\n",
       "24     0.238710\n",
       "25     0.101532\n",
       "26     0.038473\n",
       "27     0.017538\n",
       "28     0.146943\n",
       "29     0.040293\n",
       "         ...   \n",
       "393    0.017948\n",
       "394    0.002637\n",
       "395    0.000370\n",
       "396    0.629961\n",
       "397    0.106333\n",
       "398    0.049606\n",
       "399    0.004385\n",
       "400    0.000675\n",
       "401    0.000119\n",
       "402    0.723635\n",
       "403    0.198425\n",
       "404    0.046284\n",
       "405    0.831238\n",
       "406    0.370274\n",
       "407    0.361817\n",
       "408    0.000147\n",
       "409    0.003817\n",
       "410    0.601513\n",
       "411    0.445449\n",
       "412    0.217638\n",
       "413    0.062500\n",
       "414    0.014579\n",
       "415    0.002893\n",
       "416    0.000587\n",
       "417    0.000031\n",
       "418    0.000001\n",
       "419    0.396850\n",
       "420    0.314980\n",
       "421    0.193893\n",
       "422    0.086370\n",
       "Name: time_weight, dtype: float64"
      ]
     },
     "execution_count": 39,
     "metadata": {},
     "output_type": "execute_result"
    }
   ],
   "source": [
    "state_data2012[\"time_weight\"]"
   ]
  },
  {
   "cell_type": "markdown",
   "metadata": {},
   "source": [
    "Now aggregate all of these. Weight them based on the sample size but also based on the time_weight."
   ]
  },
  {
   "cell_type": "code",
   "execution_count": 40,
   "metadata": {
    "collapsed": false
   },
   "outputs": [],
   "source": [
    "def weighted_mean(group):\n",
    "    weights1 = group[\"time_weight\"]\n",
    "    weights2 = group[\"MESS\"]\n",
    "    return np.sum(weights1*weights2*group[\"obama_spread\"]/(weights1*weights2).sum())"
   ]
  },
  {
   "cell_type": "code",
   "execution_count": 41,
   "metadata": {
    "collapsed": false
   },
   "outputs": [],
   "source": [
    "state_pollsters = state_data2012.groupby([\"State\", \"Pollster\"])\n",
    "state_polls = state_pollsters.apply(weighted_mean)"
   ]
  },
  {
   "cell_type": "code",
   "execution_count": 42,
   "metadata": {
    "collapsed": false
   },
   "outputs": [
    {
     "data": {
      "text/plain": [
       "State  Pollster                    \n",
       "AZ     Public Policy Polling (PPP)     -9.168494\n",
       "       Rasmussen                      -10.209446\n",
       "CA     Field Poll (CA)                 23.343924\n",
       "       Public Policy Polling (PPP)     20.999075\n",
       "       Rasmussen                       22.000000\n",
       "       SurveyUSA                       22.123414\n",
       "CO     American Research Group          2.000000\n",
       "       Public Policy Polling (PPP)      5.469907\n",
       "       Rasmussen                       -1.573788\n",
       "CT     Public Policy Polling (PPP)     12.757757\n",
       "       Quinnipiac                       7.293983\n",
       "       Rasmussen                        8.000000\n",
       "FL     American Research Group          5.000000\n",
       "       Mason-Dixon                     -3.543178\n",
       "       Public Policy Polling (PPP)      3.125154\n",
       "       Quinnipiac                       3.075653\n",
       "       Rasmussen                        0.882884\n",
       "       Suffolk (NH/MA)                 -0.003377\n",
       "       SurveyUSA                        4.168952\n",
       "GA     Insider Advantage              -19.174054\n",
       "       Mason-Dixon                    -17.000000\n",
       "       Public Policy Polling (PPP)     -3.000000\n",
       "       SurveyUSA                       -7.983856\n",
       "HI     Public Policy Polling (PPP)     27.000000\n",
       "IA     American Research Group          7.000000\n",
       "       Mason-Dixon                     -3.000000\n",
       "       Public Policy Polling (PPP)      5.878693\n",
       "       Rasmussen                       -2.749416\n",
       "IL     Chicago Trib. / MarketShares    21.000000\n",
       "IN     Rasmussen                      -16.000000\n",
       "                                         ...    \n",
       "OH     Ohio Poll                        3.000406\n",
       "       Public Policy Polling (PPP)      4.141640\n",
       "       Quinnipiac                       7.729397\n",
       "       Rasmussen                        0.865613\n",
       "OR     Public Policy Polling (PPP)      9.130153\n",
       "       SurveyUSA                        8.675504\n",
       "PA     Public Policy Polling (PPP)      6.160027\n",
       "       Quinnipiac                       6.047221\n",
       "       Rasmussen                       10.874768\n",
       "       SurveyUSA                        0.000000\n",
       "RI     Public Policy Polling (PPP)     17.000000\n",
       "SC     Public Policy Polling (PPP)    -14.558484\n",
       "SD     Public Policy Polling (PPP)     -6.000000\n",
       "TN     Public Policy Polling (PPP)     -7.000000\n",
       "TX     Public Policy Polling (PPP)     -6.998595\n",
       "UT     Mason-Dixon                    -51.000000\n",
       "       Public Policy Polling (PPP)    -32.000000\n",
       "VA     American Research Group          2.000000\n",
       "       Mason-Dixon                      1.000000\n",
       "       Public Policy Polling (PPP)      5.095802\n",
       "       Quinnipiac                       0.578138\n",
       "       Rasmussen                        0.891780\n",
       "VT     Public Policy Polling (PPP)     20.000000\n",
       "WA     Public Policy Polling (PPP)     13.050886\n",
       "       Rasmussen                       11.000000\n",
       "       SurveyUSA                       15.310208\n",
       "WI     CNN / Opinion Research           4.000000\n",
       "       Public Policy Polling (PPP)      5.392554\n",
       "       Rasmussen                        2.116005\n",
       "WV     Public Policy Polling (PPP)    -19.756631\n",
       "dtype: float64"
      ]
     },
     "execution_count": 42,
     "metadata": {},
     "output_type": "execute_result"
    }
   ],
   "source": [
    "state_polls"
   ]
  },
  {
   "cell_type": "markdown",
   "metadata": {},
   "source": [
    "### 2004 and 2008 Polls"
   ]
  },
  {
   "cell_type": "code",
   "execution_count": 43,
   "metadata": {
    "collapsed": true
   },
   "outputs": [],
   "source": [
    "state_data2008= pandas.read_pickle(\"data_nuevo/state_data_2008.pkl\"); state_data2004 = pandas.read_pickle(\"data_nuevo/state_data_2004.pkl\")"
   ]
  },
  {
   "cell_type": "code",
   "execution_count": 46,
   "metadata": {
    "collapsed": false
   },
   "outputs": [
    {
     "data": {
      "text/html": [
       "<div>\n",
       "<table border=\"1\" class=\"dataframe\">\n",
       "  <thead>\n",
       "    <tr style=\"text-align: right;\">\n",
       "      <th></th>\n",
       "      <th>State</th>\n",
       "      <th>Kerry</th>\n",
       "      <th>Bush</th>\n",
       "      <th>Pollster</th>\n",
       "      <th>poll_date</th>\n",
       "    </tr>\n",
       "  </thead>\n",
       "  <tbody>\n",
       "    <tr>\n",
       "      <th>0</th>\n",
       "      <td>AL</td>\n",
       "      <td>39</td>\n",
       "      <td>57</td>\n",
       "      <td>SurveyUSA</td>\n",
       "      <td>2004-10-25</td>\n",
       "    </tr>\n",
       "    <tr>\n",
       "      <th>1</th>\n",
       "      <td>AL</td>\n",
       "      <td>32</td>\n",
       "      <td>56</td>\n",
       "      <td>Capital Survey</td>\n",
       "      <td>2004-10-12</td>\n",
       "    </tr>\n",
       "    <tr>\n",
       "      <th>2</th>\n",
       "      <td>AL</td>\n",
       "      <td>34</td>\n",
       "      <td>62</td>\n",
       "      <td>SurveyUSA</td>\n",
       "      <td>2004-10-01</td>\n",
       "    </tr>\n",
       "    <tr>\n",
       "      <th>3</th>\n",
       "      <td>AL</td>\n",
       "      <td>40</td>\n",
       "      <td>54</td>\n",
       "      <td>ARG</td>\n",
       "      <td>2004-09-14</td>\n",
       "    </tr>\n",
       "    <tr>\n",
       "      <th>4</th>\n",
       "      <td>AL</td>\n",
       "      <td>42</td>\n",
       "      <td>53</td>\n",
       "      <td>Rasmussen</td>\n",
       "      <td>2004-09-06</td>\n",
       "    </tr>\n",
       "  </tbody>\n",
       "</table>\n",
       "</div>"
      ],
      "text/plain": [
       "  State  Kerry  Bush        Pollster  poll_date\n",
       "0    AL     39    57       SurveyUSA 2004-10-25\n",
       "1    AL     32    56  Capital Survey 2004-10-12\n",
       "2    AL     34    62       SurveyUSA 2004-10-01\n",
       "3    AL     40    54             ARG 2004-09-14\n",
       "4    AL     42    53       Rasmussen 2004-09-06"
      ]
     },
     "execution_count": 46,
     "metadata": {},
     "output_type": "execute_result"
    }
   ],
   "source": [
    "state_data2004.head(5)"
   ]
  },
  {
   "cell_type": "code",
   "execution_count": 47,
   "metadata": {
    "collapsed": false
   },
   "outputs": [
    {
     "data": {
      "text/html": [
       "<div>\n",
       "<table border=\"1\" class=\"dataframe\">\n",
       "  <thead>\n",
       "    <tr style=\"text-align: right;\">\n",
       "      <th></th>\n",
       "      <th>State</th>\n",
       "      <th>Obama</th>\n",
       "      <th>McCain</th>\n",
       "      <th>Pollster</th>\n",
       "      <th>poll_date</th>\n",
       "    </tr>\n",
       "  </thead>\n",
       "  <tbody>\n",
       "    <tr>\n",
       "      <th>0</th>\n",
       "      <td>AL</td>\n",
       "      <td>36</td>\n",
       "      <td>61</td>\n",
       "      <td>SurveyUSA</td>\n",
       "      <td>2008-10-28</td>\n",
       "    </tr>\n",
       "    <tr>\n",
       "      <th>1</th>\n",
       "      <td>AL</td>\n",
       "      <td>34</td>\n",
       "      <td>54</td>\n",
       "      <td>Capital Survey</td>\n",
       "      <td>2008-10-16</td>\n",
       "    </tr>\n",
       "    <tr>\n",
       "      <th>2</th>\n",
       "      <td>AL</td>\n",
       "      <td>35</td>\n",
       "      <td>62</td>\n",
       "      <td>SurveyUSA</td>\n",
       "      <td>2008-10-09</td>\n",
       "    </tr>\n",
       "    <tr>\n",
       "      <th>3</th>\n",
       "      <td>AL</td>\n",
       "      <td>35</td>\n",
       "      <td>55</td>\n",
       "      <td>Capital Survey</td>\n",
       "      <td>2008-10-07</td>\n",
       "    </tr>\n",
       "    <tr>\n",
       "      <th>4</th>\n",
       "      <td>AL</td>\n",
       "      <td>39</td>\n",
       "      <td>60</td>\n",
       "      <td>Rasmussen</td>\n",
       "      <td>2008-09-22</td>\n",
       "    </tr>\n",
       "  </tbody>\n",
       "</table>\n",
       "</div>"
      ],
      "text/plain": [
       "  State  Obama  McCain        Pollster  poll_date\n",
       "0    AL     36      61       SurveyUSA 2008-10-28\n",
       "1    AL     34      54  Capital Survey 2008-10-16\n",
       "2    AL     35      62       SurveyUSA 2008-10-09\n",
       "3    AL     35      55  Capital Survey 2008-10-07\n",
       "4    AL     39      60       Rasmussen 2008-09-22"
      ]
     },
     "execution_count": 47,
     "metadata": {},
     "output_type": "execute_result"
    }
   ],
   "source": [
    "state_data2008.head(5)"
   ]
  },
  {
   "cell_type": "code",
   "execution_count": 48,
   "metadata": {
    "collapsed": false
   },
   "outputs": [],
   "source": [
    "state_groups = state_data2008.groupby(\"State\")"
   ]
  },
  {
   "cell_type": "code",
   "execution_count": 49,
   "metadata": {
    "collapsed": false
   },
   "outputs": [
    {
     "data": {
      "text/html": [
       "<div>\n",
       "<table border=\"1\" class=\"dataframe\">\n",
       "  <thead>\n",
       "    <tr style=\"text-align: right;\">\n",
       "      <th></th>\n",
       "      <th>McCain</th>\n",
       "      <th>Obama</th>\n",
       "    </tr>\n",
       "    <tr>\n",
       "      <th>State</th>\n",
       "      <th></th>\n",
       "      <th></th>\n",
       "    </tr>\n",
       "  </thead>\n",
       "  <tbody>\n",
       "    <tr>\n",
       "      <th>AK</th>\n",
       "      <td>52.000000</td>\n",
       "      <td>39.428571</td>\n",
       "    </tr>\n",
       "    <tr>\n",
       "      <th>AL</th>\n",
       "      <td>56.826087</td>\n",
       "      <td>34.347826</td>\n",
       "    </tr>\n",
       "    <tr>\n",
       "      <th>AR</th>\n",
       "      <td>51.000000</td>\n",
       "      <td>37.250000</td>\n",
       "    </tr>\n",
       "    <tr>\n",
       "      <th>AZ</th>\n",
       "      <td>49.333333</td>\n",
       "      <td>39.190476</td>\n",
       "    </tr>\n",
       "    <tr>\n",
       "      <th>CA</th>\n",
       "      <td>37.633333</td>\n",
       "      <td>53.266667</td>\n",
       "    </tr>\n",
       "    <tr>\n",
       "      <th>CO</th>\n",
       "      <td>44.466667</td>\n",
       "      <td>48.288889</td>\n",
       "    </tr>\n",
       "    <tr>\n",
       "      <th>CT</th>\n",
       "      <td>36.923077</td>\n",
       "      <td>52.692308</td>\n",
       "    </tr>\n",
       "    <tr>\n",
       "      <th>DC</th>\n",
       "      <td>13.000000</td>\n",
       "      <td>82.000000</td>\n",
       "    </tr>\n",
       "    <tr>\n",
       "      <th>DE</th>\n",
       "      <td>38.625000</td>\n",
       "      <td>55.500000</td>\n",
       "    </tr>\n",
       "    <tr>\n",
       "      <th>FL</th>\n",
       "      <td>46.393939</td>\n",
       "      <td>46.121212</td>\n",
       "    </tr>\n",
       "    <tr>\n",
       "      <th>GA</th>\n",
       "      <td>51.346154</td>\n",
       "      <td>43.153846</td>\n",
       "    </tr>\n",
       "    <tr>\n",
       "      <th>HI</th>\n",
       "      <td>30.000000</td>\n",
       "      <td>64.000000</td>\n",
       "    </tr>\n",
       "    <tr>\n",
       "      <th>IA</th>\n",
       "      <td>41.407407</td>\n",
       "      <td>50.037037</td>\n",
       "    </tr>\n",
       "    <tr>\n",
       "      <th>ID</th>\n",
       "      <td>60.000000</td>\n",
       "      <td>30.500000</td>\n",
       "    </tr>\n",
       "    <tr>\n",
       "      <th>IL</th>\n",
       "      <td>36.900000</td>\n",
       "      <td>55.600000</td>\n",
       "    </tr>\n",
       "    <tr>\n",
       "      <th>IN</th>\n",
       "      <td>47.500000</td>\n",
       "      <td>44.961538</td>\n",
       "    </tr>\n",
       "    <tr>\n",
       "      <th>KS</th>\n",
       "      <td>53.562500</td>\n",
       "      <td>37.750000</td>\n",
       "    </tr>\n",
       "    <tr>\n",
       "      <th>KY</th>\n",
       "      <td>54.842105</td>\n",
       "      <td>37.526316</td>\n",
       "    </tr>\n",
       "    <tr>\n",
       "      <th>LA</th>\n",
       "      <td>52.166667</td>\n",
       "      <td>39.083333</td>\n",
       "    </tr>\n",
       "    <tr>\n",
       "      <th>MA</th>\n",
       "      <td>38.800000</td>\n",
       "      <td>52.200000</td>\n",
       "    </tr>\n",
       "    <tr>\n",
       "      <th>MD</th>\n",
       "      <td>38.666667</td>\n",
       "      <td>53.833333</td>\n",
       "    </tr>\n",
       "    <tr>\n",
       "      <th>ME</th>\n",
       "      <td>38.187500</td>\n",
       "      <td>50.562500</td>\n",
       "    </tr>\n",
       "    <tr>\n",
       "      <th>MI</th>\n",
       "      <td>42.052632</td>\n",
       "      <td>47.368421</td>\n",
       "    </tr>\n",
       "    <tr>\n",
       "      <th>MN</th>\n",
       "      <td>41.739130</td>\n",
       "      <td>50.260870</td>\n",
       "    </tr>\n",
       "    <tr>\n",
       "      <th>MO</th>\n",
       "      <td>47.428571</td>\n",
       "      <td>45.571429</td>\n",
       "    </tr>\n",
       "    <tr>\n",
       "      <th>MS</th>\n",
       "      <td>51.200000</td>\n",
       "      <td>40.500000</td>\n",
       "    </tr>\n",
       "    <tr>\n",
       "      <th>MT</th>\n",
       "      <td>48.214286</td>\n",
       "      <td>43.857143</td>\n",
       "    </tr>\n",
       "    <tr>\n",
       "      <th>NC</th>\n",
       "      <td>47.522727</td>\n",
       "      <td>46.090909</td>\n",
       "    </tr>\n",
       "    <tr>\n",
       "      <th>ND</th>\n",
       "      <td>45.571429</td>\n",
       "      <td>42.714286</td>\n",
       "    </tr>\n",
       "    <tr>\n",
       "      <th>NE</th>\n",
       "      <td>51.714286</td>\n",
       "      <td>37.142857</td>\n",
       "    </tr>\n",
       "    <tr>\n",
       "      <th>NH</th>\n",
       "      <td>42.756757</td>\n",
       "      <td>48.918919</td>\n",
       "    </tr>\n",
       "    <tr>\n",
       "      <th>NJ</th>\n",
       "      <td>39.766667</td>\n",
       "      <td>49.766667</td>\n",
       "    </tr>\n",
       "    <tr>\n",
       "      <th>NM</th>\n",
       "      <td>43.592593</td>\n",
       "      <td>48.740741</td>\n",
       "    </tr>\n",
       "    <tr>\n",
       "      <th>NV</th>\n",
       "      <td>44.843750</td>\n",
       "      <td>46.937500</td>\n",
       "    </tr>\n",
       "    <tr>\n",
       "      <th>NY</th>\n",
       "      <td>36.864865</td>\n",
       "      <td>52.432432</td>\n",
       "    </tr>\n",
       "    <tr>\n",
       "      <th>OH</th>\n",
       "      <td>44.974684</td>\n",
       "      <td>46.658228</td>\n",
       "    </tr>\n",
       "    <tr>\n",
       "      <th>OK</th>\n",
       "      <td>61.700000</td>\n",
       "      <td>32.000000</td>\n",
       "    </tr>\n",
       "    <tr>\n",
       "      <th>OR</th>\n",
       "      <td>40.851852</td>\n",
       "      <td>50.333333</td>\n",
       "    </tr>\n",
       "    <tr>\n",
       "      <th>PA</th>\n",
       "      <td>42.080000</td>\n",
       "      <td>48.893333</td>\n",
       "    </tr>\n",
       "    <tr>\n",
       "      <th>RI</th>\n",
       "      <td>32.000000</td>\n",
       "      <td>53.000000</td>\n",
       "    </tr>\n",
       "    <tr>\n",
       "      <th>SC</th>\n",
       "      <td>53.300000</td>\n",
       "      <td>41.000000</td>\n",
       "    </tr>\n",
       "    <tr>\n",
       "      <th>SD</th>\n",
       "      <td>50.375000</td>\n",
       "      <td>39.875000</td>\n",
       "    </tr>\n",
       "    <tr>\n",
       "      <th>TN</th>\n",
       "      <td>54.363636</td>\n",
       "      <td>36.363636</td>\n",
       "    </tr>\n",
       "    <tr>\n",
       "      <th>TX</th>\n",
       "      <td>50.200000</td>\n",
       "      <td>40.400000</td>\n",
       "    </tr>\n",
       "    <tr>\n",
       "      <th>UT</th>\n",
       "      <td>58.600000</td>\n",
       "      <td>30.000000</td>\n",
       "    </tr>\n",
       "    <tr>\n",
       "      <th>VA</th>\n",
       "      <td>45.816667</td>\n",
       "      <td>47.933333</td>\n",
       "    </tr>\n",
       "    <tr>\n",
       "      <th>VT</th>\n",
       "      <td>34.750000</td>\n",
       "      <td>59.750000</td>\n",
       "    </tr>\n",
       "    <tr>\n",
       "      <th>WA</th>\n",
       "      <td>40.424242</td>\n",
       "      <td>51.515152</td>\n",
       "    </tr>\n",
       "    <tr>\n",
       "      <th>WI</th>\n",
       "      <td>41.921053</td>\n",
       "      <td>49.684211</td>\n",
       "    </tr>\n",
       "    <tr>\n",
       "      <th>WV</th>\n",
       "      <td>48.692308</td>\n",
       "      <td>42.538462</td>\n",
       "    </tr>\n",
       "    <tr>\n",
       "      <th>WY</th>\n",
       "      <td>59.333333</td>\n",
       "      <td>32.666667</td>\n",
       "    </tr>\n",
       "  </tbody>\n",
       "</table>\n",
       "</div>"
      ],
      "text/plain": [
       "          McCain      Obama\n",
       "State                      \n",
       "AK     52.000000  39.428571\n",
       "AL     56.826087  34.347826\n",
       "AR     51.000000  37.250000\n",
       "AZ     49.333333  39.190476\n",
       "CA     37.633333  53.266667\n",
       "CO     44.466667  48.288889\n",
       "CT     36.923077  52.692308\n",
       "DC     13.000000  82.000000\n",
       "DE     38.625000  55.500000\n",
       "FL     46.393939  46.121212\n",
       "GA     51.346154  43.153846\n",
       "HI     30.000000  64.000000\n",
       "IA     41.407407  50.037037\n",
       "ID     60.000000  30.500000\n",
       "IL     36.900000  55.600000\n",
       "IN     47.500000  44.961538\n",
       "KS     53.562500  37.750000\n",
       "KY     54.842105  37.526316\n",
       "LA     52.166667  39.083333\n",
       "MA     38.800000  52.200000\n",
       "MD     38.666667  53.833333\n",
       "ME     38.187500  50.562500\n",
       "MI     42.052632  47.368421\n",
       "MN     41.739130  50.260870\n",
       "MO     47.428571  45.571429\n",
       "MS     51.200000  40.500000\n",
       "MT     48.214286  43.857143\n",
       "NC     47.522727  46.090909\n",
       "ND     45.571429  42.714286\n",
       "NE     51.714286  37.142857\n",
       "NH     42.756757  48.918919\n",
       "NJ     39.766667  49.766667\n",
       "NM     43.592593  48.740741\n",
       "NV     44.843750  46.937500\n",
       "NY     36.864865  52.432432\n",
       "OH     44.974684  46.658228\n",
       "OK     61.700000  32.000000\n",
       "OR     40.851852  50.333333\n",
       "PA     42.080000  48.893333\n",
       "RI     32.000000  53.000000\n",
       "SC     53.300000  41.000000\n",
       "SD     50.375000  39.875000\n",
       "TN     54.363636  36.363636\n",
       "TX     50.200000  40.400000\n",
       "UT     58.600000  30.000000\n",
       "VA     45.816667  47.933333\n",
       "VT     34.750000  59.750000\n",
       "WA     40.424242  51.515152\n",
       "WI     41.921053  49.684211\n",
       "WV     48.692308  42.538462\n",
       "WY     59.333333  32.666667"
      ]
     },
     "execution_count": 49,
     "metadata": {},
     "output_type": "execute_result"
    }
   ],
   "source": [
    "state_groups.aggregate(dict(Obama=np.mean, McCain=np.mean))"
   ]
  },
  {
   "cell_type": "markdown",
   "metadata": {},
   "source": [
    "Means for the entire country (without weighting by population)"
   ]
  },
  {
   "cell_type": "code",
   "execution_count": 50,
   "metadata": {
    "collapsed": false
   },
   "outputs": [
    {
     "data": {
      "text/plain": [
       "McCain    45.337861\n",
       "Obama     46.082498\n",
       "dtype: float64"
      ]
     },
     "execution_count": 50,
     "metadata": {},
     "output_type": "execute_result"
    }
   ],
   "source": [
    "state_groups.aggregate(dict(Obama=np.mean, McCain=np.mean)).mean()"
   ]
  },
  {
   "cell_type": "code",
   "execution_count": 197,
   "metadata": {
    "collapsed": false
   },
   "outputs": [
    {
     "data": {
      "text/plain": [
       "{'ARG': 'American Research Group',\n",
       " 'American Res.Group': 'American Research Group',\n",
       " 'American Research': 'American Research Group',\n",
       " 'Bloomberg News': 'LA Times / Bloomberg',\n",
       " 'CNN/Opinion Research': 'CNN / Opinion Research',\n",
       " 'Chicago Tribune': 'Chicago Trib. / MarketShares',\n",
       " 'Columbus Dispatch': 'Columbus Dispatch (OH)',\n",
       " 'Columbus Dispatch*': 'Columbus Dispatch (OH)',\n",
       " 'EPIC/MRA': 'EPIC-MRA',\n",
       " 'Fairleigh Dickinson': 'Fairleigh-Dickinson (NJ)',\n",
       " 'Fairleigh Dickinson U.': 'Fairleigh-Dickinson (NJ)',\n",
       " 'Fairleigh Dickinson Univ.': 'Fairleigh-Dickinson (NJ)',\n",
       " 'Fairleigh-Dickinson Univ.': 'Fairleigh-Dickinson (NJ)',\n",
       " 'Field': 'Field Poll (CA)',\n",
       " 'Field Poll': 'Field Poll (CA)',\n",
       " 'Fox/Opinion Dyn.': 'Fox / Opinion Dynamics',\n",
       " 'Franklin Pierce Coll.': 'Franklin Pierce (NH)',\n",
       " 'Gallup': 'USA Today / Gallup',\n",
       " 'Inside Advantage': 'Insider Advantage',\n",
       " 'InsiderAdvantage': 'Insider Advantage',\n",
       " 'Keystone Poll': 'Keystone (PA)',\n",
       " 'LA Times': 'LA Times / Bloomberg',\n",
       " 'Los Angeles Times': 'LA Times / Bloomberg',\n",
       " 'Marist': 'Marist (NY)',\n",
       " 'Marist Coll.': 'Marist (NY)',\n",
       " 'Marist College': 'Marist (NY)',\n",
       " 'Market Shares': 'Chicago Trib. / MarketShares',\n",
       " 'Mason-Dixon*': 'Mason-Dixon',\n",
       " 'Mitchell Research': 'Mitchell',\n",
       " 'NY Times': 'CBS / New York Times',\n",
       " 'Ohio Poll/Univ of Cin.': 'Ohio Poll',\n",
       " 'Ohio U.': 'Ohio Poll',\n",
       " 'Ohio Univ.': 'Ohio Poll',\n",
       " 'Opinion Dynamics': 'Fox / Opinion Dynamics',\n",
       " 'Opinion Res.': 'CNN / Opinion Research',\n",
       " 'Opinion Research': 'CNN / Opinion Research',\n",
       " 'PPP (D)': 'Public Policy Polling (PPP)',\n",
       " 'Pub. Opin. Strat.': 'Public Opinion Strategies',\n",
       " 'Pub. Opinion Strat.': 'Public Opinion Strategies',\n",
       " 'Quinnipiac U.': 'Quinnipiac',\n",
       " 'Quinnipiac Univ': 'Quinnipiac',\n",
       " 'Quinnipiac Univ.': 'Quinnipiac',\n",
       " 'Rasmussen Reports': 'Rasmussen',\n",
       " 'Selzer & Co.': 'Selzer',\n",
       " 'Star Tribune': 'Star Tribune (MN)',\n",
       " 'Star-Tribune': 'Star Tribune (MN)',\n",
       " 'Suffolk U.': 'Suffolk (NH/MA)',\n",
       " 'Suffolk Univ.': 'Suffolk (NH/MA)',\n",
       " 'Suffolk University': 'Suffolk (NH/MA)',\n",
       " 'Survey USA': 'SurveyUSA',\n",
       " 'U. of New Hampshire': 'Univ. New Hampshire',\n",
       " 'Univ. of New Hampsh.': 'Univ. New Hampshire',\n",
       " 'Univ. of New Hampshire': 'Univ. New Hampshire',\n",
       " 'Zogby': 'Zogby'}"
      ]
     },
     "execution_count": 197,
     "metadata": {},
     "output_type": "execute_result"
    }
   ],
   "source": [
    "pollster_map"
   ]
  },
  {
   "cell_type": "code",
   "execution_count": 51,
   "metadata": {
    "collapsed": false
   },
   "outputs": [],
   "source": [
    "state_data2004.Pollster.replace(pollster_map, inplace=True)\n",
    "state_data2008.Pollster.replace(pollster_map, inplace=True);"
   ]
  },
  {
   "cell_type": "code",
   "execution_count": 52,
   "metadata": {
    "collapsed": false
   },
   "outputs": [],
   "source": [
    "state_data2004 = state_data2004.merge(weights, how=\"inner\", on=\"Pollster\")\n",
    "state_data2008 = state_data2008.merge(weights, how=\"inner\", on=\"Pollster\")"
   ]
  },
  {
   "cell_type": "code",
   "execution_count": 198,
   "metadata": {
    "collapsed": false
   },
   "outputs": [
    {
     "data": {
      "text/html": [
       "<div>\n",
       "<table border=\"1\" class=\"dataframe\">\n",
       "  <thead>\n",
       "    <tr style=\"text-align: right;\">\n",
       "      <th></th>\n",
       "      <th>State</th>\n",
       "      <th>Kerry</th>\n",
       "      <th>Bush</th>\n",
       "      <th>Pollster</th>\n",
       "      <th>poll_date</th>\n",
       "      <th>Weight</th>\n",
       "      <th>PIE</th>\n",
       "      <th>time_weight</th>\n",
       "      <th>newest_poll</th>\n",
       "    </tr>\n",
       "  </thead>\n",
       "  <tbody>\n",
       "    <tr>\n",
       "      <th>0</th>\n",
       "      <td>AL</td>\n",
       "      <td>39</td>\n",
       "      <td>57</td>\n",
       "      <td>SurveyUSA</td>\n",
       "      <td>2004-10-25</td>\n",
       "      <td>1.91</td>\n",
       "      <td>0.72</td>\n",
       "      <td>0.831238</td>\n",
       "      <td>1970-01-01 00:00:00.000000001</td>\n",
       "    </tr>\n",
       "    <tr>\n",
       "      <th>1</th>\n",
       "      <td>AZ</td>\n",
       "      <td>41</td>\n",
       "      <td>56</td>\n",
       "      <td>SurveyUSA</td>\n",
       "      <td>2004-10-28</td>\n",
       "      <td>1.91</td>\n",
       "      <td>0.72</td>\n",
       "      <td>0.890899</td>\n",
       "      <td>1970-01-01 00:00:00.000000001</td>\n",
       "    </tr>\n",
       "    <tr>\n",
       "      <th>2</th>\n",
       "      <td>AZ</td>\n",
       "      <td>43</td>\n",
       "      <td>54</td>\n",
       "      <td>SurveyUSA</td>\n",
       "      <td>2004-10-17</td>\n",
       "      <td>1.91</td>\n",
       "      <td>0.72</td>\n",
       "      <td>0.690956</td>\n",
       "      <td>1970-01-01 00:00:00.000000000</td>\n",
       "    </tr>\n",
       "    <tr>\n",
       "      <th>3</th>\n",
       "      <td>AR</td>\n",
       "      <td>46</td>\n",
       "      <td>51</td>\n",
       "      <td>SurveyUSA</td>\n",
       "      <td>2004-11-01</td>\n",
       "      <td>1.91</td>\n",
       "      <td>0.72</td>\n",
       "      <td>0.977160</td>\n",
       "      <td>1970-01-01 00:00:00.000000001</td>\n",
       "    </tr>\n",
       "    <tr>\n",
       "      <th>4</th>\n",
       "      <td>AR</td>\n",
       "      <td>45</td>\n",
       "      <td>51</td>\n",
       "      <td>SurveyUSA</td>\n",
       "      <td>2004-10-23</td>\n",
       "      <td>1.91</td>\n",
       "      <td>0.72</td>\n",
       "      <td>0.793701</td>\n",
       "      <td>1970-01-01 00:00:00.000000000</td>\n",
       "    </tr>\n",
       "  </tbody>\n",
       "</table>\n",
       "</div>"
      ],
      "text/plain": [
       "  State  Kerry  Bush   Pollster  poll_date  Weight   PIE  time_weight  \\\n",
       "0    AL     39    57  SurveyUSA 2004-10-25    1.91  0.72     0.831238   \n",
       "1    AZ     41    56  SurveyUSA 2004-10-28    1.91  0.72     0.890899   \n",
       "2    AZ     43    54  SurveyUSA 2004-10-17    1.91  0.72     0.690956   \n",
       "3    AR     46    51  SurveyUSA 2004-11-01    1.91  0.72     0.977160   \n",
       "4    AR     45    51  SurveyUSA 2004-10-23    1.91  0.72     0.793701   \n",
       "\n",
       "                    newest_poll  \n",
       "0 1970-01-01 00:00:00.000000001  \n",
       "1 1970-01-01 00:00:00.000000001  \n",
       "2 1970-01-01 00:00:00.000000000  \n",
       "3 1970-01-01 00:00:00.000000001  \n",
       "4 1970-01-01 00:00:00.000000000  "
      ]
     },
     "execution_count": 198,
     "metadata": {},
     "output_type": "execute_result"
    }
   ],
   "source": [
    "state_data2004.head() ## Weight and PIE added in by previous step"
   ]
  },
  {
   "cell_type": "code",
   "execution_count": 53,
   "metadata": {
    "collapsed": false
   },
   "outputs": [
    {
     "data": {
      "text/plain": [
       "26"
      ]
     },
     "execution_count": 53,
     "metadata": {},
     "output_type": "execute_result"
    }
   ],
   "source": [
    "len(state_data2004.Pollster.unique())"
   ]
  },
  {
   "cell_type": "code",
   "execution_count": 54,
   "metadata": {
    "collapsed": false
   },
   "outputs": [
    {
     "data": {
      "text/plain": [
       "21"
      ]
     },
     "execution_count": 54,
     "metadata": {},
     "output_type": "execute_result"
    }
   ],
   "source": [
    "len(state_data2008.Pollster.unique())"
   ]
  },
  {
   "cell_type": "code",
   "execution_count": 55,
   "metadata": {
    "collapsed": false
   },
   "outputs": [
    {
     "data": {
      "text/plain": [
       "datetime.datetime(2004, 11, 2, 0, 0)"
      ]
     },
     "execution_count": 55,
     "metadata": {},
     "output_type": "execute_result"
    }
   ],
   "source": [
    "date2004 = datetime.datetime(2004, 11, 2)\n",
    "date2004"
   ]
  },
  {
   "cell_type": "code",
   "execution_count": 56,
   "metadata": {
    "collapsed": false
   },
   "outputs": [
    {
     "data": {
      "text/plain": [
       "0       True\n",
       "1      False\n",
       "2      False\n",
       "3       True\n",
       "4       True\n",
       "5      False\n",
       "6      False\n",
       "7      False\n",
       "8       True\n",
       "9       True\n",
       "10      True\n",
       "11     False\n",
       "12     False\n",
       "13     False\n",
       "14      True\n",
       "15      True\n",
       "16     False\n",
       "17     False\n",
       "18     False\n",
       "19     False\n",
       "20      True\n",
       "21      True\n",
       "22      True\n",
       "23     False\n",
       "24     False\n",
       "25     False\n",
       "26      True\n",
       "27      True\n",
       "28      True\n",
       "29     False\n",
       "       ...  \n",
       "704     True\n",
       "705     True\n",
       "706     True\n",
       "707     True\n",
       "708     True\n",
       "709     True\n",
       "710    False\n",
       "711    False\n",
       "712    False\n",
       "713     True\n",
       "714    False\n",
       "715     True\n",
       "716     True\n",
       "717    False\n",
       "718     True\n",
       "719     True\n",
       "720    False\n",
       "721     True\n",
       "722     True\n",
       "723    False\n",
       "724    False\n",
       "725    False\n",
       "726    False\n",
       "727    False\n",
       "728     True\n",
       "729    False\n",
       "730     True\n",
       "731    False\n",
       "732     True\n",
       "733     True\n",
       "Name: poll_date, dtype: bool"
      ]
     },
     "execution_count": 56,
     "metadata": {},
     "output_type": "execute_result"
    }
   ],
   "source": [
    "(date2004 - state_data2004.poll_date) < datetime.timedelta(21) ## Restrict to 3 weeks before the election"
   ]
  },
  {
   "cell_type": "markdown",
   "metadata": {},
   "source": [
    "Restrict the samples to the 3 weeks leading up to the election"
   ]
  },
  {
   "cell_type": "code",
   "execution_count": 57,
   "metadata": {
    "collapsed": false
   },
   "outputs": [],
   "source": [
    "state_data2004 = state_data2004.ix[(date2004 - state_data2004.poll_date) <= datetime.timedelta(21)]\n",
    "state_data2004.reset_index(drop=True, inplace=True)"
   ]
  },
  {
   "cell_type": "code",
   "execution_count": 58,
   "metadata": {
    "collapsed": false
   },
   "outputs": [],
   "source": [
    "date2008 = datetime.datetime(2008, 11, 4)"
   ]
  },
  {
   "cell_type": "code",
   "execution_count": 59,
   "metadata": {
    "collapsed": false
   },
   "outputs": [],
   "source": [
    "state_data2008 = state_data2008.ix[(date2008 - state_data2008.poll_date) <= datetime.timedelta(21)]\n",
    "state_data2008.reset_index(drop=True, inplace=True)"
   ]
  },
  {
   "cell_type": "code",
   "execution_count": 60,
   "metadata": {
    "collapsed": false
   },
   "outputs": [
    {
     "data": {
      "text/plain": [
       "State                object\n",
       "Obama                 int64\n",
       "McCain                int64\n",
       "Pollster             object\n",
       "poll_date    datetime64[ns]\n",
       "Weight              float64\n",
       "PIE                 float64\n",
       "dtype: object"
      ]
     },
     "execution_count": 60,
     "metadata": {},
     "output_type": "execute_result"
    }
   ],
   "source": [
    "state_data2008.dtypes"
   ]
  },
  {
   "cell_type": "code",
   "execution_count": null,
   "metadata": {
    "collapsed": true
   },
   "outputs": [],
   "source": [
    "## Add time weight to each poll that we have in the filtered 3 week set using the exp_decay function defined earlier"
   ]
  },
  {
   "cell_type": "code",
   "execution_count": 61,
   "metadata": {
    "collapsed": false
   },
   "outputs": [],
   "source": [
    "state_data2004[\"time_weight\"] =(date2004 - state_data2004.poll_date).apply(exp_decay)\n",
    "state_data2008[\"time_weight\"] =(date2008 - state_data2008.poll_date).apply(exp_decay)"
   ]
  },
  {
   "cell_type": "code",
   "execution_count": 62,
   "metadata": {
    "collapsed": false
   },
   "outputs": [
    {
     "data": {
      "text/html": [
       "<div>\n",
       "<table border=\"1\" class=\"dataframe\">\n",
       "  <thead>\n",
       "    <tr style=\"text-align: right;\">\n",
       "      <th></th>\n",
       "      <th>time_weight</th>\n",
       "      <th>poll_date</th>\n",
       "    </tr>\n",
       "  </thead>\n",
       "  <tbody>\n",
       "    <tr>\n",
       "      <th>0</th>\n",
       "      <td>0.831238</td>\n",
       "      <td>2004-10-25</td>\n",
       "    </tr>\n",
       "    <tr>\n",
       "      <th>1</th>\n",
       "      <td>0.890899</td>\n",
       "      <td>2004-10-28</td>\n",
       "    </tr>\n",
       "    <tr>\n",
       "      <th>2</th>\n",
       "      <td>0.690956</td>\n",
       "      <td>2004-10-17</td>\n",
       "    </tr>\n",
       "    <tr>\n",
       "      <th>3</th>\n",
       "      <td>0.977160</td>\n",
       "      <td>2004-11-01</td>\n",
       "    </tr>\n",
       "    <tr>\n",
       "      <th>4</th>\n",
       "      <td>0.793701</td>\n",
       "      <td>2004-10-23</td>\n",
       "    </tr>\n",
       "  </tbody>\n",
       "</table>\n",
       "</div>"
      ],
      "text/plain": [
       "   time_weight  poll_date\n",
       "0     0.831238 2004-10-25\n",
       "1     0.890899 2004-10-28\n",
       "2     0.690956 2004-10-17\n",
       "3     0.977160 2004-11-01\n",
       "4     0.793701 2004-10-23"
      ]
     },
     "execution_count": 62,
     "metadata": {},
     "output_type": "execute_result"
    }
   ],
   "source": [
    "state_data2004[[\"time_weight\", \"poll_date\"]].head(5)"
   ]
  },
  {
   "cell_type": "code",
   "execution_count": 63,
   "metadata": {
    "collapsed": false
   },
   "outputs": [],
   "source": [
    "def max_date(x):\n",
    "    return x == x.max()"
   ]
  },
  {
   "cell_type": "code",
   "execution_count": null,
   "metadata": {
    "collapsed": true
   },
   "outputs": [],
   "source": [
    "## Assign the latest poll date to all polls for each (state,pollster) group. Why?"
   ]
  },
  {
   "cell_type": "code",
   "execution_count": 64,
   "metadata": {
    "collapsed": false
   },
   "outputs": [],
   "source": [
    "state_data2004[\"newest_poll\"] = state_data2004.groupby((\"State\", \"Pollster\")).poll_date.transform(max_date)\n",
    "state_data2008[\"newest_poll\"] = state_data2008.groupby((\"State\", \"Pollster\")).poll_date.transform(max_date)"
   ]
  },
  {
   "cell_type": "markdown",
   "metadata": {},
   "source": [
    "### Clustering States by Demographics"
   ]
  },
  {
   "cell_type": "markdown",
   "metadata": {},
   "source": [
    "There are notes on trend line adjustment, [here](http://www.fivethirtyeight.com/2008/06/we-know-more-than-we-think-big-change-2.html), [here](http://www.fivethirtyeight.com/2008/06/refinement-to-adjustment-part-i.html), [here](http://www.fivethirtyeight.com/2008/06/refinement-to-adjustment-part-ii.html), [here](http://www.fivethirtyeight.com/2008/06/trendline-now-calculated-from-daily.html), and [here](http://www.fivethirtyeight.com/2008/06/construction-season-over-technical.html). However, to the best of my knowledge, the similar state \"nearest neighbor\" clustering remains a black box."
   ]
  },
  {
   "cell_type": "markdown",
   "metadata": {},
   "source": [
    "Partican Voting Index data obtained from [Wikipedia](http://en.wikipedia.org/wiki/Cook_Partisan_Voting_Index)"
   ]
  },
  {
   "cell_type": "code",
   "execution_count": 65,
   "metadata": {
    "collapsed": false
   },
   "outputs": [],
   "source": [
    "pvi = pandas.read_csv(\"./data/partisan_voting.csv\") \n"
   ]
  },
  {
   "cell_type": "code",
   "execution_count": 66,
   "metadata": {
    "collapsed": false
   },
   "outputs": [
    {
     "data": {
      "text/html": [
       "<div>\n",
       "<table border=\"1\" class=\"dataframe\">\n",
       "  <thead>\n",
       "    <tr style=\"text-align: right;\">\n",
       "      <th></th>\n",
       "      <th>PVI</th>\n",
       "    </tr>\n",
       "    <tr>\n",
       "      <th>State</th>\n",
       "      <th></th>\n",
       "    </tr>\n",
       "  </thead>\n",
       "  <tbody>\n",
       "    <tr>\n",
       "      <th>Alabama</th>\n",
       "      <td>R+13</td>\n",
       "    </tr>\n",
       "    <tr>\n",
       "      <th>Alaska</th>\n",
       "      <td>R+13</td>\n",
       "    </tr>\n",
       "    <tr>\n",
       "      <th>Arizona</th>\n",
       "      <td>R+6</td>\n",
       "    </tr>\n",
       "    <tr>\n",
       "      <th>Arkansas</th>\n",
       "      <td>R+9</td>\n",
       "    </tr>\n",
       "    <tr>\n",
       "      <th>California</th>\n",
       "      <td>D+7</td>\n",
       "    </tr>\n",
       "    <tr>\n",
       "      <th>Colorado</th>\n",
       "      <td>EVEN</td>\n",
       "    </tr>\n",
       "    <tr>\n",
       "      <th>Connecticut</th>\n",
       "      <td>D+7</td>\n",
       "    </tr>\n",
       "    <tr>\n",
       "      <th>Delaware</th>\n",
       "      <td>D+7</td>\n",
       "    </tr>\n",
       "    <tr>\n",
       "      <th>District of Columbia</th>\n",
       "      <td>D+39</td>\n",
       "    </tr>\n",
       "    <tr>\n",
       "      <th>Florida</th>\n",
       "      <td>R+2</td>\n",
       "    </tr>\n",
       "    <tr>\n",
       "      <th>Georgia</th>\n",
       "      <td>R+7</td>\n",
       "    </tr>\n",
       "    <tr>\n",
       "      <th>Hawaii</th>\n",
       "      <td>D+12</td>\n",
       "    </tr>\n",
       "    <tr>\n",
       "      <th>Idaho</th>\n",
       "      <td>R+17</td>\n",
       "    </tr>\n",
       "    <tr>\n",
       "      <th>Illinois</th>\n",
       "      <td>D+8</td>\n",
       "    </tr>\n",
       "    <tr>\n",
       "      <th>Indiana</th>\n",
       "      <td>R+6</td>\n",
       "    </tr>\n",
       "    <tr>\n",
       "      <th>Iowa</th>\n",
       "      <td>D+1</td>\n",
       "    </tr>\n",
       "    <tr>\n",
       "      <th>Kansas</th>\n",
       "      <td>R+12</td>\n",
       "    </tr>\n",
       "    <tr>\n",
       "      <th>Kentucky</th>\n",
       "      <td>R+10</td>\n",
       "    </tr>\n",
       "    <tr>\n",
       "      <th>Louisiana</th>\n",
       "      <td>R+10</td>\n",
       "    </tr>\n",
       "    <tr>\n",
       "      <th>Maine</th>\n",
       "      <td>D+5</td>\n",
       "    </tr>\n",
       "    <tr>\n",
       "      <th>Maryland</th>\n",
       "      <td>D+9</td>\n",
       "    </tr>\n",
       "    <tr>\n",
       "      <th>Massachusetts</th>\n",
       "      <td>D+12</td>\n",
       "    </tr>\n",
       "    <tr>\n",
       "      <th>Michigan</th>\n",
       "      <td>D+4</td>\n",
       "    </tr>\n",
       "    <tr>\n",
       "      <th>Minnesota</th>\n",
       "      <td>D+2</td>\n",
       "    </tr>\n",
       "    <tr>\n",
       "      <th>Mississippi</th>\n",
       "      <td>R+10</td>\n",
       "    </tr>\n",
       "    <tr>\n",
       "      <th>Missouri</th>\n",
       "      <td>R+3</td>\n",
       "    </tr>\n",
       "    <tr>\n",
       "      <th>Montana</th>\n",
       "      <td>R+7</td>\n",
       "    </tr>\n",
       "    <tr>\n",
       "      <th>Nebraska</th>\n",
       "      <td>R+13</td>\n",
       "    </tr>\n",
       "    <tr>\n",
       "      <th>Nevada</th>\n",
       "      <td>D+1</td>\n",
       "    </tr>\n",
       "    <tr>\n",
       "      <th>New Hampshire</th>\n",
       "      <td>D+2</td>\n",
       "    </tr>\n",
       "    <tr>\n",
       "      <th>New Jersey</th>\n",
       "      <td>D+4</td>\n",
       "    </tr>\n",
       "    <tr>\n",
       "      <th>New Mexico</th>\n",
       "      <td>D+2</td>\n",
       "    </tr>\n",
       "    <tr>\n",
       "      <th>New York</th>\n",
       "      <td>D+10</td>\n",
       "    </tr>\n",
       "    <tr>\n",
       "      <th>North Carolina</th>\n",
       "      <td>R+4</td>\n",
       "    </tr>\n",
       "    <tr>\n",
       "      <th>North Dakota</th>\n",
       "      <td>R+10</td>\n",
       "    </tr>\n",
       "    <tr>\n",
       "      <th>Ohio</th>\n",
       "      <td>R+1</td>\n",
       "    </tr>\n",
       "    <tr>\n",
       "      <th>Oklahoma</th>\n",
       "      <td>R+17</td>\n",
       "    </tr>\n",
       "    <tr>\n",
       "      <th>Oregon</th>\n",
       "      <td>D+4</td>\n",
       "    </tr>\n",
       "    <tr>\n",
       "      <th>Pennsylvania</th>\n",
       "      <td>D+2</td>\n",
       "    </tr>\n",
       "    <tr>\n",
       "      <th>Rhode Island</th>\n",
       "      <td>D+11</td>\n",
       "    </tr>\n",
       "    <tr>\n",
       "      <th>South Carolina</th>\n",
       "      <td>R+8</td>\n",
       "    </tr>\n",
       "    <tr>\n",
       "      <th>South Dakota</th>\n",
       "      <td>R+9</td>\n",
       "    </tr>\n",
       "    <tr>\n",
       "      <th>Tennessee</th>\n",
       "      <td>R+9</td>\n",
       "    </tr>\n",
       "    <tr>\n",
       "      <th>Texas</th>\n",
       "      <td>R+10</td>\n",
       "    </tr>\n",
       "    <tr>\n",
       "      <th>Utah</th>\n",
       "      <td>R+20</td>\n",
       "    </tr>\n",
       "    <tr>\n",
       "      <th>Vermont</th>\n",
       "      <td>D+13</td>\n",
       "    </tr>\n",
       "    <tr>\n",
       "      <th>Virginia</th>\n",
       "      <td>R+2</td>\n",
       "    </tr>\n",
       "    <tr>\n",
       "      <th>Washington</th>\n",
       "      <td>D+5</td>\n",
       "    </tr>\n",
       "    <tr>\n",
       "      <th>West Virginia</th>\n",
       "      <td>R+8</td>\n",
       "    </tr>\n",
       "    <tr>\n",
       "      <th>Wisconsin</th>\n",
       "      <td>D+2</td>\n",
       "    </tr>\n",
       "    <tr>\n",
       "      <th>Wyoming</th>\n",
       "      <td>R+20</td>\n",
       "    </tr>\n",
       "  </tbody>\n",
       "</table>\n",
       "</div>"
      ],
      "text/plain": [
       "                       PVI\n",
       "State                     \n",
       "Alabama               R+13\n",
       "Alaska                R+13\n",
       "Arizona               R+6 \n",
       "Arkansas              R+9 \n",
       "California            D+7 \n",
       "Colorado              EVEN\n",
       "Connecticut           D+7 \n",
       "Delaware              D+7 \n",
       "District of Columbia  D+39\n",
       "Florida               R+2 \n",
       "Georgia               R+7 \n",
       "Hawaii                D+12\n",
       "Idaho                 R+17\n",
       "Illinois              D+8 \n",
       "Indiana               R+6 \n",
       "Iowa                  D+1 \n",
       "Kansas                R+12\n",
       "Kentucky              R+10\n",
       "Louisiana             R+10\n",
       "Maine                 D+5 \n",
       "Maryland              D+9 \n",
       "Massachusetts         D+12\n",
       "Michigan              D+4 \n",
       "Minnesota             D+2 \n",
       "Mississippi           R+10\n",
       "Missouri              R+3 \n",
       "Montana               R+7 \n",
       "Nebraska              R+13\n",
       "Nevada                D+1 \n",
       "New Hampshire         D+2 \n",
       "New Jersey            D+4 \n",
       "New Mexico            D+2 \n",
       "New York              D+10\n",
       "North Carolina        R+4 \n",
       "North Dakota          R+10\n",
       "Ohio                  R+1 \n",
       "Oklahoma              R+17\n",
       "Oregon                D+4 \n",
       "Pennsylvania          D+2 \n",
       "Rhode Island          D+11\n",
       "South Carolina        R+8 \n",
       "South Dakota          R+9 \n",
       "Tennessee             R+9 \n",
       "Texas                 R+10\n",
       "Utah                  R+20\n",
       "Vermont               D+13\n",
       "Virginia              R+2 \n",
       "Washington            D+5 \n",
       "West Virginia         R+8 \n",
       "Wisconsin             D+2 \n",
       "Wyoming               R+20"
      ]
     },
     "execution_count": 66,
     "metadata": {},
     "output_type": "execute_result"
    }
   ],
   "source": [
    "pvi.set_index(\"State\", inplace=True);\n",
    "pvi"
   ]
  },
  {
   "cell_type": "code",
   "execution_count": 67,
   "metadata": {
    "collapsed": false
   },
   "outputs": [
    {
     "data": {
      "text/plain": [
       "State\n",
       "Alabama                -13\n",
       "Alaska                 -13\n",
       "Arizona                 -6\n",
       "Arkansas                -9\n",
       "California               7\n",
       "Colorado                 0\n",
       "Connecticut              7\n",
       "Delaware                 7\n",
       "District of Columbia    39\n",
       "Florida                 -2\n",
       "Georgia                 -7\n",
       "Hawaii                  12\n",
       "Idaho                  -17\n",
       "Illinois                 8\n",
       "Indiana                 -6\n",
       "Iowa                     1\n",
       "Kansas                 -12\n",
       "Kentucky               -10\n",
       "Louisiana              -10\n",
       "Maine                    5\n",
       "Maryland                 9\n",
       "Massachusetts           12\n",
       "Michigan                 4\n",
       "Minnesota                2\n",
       "Mississippi            -10\n",
       "Missouri                -3\n",
       "Montana                 -7\n",
       "Nebraska               -13\n",
       "Nevada                   1\n",
       "New Hampshire            2\n",
       "New Jersey               4\n",
       "New Mexico               2\n",
       "New York                10\n",
       "North Carolina          -4\n",
       "North Dakota           -10\n",
       "Ohio                    -1\n",
       "Oklahoma               -17\n",
       "Oregon                   4\n",
       "Pennsylvania             2\n",
       "Rhode Island            11\n",
       "South Carolina          -8\n",
       "South Dakota            -9\n",
       "Tennessee               -9\n",
       "Texas                  -10\n",
       "Utah                   -20\n",
       "Vermont                 13\n",
       "Virginia                -2\n",
       "Washington               5\n",
       "West Virginia           -8\n",
       "Wisconsin                2\n",
       "Wyoming                -20\n",
       "Name: PVI, dtype: float64"
      ]
     },
     "execution_count": 67,
     "metadata": {},
     "output_type": "execute_result"
    }
   ],
   "source": [
    "pvi.PVI = pvi.PVI.replace({\"EVEN\" : \"0\"})\n",
    "pvi.PVI = pvi.PVI.str.replace(\"R\\+\", \"-\")\n",
    "pvi.PVI = pvi.PVI.str.replace(\"D\\+\", \"\")\n",
    "pvi.PVI = pvi.PVI.astype(float)\n",
    "pvi.PVI"
   ]
  },
  {
   "cell_type": "markdown",
   "metadata": {},
   "source": [
    "Party affliation of electorate obtained from [Gallup](http://www.gallup.com/poll/156437/Heavily-Democratic-States-Concentrated-East.aspx#2)."
   ]
  },
  {
   "cell_type": "code",
   "execution_count": 68,
   "metadata": {
    "collapsed": false
   },
   "outputs": [],
   "source": [
    "party_affil = pandas.read_csv(\"./data/gallup_electorate.csv\")"
   ]
  },
  {
   "cell_type": "code",
   "execution_count": 69,
   "metadata": {
    "collapsed": false
   },
   "outputs": [],
   "source": [
    "party_affil.Democrat = party_affil.Democrat.str.replace(\"%\", \"\").astype(float)\n",
    "party_affil.Republican = party_affil.Republican.str.replace(\"%\", \"\").astype(float)\n",
    "party_affil.set_index(\"State\", inplace=True);\n",
    "party_affil.rename(columns={\"Democrat Advantage\" : \"dem_adv\"}, inplace=True);\n",
    "party_affil[\"no_party\"] = 100 - party_affil.Democrat - party_affil.Republican"
   ]
  },
  {
   "cell_type": "code",
   "execution_count": 70,
   "metadata": {
    "collapsed": false
   },
   "outputs": [
    {
     "data": {
      "text/html": [
       "<div>\n",
       "<table border=\"1\" class=\"dataframe\">\n",
       "  <thead>\n",
       "    <tr style=\"text-align: right;\">\n",
       "      <th></th>\n",
       "      <th>Democrat</th>\n",
       "      <th>Republican</th>\n",
       "      <th>dem_adv</th>\n",
       "      <th>N</th>\n",
       "      <th>no_party</th>\n",
       "    </tr>\n",
       "    <tr>\n",
       "      <th>State</th>\n",
       "      <th></th>\n",
       "      <th></th>\n",
       "      <th></th>\n",
       "      <th></th>\n",
       "      <th></th>\n",
       "    </tr>\n",
       "  </thead>\n",
       "  <tbody>\n",
       "    <tr>\n",
       "      <th>District of Columbia</th>\n",
       "      <td>79.0</td>\n",
       "      <td>12.7</td>\n",
       "      <td>66.3000</td>\n",
       "      <td>416</td>\n",
       "      <td>8.3</td>\n",
       "    </tr>\n",
       "    <tr>\n",
       "      <th>Rhode Island</th>\n",
       "      <td>52.5</td>\n",
       "      <td>26.5</td>\n",
       "      <td>26.0000</td>\n",
       "      <td>623</td>\n",
       "      <td>21.0</td>\n",
       "    </tr>\n",
       "    <tr>\n",
       "      <th>Hawaii</th>\n",
       "      <td>54.3</td>\n",
       "      <td>28.7</td>\n",
       "      <td>25.6000</td>\n",
       "      <td>466</td>\n",
       "      <td>17.0</td>\n",
       "    </tr>\n",
       "    <tr>\n",
       "      <th>New York</th>\n",
       "      <td>52.0</td>\n",
       "      <td>30.8</td>\n",
       "      <td>21.2000</td>\n",
       "      <td>8674</td>\n",
       "      <td>17.2</td>\n",
       "    </tr>\n",
       "    <tr>\n",
       "      <th>Maryland</th>\n",
       "      <td>54.0</td>\n",
       "      <td>33.8</td>\n",
       "      <td>20.2000</td>\n",
       "      <td>3571</td>\n",
       "      <td>12.2</td>\n",
       "    </tr>\n",
       "    <tr>\n",
       "      <th>Massachusetts</th>\n",
       "      <td>52.5</td>\n",
       "      <td>33.4</td>\n",
       "      <td>19.1000</td>\n",
       "      <td>3583</td>\n",
       "      <td>14.1</td>\n",
       "    </tr>\n",
       "    <tr>\n",
       "      <th>Delaware</th>\n",
       "      <td>50.5</td>\n",
       "      <td>33.1</td>\n",
       "      <td>17.4000</td>\n",
       "      <td>540</td>\n",
       "      <td>16.4</td>\n",
       "    </tr>\n",
       "    <tr>\n",
       "      <th>Connecticut</th>\n",
       "      <td>49.8</td>\n",
       "      <td>34.4</td>\n",
       "      <td>15.4000</td>\n",
       "      <td>2020</td>\n",
       "      <td>15.8</td>\n",
       "    </tr>\n",
       "    <tr>\n",
       "      <th>Vermont</th>\n",
       "      <td>48.8</td>\n",
       "      <td>34.9</td>\n",
       "      <td>13.9000</td>\n",
       "      <td>550</td>\n",
       "      <td>16.3</td>\n",
       "    </tr>\n",
       "    <tr>\n",
       "      <th>California</th>\n",
       "      <td>48.3</td>\n",
       "      <td>34.6</td>\n",
       "      <td>13.7000</td>\n",
       "      <td>16197</td>\n",
       "      <td>17.1</td>\n",
       "    </tr>\n",
       "    <tr>\n",
       "      <th>Illinois</th>\n",
       "      <td>48.4</td>\n",
       "      <td>35.8</td>\n",
       "      <td>12.6000</td>\n",
       "      <td>5888</td>\n",
       "      <td>15.8</td>\n",
       "    </tr>\n",
       "    <tr>\n",
       "      <th>New Jersey</th>\n",
       "      <td>47.4</td>\n",
       "      <td>35.9</td>\n",
       "      <td>11.5000</td>\n",
       "      <td>4239</td>\n",
       "      <td>16.7</td>\n",
       "    </tr>\n",
       "    <tr>\n",
       "      <th>Michigan</th>\n",
       "      <td>47.7</td>\n",
       "      <td>36.6</td>\n",
       "      <td>11.1000</td>\n",
       "      <td>5056</td>\n",
       "      <td>15.7</td>\n",
       "    </tr>\n",
       "    <tr>\n",
       "      <th>Minnesota</th>\n",
       "      <td>48.4</td>\n",
       "      <td>38.2</td>\n",
       "      <td>10.2000</td>\n",
       "      <td>3873</td>\n",
       "      <td>13.4</td>\n",
       "    </tr>\n",
       "    <tr>\n",
       "      <th>Washington</th>\n",
       "      <td>47.5</td>\n",
       "      <td>37.7</td>\n",
       "      <td>9.8000</td>\n",
       "      <td>5333</td>\n",
       "      <td>14.8</td>\n",
       "    </tr>\n",
       "    <tr>\n",
       "      <th>Oregon</th>\n",
       "      <td>47.2</td>\n",
       "      <td>39.1</td>\n",
       "      <td>8.1000</td>\n",
       "      <td>3002</td>\n",
       "      <td>13.7</td>\n",
       "    </tr>\n",
       "    <tr>\n",
       "      <th>Pennsylvania</th>\n",
       "      <td>46.4</td>\n",
       "      <td>41.2</td>\n",
       "      <td>5.2000</td>\n",
       "      <td>8443</td>\n",
       "      <td>12.4</td>\n",
       "    </tr>\n",
       "    <tr>\n",
       "      <th>Maine</th>\n",
       "      <td>43.8</td>\n",
       "      <td>39.4</td>\n",
       "      <td>4.4000</td>\n",
       "      <td>1040</td>\n",
       "      <td>16.8</td>\n",
       "    </tr>\n",
       "    <tr>\n",
       "      <th>New Mexico</th>\n",
       "      <td>44.7</td>\n",
       "      <td>41.1</td>\n",
       "      <td>3.6000</td>\n",
       "      <td>1555</td>\n",
       "      <td>14.2</td>\n",
       "    </tr>\n",
       "    <tr>\n",
       "      <th>Ohio</th>\n",
       "      <td>44.1</td>\n",
       "      <td>40.5</td>\n",
       "      <td>3.6000</td>\n",
       "      <td>6426</td>\n",
       "      <td>15.4</td>\n",
       "    </tr>\n",
       "    <tr>\n",
       "      <th>West Virginia</th>\n",
       "      <td>45.3</td>\n",
       "      <td>41.9</td>\n",
       "      <td>3.4000</td>\n",
       "      <td>1202</td>\n",
       "      <td>12.8</td>\n",
       "    </tr>\n",
       "    <tr>\n",
       "      <th>Wisconsin</th>\n",
       "      <td>45.0</td>\n",
       "      <td>42.2</td>\n",
       "      <td>2.8000</td>\n",
       "      <td>4140</td>\n",
       "      <td>12.8</td>\n",
       "    </tr>\n",
       "    <tr>\n",
       "      <th>Iowa</th>\n",
       "      <td>43.2</td>\n",
       "      <td>41.4</td>\n",
       "      <td>1.8000</td>\n",
       "      <td>2337</td>\n",
       "      <td>15.4</td>\n",
       "    </tr>\n",
       "    <tr>\n",
       "      <th>Florida</th>\n",
       "      <td>43.0</td>\n",
       "      <td>42.3</td>\n",
       "      <td>0.7000</td>\n",
       "      <td>9965</td>\n",
       "      <td>14.7</td>\n",
       "    </tr>\n",
       "    <tr>\n",
       "      <th>Arkansas</th>\n",
       "      <td>41.5</td>\n",
       "      <td>40.8</td>\n",
       "      <td>0.7000</td>\n",
       "      <td>2071</td>\n",
       "      <td>17.7</td>\n",
       "    </tr>\n",
       "    <tr>\n",
       "      <th>Kentucky</th>\n",
       "      <td>43.5</td>\n",
       "      <td>43.1</td>\n",
       "      <td>0.4000</td>\n",
       "      <td>2898</td>\n",
       "      <td>13.4</td>\n",
       "    </tr>\n",
       "    <tr>\n",
       "      <th>North Carolina</th>\n",
       "      <td>43.4</td>\n",
       "      <td>43.2</td>\n",
       "      <td>0.2000</td>\n",
       "      <td>6213</td>\n",
       "      <td>13.4</td>\n",
       "    </tr>\n",
       "    <tr>\n",
       "      <th>New Hampshire</th>\n",
       "      <td>42.3</td>\n",
       "      <td>43.8</td>\n",
       "      <td>-1.5000</td>\n",
       "      <td>873</td>\n",
       "      <td>13.9</td>\n",
       "    </tr>\n",
       "    <tr>\n",
       "      <th>Virginia</th>\n",
       "      <td>41.2</td>\n",
       "      <td>44.2</td>\n",
       "      <td>-3.0000</td>\n",
       "      <td>5313</td>\n",
       "      <td>14.6</td>\n",
       "    </tr>\n",
       "    <tr>\n",
       "      <th>Missouri</th>\n",
       "      <td>40.1</td>\n",
       "      <td>44.0</td>\n",
       "      <td>-3.9000</td>\n",
       "      <td>3727</td>\n",
       "      <td>15.9</td>\n",
       "    </tr>\n",
       "    <tr>\n",
       "      <th>Georgia</th>\n",
       "      <td>40.3</td>\n",
       "      <td>44.3</td>\n",
       "      <td>-4.0000</td>\n",
       "      <td>5110</td>\n",
       "      <td>15.4</td>\n",
       "    </tr>\n",
       "    <tr>\n",
       "      <th>Nevada</th>\n",
       "      <td>39.2</td>\n",
       "      <td>43.4</td>\n",
       "      <td>-4.2000</td>\n",
       "      <td>1348</td>\n",
       "      <td>17.4</td>\n",
       "    </tr>\n",
       "    <tr>\n",
       "      <th>Louisiana</th>\n",
       "      <td>40.3</td>\n",
       "      <td>45.1</td>\n",
       "      <td>-4.8000</td>\n",
       "      <td>2655</td>\n",
       "      <td>14.6</td>\n",
       "    </tr>\n",
       "    <tr>\n",
       "      <th>Colorado</th>\n",
       "      <td>39.9</td>\n",
       "      <td>45.1</td>\n",
       "      <td>-5.2000</td>\n",
       "      <td>3671</td>\n",
       "      <td>15.0</td>\n",
       "    </tr>\n",
       "    <tr>\n",
       "      <th>Texas</th>\n",
       "      <td>38.3</td>\n",
       "      <td>44.1</td>\n",
       "      <td>-5.8000</td>\n",
       "      <td>11325</td>\n",
       "      <td>17.6</td>\n",
       "    </tr>\n",
       "    <tr>\n",
       "      <th>South Dakota</th>\n",
       "      <td>41.5</td>\n",
       "      <td>47.5</td>\n",
       "      <td>-6.0000</td>\n",
       "      <td>607</td>\n",
       "      <td>11.0</td>\n",
       "    </tr>\n",
       "    <tr>\n",
       "      <th>Indiana</th>\n",
       "      <td>39.0</td>\n",
       "      <td>45.7</td>\n",
       "      <td>-6.7000</td>\n",
       "      <td>4197</td>\n",
       "      <td>15.3</td>\n",
       "    </tr>\n",
       "    <tr>\n",
       "      <th>Mississippi</th>\n",
       "      <td>40.1</td>\n",
       "      <td>47.1</td>\n",
       "      <td>-7.0000</td>\n",
       "      <td>1763</td>\n",
       "      <td>12.8</td>\n",
       "    </tr>\n",
       "    <tr>\n",
       "      <th>Arizona</th>\n",
       "      <td>39.8</td>\n",
       "      <td>47.3</td>\n",
       "      <td>-7.5000</td>\n",
       "      <td>4325</td>\n",
       "      <td>12.9</td>\n",
       "    </tr>\n",
       "    <tr>\n",
       "      <th>Tennessee</th>\n",
       "      <td>38.1</td>\n",
       "      <td>46.5</td>\n",
       "      <td>-8.4000</td>\n",
       "      <td>4231</td>\n",
       "      <td>15.4</td>\n",
       "    </tr>\n",
       "    <tr>\n",
       "      <th>Alaska</th>\n",
       "      <td>35.9</td>\n",
       "      <td>44.3</td>\n",
       "      <td>-8.4402</td>\n",
       "      <td>NaN</td>\n",
       "      <td>19.8</td>\n",
       "    </tr>\n",
       "    <tr>\n",
       "      <th>Oklahoma</th>\n",
       "      <td>38.6</td>\n",
       "      <td>48.0</td>\n",
       "      <td>-9.4000</td>\n",
       "      <td>2583</td>\n",
       "      <td>13.4</td>\n",
       "    </tr>\n",
       "    <tr>\n",
       "      <th>South Carolina</th>\n",
       "      <td>36.9</td>\n",
       "      <td>48.8</td>\n",
       "      <td>-11.9000</td>\n",
       "      <td>2858</td>\n",
       "      <td>14.3</td>\n",
       "    </tr>\n",
       "    <tr>\n",
       "      <th>North Dakota</th>\n",
       "      <td>35.8</td>\n",
       "      <td>49.0</td>\n",
       "      <td>-13.2000</td>\n",
       "      <td>547</td>\n",
       "      <td>15.2</td>\n",
       "    </tr>\n",
       "    <tr>\n",
       "      <th>Alabama</th>\n",
       "      <td>36.0</td>\n",
       "      <td>49.6</td>\n",
       "      <td>-13.6000</td>\n",
       "      <td>3197</td>\n",
       "      <td>14.4</td>\n",
       "    </tr>\n",
       "    <tr>\n",
       "      <th>Montana</th>\n",
       "      <td>35.9</td>\n",
       "      <td>49.6</td>\n",
       "      <td>-13.7000</td>\n",
       "      <td>1137</td>\n",
       "      <td>14.5</td>\n",
       "    </tr>\n",
       "    <tr>\n",
       "      <th>Kansas</th>\n",
       "      <td>34.4</td>\n",
       "      <td>51.3</td>\n",
       "      <td>-16.9000</td>\n",
       "      <td>1937</td>\n",
       "      <td>14.3</td>\n",
       "    </tr>\n",
       "    <tr>\n",
       "      <th>Nebraska</th>\n",
       "      <td>33.1</td>\n",
       "      <td>52.1</td>\n",
       "      <td>-19.0000</td>\n",
       "      <td>1351</td>\n",
       "      <td>14.8</td>\n",
       "    </tr>\n",
       "    <tr>\n",
       "      <th>Wyoming</th>\n",
       "      <td>26.7</td>\n",
       "      <td>56.6</td>\n",
       "      <td>-29.9000</td>\n",
       "      <td>600</td>\n",
       "      <td>16.7</td>\n",
       "    </tr>\n",
       "    <tr>\n",
       "      <th>Idaho</th>\n",
       "      <td>27.5</td>\n",
       "      <td>57.8</td>\n",
       "      <td>-30.3000</td>\n",
       "      <td>1336</td>\n",
       "      <td>14.7</td>\n",
       "    </tr>\n",
       "    <tr>\n",
       "      <th>Utah</th>\n",
       "      <td>24.5</td>\n",
       "      <td>63.8</td>\n",
       "      <td>-39.3000</td>\n",
       "      <td>2256</td>\n",
       "      <td>11.7</td>\n",
       "    </tr>\n",
       "  </tbody>\n",
       "</table>\n",
       "</div>"
      ],
      "text/plain": [
       "                      Democrat  Republican  dem_adv      N  no_party\n",
       "State                                                               \n",
       "District of Columbia      79.0        12.7  66.3000    416       8.3\n",
       "Rhode Island              52.5        26.5  26.0000    623      21.0\n",
       "Hawaii                    54.3        28.7  25.6000    466      17.0\n",
       "New York                  52.0        30.8  21.2000   8674      17.2\n",
       "Maryland                  54.0        33.8  20.2000   3571      12.2\n",
       "Massachusetts             52.5        33.4  19.1000   3583      14.1\n",
       "Delaware                  50.5        33.1  17.4000    540      16.4\n",
       "Connecticut               49.8        34.4  15.4000   2020      15.8\n",
       "Vermont                   48.8        34.9  13.9000    550      16.3\n",
       "California                48.3        34.6  13.7000  16197      17.1\n",
       "Illinois                  48.4        35.8  12.6000   5888      15.8\n",
       "New Jersey                47.4        35.9  11.5000   4239      16.7\n",
       "Michigan                  47.7        36.6  11.1000   5056      15.7\n",
       "Minnesota                 48.4        38.2  10.2000   3873      13.4\n",
       "Washington                47.5        37.7   9.8000   5333      14.8\n",
       "Oregon                    47.2        39.1   8.1000   3002      13.7\n",
       "Pennsylvania              46.4        41.2   5.2000   8443      12.4\n",
       "Maine                     43.8        39.4   4.4000   1040      16.8\n",
       "New Mexico                44.7        41.1   3.6000   1555      14.2\n",
       "Ohio                      44.1        40.5   3.6000   6426      15.4\n",
       "West Virginia             45.3        41.9   3.4000   1202      12.8\n",
       "Wisconsin                 45.0        42.2   2.8000   4140      12.8\n",
       "Iowa                      43.2        41.4   1.8000   2337      15.4\n",
       "Florida                   43.0        42.3   0.7000   9965      14.7\n",
       "Arkansas                  41.5        40.8   0.7000   2071      17.7\n",
       "Kentucky                  43.5        43.1   0.4000   2898      13.4\n",
       "North Carolina            43.4        43.2   0.2000   6213      13.4\n",
       "New Hampshire             42.3        43.8  -1.5000    873      13.9\n",
       "Virginia                  41.2        44.2  -3.0000   5313      14.6\n",
       "Missouri                  40.1        44.0  -3.9000   3727      15.9\n",
       "Georgia                   40.3        44.3  -4.0000   5110      15.4\n",
       "Nevada                    39.2        43.4  -4.2000   1348      17.4\n",
       "Louisiana                 40.3        45.1  -4.8000   2655      14.6\n",
       "Colorado                  39.9        45.1  -5.2000   3671      15.0\n",
       "Texas                     38.3        44.1  -5.8000  11325      17.6\n",
       "South Dakota              41.5        47.5  -6.0000    607      11.0\n",
       "Indiana                   39.0        45.7  -6.7000   4197      15.3\n",
       "Mississippi               40.1        47.1  -7.0000   1763      12.8\n",
       "Arizona                   39.8        47.3  -7.5000   4325      12.9\n",
       "Tennessee                 38.1        46.5  -8.4000   4231      15.4\n",
       "Alaska                    35.9        44.3  -8.4402    NaN      19.8\n",
       "Oklahoma                  38.6        48.0  -9.4000   2583      13.4\n",
       "South Carolina            36.9        48.8 -11.9000   2858      14.3\n",
       "North Dakota              35.8        49.0 -13.2000    547      15.2\n",
       "Alabama                   36.0        49.6 -13.6000   3197      14.4\n",
       "Montana                   35.9        49.6 -13.7000   1137      14.5\n",
       "Kansas                    34.4        51.3 -16.9000   1937      14.3\n",
       "Nebraska                  33.1        52.1 -19.0000   1351      14.8\n",
       "Wyoming                   26.7        56.6 -29.9000    600      16.7\n",
       "Idaho                     27.5        57.8 -30.3000   1336      14.7\n",
       "Utah                      24.5        63.8 -39.3000   2256      11.7"
      ]
     },
     "execution_count": 70,
     "metadata": {},
     "output_type": "execute_result"
    }
   ],
   "source": [
    "party_affil"
   ]
  },
  {
   "cell_type": "code",
   "execution_count": 71,
   "metadata": {
    "collapsed": false
   },
   "outputs": [],
   "source": [
    "census_data = pandas.read_csv(\"./data/census_demographics.csv\")"
   ]
  },
  {
   "cell_type": "code",
   "execution_count": 72,
   "metadata": {
    "collapsed": false
   },
   "outputs": [],
   "source": [
    "def capitalize(s):\n",
    "    s = s.title()\n",
    "    s = s.replace(\"Of\", \"of\")\n",
    "    return s"
   ]
  },
  {
   "cell_type": "code",
   "execution_count": 73,
   "metadata": {
    "collapsed": false
   },
   "outputs": [],
   "source": [
    "census_data[\"State\"] = census_data.state.map(capitalize)\n",
    "del census_data[\"state\"]"
   ]
  },
  {
   "cell_type": "code",
   "execution_count": 199,
   "metadata": {
    "collapsed": false
   },
   "outputs": [
    {
     "data": {
      "text/html": [
       "<div>\n",
       "<table border=\"1\" class=\"dataframe\">\n",
       "  <thead>\n",
       "    <tr style=\"text-align: right;\">\n",
       "      <th></th>\n",
       "      <th>per_black</th>\n",
       "      <th>per_hisp</th>\n",
       "      <th>per_white</th>\n",
       "      <th>educ_hs</th>\n",
       "      <th>educ_coll</th>\n",
       "      <th>average_income</th>\n",
       "      <th>median_income</th>\n",
       "      <th>pop_density</th>\n",
       "      <th>vote_pop</th>\n",
       "      <th>older_pop</th>\n",
       "      <th>per_older</th>\n",
       "      <th>per_vote</th>\n",
       "    </tr>\n",
       "    <tr>\n",
       "      <th>State</th>\n",
       "      <th></th>\n",
       "      <th></th>\n",
       "      <th></th>\n",
       "      <th></th>\n",
       "      <th></th>\n",
       "      <th></th>\n",
       "      <th></th>\n",
       "      <th></th>\n",
       "      <th></th>\n",
       "      <th></th>\n",
       "      <th></th>\n",
       "      <th></th>\n",
       "    </tr>\n",
       "  </thead>\n",
       "  <tbody>\n",
       "    <tr>\n",
       "      <th>Alabama</th>\n",
       "      <td>26.5</td>\n",
       "      <td>4.0</td>\n",
       "      <td>66.8</td>\n",
       "      <td>81.4</td>\n",
       "      <td>21.7</td>\n",
       "      <td>22984</td>\n",
       "      <td>42081</td>\n",
       "      <td>94.4</td>\n",
       "      <td>3001712.500</td>\n",
       "      <td>672383.600</td>\n",
       "      <td>0.140</td>\n",
       "      <td>0.625</td>\n",
       "    </tr>\n",
       "    <tr>\n",
       "      <th>Alaska</th>\n",
       "      <td>3.6</td>\n",
       "      <td>5.8</td>\n",
       "      <td>63.7</td>\n",
       "      <td>90.7</td>\n",
       "      <td>27.0</td>\n",
       "      <td>30726</td>\n",
       "      <td>66521</td>\n",
       "      <td>1.2</td>\n",
       "      <td>475548.444</td>\n",
       "      <td>58540.158</td>\n",
       "      <td>0.081</td>\n",
       "      <td>0.658</td>\n",
       "    </tr>\n",
       "    <tr>\n",
       "      <th>Arizona</th>\n",
       "      <td>4.5</td>\n",
       "      <td>30.1</td>\n",
       "      <td>57.4</td>\n",
       "      <td>85.0</td>\n",
       "      <td>26.3</td>\n",
       "      <td>25680</td>\n",
       "      <td>50448</td>\n",
       "      <td>56.3</td>\n",
       "      <td>3934880.535</td>\n",
       "      <td>920515.710</td>\n",
       "      <td>0.142</td>\n",
       "      <td>0.607</td>\n",
       "    </tr>\n",
       "    <tr>\n",
       "      <th>Arkansas</th>\n",
       "      <td>15.6</td>\n",
       "      <td>6.6</td>\n",
       "      <td>74.2</td>\n",
       "      <td>81.9</td>\n",
       "      <td>19.1</td>\n",
       "      <td>21274</td>\n",
       "      <td>39267</td>\n",
       "      <td>56.0</td>\n",
       "      <td>1798043.148</td>\n",
       "      <td>428944.934</td>\n",
       "      <td>0.146</td>\n",
       "      <td>0.612</td>\n",
       "    </tr>\n",
       "    <tr>\n",
       "      <th>California</th>\n",
       "      <td>6.6</td>\n",
       "      <td>38.1</td>\n",
       "      <td>39.7</td>\n",
       "      <td>80.7</td>\n",
       "      <td>30.1</td>\n",
       "      <td>29188</td>\n",
       "      <td>60883</td>\n",
       "      <td>239.1</td>\n",
       "      <td>24009747.944</td>\n",
       "      <td>4409953.704</td>\n",
       "      <td>0.117</td>\n",
       "      <td>0.637</td>\n",
       "    </tr>\n",
       "  </tbody>\n",
       "</table>\n",
       "</div>"
      ],
      "text/plain": [
       "            per_black  per_hisp  per_white  educ_hs  educ_coll  \\\n",
       "State                                                            \n",
       "Alabama          26.5       4.0       66.8     81.4       21.7   \n",
       "Alaska            3.6       5.8       63.7     90.7       27.0   \n",
       "Arizona           4.5      30.1       57.4     85.0       26.3   \n",
       "Arkansas         15.6       6.6       74.2     81.9       19.1   \n",
       "California        6.6      38.1       39.7     80.7       30.1   \n",
       "\n",
       "            average_income  median_income  pop_density      vote_pop  \\\n",
       "State                                                                  \n",
       "Alabama              22984          42081         94.4   3001712.500   \n",
       "Alaska               30726          66521          1.2    475548.444   \n",
       "Arizona              25680          50448         56.3   3934880.535   \n",
       "Arkansas             21274          39267         56.0   1798043.148   \n",
       "California           29188          60883        239.1  24009747.944   \n",
       "\n",
       "              older_pop  per_older  per_vote  \n",
       "State                                         \n",
       "Alabama      672383.600      0.140     0.625  \n",
       "Alaska        58540.158      0.081     0.658  \n",
       "Arizona      920515.710      0.142     0.607  \n",
       "Arkansas     428944.934      0.146     0.612  \n",
       "California  4409953.704      0.117     0.637  "
      ]
     },
     "execution_count": 199,
     "metadata": {},
     "output_type": "execute_result"
    }
   ],
   "source": [
    "census_data.head()"
   ]
  },
  {
   "cell_type": "code",
   "execution_count": 74,
   "metadata": {
    "collapsed": false
   },
   "outputs": [],
   "source": [
    "census_data.set_index(\"State\", inplace=True)"
   ]
  },
  {
   "cell_type": "code",
   "execution_count": 75,
   "metadata": {
    "collapsed": false
   },
   "outputs": [],
   "source": [
    "states_abbrev_dict = {\n",
    "        'AK': 'Alaska',\n",
    "        'AL': 'Alabama',\n",
    "        'AR': 'Arkansas',\n",
    "        'AS': 'American Samoa',\n",
    "        'AZ': 'Arizona',\n",
    "        'CA': 'California',\n",
    "        'CO': 'Colorado',\n",
    "        'CT': 'Connecticut',\n",
    "        'DC': 'District of Columbia',\n",
    "        'DE': 'Delaware',\n",
    "        'FL': 'Florida',\n",
    "        'GA': 'Georgia',\n",
    "        'GU': 'Guam',\n",
    "        'HI': 'Hawaii',\n",
    "        'IA': 'Iowa',\n",
    "        'ID': 'Idaho',\n",
    "        'IL': 'Illinois',\n",
    "        'IN': 'Indiana',\n",
    "        'KS': 'Kansas',\n",
    "        'KY': 'Kentucky',\n",
    "        'LA': 'Louisiana',\n",
    "        'MA': 'Massachusetts',\n",
    "        'MD': 'Maryland',\n",
    "        'ME': 'Maine',\n",
    "        'MI': 'Michigan',\n",
    "        'MN': 'Minnesota',\n",
    "        'MO': 'Missouri',\n",
    "        'MP': 'Northern Mariana Islands',\n",
    "        'MS': 'Mississippi',\n",
    "        'MT': 'Montana',\n",
    "        'NA': 'National',\n",
    "        'NC': 'North Carolina',\n",
    "        'ND': 'North Dakota',\n",
    "        'NE': 'Nebraska',\n",
    "        'NH': 'New Hampshire',\n",
    "        'NJ': 'New Jersey',\n",
    "        'NM': 'New Mexico',\n",
    "        'NV': 'Nevada',\n",
    "        'NY': 'New York',\n",
    "        'OH': 'Ohio',\n",
    "        'OK': 'Oklahoma',\n",
    "        'OR': 'Oregon',\n",
    "        'PA': 'Pennsylvania',\n",
    "        'PR': 'Puerto Rico',\n",
    "        'RI': 'Rhode Island',\n",
    "        'SC': 'South Carolina',\n",
    "        'SD': 'South Dakota',\n",
    "        'TN': 'Tennessee',\n",
    "        'TX': 'Texas',\n",
    "        'UT': 'Utah',\n",
    "        'VA': 'Virginia',\n",
    "        'VI': 'Virgin Islands',\n",
    "        'VT': 'Vermont',\n",
    "        'WA': 'Washington',\n",
    "        'WI': 'Wisconsin',\n",
    "        'WV': 'West Virginia',\n",
    "        'WY': 'Wyoming'\n",
    "}"
   ]
  },
  {
   "cell_type": "markdown",
   "metadata": {},
   "source": [
    "Campaign Contributions from FEC."
   ]
  },
  {
   "cell_type": "code",
   "execution_count": 76,
   "metadata": {
    "collapsed": false
   },
   "outputs": [],
   "source": [
    "obama_give = pandas.read_csv(\"./data/obama_indiv_state.csv\", \n",
    "                             header=None, names=[\"State\", \"obama_give\"])\n",
    "romney_give = pandas.read_csv(\"./data/romney_indiv_state.csv\",\n",
    "                             header=None, names=[\"State\", \"romney_give\"])"
   ]
  },
  {
   "cell_type": "code",
   "execution_count": 77,
   "metadata": {
    "collapsed": false
   },
   "outputs": [],
   "source": [
    "obama_give.State.replace(states_abbrev_dict, inplace=True);\n",
    "romney_give.State.replace(states_abbrev_dict, inplace=True);"
   ]
  },
  {
   "cell_type": "code",
   "execution_count": 78,
   "metadata": {
    "collapsed": false
   },
   "outputs": [],
   "source": [
    "obama_give.set_index(\"State\", inplace=True)\n",
    "romney_give.set_index(\"State\", inplace=True);"
   ]
  },
  {
   "cell_type": "code",
   "execution_count": 79,
   "metadata": {
    "collapsed": false
   },
   "outputs": [],
   "source": [
    "demo_data = census_data.join(party_affil[[\"dem_adv\", \"no_party\"]]).join(pvi)"
   ]
  },
  {
   "cell_type": "code",
   "execution_count": 80,
   "metadata": {
    "collapsed": false
   },
   "outputs": [],
   "source": [
    "demo_data = demo_data.join(obama_give).join(romney_give)"
   ]
  },
  {
   "cell_type": "code",
   "execution_count": 203,
   "metadata": {
    "collapsed": false
   },
   "outputs": [
    {
     "data": {
      "text/html": [
       "<div>\n",
       "<table border=\"1\" class=\"dataframe\">\n",
       "  <thead>\n",
       "    <tr style=\"text-align: right;\">\n",
       "      <th></th>\n",
       "      <th>obama_give</th>\n",
       "      <th>romney_give</th>\n",
       "    </tr>\n",
       "  </thead>\n",
       "  <tbody>\n",
       "    <tr>\n",
       "      <th>0</th>\n",
       "      <td>6.658811e-08</td>\n",
       "      <td>9.952707e-08</td>\n",
       "    </tr>\n",
       "    <tr>\n",
       "      <th>1</th>\n",
       "      <td>2.081808e-06</td>\n",
       "      <td>9.336994e-07</td>\n",
       "    </tr>\n",
       "    <tr>\n",
       "      <th>2</th>\n",
       "      <td>1.171138e-07</td>\n",
       "      <td>1.385368e-07</td>\n",
       "    </tr>\n",
       "    <tr>\n",
       "      <th>3</th>\n",
       "      <td>1.108137e-07</td>\n",
       "      <td>9.728485e-08</td>\n",
       "    </tr>\n",
       "    <tr>\n",
       "      <th>4</th>\n",
       "      <td>3.969586e-08</td>\n",
       "      <td>2.173072e-08</td>\n",
       "    </tr>\n",
       "  </tbody>\n",
       "</table>\n",
       "</div>"
      ],
      "text/plain": [
       "     obama_give   romney_give\n",
       "0  6.658811e-08  9.952707e-08\n",
       "1  2.081808e-06  9.336994e-07\n",
       "2  1.171138e-07  1.385368e-07\n",
       "3  1.108137e-07  9.728485e-08\n",
       "4  3.969586e-08  2.173072e-08"
      ]
     },
     "execution_count": 203,
     "metadata": {},
     "output_type": "execute_result"
    }
   ],
   "source": [
    "giving = demo_data[[\"obama_give\", \"romney_give\"]].div(demo_data[[\"vote_pop\", \"older_pop\"]].sum(1), axis=0)\n",
    "giving.head()"
   ]
  },
  {
   "cell_type": "code",
   "execution_count": 82,
   "metadata": {
    "collapsed": false
   },
   "outputs": [],
   "source": [
    "demo_data[[\"obama_give\", \"romney_give\"]] = giving"
   ]
  },
  {
   "cell_type": "code",
   "execution_count": 83,
   "metadata": {
    "collapsed": false
   },
   "outputs": [],
   "source": [
    "from scipy import cluster as sp_cluster\n",
    "from sklearn import cluster, neighbors"
   ]
  },
  {
   "cell_type": "code",
   "execution_count": 84,
   "metadata": {
    "collapsed": false
   },
   "outputs": [],
   "source": [
    "clean_data = sp_cluster.vq.whiten(demo_data.values)"
   ]
  },
  {
   "cell_type": "code",
   "execution_count": 85,
   "metadata": {
    "collapsed": false
   },
   "outputs": [
    {
     "data": {
      "text/plain": [
       "array([ 1.,  1.,  1.,  1.,  1.,  1.,  1.,  1.,  1.,  1.,  1.,  1.,  1.,\n",
       "        1.,  1.,  1.,  1.])"
      ]
     },
     "execution_count": 85,
     "metadata": {},
     "output_type": "execute_result"
    }
   ],
   "source": [
    "clean_data.var(axis=0)"
   ]
  },
  {
   "cell_type": "code",
   "execution_count": 86,
   "metadata": {
    "collapsed": false
   },
   "outputs": [
    {
     "name": "stderr",
     "output_type": "stream",
     "text": [
      "//anaconda/envs/pydata/lib/python2.7/site-packages/sklearn/utils/validation.py:386: DeprecationWarning: Passing 1d arrays as data is deprecated in 0.17 and willraise ValueError in 0.19. Reshape your data either using X.reshape(-1, 1) if your data has a single feature or X.reshape(1, -1) if it contains a single sample.\n",
      "  DeprecationWarning)\n"
     ]
    },
    {
     "data": {
      "text/plain": [
       "(array([[ 0.    ,  0.895 ,  1.4131,  1.4377,  2.0061,  2.1917,  2.3806]]),\n",
       " array([[ 0, 40, 18, 42, 24, 33, 17]]))"
      ]
     },
     "execution_count": 86,
     "metadata": {},
     "output_type": "execute_result"
    }
   ],
   "source": [
    "KNN = neighbors.NearestNeighbors(n_neighbors=7)\n",
    "KNN.fit(clean_data)\n",
    "KNN.kneighbors(clean_data[0], return_distance=True)"
   ]
  },
  {
   "cell_type": "code",
   "execution_count": 87,
   "metadata": {
    "collapsed": false
   },
   "outputs": [
    {
     "data": {
      "text/plain": [
       "('Alabama',\n",
       " Index([[u'Alabama', u'South Carolina', u'Louisiana', u'Tennessee', u'Mississippi', u'North Carolina', u'Kentucky']], dtype='object', name=u'State'))"
      ]
     },
     "execution_count": 87,
     "metadata": {},
     "output_type": "execute_result"
    }
   ],
   "source": [
    "idx = _[1]\n",
    "demo_data.index[0], demo_data.index[idx]"
   ]
  },
  {
   "cell_type": "code",
   "execution_count": 88,
   "metadata": {
    "collapsed": false
   },
   "outputs": [
    {
     "name": "stderr",
     "output_type": "stream",
     "text": [
      "//anaconda/envs/pydata/lib/python2.7/site-packages/sklearn/utils/validation.py:386: DeprecationWarning: Passing 1d arrays as data is deprecated in 0.17 and willraise ValueError in 0.19. Reshape your data either using X.reshape(-1, 1) if your data has a single feature or X.reshape(1, -1) if it contains a single sample.\n",
      "  DeprecationWarning)\n",
      "//anaconda/envs/pydata/lib/python2.7/site-packages/sklearn/utils/validation.py:386: DeprecationWarning: Passing 1d arrays as data is deprecated in 0.17 and willraise ValueError in 0.19. Reshape your data either using X.reshape(-1, 1) if your data has a single feature or X.reshape(1, -1) if it contains a single sample.\n",
      "  DeprecationWarning)\n",
      "//anaconda/envs/pydata/lib/python2.7/site-packages/sklearn/utils/validation.py:386: DeprecationWarning: Passing 1d arrays as data is deprecated in 0.17 and willraise ValueError in 0.19. Reshape your data either using X.reshape(-1, 1) if your data has a single feature or X.reshape(1, -1) if it contains a single sample.\n",
      "  DeprecationWarning)\n",
      "//anaconda/envs/pydata/lib/python2.7/site-packages/sklearn/utils/validation.py:386: DeprecationWarning: Passing 1d arrays as data is deprecated in 0.17 and willraise ValueError in 0.19. Reshape your data either using X.reshape(-1, 1) if your data has a single feature or X.reshape(1, -1) if it contains a single sample.\n",
      "  DeprecationWarning)\n",
      "//anaconda/envs/pydata/lib/python2.7/site-packages/sklearn/utils/validation.py:386: DeprecationWarning: Passing 1d arrays as data is deprecated in 0.17 and willraise ValueError in 0.19. Reshape your data either using X.reshape(-1, 1) if your data has a single feature or X.reshape(1, -1) if it contains a single sample.\n",
      "  DeprecationWarning)\n",
      "//anaconda/envs/pydata/lib/python2.7/site-packages/sklearn/utils/validation.py:386: DeprecationWarning: Passing 1d arrays as data is deprecated in 0.17 and willraise ValueError in 0.19. Reshape your data either using X.reshape(-1, 1) if your data has a single feature or X.reshape(1, -1) if it contains a single sample.\n",
      "  DeprecationWarning)\n",
      "//anaconda/envs/pydata/lib/python2.7/site-packages/sklearn/utils/validation.py:386: DeprecationWarning: Passing 1d arrays as data is deprecated in 0.17 and willraise ValueError in 0.19. Reshape your data either using X.reshape(-1, 1) if your data has a single feature or X.reshape(1, -1) if it contains a single sample.\n",
      "  DeprecationWarning)\n",
      "//anaconda/envs/pydata/lib/python2.7/site-packages/sklearn/utils/validation.py:386: DeprecationWarning: Passing 1d arrays as data is deprecated in 0.17 and willraise ValueError in 0.19. Reshape your data either using X.reshape(-1, 1) if your data has a single feature or X.reshape(1, -1) if it contains a single sample.\n",
      "  DeprecationWarning)\n",
      "//anaconda/envs/pydata/lib/python2.7/site-packages/sklearn/utils/validation.py:386: DeprecationWarning: Passing 1d arrays as data is deprecated in 0.17 and willraise ValueError in 0.19. Reshape your data either using X.reshape(-1, 1) if your data has a single feature or X.reshape(1, -1) if it contains a single sample.\n",
      "  DeprecationWarning)\n",
      "//anaconda/envs/pydata/lib/python2.7/site-packages/sklearn/utils/validation.py:386: DeprecationWarning: Passing 1d arrays as data is deprecated in 0.17 and willraise ValueError in 0.19. Reshape your data either using X.reshape(-1, 1) if your data has a single feature or X.reshape(1, -1) if it contains a single sample.\n",
      "  DeprecationWarning)\n",
      "//anaconda/envs/pydata/lib/python2.7/site-packages/sklearn/utils/validation.py:386: DeprecationWarning: Passing 1d arrays as data is deprecated in 0.17 and willraise ValueError in 0.19. Reshape your data either using X.reshape(-1, 1) if your data has a single feature or X.reshape(1, -1) if it contains a single sample.\n",
      "  DeprecationWarning)\n",
      "//anaconda/envs/pydata/lib/python2.7/site-packages/sklearn/utils/validation.py:386: DeprecationWarning: Passing 1d arrays as data is deprecated in 0.17 and willraise ValueError in 0.19. Reshape your data either using X.reshape(-1, 1) if your data has a single feature or X.reshape(1, -1) if it contains a single sample.\n",
      "  DeprecationWarning)\n",
      "//anaconda/envs/pydata/lib/python2.7/site-packages/sklearn/utils/validation.py:386: DeprecationWarning: Passing 1d arrays as data is deprecated in 0.17 and willraise ValueError in 0.19. Reshape your data either using X.reshape(-1, 1) if your data has a single feature or X.reshape(1, -1) if it contains a single sample.\n",
      "  DeprecationWarning)\n",
      "//anaconda/envs/pydata/lib/python2.7/site-packages/sklearn/utils/validation.py:386: DeprecationWarning: Passing 1d arrays as data is deprecated in 0.17 and willraise ValueError in 0.19. Reshape your data either using X.reshape(-1, 1) if your data has a single feature or X.reshape(1, -1) if it contains a single sample.\n",
      "  DeprecationWarning)\n",
      "//anaconda/envs/pydata/lib/python2.7/site-packages/sklearn/utils/validation.py:386: DeprecationWarning: Passing 1d arrays as data is deprecated in 0.17 and willraise ValueError in 0.19. Reshape your data either using X.reshape(-1, 1) if your data has a single feature or X.reshape(1, -1) if it contains a single sample.\n",
      "  DeprecationWarning)\n",
      "//anaconda/envs/pydata/lib/python2.7/site-packages/sklearn/utils/validation.py:386: DeprecationWarning: Passing 1d arrays as data is deprecated in 0.17 and willraise ValueError in 0.19. Reshape your data either using X.reshape(-1, 1) if your data has a single feature or X.reshape(1, -1) if it contains a single sample.\n",
      "  DeprecationWarning)\n",
      "//anaconda/envs/pydata/lib/python2.7/site-packages/sklearn/utils/validation.py:386: DeprecationWarning: Passing 1d arrays as data is deprecated in 0.17 and willraise ValueError in 0.19. Reshape your data either using X.reshape(-1, 1) if your data has a single feature or X.reshape(1, -1) if it contains a single sample.\n",
      "  DeprecationWarning)\n",
      "//anaconda/envs/pydata/lib/python2.7/site-packages/sklearn/utils/validation.py:386: DeprecationWarning: Passing 1d arrays as data is deprecated in 0.17 and willraise ValueError in 0.19. Reshape your data either using X.reshape(-1, 1) if your data has a single feature or X.reshape(1, -1) if it contains a single sample.\n",
      "  DeprecationWarning)\n",
      "//anaconda/envs/pydata/lib/python2.7/site-packages/sklearn/utils/validation.py:386: DeprecationWarning: Passing 1d arrays as data is deprecated in 0.17 and willraise ValueError in 0.19. Reshape your data either using X.reshape(-1, 1) if your data has a single feature or X.reshape(1, -1) if it contains a single sample.\n",
      "  DeprecationWarning)\n",
      "//anaconda/envs/pydata/lib/python2.7/site-packages/sklearn/utils/validation.py:386: DeprecationWarning: Passing 1d arrays as data is deprecated in 0.17 and willraise ValueError in 0.19. Reshape your data either using X.reshape(-1, 1) if your data has a single feature or X.reshape(1, -1) if it contains a single sample.\n",
      "  DeprecationWarning)\n",
      "//anaconda/envs/pydata/lib/python2.7/site-packages/sklearn/utils/validation.py:386: DeprecationWarning: Passing 1d arrays as data is deprecated in 0.17 and willraise ValueError in 0.19. Reshape your data either using X.reshape(-1, 1) if your data has a single feature or X.reshape(1, -1) if it contains a single sample.\n",
      "  DeprecationWarning)\n",
      "//anaconda/envs/pydata/lib/python2.7/site-packages/sklearn/utils/validation.py:386: DeprecationWarning: Passing 1d arrays as data is deprecated in 0.17 and willraise ValueError in 0.19. Reshape your data either using X.reshape(-1, 1) if your data has a single feature or X.reshape(1, -1) if it contains a single sample.\n",
      "  DeprecationWarning)\n",
      "//anaconda/envs/pydata/lib/python2.7/site-packages/sklearn/utils/validation.py:386: DeprecationWarning: Passing 1d arrays as data is deprecated in 0.17 and willraise ValueError in 0.19. Reshape your data either using X.reshape(-1, 1) if your data has a single feature or X.reshape(1, -1) if it contains a single sample.\n",
      "  DeprecationWarning)\n",
      "//anaconda/envs/pydata/lib/python2.7/site-packages/sklearn/utils/validation.py:386: DeprecationWarning: Passing 1d arrays as data is deprecated in 0.17 and willraise ValueError in 0.19. Reshape your data either using X.reshape(-1, 1) if your data has a single feature or X.reshape(1, -1) if it contains a single sample.\n",
      "  DeprecationWarning)\n",
      "//anaconda/envs/pydata/lib/python2.7/site-packages/sklearn/utils/validation.py:386: DeprecationWarning: Passing 1d arrays as data is deprecated in 0.17 and willraise ValueError in 0.19. Reshape your data either using X.reshape(-1, 1) if your data has a single feature or X.reshape(1, -1) if it contains a single sample.\n",
      "  DeprecationWarning)\n",
      "//anaconda/envs/pydata/lib/python2.7/site-packages/sklearn/utils/validation.py:386: DeprecationWarning: Passing 1d arrays as data is deprecated in 0.17 and willraise ValueError in 0.19. Reshape your data either using X.reshape(-1, 1) if your data has a single feature or X.reshape(1, -1) if it contains a single sample.\n",
      "  DeprecationWarning)\n",
      "//anaconda/envs/pydata/lib/python2.7/site-packages/sklearn/utils/validation.py:386: DeprecationWarning: Passing 1d arrays as data is deprecated in 0.17 and willraise ValueError in 0.19. Reshape your data either using X.reshape(-1, 1) if your data has a single feature or X.reshape(1, -1) if it contains a single sample.\n",
      "  DeprecationWarning)\n",
      "//anaconda/envs/pydata/lib/python2.7/site-packages/sklearn/utils/validation.py:386: DeprecationWarning: Passing 1d arrays as data is deprecated in 0.17 and willraise ValueError in 0.19. Reshape your data either using X.reshape(-1, 1) if your data has a single feature or X.reshape(1, -1) if it contains a single sample.\n",
      "  DeprecationWarning)\n",
      "//anaconda/envs/pydata/lib/python2.7/site-packages/sklearn/utils/validation.py:386: DeprecationWarning: Passing 1d arrays as data is deprecated in 0.17 and willraise ValueError in 0.19. Reshape your data either using X.reshape(-1, 1) if your data has a single feature or X.reshape(1, -1) if it contains a single sample.\n",
      "  DeprecationWarning)\n",
      "//anaconda/envs/pydata/lib/python2.7/site-packages/sklearn/utils/validation.py:386: DeprecationWarning: Passing 1d arrays as data is deprecated in 0.17 and willraise ValueError in 0.19. Reshape your data either using X.reshape(-1, 1) if your data has a single feature or X.reshape(1, -1) if it contains a single sample.\n",
      "  DeprecationWarning)\n",
      "//anaconda/envs/pydata/lib/python2.7/site-packages/sklearn/utils/validation.py:386: DeprecationWarning: Passing 1d arrays as data is deprecated in 0.17 and willraise ValueError in 0.19. Reshape your data either using X.reshape(-1, 1) if your data has a single feature or X.reshape(1, -1) if it contains a single sample.\n",
      "  DeprecationWarning)\n",
      "//anaconda/envs/pydata/lib/python2.7/site-packages/sklearn/utils/validation.py:386: DeprecationWarning: Passing 1d arrays as data is deprecated in 0.17 and willraise ValueError in 0.19. Reshape your data either using X.reshape(-1, 1) if your data has a single feature or X.reshape(1, -1) if it contains a single sample.\n",
      "  DeprecationWarning)\n",
      "//anaconda/envs/pydata/lib/python2.7/site-packages/sklearn/utils/validation.py:386: DeprecationWarning: Passing 1d arrays as data is deprecated in 0.17 and willraise ValueError in 0.19. Reshape your data either using X.reshape(-1, 1) if your data has a single feature or X.reshape(1, -1) if it contains a single sample.\n",
      "  DeprecationWarning)\n",
      "//anaconda/envs/pydata/lib/python2.7/site-packages/sklearn/utils/validation.py:386: DeprecationWarning: Passing 1d arrays as data is deprecated in 0.17 and willraise ValueError in 0.19. Reshape your data either using X.reshape(-1, 1) if your data has a single feature or X.reshape(1, -1) if it contains a single sample.\n",
      "  DeprecationWarning)\n",
      "//anaconda/envs/pydata/lib/python2.7/site-packages/sklearn/utils/validation.py:386: DeprecationWarning: Passing 1d arrays as data is deprecated in 0.17 and willraise ValueError in 0.19. Reshape your data either using X.reshape(-1, 1) if your data has a single feature or X.reshape(1, -1) if it contains a single sample.\n",
      "  DeprecationWarning)\n",
      "//anaconda/envs/pydata/lib/python2.7/site-packages/sklearn/utils/validation.py:386: DeprecationWarning: Passing 1d arrays as data is deprecated in 0.17 and willraise ValueError in 0.19. Reshape your data either using X.reshape(-1, 1) if your data has a single feature or X.reshape(1, -1) if it contains a single sample.\n",
      "  DeprecationWarning)\n",
      "//anaconda/envs/pydata/lib/python2.7/site-packages/sklearn/utils/validation.py:386: DeprecationWarning: Passing 1d arrays as data is deprecated in 0.17 and willraise ValueError in 0.19. Reshape your data either using X.reshape(-1, 1) if your data has a single feature or X.reshape(1, -1) if it contains a single sample.\n",
      "  DeprecationWarning)\n",
      "//anaconda/envs/pydata/lib/python2.7/site-packages/sklearn/utils/validation.py:386: DeprecationWarning: Passing 1d arrays as data is deprecated in 0.17 and willraise ValueError in 0.19. Reshape your data either using X.reshape(-1, 1) if your data has a single feature or X.reshape(1, -1) if it contains a single sample.\n",
      "  DeprecationWarning)\n",
      "//anaconda/envs/pydata/lib/python2.7/site-packages/sklearn/utils/validation.py:386: DeprecationWarning: Passing 1d arrays as data is deprecated in 0.17 and willraise ValueError in 0.19. Reshape your data either using X.reshape(-1, 1) if your data has a single feature or X.reshape(1, -1) if it contains a single sample.\n",
      "  DeprecationWarning)\n",
      "//anaconda/envs/pydata/lib/python2.7/site-packages/sklearn/utils/validation.py:386: DeprecationWarning: Passing 1d arrays as data is deprecated in 0.17 and willraise ValueError in 0.19. Reshape your data either using X.reshape(-1, 1) if your data has a single feature or X.reshape(1, -1) if it contains a single sample.\n",
      "  DeprecationWarning)\n",
      "//anaconda/envs/pydata/lib/python2.7/site-packages/sklearn/utils/validation.py:386: DeprecationWarning: Passing 1d arrays as data is deprecated in 0.17 and willraise ValueError in 0.19. Reshape your data either using X.reshape(-1, 1) if your data has a single feature or X.reshape(1, -1) if it contains a single sample.\n",
      "  DeprecationWarning)\n",
      "//anaconda/envs/pydata/lib/python2.7/site-packages/sklearn/utils/validation.py:386: DeprecationWarning: Passing 1d arrays as data is deprecated in 0.17 and willraise ValueError in 0.19. Reshape your data either using X.reshape(-1, 1) if your data has a single feature or X.reshape(1, -1) if it contains a single sample.\n",
      "  DeprecationWarning)\n",
      "//anaconda/envs/pydata/lib/python2.7/site-packages/sklearn/utils/validation.py:386: DeprecationWarning: Passing 1d arrays as data is deprecated in 0.17 and willraise ValueError in 0.19. Reshape your data either using X.reshape(-1, 1) if your data has a single feature or X.reshape(1, -1) if it contains a single sample.\n",
      "  DeprecationWarning)\n",
      "//anaconda/envs/pydata/lib/python2.7/site-packages/sklearn/utils/validation.py:386: DeprecationWarning: Passing 1d arrays as data is deprecated in 0.17 and willraise ValueError in 0.19. Reshape your data either using X.reshape(-1, 1) if your data has a single feature or X.reshape(1, -1) if it contains a single sample.\n",
      "  DeprecationWarning)\n",
      "//anaconda/envs/pydata/lib/python2.7/site-packages/sklearn/utils/validation.py:386: DeprecationWarning: Passing 1d arrays as data is deprecated in 0.17 and willraise ValueError in 0.19. Reshape your data either using X.reshape(-1, 1) if your data has a single feature or X.reshape(1, -1) if it contains a single sample.\n",
      "  DeprecationWarning)\n",
      "//anaconda/envs/pydata/lib/python2.7/site-packages/sklearn/utils/validation.py:386: DeprecationWarning: Passing 1d arrays as data is deprecated in 0.17 and willraise ValueError in 0.19. Reshape your data either using X.reshape(-1, 1) if your data has a single feature or X.reshape(1, -1) if it contains a single sample.\n",
      "  DeprecationWarning)\n",
      "//anaconda/envs/pydata/lib/python2.7/site-packages/sklearn/utils/validation.py:386: DeprecationWarning: Passing 1d arrays as data is deprecated in 0.17 and willraise ValueError in 0.19. Reshape your data either using X.reshape(-1, 1) if your data has a single feature or X.reshape(1, -1) if it contains a single sample.\n",
      "  DeprecationWarning)\n",
      "//anaconda/envs/pydata/lib/python2.7/site-packages/sklearn/utils/validation.py:386: DeprecationWarning: Passing 1d arrays as data is deprecated in 0.17 and willraise ValueError in 0.19. Reshape your data either using X.reshape(-1, 1) if your data has a single feature or X.reshape(1, -1) if it contains a single sample.\n",
      "  DeprecationWarning)\n",
      "//anaconda/envs/pydata/lib/python2.7/site-packages/sklearn/utils/validation.py:386: DeprecationWarning: Passing 1d arrays as data is deprecated in 0.17 and willraise ValueError in 0.19. Reshape your data either using X.reshape(-1, 1) if your data has a single feature or X.reshape(1, -1) if it contains a single sample.\n",
      "  DeprecationWarning)\n",
      "//anaconda/envs/pydata/lib/python2.7/site-packages/sklearn/utils/validation.py:386: DeprecationWarning: Passing 1d arrays as data is deprecated in 0.17 and willraise ValueError in 0.19. Reshape your data either using X.reshape(-1, 1) if your data has a single feature or X.reshape(1, -1) if it contains a single sample.\n",
      "  DeprecationWarning)\n",
      "//anaconda/envs/pydata/lib/python2.7/site-packages/sklearn/utils/validation.py:386: DeprecationWarning: Passing 1d arrays as data is deprecated in 0.17 and willraise ValueError in 0.19. Reshape your data either using X.reshape(-1, 1) if your data has a single feature or X.reshape(1, -1) if it contains a single sample.\n",
      "  DeprecationWarning)\n"
     ]
    }
   ],
   "source": [
    "nearest_neighbor = {}\n",
    "for i, state in enumerate(demo_data.index):\n",
    "    neighborhood = KNN.kneighbors(clean_data[i], return_distance=True)\n",
    "    nearest_neighbor.update({state : (demo_data.index[neighborhood[1]],\n",
    "                                     neighborhood[0])})"
   ]
  },
  {
   "cell_type": "code",
   "execution_count": 89,
   "metadata": {
    "collapsed": false
   },
   "outputs": [
    {
     "data": {
      "text/plain": [
       "{'Alabama': (Index([[u'Alabama', u'South Carolina', u'Louisiana', u'Tennessee', u'Mississippi', u'North Carolina', u'Kentucky']], dtype='object', name=u'State'),\n",
       "  array([[ 0.    ,  0.895 ,  1.4131,  1.4377,  2.0061,  2.1917,  2.3806]])),\n",
       " 'Alaska': (Index([[u'Alaska', u'Colorado', u'Wyoming', u'Washington', u'Virginia', u'Nevada', u'New Hampshire']], dtype='object', name=u'State'),\n",
       "  array([[ 0.    ,  4.3342,  4.5308,  4.7701,  4.9261,  4.9871,  5.2991]])),\n",
       " 'Arizona': (Index([[u'Arizona', u'Oklahoma', u'New Mexico', u'Kansas', u'Nevada', u'North Carolina', u'Oregon']], dtype='object', name=u'State'),\n",
       "  array([[ 0.    ,  2.9343,  2.9355,  3.1193,  3.1995,  3.3985,  3.4008]])),\n",
       " 'Arkansas': (Index([[u'Arkansas', u'Tennessee', u'Alabama', u'Missouri', u'Indiana', u'Kentucky', u'South Carolina']], dtype='object', name=u'State'),\n",
       "  array([[ 0.    ,  2.2112,  2.4606,  2.612 ,  2.6739,  2.7217,  2.7387]])),\n",
       " 'California': (Index([[u'California', u'Texas', u'New York', u'Illinois', u'Florida', u'New Jersey', u'Georgia']], dtype='object', name=u'State'),\n",
       "  array([[ 0.    ,  4.0483,  4.6365,  5.9325,  6.0743,  6.8872,  7.3305]])),\n",
       " 'Colorado': (Index([[u'Colorado', u'Washington', u'Virginia', u'Minnesota', u'Illinois', u'New Hampshire', u'Oregon']], dtype='object', name=u'State'),\n",
       "  array([[ 0.    ,  2.0688,  2.5587,  3.0797,  3.091 ,  3.203 ,  3.2526]])),\n",
       " 'Connecticut': (Index([[u'Connecticut', u'Massachusetts', u'New Jersey', u'Virginia', u'New Hampshire', u'Washington', u'Maryland']], dtype='object', name=u'State'),\n",
       "  array([[ 0.    ,  2.0824,  2.5353,  3.2202,  3.5911,  3.6411,  3.7422]])),\n",
       " 'Delaware': (Index([[u'Delaware', u'Michigan', u'Washington', u'Oregon', u'Missouri', u'Illinois', u'Rhode Island']], dtype='object', name=u'State'),\n",
       "  array([[ 0.    ,  2.8113,  2.9256,  2.926 ,  3.0637,  3.0731,  3.1641]])),\n",
       " 'District of Columbia': (Index([[u'District of Columbia', u'Maryland', u'Massachusetts', u'Connecticut', u'Virginia', u'New Jersey', u'New York']], dtype='object', name=u'State'),\n",
       "  array([[  0.    ,  13.03  ,  13.3261,  13.6773,  14.119 ,  14.1531,\n",
       "           14.5409]])),\n",
       " 'Florida': (Index([[u'Florida', u'Pennsylvania', u'New York', u'Ohio', u'Arizona', u'Michigan', u'Illinois']], dtype='object', name=u'State'),\n",
       "  array([[ 0.    ,  3.6013,  4.1043,  4.154 ,  4.3315,  4.3721,  4.3781]])),\n",
       " 'Georgia': (Index([[u'Georgia', u'North Carolina', u'Louisiana', u'South Carolina', u'Tennessee', u'Alabama', u'Illinois']], dtype='object', name=u'State'),\n",
       "  array([[ 0.    ,  2.0943,  2.2277,  2.5821,  2.8322,  2.972 ,  3.1716]])),\n",
       " 'Hawaii': (Index([[u'Hawaii', u'Delaware', u'New Jersey', u'Washington', u'Illinois', u'Nevada', u'Rhode Island']], dtype='object', name=u'State'),\n",
       "  array([[ 0.    ,  3.5958,  4.0706,  4.0882,  4.4516,  4.5466,  4.6198]])),\n",
       " 'Idaho': (Index([[u'Idaho', u'Nebraska', u'Kansas', u'Oklahoma', u'Wyoming', u'Montana', u'South Dakota']], dtype='object', name=u'State'),\n",
       "  array([[ 0.    ,  2.1515,  2.2253,  2.3819,  2.8463,  2.9776,  3.0037]])),\n",
       " 'Illinois': (Index([[u'Illinois', u'Washington', u'New York', u'Michigan', u'Virginia', u'New Jersey', u'North Carolina']], dtype='object', name=u'State'),\n",
       "  array([[ 0.    ,  2.1981,  2.2448,  2.4582,  2.5843,  2.7518,  2.9154]])),\n",
       " 'Indiana': (Index([[u'Indiana', u'Missouri', u'Tennessee', u'Ohio', u'Michigan', u'Iowa', u'Wisconsin']], dtype='object', name=u'State'),\n",
       "  array([[ 0.    ,  1.092 ,  1.6695,  1.7382,  2.0651,  2.1233,  2.1329]])),\n",
       " 'Iowa': (Index([[u'Iowa', u'Maine', u'Wisconsin', u'Missouri', u'Montana', u'Oregon', u'North Dakota']], dtype='object', name=u'State'),\n",
       "  array([[ 0.    ,  1.8098,  1.8516,  1.8777,  1.9101,  1.9952,  2.0246]])),\n",
       " 'Kansas': (Index([[u'Kansas', u'Nebraska', u'North Dakota', u'Montana', u'Indiana', u'Idaho', u'Missouri']], dtype='object', name=u'State'),\n",
       "  array([[ 0.    ,  0.6986,  2.0249,  2.0884,  2.2029,  2.2253,  2.3144]])),\n",
       " 'Kentucky': (Index([[u'Kentucky', u'Tennessee', u'West Virginia', u'Indiana', u'Alabama', u'Oklahoma', u'Missouri']], dtype='object', name=u'State'),\n",
       "  array([[ 0.    ,  1.7644,  2.0265,  2.2391,  2.3806,  2.4241,  2.5181]])),\n",
       " 'Louisiana': (Index([[u'Louisiana', u'Alabama', u'South Carolina', u'Mississippi', u'Tennessee', u'Georgia', u'North Carolina']], dtype='object', name=u'State'),\n",
       "  array([[ 0.    ,  1.4131,  1.5056,  1.7716,  2.043 ,  2.2277,  2.2626]])),\n",
       " 'Maine': (Index([[u'Maine', u'Iowa', u'Vermont', u'North Dakota', u'Montana', u'Oregon', u'Missouri']], dtype='object', name=u'State'),\n",
       "  array([[ 0.    ,  1.8098,  2.1204,  2.3112,  2.3425,  2.5626,  2.6826]])),\n",
       " 'Maryland': (Index([[u'Maryland', u'Virginia', u'New Jersey', u'Massachusetts', u'Connecticut', u'Washington', u'Illinois']], dtype='object', name=u'State'),\n",
       "  array([[ 0.    ,  2.9214,  3.1488,  3.1622,  3.7422,  3.7991,  3.878 ]])),\n",
       " 'Massachusetts': (Index([[u'Massachusetts', u'Connecticut', u'New Jersey', u'Washington', u'Virginia', u'New Hampshire', u'Maryland']], dtype='object', name=u'State'),\n",
       "  array([[ 0.    ,  2.0824,  2.7455,  2.7496,  2.8705,  2.8822,  3.1622]])),\n",
       " 'Michigan': (Index([[u'Michigan', u'Ohio', u'Missouri', u'Indiana', u'Wisconsin', u'Pennsylvania', u'Oregon']], dtype='object', name=u'State'),\n",
       "  array([[ 0.    ,  0.9378,  1.5973,  2.0651,  2.1259,  2.1318,  2.2958]])),\n",
       " 'Minnesota': (Index([[u'Minnesota', u'Washington', u'Wisconsin', u'Oregon', u'New Hampshire', u'Iowa', u'Vermont']], dtype='object', name=u'State'),\n",
       "  array([[ 0.    ,  1.5917,  1.6802,  1.9837,  2.267 ,  2.697 ,  2.8457]])),\n",
       " 'Mississippi': (Index([[u'Mississippi', u'Louisiana', u'Alabama', u'South Carolina', u'Tennessee', u'North Carolina', u'Kentucky']], dtype='object', name=u'State'),\n",
       "  array([[ 0.    ,  1.7716,  2.0061,  2.3089,  3.1488,  3.2514,  3.4804]])),\n",
       " 'Missouri': (Index([[u'Missouri', u'Indiana', u'Ohio', u'Michigan', u'Tennessee', u'Iowa', u'Wisconsin']], dtype='object', name=u'State'),\n",
       "  array([[ 0.    ,  1.092 ,  1.4165,  1.5973,  1.617 ,  1.8777,  2.1894]])),\n",
       " 'Montana': (Index([[u'Montana', u'North Dakota', u'Nebraska', u'Iowa', u'Kansas', u'South Dakota', u'Maine']], dtype='object', name=u'State'),\n",
       "  array([[ 0.    ,  1.261 ,  1.818 ,  1.9101,  2.0884,  2.1583,  2.3425]])),\n",
       " 'Nebraska': (Index([[u'Nebraska', u'Kansas', u'North Dakota', u'Montana', u'Idaho', u'Iowa', u'Indiana']], dtype='object', name=u'State'),\n",
       "  array([[ 0.    ,  0.6986,  1.7342,  1.818 ,  2.1515,  2.2173,  2.2261]])),\n",
       " 'Nevada': (Index([[u'Nevada', u'Arizona', u'Illinois', u'Delaware', u'Indiana', u'New Mexico', u'Washington']], dtype='object', name=u'State'),\n",
       "  array([[ 0.    ,  3.1995,  3.3382,  3.493 ,  3.5531,  3.6011,  3.6074]])),\n",
       " 'New Hampshire': (Index([[u'New Hampshire', u'Minnesota', u'Washington', u'Vermont', u'Massachusetts', u'Oregon', u'Wisconsin']], dtype='object', name=u'State'),\n",
       "  array([[ 0.    ,  2.267 ,  2.5447,  2.7523,  2.8822,  3.0272,  3.0489]])),\n",
       " 'New Jersey': (Index([[u'New Jersey', u'Connecticut', u'Virginia', u'Massachusetts', u'Illinois', u'Washington', u'Maryland']], dtype='object', name=u'State'),\n",
       "  array([[ 0.    ,  2.5353,  2.6702,  2.7455,  2.7518,  3.0557,  3.1488]])),\n",
       " 'New Mexico': (Index([[u'New Mexico', u'Arizona', u'Nevada', u'Oklahoma', u'Oregon', u'North Carolina', u'Illinois']], dtype='object', name=u'State'),\n",
       "  array([[ 0.    ,  2.9355,  3.6011,  4.8648,  4.8963,  4.9717,  5.1184]])),\n",
       " 'New York': (Index([[u'New York', u'Illinois', u'New Jersey', u'Virginia', u'Michigan', u'Washington', u'Florida']], dtype='object', name=u'State'),\n",
       "  array([[ 0.    ,  2.2448,  3.4305,  3.7701,  3.9345,  4.0056,  4.1043]])),\n",
       " 'North Carolina': (Index([[u'North Carolina', u'South Carolina', u'Tennessee', u'Georgia', u'Alabama', u'Louisiana', u'Indiana']], dtype='object', name=u'State'),\n",
       "  array([[ 0.    ,  1.7201,  1.8596,  2.0943,  2.1917,  2.2626,  2.2931]])),\n",
       " 'North Dakota': (Index([[u'North Dakota', u'Montana', u'Nebraska', u'Iowa', u'Kansas', u'Missouri', u'Indiana']], dtype='object', name=u'State'),\n",
       "  array([[ 0.    ,  1.261 ,  1.7342,  2.0246,  2.0249,  2.2294,  2.3029]])),\n",
       " 'Ohio': (Index([[u'Ohio', u'Michigan', u'Missouri', u'Indiana', u'Pennsylvania', u'Wisconsin', u'North Carolina']], dtype='object', name=u'State'),\n",
       "  array([[ 0.    ,  0.9378,  1.4165,  1.7382,  1.8819,  2.192 ,  2.3251]])),\n",
       " 'Oklahoma': (Index([[u'Oklahoma', u'Tennessee', u'Indiana', u'Kansas', u'Idaho', u'Kentucky', u'Missouri']], dtype='object', name=u'State'),\n",
       "  array([[ 0.    ,  2.1644,  2.2664,  2.3192,  2.3819,  2.4241,  2.4273]])),\n",
       " 'Oregon': (Index([[u'Oregon', u'Wisconsin', u'Washington', u'Minnesota', u'Iowa', u'Michigan', u'Missouri']], dtype='object', name=u'State'),\n",
       "  array([[ 0.    ,  1.297 ,  1.9679,  1.9837,  1.9952,  2.2958,  2.3314]])),\n",
       " 'Pennsylvania': (Index([[u'Pennsylvania', u'Ohio', u'Michigan', u'Wisconsin', u'Oregon', u'North Carolina', u'Missouri']], dtype='object', name=u'State'),\n",
       "  array([[ 0.    ,  1.8819,  2.1318,  2.2291,  2.6733,  2.731 ,  2.7411]])),\n",
       " 'Rhode Island': (Index([[u'Rhode Island', u'Delaware', u'Vermont', u'Maine', u'Washington', u'Illinois', u'Nevada']], dtype='object', name=u'State'),\n",
       "  array([[ 0.    ,  3.1641,  3.6876,  3.9865,  4.0764,  4.1222,  4.1348]])),\n",
       " 'South Carolina': (Index([[u'South Carolina', u'Alabama', u'Louisiana', u'Tennessee', u'North Carolina', u'Mississippi', u'Missouri']], dtype='object', name=u'State'),\n",
       "  array([[ 0.    ,  0.895 ,  1.5056,  1.5187,  1.7201,  2.3089,  2.3979]])),\n",
       " 'South Dakota': (Index([[u'South Dakota', u'Montana', u'Nebraska', u'Kansas', u'Wisconsin', u'Iowa', u'Oklahoma']], dtype='object', name=u'State'),\n",
       "  array([[ 0.    ,  2.1583,  2.3366,  2.3479,  2.4675,  2.5475,  2.5613]])),\n",
       " 'Tennessee': (Index([[u'Tennessee', u'Alabama', u'South Carolina', u'Missouri', u'Indiana', u'Kentucky', u'North Carolina']], dtype='object', name=u'State'),\n",
       "  array([[ 0.    ,  1.4377,  1.5187,  1.617 ,  1.6695,  1.7644,  1.8596]])),\n",
       " 'Texas': (Index([[u'Texas', u'California', u'New York', u'Illinois', u'Georgia', u'Nevada', u'Arizona']], dtype='object', name=u'State'),\n",
       "  array([[ 0.    ,  4.0483,  4.7608,  4.8448,  4.8556,  5.077 ,  5.2005]])),\n",
       " 'Utah': (Index([[u'Utah', u'Idaho', u'Wyoming', u'Kansas', u'Oklahoma', u'Nebraska', u'South Dakota']], dtype='object', name=u'State'),\n",
       "  array([[ 0.    ,  4.4224,  5.167 ,  5.5232,  5.6994,  5.7875,  6.0012]])),\n",
       " 'Vermont': (Index([[u'Vermont', u'Maine', u'Oregon', u'New Hampshire', u'Minnesota', u'Washington', u'Iowa']], dtype='object', name=u'State'),\n",
       "  array([[ 0.    ,  2.1204,  2.6838,  2.7523,  2.8457,  3.0245,  3.0897]])),\n",
       " 'Virginia': (Index([[u'Virginia', u'Colorado', u'Washington', u'Illinois', u'New Jersey', u'Massachusetts', u'Maryland']], dtype='object', name=u'State'),\n",
       "  array([[ 0.    ,  2.5587,  2.5714,  2.5843,  2.6702,  2.8705,  2.9214]])),\n",
       " 'Washington': (Index([[u'Washington', u'Minnesota', u'Oregon', u'Colorado', u'Illinois', u'Wisconsin', u'New Hampshire']], dtype='object', name=u'State'),\n",
       "  array([[ 0.    ,  1.5917,  1.9679,  2.0688,  2.1981,  2.2739,  2.5447]])),\n",
       " 'West Virginia': (Index([[u'West Virginia', u'Kentucky', u'Tennessee', u'Arkansas', u'Oklahoma', u'Missouri', u'Indiana']], dtype='object', name=u'State'),\n",
       "  array([[ 0.    ,  2.0265,  3.1467,  3.2553,  3.3697,  3.3775,  3.3816]])),\n",
       " 'Wisconsin': (Index([[u'Wisconsin', u'Oregon', u'Minnesota', u'Iowa', u'Michigan', u'Indiana', u'Missouri']], dtype='object', name=u'State'),\n",
       "  array([[ 0.    ,  1.297 ,  1.6802,  1.8516,  2.1259,  2.1329,  2.1894]])),\n",
       " 'Wyoming': (Index([[u'Wyoming', u'Nebraska', u'Idaho', u'North Dakota', u'Kansas', u'Montana', u'Indiana']], dtype='object', name=u'State'),\n",
       "  array([[ 0.    ,  2.772 ,  2.8463,  2.8491,  2.9062,  3.3221,  3.7427]]))}"
      ]
     },
     "execution_count": 89,
     "metadata": {},
     "output_type": "execute_result"
    }
   ],
   "source": [
    "nearest_neighbor"
   ]
  },
  {
   "cell_type": "code",
   "execution_count": 90,
   "metadata": {
    "collapsed": false
   },
   "outputs": [],
   "source": [
    "k_means = cluster.KMeans(n_clusters=5, n_init=50)\n",
    "k_means.fit(clean_data)\n",
    "values = k_means.cluster_centers_.squeeze()\n",
    "labels = k_means.labels_"
   ]
  },
  {
   "cell_type": "code",
   "execution_count": 91,
   "metadata": {
    "collapsed": false
   },
   "outputs": [],
   "source": [
    "clusters = sp_cluster.vq.kmeans(clean_data, 5)[0]"
   ]
  },
  {
   "cell_type": "code",
   "execution_count": 92,
   "metadata": {
    "collapsed": false
   },
   "outputs": [],
   "source": [
    "def choose_group(data, clusters):\n",
    "    \"\"\"\n",
    "    Return the index of the cluster to which the rows in data\n",
    "    are \"closest\" (in the sense of the L2-norm)\n",
    "    \"\"\"\n",
    "    data = data[:,None] # add an axis for broadcasting\n",
    "    distances = data - clusters\n",
    "    groups = []\n",
    "    for row in distances:\n",
    "        dists = map(np.linalg.norm, row)\n",
    "        groups.append(np.argmin(dists))\n",
    "    return groups"
   ]
  },
  {
   "cell_type": "code",
   "execution_count": 93,
   "metadata": {
    "collapsed": false
   },
   "outputs": [],
   "source": [
    "groups = choose_group(clean_data, clusters)"
   ]
  },
  {
   "cell_type": "code",
   "execution_count": 94,
   "metadata": {
    "collapsed": false
   },
   "outputs": [
    {
     "data": {
      "text/plain": [
       "array([0, 4, 1, 0, 1, 2, 2, 2, 3, 1, 0, 2, 4, 2, 0, 4, 4, 0, 0, 4, 2, 2, 0,\n",
       "       4, 0, 0, 4, 4, 1, 4, 2, 1, 2, 0, 4, 0, 0, 4, 0, 2, 0, 4, 0, 1, 4, 4,\n",
       "       2, 2, 0, 4, 4])"
      ]
     },
     "execution_count": 94,
     "metadata": {},
     "output_type": "execute_result"
    }
   ],
   "source": [
    "np.array(groups)"
   ]
  },
  {
   "cell_type": "markdown",
   "metadata": {},
   "source": [
    "Or use a one-liner"
   ]
  },
  {
   "cell_type": "code",
   "execution_count": 95,
   "metadata": {
    "collapsed": false
   },
   "outputs": [],
   "source": [
    "groups = [np.argmin(map(np.linalg.norm, (clean_data[:,None] - clusters)[i])) for i in range(51)]"
   ]
  },
  {
   "cell_type": "code",
   "execution_count": 96,
   "metadata": {
    "collapsed": false
   },
   "outputs": [],
   "source": [
    "demo_data[\"kmeans_group\"] = groups\n",
    "demo_data[\"kmeans_labels\"] = labels"
   ]
  },
  {
   "cell_type": "code",
   "execution_count": 97,
   "metadata": {
    "collapsed": false
   },
   "outputs": [
    {
     "name": "stdout",
     "output_type": "stream",
     "text": [
      "['Alabama' 'Arkansas' 'Georgia' 'Indiana' 'Kentucky' 'Louisiana' 'Michigan'\n",
      " 'Mississippi' 'Missouri' 'North Carolina' 'Ohio' 'Oklahoma' 'Pennsylvania'\n",
      " 'South Carolina' 'Tennessee' 'West Virginia']\n",
      "['Arizona' 'California' 'Florida' 'Nevada' 'New Mexico' 'Texas']\n",
      "['Colorado' 'Connecticut' 'Delaware' 'Hawaii' 'Illinois' 'Maryland'\n",
      " 'Massachusetts' 'New Jersey' 'New York' 'Rhode Island' 'Virginia'\n",
      " 'Washington']\n",
      "['District of Columbia']\n",
      "['Alaska' 'Idaho' 'Iowa' 'Kansas' 'Maine' 'Minnesota' 'Montana' 'Nebraska'\n",
      " 'New Hampshire' 'North Dakota' 'Oregon' 'South Dakota' 'Utah' 'Vermont'\n",
      " 'Wisconsin' 'Wyoming']\n"
     ]
    }
   ],
   "source": [
    "for _, group in demo_data.groupby(\"kmeans_group\"):\n",
    "    group = group.index\n",
    "    group.values.sort()\n",
    "    print group.values"
   ]
  },
  {
   "cell_type": "code",
   "execution_count": 98,
   "metadata": {
    "collapsed": false
   },
   "outputs": [
    {
     "data": {
      "text/plain": [
       "array([1, 0, 3, 1, 4, 0, 0, 0, 2, 4, 1, 0, 3, 0, 3, 3, 3, 1, 1, 3, 0, 0, 3,\n",
       "       0, 1, 3, 3, 3, 0, 0, 0, 3, 4, 1, 3, 3, 3, 3, 3, 0, 1, 3, 1, 4, 3, 0,\n",
       "       0, 0, 1, 3, 3], dtype=int32)"
      ]
     },
     "execution_count": 98,
     "metadata": {},
     "output_type": "execute_result"
    }
   ],
   "source": [
    "labels"
   ]
  },
  {
   "cell_type": "code",
   "execution_count": 99,
   "metadata": {
    "collapsed": false
   },
   "outputs": [
    {
     "name": "stdout",
     "output_type": "stream",
     "text": [
      "['Alaska' 'Colorado' 'Connecticut' 'Delaware' 'Hawaii' 'Illinois'\n",
      " 'Maryland' 'Massachusetts' 'Minnesota' 'Nevada' 'New Hampshire'\n",
      " 'New Jersey' 'Rhode Island' 'Vermont' 'Virginia' 'Washington']\n",
      "['Alabama' 'Arkansas' 'Georgia' 'Kentucky' 'Louisiana' 'Mississippi'\n",
      " 'North Carolina' 'South Carolina' 'Tennessee' 'West Virginia']\n",
      "['District of Columbia']\n",
      "['Arizona' 'Idaho' 'Indiana' 'Iowa' 'Kansas' 'Maine' 'Michigan' 'Missouri'\n",
      " 'Montana' 'Nebraska' 'New Mexico' 'North Dakota' 'Ohio' 'Oklahoma'\n",
      " 'Oregon' 'Pennsylvania' 'South Dakota' 'Utah' 'Wisconsin' 'Wyoming']\n",
      "['California' 'Florida' 'New York' 'Texas']\n"
     ]
    }
   ],
   "source": [
    "demo_data[\"kmeans_labels\"] = labels\n",
    "for _, group in demo_data.groupby(\"kmeans_labels\"):\n",
    "    group = group.index.copy()\n",
    "    group.values.sort()\n",
    "    print group.values"
   ]
  },
  {
   "cell_type": "code",
   "execution_count": 100,
   "metadata": {
    "collapsed": false
   },
   "outputs": [],
   "source": [
    "demo_data = demo_data.reset_index()"
   ]
  },
  {
   "cell_type": "code",
   "execution_count": 101,
   "metadata": {
    "collapsed": false
   },
   "outputs": [],
   "source": [
    "state_data2012.State.replace(states_abbrev_dict, inplace=True);"
   ]
  },
  {
   "cell_type": "code",
   "execution_count": 102,
   "metadata": {
    "collapsed": false
   },
   "outputs": [],
   "source": [
    "state_data2012 = state_data2012.merge(demo_data[[\"State\", \"kmeans_labels\"]], on=\"State\")"
   ]
  },
  {
   "cell_type": "code",
   "execution_count": 103,
   "metadata": {
    "collapsed": false
   },
   "outputs": [],
   "source": [
    "kmeans_groups = state_data2012.groupby(\"kmeans_labels\")"
   ]
  },
  {
   "cell_type": "code",
   "execution_count": 104,
   "metadata": {
    "collapsed": false
   },
   "outputs": [],
   "source": [
    "group = kmeans_groups.get_group(kmeans_groups.groups.keys()[2])"
   ]
  },
  {
   "cell_type": "code",
   "execution_count": 105,
   "metadata": {
    "collapsed": false
   },
   "outputs": [
    {
     "data": {
      "text/plain": [
       "array(['Wisconsin', 'New Mexico', 'North Dakota', 'Nebraska', 'Ohio',\n",
       "       'Pennsylvania', 'Indiana', 'Iowa', 'Arizona', 'Maine', 'Missouri',\n",
       "       'Michigan', 'Montana', 'Kansas', 'Oregon', 'South Dakota', 'Utah'], dtype=object)"
      ]
     },
     "execution_count": 105,
     "metadata": {},
     "output_type": "execute_result"
    }
   ],
   "source": [
    "group.State.unique()"
   ]
  },
  {
   "cell_type": "code",
   "execution_count": 106,
   "metadata": {
    "collapsed": false
   },
   "outputs": [],
   "source": [
    "def edit_tick_label(tick_val, tick_pos):\n",
    "    if tick_val  < 0:\n",
    "        text = str(int(tick_val)).replace(\"-\", \"Romney+\")\n",
    "    else:\n",
    "        text = \"Obama+\"+str(int(tick_val))\n",
    "    return text"
   ]
  },
  {
   "cell_type": "code",
   "execution_count": 107,
   "metadata": {
    "collapsed": false
   },
   "outputs": [
    {
     "data": {
      "image/png": "[encoded data removed]",
      "text/plain": [
       "<matplotlib.figure.Figure at 0x1123fb4d0>"
      ]
     },
     "metadata": {},
     "output_type": "display_data"
    }
   ],
   "source": [
    "from pandas import lib\n",
    "from matplotlib.ticker import FuncFormatter\n",
    "fig, axes = plt.subplots(figsize=(12,8))\n",
    "\n",
    "data = group[[\"poll_date\", \"obama_spread\"]]\n",
    "data = pandas.concat((data, national_data2012[[\"poll_date\", \"obama_spread\"]]))\n",
    "    \n",
    "data.sort(\"poll_date\", inplace=True)\n",
    "dates = pandas.DatetimeIndex(data.poll_date).asi8\n",
    "\n",
    "loess_res = sm.nonparametric.lowess(data.obama_spread.values, dates, \n",
    "                                    frac=.2, it=3)\n",
    "\n",
    "dates_x = pandas.to_datetime(dates)\n",
    "axes.scatter(dates_x, data[\"obama_spread\"])\n",
    "axes.plot(dates_x, loess_res[:,1], color='r')\n",
    "axes.yaxis.get_major_locator().set_params(nbins=12)\n",
    "axes.yaxis.set_major_formatter(FuncFormatter(edit_tick_label))\n",
    "axes.grid(False, axis='x')\n",
    "axes.hlines(0, dates_x[0], dates_x[-1], color='black', lw=3)\n",
    "axes.margins(0, .05)"
   ]
  },
  {
   "cell_type": "code",
   "execution_count": 108,
   "metadata": {
    "collapsed": false
   },
   "outputs": [
    {
     "data": {
      "text/plain": [
       "6.3911808457264527"
      ]
     },
     "execution_count": 108,
     "metadata": {},
     "output_type": "execute_result"
    }
   ],
   "source": [
    "loess_res[-7:,1].mean()"
   ]
  },
  {
   "cell_type": "code",
   "execution_count": 109,
   "metadata": {
    "collapsed": false
   },
   "outputs": [
    {
     "data": {
      "image/png": "[encoded data removed]",
      "text/plain": [
       "<matplotlib.figure.Figure at 0x1125027d0>"
      ]
     },
     "metadata": {},
     "output_type": "display_data"
    }
   ],
   "source": [
    "from pandas import lib\n",
    "from matplotlib.ticker import FuncFormatter\n",
    "fig, axes = plt.subplots(figsize=(12,8))\n",
    "\n",
    "national_data2012.sort(\"poll_date\", inplace=True)\n",
    "dates = pandas.DatetimeIndex(national_data2012.poll_date).asi8\n",
    "\n",
    "loess_res = sm.nonparametric.lowess(national_data2012.obama_spread.values, dates, \n",
    "                                    frac=.075, it=3)\n",
    "\n",
    "dates_x = pandas.to_datetime(dates)\n",
    "axes.scatter(dates_x, national_data2012[\"obama_spread\"])\n",
    "axes.plot(dates_x, loess_res[:,1], color='r')\n",
    "axes.yaxis.get_major_locator().set_params(nbins=12)\n",
    "axes.yaxis.set_major_formatter(FuncFormatter(edit_tick_label))\n",
    "axes.grid(False, axis='x')\n",
    "axes.hlines(0, dates_x[0], dates_x[-1], color='black', lw=3)\n",
    "axes.margins(0, .05)"
   ]
  },
  {
   "cell_type": "code",
   "execution_count": 110,
   "metadata": {
    "collapsed": false
   },
   "outputs": [],
   "source": [
    "trends = []\n",
    "for i, group in kmeans_groups:\n",
    "    data = group[[\"poll_date\", \"obama_spread\"]]\n",
    "    data = pandas.concat((data, national_data2012[[\"poll_date\", \"obama_spread\"]]))\n",
    "    \n",
    "    data.sort(\"poll_date\", inplace=True)\n",
    "    dates = pandas.DatetimeIndex(data.poll_date).asi8\n",
    "\n",
    "    loess_res = sm.nonparametric.lowess(data.obama_spread.values, dates, \n",
    "                                    frac=.1, it=3)\n",
    "    states = group.State.unique()\n",
    "    for state in states:\n",
    "        trends.append([state, loess_res[-7:,1].mean()])"
   ]
  },
  {
   "cell_type": "code",
   "execution_count": 111,
   "metadata": {
    "collapsed": false
   },
   "outputs": [
    {
     "data": {
      "text/plain": [
       "[['Washington', 4.5126101123209397],\n",
       " ['New Hampshire', 4.5126101123209397],\n",
       " ['New Jersey', 4.5126101123209397],\n",
       " ['Nevada', 4.5126101123209397],\n",
       " ['Colorado', 4.5126101123209397],\n",
       " ['Connecticut', 4.5126101123209397],\n",
       " ['Virginia', 4.5126101123209397],\n",
       " ['Massachusetts', 4.5126101123209397],\n",
       " ['Rhode Island', 4.5126101123209397],\n",
       " ['Hawaii', 4.5126101123209397],\n",
       " ['Vermont', 4.5126101123209397],\n",
       " ['Maryland', 4.5126101123209397],\n",
       " ['Minnesota', 4.5126101123209397],\n",
       " ['Illinois', 4.5126101123209397],\n",
       " ['North Carolina', 2.990114760057434],\n",
       " ['Georgia', 2.990114760057434],\n",
       " ['West Virginia', 2.990114760057434],\n",
       " ['South Carolina', 2.990114760057434],\n",
       " ['Tennessee', 2.990114760057434],\n",
       " ['Mississippi', 2.990114760057434],\n",
       " ['Wisconsin', 5.689142600619455],\n",
       " ['New Mexico', 5.689142600619455],\n",
       " ['North Dakota', 5.689142600619455],\n",
       " ['Nebraska', 5.689142600619455],\n",
       " ['Ohio', 5.689142600619455],\n",
       " ['Pennsylvania', 5.689142600619455],\n",
       " ['Indiana', 5.689142600619455],\n",
       " ['Iowa', 5.689142600619455],\n",
       " ['Arizona', 5.689142600619455],\n",
       " ['Maine', 5.689142600619455],\n",
       " ['Missouri', 5.689142600619455],\n",
       " ['Michigan', 5.689142600619455],\n",
       " ['Montana', 5.689142600619455],\n",
       " ['Kansas', 5.689142600619455],\n",
       " ['Oregon', 5.689142600619455],\n",
       " ['South Dakota', 5.689142600619455],\n",
       " ['Utah', 5.689142600619455],\n",
       " ['Florida', 3.3877002862540975],\n",
       " ['California', 3.3877002862540975],\n",
       " ['New York', 3.3877002862540975],\n",
       " ['Texas', 3.3877002862540975]]"
      ]
     },
     "execution_count": 111,
     "metadata": {},
     "output_type": "execute_result"
    }
   ],
   "source": [
    "trends"
   ]
  },
  {
   "cell_type": "markdown",
   "metadata": {},
   "source": [
    "#### Adjust for sensitivity to time-trends"
   ]
  },
  {
   "cell_type": "markdown",
   "metadata": {},
   "source": [
    "$$\\text{Margin}=X_i+Z_t+\\epsilon$$\n",
    "\n",
    "where $S_i$ are Pollster:State dummies. In a state with a time-dependent trend, you might write\n",
    "\n",
    "$$\\text{Margin}=X_i+m*Z_t$$\n",
    "\n",
    "where $m$ is a multiplier representing uncertainty in the time-trend parameter. Solving for $m$ gives\n",
    "\n",
    "$$m=\\text{Margin}-\\frac{X_i}{Z_t}$$"
   ]
  },
  {
   "cell_type": "code",
   "execution_count": 112,
   "metadata": {
    "collapsed": false
   },
   "outputs": [],
   "source": [
    "from statsmodels.formula.api import ols, wls"
   ]
  },
  {
   "cell_type": "code",
   "execution_count": 113,
   "metadata": {
    "collapsed": false
   },
   "outputs": [],
   "source": [
    "#pollster_state_dummy = state_data2012.groupby([\"Pollster\", \"State\"])[\"obama_spread\"].mean()\n",
    "#daily_dummy = state_data2012.groupby([\"poll_date\"])[\"obama_spread\"].mean()"
   ]
  },
  {
   "cell_type": "code",
   "execution_count": 114,
   "metadata": {
    "collapsed": false
   },
   "outputs": [],
   "source": [
    "state_data2012[\"pollster_state\"] = state_data2012[\"Pollster\"] + \"-\" + state_data2012[\"State\"]"
   ]
  },
  {
   "cell_type": "markdown",
   "metadata": {},
   "source": [
    "There's actually a bug in pandas when you merge on datetimes. In order to avoid it, we need to sort our data now and once again after we merge on dates."
   ]
  },
  {
   "cell_type": "code",
   "execution_count": 115,
   "metadata": {
    "collapsed": false
   },
   "outputs": [],
   "source": [
    "state_data2012.sort(columns=[\"pollster_state\", \"poll_date\"], inplace=True);"
   ]
  },
  {
   "cell_type": "code",
   "execution_count": 116,
   "metadata": {
    "collapsed": false
   },
   "outputs": [],
   "source": [
    "dummy_model = ols(\"obama_spread ~ C(pollster_state) + C(poll_date)\", data=state_data2012).fit()"
   ]
  },
  {
   "cell_type": "markdown",
   "metadata": {},
   "source": [
    "The base case is American Research Group-Colorado"
   ]
  },
  {
   "cell_type": "code",
   "execution_count": 117,
   "metadata": {
    "collapsed": false
   },
   "outputs": [
    {
     "data": {
      "text/plain": [
       "Pollster                   American Research Group\n",
       "State                                     Colorado\n",
       "MoE                                              4\n",
       "Obama (D)                                       49\n",
       "Romney (R)                                      47\n",
       "Sample                                         600\n",
       "Spread                                    Obama +2\n",
       "obama_spread                                     2\n",
       "poll_date                      2012-09-11 00:00:00\n",
       "Weight                                        0.65\n",
       "PIE                                           1.76\n",
       "ESS                                       173.0171\n",
       "MESS                                      173.0171\n",
       "time_weight                              0.6155722\n",
       "kmeans_labels                                    0\n",
       "pollster_state    American Research Group-Colorado\n",
       "Name: 168, dtype: object"
      ]
     },
     "execution_count": 117,
     "metadata": {},
     "output_type": "execute_result"
    }
   ],
   "source": [
    "state_data2012.irow(0)"
   ]
  },
  {
   "cell_type": "code",
   "execution_count": 118,
   "metadata": {
    "collapsed": false
   },
   "outputs": [],
   "source": [
    "pollster_state = state_data2012[\"pollster_state\"].unique()\n",
    "pollster_state.sort()\n",
    "pollster_state_params = dummy_model.params[1:len(pollster_state)] + dummy_model.params[0]\n",
    "intercept = dummy_model.params[0]\n",
    "X = pandas.DataFrame(zip(pollster_state, np.r_[intercept, pollster_state_params]), \n",
    "                     columns=[\"pollster_state\", \"X\"])"
   ]
  },
  {
   "cell_type": "code",
   "execution_count": 119,
   "metadata": {
    "collapsed": false
   },
   "outputs": [],
   "source": [
    "dates = state_data2012.poll_date.unique()\n",
    "dates.sort()\n",
    "dates_params = intercept + dummy_model.params[-len(dates):]\n",
    "Z = pandas.DataFrame(zip(dates, dates_params), columns=[\"poll_date\", \"Z\"])"
   ]
  },
  {
   "cell_type": "markdown",
   "metadata": {},
   "source": [
    "Drop the ones less than 1."
   ]
  },
  {
   "cell_type": "code",
   "execution_count": 120,
   "metadata": {
    "collapsed": false
   },
   "outputs": [],
   "source": [
    "Z = Z.ix[np.abs(Z.Z) > 1]"
   ]
  },
  {
   "cell_type": "code",
   "execution_count": 121,
   "metadata": {
    "collapsed": false
   },
   "outputs": [],
   "source": [
    "state_data2012 = state_data2012.merge(X, on=\"pollster_state\", sort=False)\n",
    "state_data2012 = state_data2012.merge(Z, on=\"poll_date\", sort=False)"
   ]
  },
  {
   "cell_type": "code",
   "execution_count": 122,
   "metadata": {
    "collapsed": false
   },
   "outputs": [],
   "source": [
    "state_data2012.sort(columns=[\"pollster_state\", \"poll_date\"], inplace=True);"
   ]
  },
  {
   "cell_type": "code",
   "execution_count": 123,
   "metadata": {
    "collapsed": false
   },
   "outputs": [],
   "source": [
    "state_data2012[\"m\"] = state_data2012[\"obama_spread\"].sub(state_data2012[\"X\"].div(state_data2012[\"Z\"]))"
   ]
  },
  {
   "cell_type": "code",
   "execution_count": 124,
   "metadata": {
    "collapsed": false
   },
   "outputs": [],
   "source": [
    "#m_dataframe.ix[m_dataframe.pollster_state == \"American Research Group-New Hampshire\"].values"
   ]
  },
  {
   "cell_type": "code",
   "execution_count": 125,
   "metadata": {
    "collapsed": false
   },
   "outputs": [],
   "source": [
    "m_dataframe = state_data2012[[\"State\", \"m\", \"poll_date\", \"Pollster\", \"pollster_state\"]]"
   ]
  },
  {
   "cell_type": "code",
   "execution_count": 126,
   "metadata": {
    "collapsed": false
   },
   "outputs": [
    {
     "data": {
      "text/plain": [
       "count    357.000000\n",
       "mean       3.364920\n",
       "std        9.414260\n",
       "min      -52.000000\n",
       "25%       -0.807689\n",
       "50%        2.696995\n",
       "75%        8.172477\n",
       "max       44.255926\n",
       "Name: m, dtype: float64"
      ]
     },
     "execution_count": 126,
     "metadata": {},
     "output_type": "execute_result"
    }
   ],
   "source": [
    "m_dataframe[\"m\"].describe()"
   ]
  },
  {
   "cell_type": "code",
   "execution_count": 127,
   "metadata": {
    "collapsed": false
   },
   "outputs": [],
   "source": [
    "m_size = m_dataframe.groupby(\"pollster_state\").size()"
   ]
  },
  {
   "cell_type": "code",
   "execution_count": 128,
   "metadata": {
    "collapsed": false
   },
   "outputs": [
    {
     "data": {
      "text/plain": [
       "pollster_state\n",
       "American Research Group-Colorado           1\n",
       "American Research Group-Florida            1\n",
       "American Research Group-Iowa               1\n",
       "American Research Group-Nevada             1\n",
       "American Research Group-New Hampshire      3\n",
       "American Research Group-North Carolina     1\n",
       "American Research Group-Ohio               1\n",
       "American Research Group-Virginia           1\n",
       "CNN / Opinion Research-Wisconsin           1\n",
       "Chicago Trib. / MarketShares-Illinois      1\n",
       "Columbus Dispatch (OH)-Ohio                2\n",
       "EPIC-MRA-Michigan                          8\n",
       "Fairleigh-Dickinson (NJ)-New Jersey        3\n",
       "Field Poll (CA)-California                 6\n",
       "Insider Advantage-Georgia                  2\n",
       "LA Times / Bloomberg-New Hampshire         1\n",
       "Marist (NY)-New York                       3\n",
       "Mason-Dixon-Florida                        3\n",
       "Mason-Dixon-Georgia                        1\n",
       "Mason-Dixon-New Hampshire                  1\n",
       "Mason-Dixon-North Dakota                   1\n",
       "Mason-Dixon-Utah                           1\n",
       "Mason-Dixon-Virginia                       1\n",
       "Mitchell-Michigan                          3\n",
       "Ohio Poll-Ohio                             2\n",
       "Public Policy Polling (PPP)-Arizona        7\n",
       "Public Policy Polling (PPP)-California     2\n",
       "Public Policy Polling (PPP)-Colorado       6\n",
       "Public Policy Polling (PPP)-Connecticut    3\n",
       "Public Policy Polling (PPP)-Florida        8\n",
       "                                          ..\n",
       "Rasmussen-Iowa                             3\n",
       "Rasmussen-Maine                            1\n",
       "Rasmussen-Massachusetts                    4\n",
       "Rasmussen-Michigan                         2\n",
       "Rasmussen-Missouri                         7\n",
       "Rasmussen-Montana                          5\n",
       "Rasmussen-Nebraska                         2\n",
       "Rasmussen-Nevada                           3\n",
       "Rasmussen-New Hampshire                    1\n",
       "Rasmussen-New Jersey                       1\n",
       "Rasmussen-New Mexico                       3\n",
       "Rasmussen-North Carolina                   4\n",
       "Rasmussen-North Dakota                     1\n",
       "Rasmussen-Ohio                             7\n",
       "Rasmussen-Pennsylvania                     4\n",
       "Rasmussen-Virginia                         5\n",
       "Rasmussen-Washington                       1\n",
       "Rasmussen-Wisconsin                        7\n",
       "Suffolk (NH/MA)-Florida                    2\n",
       "SurveyUSA-California                       4\n",
       "SurveyUSA-Florida                          2\n",
       "SurveyUSA-Georgia                          4\n",
       "SurveyUSA-Kansas                           2\n",
       "SurveyUSA-Michigan                         1\n",
       "SurveyUSA-New Jersey                       1\n",
       "SurveyUSA-New York                         1\n",
       "SurveyUSA-North Carolina                   2\n",
       "SurveyUSA-Oregon                           4\n",
       "SurveyUSA-Pennsylvania                     1\n",
       "SurveyUSA-Washington                       4\n",
       "dtype: int64"
      ]
     },
     "execution_count": 128,
     "metadata": {},
     "output_type": "execute_result"
    }
   ],
   "source": [
    "m_size"
   ]
  },
  {
   "cell_type": "code",
   "execution_count": 129,
   "metadata": {
    "collapsed": false
   },
   "outputs": [],
   "source": [
    "drop_idx = m_size.ix[m_size == 1]"
   ]
  },
  {
   "cell_type": "code",
   "execution_count": 130,
   "metadata": {
    "collapsed": false
   },
   "outputs": [],
   "source": [
    "m_dataframe = m_dataframe.set_index([\"pollster_state\", \"poll_date\"])"
   ]
  },
  {
   "cell_type": "code",
   "execution_count": 131,
   "metadata": {
    "collapsed": false
   },
   "outputs": [
    {
     "data": {
      "text/html": [
       "<div>\n",
       "<table border=\"1\" class=\"dataframe\">\n",
       "  <thead>\n",
       "    <tr style=\"text-align: right;\">\n",
       "      <th></th>\n",
       "      <th>State</th>\n",
       "      <th>m</th>\n",
       "      <th>Pollster</th>\n",
       "    </tr>\n",
       "    <tr>\n",
       "      <th>poll_date</th>\n",
       "      <th></th>\n",
       "      <th></th>\n",
       "      <th></th>\n",
       "    </tr>\n",
       "  </thead>\n",
       "  <tbody>\n",
       "    <tr>\n",
       "      <th>2012-03-17</th>\n",
       "      <td>New Hampshire</td>\n",
       "      <td>6.436534</td>\n",
       "      <td>American Research Group</td>\n",
       "    </tr>\n",
       "    <tr>\n",
       "      <th>2012-06-23</th>\n",
       "      <td>New Hampshire</td>\n",
       "      <td>0.071010</td>\n",
       "      <td>American Research Group</td>\n",
       "    </tr>\n",
       "    <tr>\n",
       "      <th>2012-09-26</th>\n",
       "      <td>New Hampshire</td>\n",
       "      <td>4.054884</td>\n",
       "      <td>American Research Group</td>\n",
       "    </tr>\n",
       "  </tbody>\n",
       "</table>\n",
       "</div>"
      ],
      "text/plain": [
       "                    State         m                 Pollster\n",
       "poll_date                                                   \n",
       "2012-03-17  New Hampshire  6.436534  American Research Group\n",
       "2012-06-23  New Hampshire  0.071010  American Research Group\n",
       "2012-09-26  New Hampshire  4.054884  American Research Group"
      ]
     },
     "execution_count": 131,
     "metadata": {},
     "output_type": "execute_result"
    }
   ],
   "source": [
    "m_dataframe.xs(\"American Research Group-New Hampshire\", level=0)"
   ]
  },
  {
   "cell_type": "code",
   "execution_count": 132,
   "metadata": {
    "collapsed": false
   },
   "outputs": [],
   "source": [
    "m_dataframe = m_dataframe.drop(drop_idx.index, level=0).reset_index()"
   ]
  },
  {
   "cell_type": "code",
   "execution_count": 204,
   "metadata": {
    "collapsed": false
   },
   "outputs": [
    {
     "data": {
      "text/html": [
       "<div>\n",
       "<table border=\"1\" class=\"dataframe\">\n",
       "  <thead>\n",
       "    <tr style=\"text-align: right;\">\n",
       "      <th></th>\n",
       "      <th>pollster_state</th>\n",
       "      <th>poll_date</th>\n",
       "      <th>State</th>\n",
       "      <th>m</th>\n",
       "      <th>Pollster</th>\n",
       "    </tr>\n",
       "  </thead>\n",
       "  <tbody>\n",
       "    <tr>\n",
       "      <th>0</th>\n",
       "      <td>American Research Group-New Hampshire</td>\n",
       "      <td>2012-03-17</td>\n",
       "      <td>New Hampshire</td>\n",
       "      <td>6.436534</td>\n",
       "      <td>American Research Group</td>\n",
       "    </tr>\n",
       "    <tr>\n",
       "      <th>1</th>\n",
       "      <td>American Research Group-New Hampshire</td>\n",
       "      <td>2012-06-23</td>\n",
       "      <td>New Hampshire</td>\n",
       "      <td>0.071010</td>\n",
       "      <td>American Research Group</td>\n",
       "    </tr>\n",
       "    <tr>\n",
       "      <th>2</th>\n",
       "      <td>American Research Group-New Hampshire</td>\n",
       "      <td>2012-09-26</td>\n",
       "      <td>New Hampshire</td>\n",
       "      <td>4.054884</td>\n",
       "      <td>American Research Group</td>\n",
       "    </tr>\n",
       "    <tr>\n",
       "      <th>3</th>\n",
       "      <td>Columbus Dispatch (OH)-Ohio</td>\n",
       "      <td>2012-08-20</td>\n",
       "      <td>Ohio</td>\n",
       "      <td>1.875520</td>\n",
       "      <td>Columbus Dispatch (OH)</td>\n",
       "    </tr>\n",
       "    <tr>\n",
       "      <th>4</th>\n",
       "      <td>Columbus Dispatch (OH)-Ohio</td>\n",
       "      <td>2012-09-24</td>\n",
       "      <td>Ohio</td>\n",
       "      <td>7.679307</td>\n",
       "      <td>Columbus Dispatch (OH)</td>\n",
       "    </tr>\n",
       "    <tr>\n",
       "      <th>5</th>\n",
       "      <td>EPIC-MRA-Michigan</td>\n",
       "      <td>2011-02-15</td>\n",
       "      <td>Michigan</td>\n",
       "      <td>-4.201071</td>\n",
       "      <td>EPIC-MRA</td>\n",
       "    </tr>\n",
       "    <tr>\n",
       "      <th>6</th>\n",
       "      <td>EPIC-MRA-Michigan</td>\n",
       "      <td>2011-07-10</td>\n",
       "      <td>Michigan</td>\n",
       "      <td>-3.096961</td>\n",
       "      <td>EPIC-MRA</td>\n",
       "    </tr>\n",
       "    <tr>\n",
       "      <th>7</th>\n",
       "      <td>EPIC-MRA-Michigan</td>\n",
       "      <td>2011-11-15</td>\n",
       "      <td>Michigan</td>\n",
       "      <td>-4.201071</td>\n",
       "      <td>EPIC-MRA</td>\n",
       "    </tr>\n",
       "    <tr>\n",
       "      <th>8</th>\n",
       "      <td>EPIC-MRA-Michigan</td>\n",
       "      <td>2012-01-23</td>\n",
       "      <td>Michigan</td>\n",
       "      <td>6.398112</td>\n",
       "      <td>EPIC-MRA</td>\n",
       "    </tr>\n",
       "    <tr>\n",
       "      <th>9</th>\n",
       "      <td>EPIC-MRA-Michigan</td>\n",
       "      <td>2012-04-02</td>\n",
       "      <td>Michigan</td>\n",
       "      <td>-0.219418</td>\n",
       "      <td>EPIC-MRA</td>\n",
       "    </tr>\n",
       "  </tbody>\n",
       "</table>\n",
       "</div>"
      ],
      "text/plain": [
       "                          pollster_state  poll_date          State         m  \\\n",
       "0  American Research Group-New Hampshire 2012-03-17  New Hampshire  6.436534   \n",
       "1  American Research Group-New Hampshire 2012-06-23  New Hampshire  0.071010   \n",
       "2  American Research Group-New Hampshire 2012-09-26  New Hampshire  4.054884   \n",
       "3            Columbus Dispatch (OH)-Ohio 2012-08-20           Ohio  1.875520   \n",
       "4            Columbus Dispatch (OH)-Ohio 2012-09-24           Ohio  7.679307   \n",
       "5                      EPIC-MRA-Michigan 2011-02-15       Michigan -4.201071   \n",
       "6                      EPIC-MRA-Michigan 2011-07-10       Michigan -3.096961   \n",
       "7                      EPIC-MRA-Michigan 2011-11-15       Michigan -4.201071   \n",
       "8                      EPIC-MRA-Michigan 2012-01-23       Michigan  6.398112   \n",
       "9                      EPIC-MRA-Michigan 2012-04-02       Michigan -0.219418   \n",
       "\n",
       "                  Pollster  \n",
       "0  American Research Group  \n",
       "1  American Research Group  \n",
       "2  American Research Group  \n",
       "3   Columbus Dispatch (OH)  \n",
       "4   Columbus Dispatch (OH)  \n",
       "5                 EPIC-MRA  \n",
       "6                 EPIC-MRA  \n",
       "7                 EPIC-MRA  \n",
       "8                 EPIC-MRA  \n",
       "9                 EPIC-MRA  "
      ]
     },
     "execution_count": 204,
     "metadata": {},
     "output_type": "execute_result"
    }
   ],
   "source": [
    "m_dataframe.head(10)"
   ]
  },
  {
   "cell_type": "code",
   "execution_count": 134,
   "metadata": {
    "collapsed": false
   },
   "outputs": [],
   "source": [
    "m_regression_data = m_dataframe.merge(demo_data, on=\"State\")"
   ]
  },
  {
   "cell_type": "code",
   "execution_count": 205,
   "metadata": {
    "collapsed": false
   },
   "outputs": [
    {
     "data": {
      "text/html": [
       "<div>\n",
       "<table border=\"1\" class=\"dataframe\">\n",
       "  <thead>\n",
       "    <tr style=\"text-align: right;\">\n",
       "      <th></th>\n",
       "      <th>pollster_state</th>\n",
       "      <th>poll_date</th>\n",
       "      <th>State</th>\n",
       "      <th>m</th>\n",
       "      <th>Pollster</th>\n",
       "      <th>per_black</th>\n",
       "      <th>per_hisp</th>\n",
       "      <th>per_white</th>\n",
       "      <th>educ_hs</th>\n",
       "      <th>educ_coll</th>\n",
       "      <th>...</th>\n",
       "      <th>older_pop</th>\n",
       "      <th>per_older</th>\n",
       "      <th>per_vote</th>\n",
       "      <th>dem_adv</th>\n",
       "      <th>no_party</th>\n",
       "      <th>PVI</th>\n",
       "      <th>obama_give</th>\n",
       "      <th>romney_give</th>\n",
       "      <th>kmeans_group</th>\n",
       "      <th>kmeans_labels</th>\n",
       "    </tr>\n",
       "  </thead>\n",
       "  <tbody>\n",
       "    <tr>\n",
       "      <th>0</th>\n",
       "      <td>American Research Group-New Hampshire</td>\n",
       "      <td>2012-03-17</td>\n",
       "      <td>New Hampshire</td>\n",
       "      <td>6.436534</td>\n",
       "      <td>American Research Group</td>\n",
       "      <td>1.3</td>\n",
       "      <td>2.9</td>\n",
       "      <td>92.2</td>\n",
       "      <td>90.9</td>\n",
       "      <td>32.9</td>\n",
       "      <td>...</td>\n",
       "      <td>184547.160</td>\n",
       "      <td>0.140</td>\n",
       "      <td>0.648</td>\n",
       "      <td>-1.5</td>\n",
       "      <td>13.9</td>\n",
       "      <td>2</td>\n",
       "      <td>0.961563</td>\n",
       "      <td>0.733997</td>\n",
       "      <td>4</td>\n",
       "      <td>0</td>\n",
       "    </tr>\n",
       "    <tr>\n",
       "      <th>1</th>\n",
       "      <td>American Research Group-New Hampshire</td>\n",
       "      <td>2012-06-23</td>\n",
       "      <td>New Hampshire</td>\n",
       "      <td>0.071010</td>\n",
       "      <td>American Research Group</td>\n",
       "      <td>1.3</td>\n",
       "      <td>2.9</td>\n",
       "      <td>92.2</td>\n",
       "      <td>90.9</td>\n",
       "      <td>32.9</td>\n",
       "      <td>...</td>\n",
       "      <td>184547.160</td>\n",
       "      <td>0.140</td>\n",
       "      <td>0.648</td>\n",
       "      <td>-1.5</td>\n",
       "      <td>13.9</td>\n",
       "      <td>2</td>\n",
       "      <td>0.961563</td>\n",
       "      <td>0.733997</td>\n",
       "      <td>4</td>\n",
       "      <td>0</td>\n",
       "    </tr>\n",
       "    <tr>\n",
       "      <th>2</th>\n",
       "      <td>American Research Group-New Hampshire</td>\n",
       "      <td>2012-09-26</td>\n",
       "      <td>New Hampshire</td>\n",
       "      <td>4.054884</td>\n",
       "      <td>American Research Group</td>\n",
       "      <td>1.3</td>\n",
       "      <td>2.9</td>\n",
       "      <td>92.2</td>\n",
       "      <td>90.9</td>\n",
       "      <td>32.9</td>\n",
       "      <td>...</td>\n",
       "      <td>184547.160</td>\n",
       "      <td>0.140</td>\n",
       "      <td>0.648</td>\n",
       "      <td>-1.5</td>\n",
       "      <td>13.9</td>\n",
       "      <td>2</td>\n",
       "      <td>0.961563</td>\n",
       "      <td>0.733997</td>\n",
       "      <td>4</td>\n",
       "      <td>0</td>\n",
       "    </tr>\n",
       "    <tr>\n",
       "      <th>3</th>\n",
       "      <td>Public Policy Polling (PPP)-New Hampshire</td>\n",
       "      <td>2011-04-02</td>\n",
       "      <td>New Hampshire</td>\n",
       "      <td>3.118546</td>\n",
       "      <td>Public Policy Polling (PPP)</td>\n",
       "      <td>1.3</td>\n",
       "      <td>2.9</td>\n",
       "      <td>92.2</td>\n",
       "      <td>90.9</td>\n",
       "      <td>32.9</td>\n",
       "      <td>...</td>\n",
       "      <td>184547.160</td>\n",
       "      <td>0.140</td>\n",
       "      <td>0.648</td>\n",
       "      <td>-1.5</td>\n",
       "      <td>13.9</td>\n",
       "      <td>2</td>\n",
       "      <td>0.961563</td>\n",
       "      <td>0.733997</td>\n",
       "      <td>4</td>\n",
       "      <td>0</td>\n",
       "    </tr>\n",
       "    <tr>\n",
       "      <th>4</th>\n",
       "      <td>Public Policy Polling (PPP)-New Hampshire</td>\n",
       "      <td>2011-07-03</td>\n",
       "      <td>New Hampshire</td>\n",
       "      <td>-0.240062</td>\n",
       "      <td>Public Policy Polling (PPP)</td>\n",
       "      <td>1.3</td>\n",
       "      <td>2.9</td>\n",
       "      <td>92.2</td>\n",
       "      <td>90.9</td>\n",
       "      <td>32.9</td>\n",
       "      <td>...</td>\n",
       "      <td>184547.160</td>\n",
       "      <td>0.140</td>\n",
       "      <td>0.648</td>\n",
       "      <td>-1.5</td>\n",
       "      <td>13.9</td>\n",
       "      <td>2</td>\n",
       "      <td>0.961563</td>\n",
       "      <td>0.733997</td>\n",
       "      <td>4</td>\n",
       "      <td>0</td>\n",
       "    </tr>\n",
       "    <tr>\n",
       "      <th>5</th>\n",
       "      <td>Public Policy Polling (PPP)-New Hampshire</td>\n",
       "      <td>2012-05-12</td>\n",
       "      <td>New Hampshire</td>\n",
       "      <td>10.469450</td>\n",
       "      <td>Public Policy Polling (PPP)</td>\n",
       "      <td>1.3</td>\n",
       "      <td>2.9</td>\n",
       "      <td>92.2</td>\n",
       "      <td>90.9</td>\n",
       "      <td>32.9</td>\n",
       "      <td>...</td>\n",
       "      <td>184547.160</td>\n",
       "      <td>0.140</td>\n",
       "      <td>0.648</td>\n",
       "      <td>-1.5</td>\n",
       "      <td>13.9</td>\n",
       "      <td>2</td>\n",
       "      <td>0.961563</td>\n",
       "      <td>0.733997</td>\n",
       "      <td>4</td>\n",
       "      <td>0</td>\n",
       "    </tr>\n",
       "    <tr>\n",
       "      <th>6</th>\n",
       "      <td>Columbus Dispatch (OH)-Ohio</td>\n",
       "      <td>2012-08-20</td>\n",
       "      <td>Ohio</td>\n",
       "      <td>1.875520</td>\n",
       "      <td>Columbus Dispatch (OH)</td>\n",
       "      <td>12.4</td>\n",
       "      <td>3.2</td>\n",
       "      <td>81.0</td>\n",
       "      <td>87.4</td>\n",
       "      <td>24.1</td>\n",
       "      <td>...</td>\n",
       "      <td>1650927.993</td>\n",
       "      <td>0.143</td>\n",
       "      <td>0.624</td>\n",
       "      <td>3.6</td>\n",
       "      <td>15.4</td>\n",
       "      <td>-1</td>\n",
       "      <td>0.377548</td>\n",
       "      <td>0.427662</td>\n",
       "      <td>0</td>\n",
       "      <td>3</td>\n",
       "    </tr>\n",
       "    <tr>\n",
       "      <th>7</th>\n",
       "      <td>Columbus Dispatch (OH)-Ohio</td>\n",
       "      <td>2012-09-24</td>\n",
       "      <td>Ohio</td>\n",
       "      <td>7.679307</td>\n",
       "      <td>Columbus Dispatch (OH)</td>\n",
       "      <td>12.4</td>\n",
       "      <td>3.2</td>\n",
       "      <td>81.0</td>\n",
       "      <td>87.4</td>\n",
       "      <td>24.1</td>\n",
       "      <td>...</td>\n",
       "      <td>1650927.993</td>\n",
       "      <td>0.143</td>\n",
       "      <td>0.624</td>\n",
       "      <td>3.6</td>\n",
       "      <td>15.4</td>\n",
       "      <td>-1</td>\n",
       "      <td>0.377548</td>\n",
       "      <td>0.427662</td>\n",
       "      <td>0</td>\n",
       "      <td>3</td>\n",
       "    </tr>\n",
       "    <tr>\n",
       "      <th>8</th>\n",
       "      <td>Ohio Poll-Ohio</td>\n",
       "      <td>2011-09-16</td>\n",
       "      <td>Ohio</td>\n",
       "      <td>4.166959</td>\n",
       "      <td>Ohio Poll</td>\n",
       "      <td>12.4</td>\n",
       "      <td>3.2</td>\n",
       "      <td>81.0</td>\n",
       "      <td>87.4</td>\n",
       "      <td>24.1</td>\n",
       "      <td>...</td>\n",
       "      <td>1650927.993</td>\n",
       "      <td>0.143</td>\n",
       "      <td>0.624</td>\n",
       "      <td>3.6</td>\n",
       "      <td>15.4</td>\n",
       "      <td>-1</td>\n",
       "      <td>0.377548</td>\n",
       "      <td>0.427662</td>\n",
       "      <td>0</td>\n",
       "      <td>3</td>\n",
       "    </tr>\n",
       "    <tr>\n",
       "      <th>9</th>\n",
       "      <td>Ohio Poll-Ohio</td>\n",
       "      <td>2012-08-19</td>\n",
       "      <td>Ohio</td>\n",
       "      <td>1.501578</td>\n",
       "      <td>Ohio Poll</td>\n",
       "      <td>12.4</td>\n",
       "      <td>3.2</td>\n",
       "      <td>81.0</td>\n",
       "      <td>87.4</td>\n",
       "      <td>24.1</td>\n",
       "      <td>...</td>\n",
       "      <td>1650927.993</td>\n",
       "      <td>0.143</td>\n",
       "      <td>0.624</td>\n",
       "      <td>3.6</td>\n",
       "      <td>15.4</td>\n",
       "      <td>-1</td>\n",
       "      <td>0.377548</td>\n",
       "      <td>0.427662</td>\n",
       "      <td>0</td>\n",
       "      <td>3</td>\n",
       "    </tr>\n",
       "  </tbody>\n",
       "</table>\n",
       "<p>10 rows × 24 columns</p>\n",
       "</div>"
      ],
      "text/plain": [
       "                              pollster_state  poll_date          State  \\\n",
       "0      American Research Group-New Hampshire 2012-03-17  New Hampshire   \n",
       "1      American Research Group-New Hampshire 2012-06-23  New Hampshire   \n",
       "2      American Research Group-New Hampshire 2012-09-26  New Hampshire   \n",
       "3  Public Policy Polling (PPP)-New Hampshire 2011-04-02  New Hampshire   \n",
       "4  Public Policy Polling (PPP)-New Hampshire 2011-07-03  New Hampshire   \n",
       "5  Public Policy Polling (PPP)-New Hampshire 2012-05-12  New Hampshire   \n",
       "6                Columbus Dispatch (OH)-Ohio 2012-08-20           Ohio   \n",
       "7                Columbus Dispatch (OH)-Ohio 2012-09-24           Ohio   \n",
       "8                             Ohio Poll-Ohio 2011-09-16           Ohio   \n",
       "9                             Ohio Poll-Ohio 2012-08-19           Ohio   \n",
       "\n",
       "           m                     Pollster  per_black  per_hisp  per_white  \\\n",
       "0   6.436534      American Research Group        1.3       2.9       92.2   \n",
       "1   0.071010      American Research Group        1.3       2.9       92.2   \n",
       "2   4.054884      American Research Group        1.3       2.9       92.2   \n",
       "3   3.118546  Public Policy Polling (PPP)        1.3       2.9       92.2   \n",
       "4  -0.240062  Public Policy Polling (PPP)        1.3       2.9       92.2   \n",
       "5  10.469450  Public Policy Polling (PPP)        1.3       2.9       92.2   \n",
       "6   1.875520       Columbus Dispatch (OH)       12.4       3.2       81.0   \n",
       "7   7.679307       Columbus Dispatch (OH)       12.4       3.2       81.0   \n",
       "8   4.166959                    Ohio Poll       12.4       3.2       81.0   \n",
       "9   1.501578                    Ohio Poll       12.4       3.2       81.0   \n",
       "\n",
       "   educ_hs  educ_coll      ...          older_pop  per_older  per_vote  \\\n",
       "0     90.9       32.9      ...         184547.160      0.140     0.648   \n",
       "1     90.9       32.9      ...         184547.160      0.140     0.648   \n",
       "2     90.9       32.9      ...         184547.160      0.140     0.648   \n",
       "3     90.9       32.9      ...         184547.160      0.140     0.648   \n",
       "4     90.9       32.9      ...         184547.160      0.140     0.648   \n",
       "5     90.9       32.9      ...         184547.160      0.140     0.648   \n",
       "6     87.4       24.1      ...        1650927.993      0.143     0.624   \n",
       "7     87.4       24.1      ...        1650927.993      0.143     0.624   \n",
       "8     87.4       24.1      ...        1650927.993      0.143     0.624   \n",
       "9     87.4       24.1      ...        1650927.993      0.143     0.624   \n",
       "\n",
       "   dem_adv  no_party  PVI  obama_give  romney_give  kmeans_group  \\\n",
       "0     -1.5      13.9    2    0.961563     0.733997             4   \n",
       "1     -1.5      13.9    2    0.961563     0.733997             4   \n",
       "2     -1.5      13.9    2    0.961563     0.733997             4   \n",
       "3     -1.5      13.9    2    0.961563     0.733997             4   \n",
       "4     -1.5      13.9    2    0.961563     0.733997             4   \n",
       "5     -1.5      13.9    2    0.961563     0.733997             4   \n",
       "6      3.6      15.4   -1    0.377548     0.427662             0   \n",
       "7      3.6      15.4   -1    0.377548     0.427662             0   \n",
       "8      3.6      15.4   -1    0.377548     0.427662             0   \n",
       "9      3.6      15.4   -1    0.377548     0.427662             0   \n",
       "\n",
       "   kmeans_labels  \n",
       "0              0  \n",
       "1              0  \n",
       "2              0  \n",
       "3              0  \n",
       "4              0  \n",
       "5              0  \n",
       "6              3  \n",
       "7              3  \n",
       "8              3  \n",
       "9              3  \n",
       "\n",
       "[10 rows x 24 columns]"
      ]
     },
     "execution_count": 205,
     "metadata": {},
     "output_type": "execute_result"
    }
   ],
   "source": [
    "m_regression_data.head(10)"
   ]
  },
  {
   "cell_type": "code",
   "execution_count": 136,
   "metadata": {
    "collapsed": false
   },
   "outputs": [
    {
     "data": {
      "text/html": [
       "<div>\n",
       "<table border=\"1\" class=\"dataframe\">\n",
       "  <thead>\n",
       "    <tr style=\"text-align: right;\">\n",
       "      <th></th>\n",
       "      <th>PVI</th>\n",
       "      <th>per_black</th>\n",
       "      <th>per_hisp</th>\n",
       "      <th>older_pop</th>\n",
       "      <th>average_income</th>\n",
       "      <th>romney_give</th>\n",
       "      <th>obama_give</th>\n",
       "      <th>educ_coll</th>\n",
       "      <th>educ_hs</th>\n",
       "    </tr>\n",
       "  </thead>\n",
       "  <tbody>\n",
       "    <tr>\n",
       "      <th>PVI</th>\n",
       "      <td>1.000000</td>\n",
       "      <td>-0.294799</td>\n",
       "      <td>0.116418</td>\n",
       "      <td>0.150510</td>\n",
       "      <td>0.595083</td>\n",
       "      <td>0.291997</td>\n",
       "      <td>0.669193</td>\n",
       "      <td>0.494291</td>\n",
       "      <td>0.225624</td>\n",
       "    </tr>\n",
       "    <tr>\n",
       "      <th>per_black</th>\n",
       "      <td>-0.294799</td>\n",
       "      <td>1.000000</td>\n",
       "      <td>-0.173355</td>\n",
       "      <td>0.278531</td>\n",
       "      <td>-0.064176</td>\n",
       "      <td>0.111333</td>\n",
       "      <td>-0.280984</td>\n",
       "      <td>-0.110643</td>\n",
       "      <td>-0.497133</td>\n",
       "    </tr>\n",
       "    <tr>\n",
       "      <th>per_hisp</th>\n",
       "      <td>0.116418</td>\n",
       "      <td>-0.173355</td>\n",
       "      <td>1.000000</td>\n",
       "      <td>0.403386</td>\n",
       "      <td>0.099982</td>\n",
       "      <td>0.289653</td>\n",
       "      <td>0.307853</td>\n",
       "      <td>0.113554</td>\n",
       "      <td>-0.564734</td>\n",
       "    </tr>\n",
       "    <tr>\n",
       "      <th>older_pop</th>\n",
       "      <td>0.150510</td>\n",
       "      <td>0.278531</td>\n",
       "      <td>0.403386</td>\n",
       "      <td>1.000000</td>\n",
       "      <td>0.023183</td>\n",
       "      <td>0.237119</td>\n",
       "      <td>-0.036660</td>\n",
       "      <td>-0.074438</td>\n",
       "      <td>-0.478205</td>\n",
       "    </tr>\n",
       "    <tr>\n",
       "      <th>average_income</th>\n",
       "      <td>0.595083</td>\n",
       "      <td>-0.064176</td>\n",
       "      <td>0.099982</td>\n",
       "      <td>0.023183</td>\n",
       "      <td>1.000000</td>\n",
       "      <td>0.717860</td>\n",
       "      <td>0.704609</td>\n",
       "      <td>0.888344</td>\n",
       "      <td>0.249691</td>\n",
       "    </tr>\n",
       "    <tr>\n",
       "      <th>romney_give</th>\n",
       "      <td>0.291997</td>\n",
       "      <td>0.111333</td>\n",
       "      <td>0.289653</td>\n",
       "      <td>0.237119</td>\n",
       "      <td>0.717860</td>\n",
       "      <td>1.000000</td>\n",
       "      <td>0.554900</td>\n",
       "      <td>0.630611</td>\n",
       "      <td>-0.024673</td>\n",
       "    </tr>\n",
       "    <tr>\n",
       "      <th>obama_give</th>\n",
       "      <td>0.669193</td>\n",
       "      <td>-0.280984</td>\n",
       "      <td>0.307853</td>\n",
       "      <td>-0.036660</td>\n",
       "      <td>0.704609</td>\n",
       "      <td>0.554900</td>\n",
       "      <td>1.000000</td>\n",
       "      <td>0.835424</td>\n",
       "      <td>0.084808</td>\n",
       "    </tr>\n",
       "    <tr>\n",
       "      <th>educ_coll</th>\n",
       "      <td>0.494291</td>\n",
       "      <td>-0.110643</td>\n",
       "      <td>0.113554</td>\n",
       "      <td>-0.074438</td>\n",
       "      <td>0.888344</td>\n",
       "      <td>0.630611</td>\n",
       "      <td>0.835424</td>\n",
       "      <td>1.000000</td>\n",
       "      <td>0.272766</td>\n",
       "    </tr>\n",
       "    <tr>\n",
       "      <th>educ_hs</th>\n",
       "      <td>0.225624</td>\n",
       "      <td>-0.497133</td>\n",
       "      <td>-0.564734</td>\n",
       "      <td>-0.478205</td>\n",
       "      <td>0.249691</td>\n",
       "      <td>-0.024673</td>\n",
       "      <td>0.084808</td>\n",
       "      <td>0.272766</td>\n",
       "      <td>1.000000</td>\n",
       "    </tr>\n",
       "  </tbody>\n",
       "</table>\n",
       "</div>"
      ],
      "text/plain": [
       "                     PVI  per_black  per_hisp  older_pop  average_income  \\\n",
       "PVI             1.000000  -0.294799  0.116418   0.150510        0.595083   \n",
       "per_black      -0.294799   1.000000 -0.173355   0.278531       -0.064176   \n",
       "per_hisp        0.116418  -0.173355  1.000000   0.403386        0.099982   \n",
       "older_pop       0.150510   0.278531  0.403386   1.000000        0.023183   \n",
       "average_income  0.595083  -0.064176  0.099982   0.023183        1.000000   \n",
       "romney_give     0.291997   0.111333  0.289653   0.237119        0.717860   \n",
       "obama_give      0.669193  -0.280984  0.307853  -0.036660        0.704609   \n",
       "educ_coll       0.494291  -0.110643  0.113554  -0.074438        0.888344   \n",
       "educ_hs         0.225624  -0.497133 -0.564734  -0.478205        0.249691   \n",
       "\n",
       "                romney_give  obama_give  educ_coll   educ_hs  \n",
       "PVI                0.291997    0.669193   0.494291  0.225624  \n",
       "per_black          0.111333   -0.280984  -0.110643 -0.497133  \n",
       "per_hisp           0.289653    0.307853   0.113554 -0.564734  \n",
       "older_pop          0.237119   -0.036660  -0.074438 -0.478205  \n",
       "average_income     0.717860    0.704609   0.888344  0.249691  \n",
       "romney_give        1.000000    0.554900   0.630611 -0.024673  \n",
       "obama_give         0.554900    1.000000   0.835424  0.084808  \n",
       "educ_coll          0.630611    0.835424   1.000000  0.272766  \n",
       "educ_hs           -0.024673    0.084808   0.272766  1.000000  "
      ]
     },
     "execution_count": 136,
     "metadata": {},
     "output_type": "execute_result"
    }
   ],
   "source": [
    "m_regression_data[[\"PVI\", \"per_black\", \"per_hisp\", \"older_pop\", \"average_income\", \n",
    "                   \"romney_give\", \"obama_give\", \"educ_coll\", \"educ_hs\"]].corr()"
   ]
  },
  {
   "cell_type": "code",
   "execution_count": 137,
   "metadata": {
    "collapsed": false
   },
   "outputs": [
    {
     "data": {
      "text/plain": [
       "0     199 days\n",
       "1     101 days\n",
       "2       6 days\n",
       "3     549 days\n",
       "4     457 days\n",
       "5     143 days\n",
       "6      43 days\n",
       "7       8 days\n",
       "8     382 days\n",
       "9      44 days\n",
       "10    570 days\n",
       "11    500 days\n",
       "12    353 days\n",
       "13    332 days\n",
       "14    247 days\n",
       "15    150 days\n",
       "16    101 days\n",
       "17     24 days\n",
       "18      3 days\n",
       "19    445 days\n",
       "20    375 days\n",
       "21    348 days\n",
       "22    333 days\n",
       "23    305 days\n",
       "24    263 days\n",
       "25    235 days\n",
       "26    193 days\n",
       "27    157 days\n",
       "28    150 days\n",
       "29    102 days\n",
       "        ...   \n",
       "291    56 days\n",
       "292    40 days\n",
       "293    19 days\n",
       "294   507 days\n",
       "295   227 days\n",
       "296   108 days\n",
       "297   315 days\n",
       "298   146 days\n",
       "299    61 days\n",
       "300    24 days\n",
       "301   254 days\n",
       "302    29 days\n",
       "303     1 days\n",
       "304   584 days\n",
       "305   500 days\n",
       "306   409 days\n",
       "307   220 days\n",
       "308    87 days\n",
       "309    13 days\n",
       "310   342 days\n",
       "311   218 days\n",
       "312   189 days\n",
       "313   146 days\n",
       "314   112 days\n",
       "315    69 days\n",
       "316    15 days\n",
       "317   211 days\n",
       "318   139 days\n",
       "319   327 days\n",
       "320   317 days\n",
       "Name: poll_date, dtype: timedelta64[ns]"
      ]
     },
     "execution_count": 137,
     "metadata": {},
     "output_type": "execute_result"
    }
   ],
   "source": [
    "(today - m_regression_data[\"poll_date\"].astype('O'))"
   ]
  },
  {
   "cell_type": "code",
   "execution_count": 138,
   "metadata": {
    "collapsed": false
   },
   "outputs": [],
   "source": [
    "time_weights = (today - m_regression_data[\"poll_date\"].astype('O')).apply(exp_decay)"
   ]
  },
  {
   "cell_type": "code",
   "execution_count": 139,
   "metadata": {
    "collapsed": false
   },
   "outputs": [
    {
     "data": {
      "text/html": [
       "<table class=\"simpletable\">\n",
       "<caption>WLS Regression Results</caption>\n",
       "<tr>\n",
       "  <th>Dep. Variable:</th>            <td>m</td>        <th>  R-squared:         </th> <td>   0.705</td>\n",
       "</tr>\n",
       "<tr>\n",
       "  <th>Model:</th>                   <td>WLS</td>       <th>  Adj. R-squared:    </th> <td>   0.700</td>\n",
       "</tr>\n",
       "<tr>\n",
       "  <th>Method:</th>             <td>Least Squares</td>  <th>  F-statistic:       </th> <td>   150.4</td>\n",
       "</tr>\n",
       "<tr>\n",
       "  <th>Date:</th>             <td>Tue, 24 May 2016</td> <th>  Prob (F-statistic):</th> <td>3.09e-81</td>\n",
       "</tr>\n",
       "<tr>\n",
       "  <th>Time:</th>                 <td>22:44:53</td>     <th>  Log-Likelihood:    </th> <td> -1457.5</td>\n",
       "</tr>\n",
       "<tr>\n",
       "  <th>No. Observations:</th>      <td>   321</td>      <th>  AIC:               </th> <td>   2927.</td>\n",
       "</tr>\n",
       "<tr>\n",
       "  <th>Df Residuals:</th>          <td>   315</td>      <th>  BIC:               </th> <td>   2950.</td>\n",
       "</tr>\n",
       "<tr>\n",
       "  <th>Df Model:</th>              <td>     5</td>      <th>                     </th>     <td> </td>   \n",
       "</tr>\n",
       "<tr>\n",
       "  <th>Covariance Type:</th>      <td>nonrobust</td>    <th>                     </th>     <td> </td>   \n",
       "</tr>\n",
       "</table>\n",
       "<table class=\"simpletable\">\n",
       "<tr>\n",
       "         <td></td>           <th>coef</th>     <th>std err</th>      <th>t</th>      <th>P>|t|</th> <th>[95.0% Conf. Int.]</th> \n",
       "</tr>\n",
       "<tr>\n",
       "  <th>Intercept</th>      <td>    4.4405</td> <td>    2.504</td> <td>    1.773</td> <td> 0.077</td> <td>   -0.486     9.367</td>\n",
       "</tr>\n",
       "<tr>\n",
       "  <th>PVI</th>            <td>    1.5550</td> <td>    0.076</td> <td>   20.571</td> <td> 0.000</td> <td>    1.406     1.704</td>\n",
       "</tr>\n",
       "<tr>\n",
       "  <th>per_hisp</th>       <td>    0.1687</td> <td>    0.023</td> <td>    7.422</td> <td> 0.000</td> <td>    0.124     0.213</td>\n",
       "</tr>\n",
       "<tr>\n",
       "  <th>per_black</th>      <td>    0.1975</td> <td>    0.040</td> <td>    4.958</td> <td> 0.000</td> <td>    0.119     0.276</td>\n",
       "</tr>\n",
       "<tr>\n",
       "  <th>average_income</th> <td>   -0.0003</td> <td>    0.000</td> <td>   -1.807</td> <td> 0.072</td> <td>   -0.001  2.64e-05</td>\n",
       "</tr>\n",
       "<tr>\n",
       "  <th>educ_coll</th>      <td>    0.0594</td> <td>    0.121</td> <td>    0.491</td> <td> 0.624</td> <td>   -0.179     0.298</td>\n",
       "</tr>\n",
       "</table>\n",
       "<table class=\"simpletable\">\n",
       "<tr>\n",
       "  <th>Omnibus:</th>       <td>110.772</td> <th>  Durbin-Watson:     </th> <td>   1.687</td> \n",
       "</tr>\n",
       "<tr>\n",
       "  <th>Prob(Omnibus):</th> <td> 0.000</td>  <th>  Jarque-Bera (JB):  </th> <td>1222.490</td> \n",
       "</tr>\n",
       "<tr>\n",
       "  <th>Skew:</th>          <td>-1.077</td>  <th>  Prob(JB):          </th> <td>3.47e-266</td>\n",
       "</tr>\n",
       "<tr>\n",
       "  <th>Kurtosis:</th>      <td>12.315</td>  <th>  Cond. No.          </th> <td>2.71e+05</td> \n",
       "</tr>\n",
       "</table>"
      ],
      "text/plain": [
       "<class 'statsmodels.iolib.summary.Summary'>\n",
       "\"\"\"\n",
       "                            WLS Regression Results                            \n",
       "==============================================================================\n",
       "Dep. Variable:                      m   R-squared:                       0.705\n",
       "Model:                            WLS   Adj. R-squared:                  0.700\n",
       "Method:                 Least Squares   F-statistic:                     150.4\n",
       "Date:                Tue, 24 May 2016   Prob (F-statistic):           3.09e-81\n",
       "Time:                        22:44:53   Log-Likelihood:                -1457.5\n",
       "No. Observations:                 321   AIC:                             2927.\n",
       "Df Residuals:                     315   BIC:                             2950.\n",
       "Df Model:                           5                                         \n",
       "Covariance Type:            nonrobust                                         \n",
       "==================================================================================\n",
       "                     coef    std err          t      P>|t|      [95.0% Conf. Int.]\n",
       "----------------------------------------------------------------------------------\n",
       "Intercept          4.4405      2.504      1.773      0.077        -0.486     9.367\n",
       "PVI                1.5550      0.076     20.571      0.000         1.406     1.704\n",
       "per_hisp           0.1687      0.023      7.422      0.000         0.124     0.213\n",
       "per_black          0.1975      0.040      4.958      0.000         0.119     0.276\n",
       "average_income    -0.0003      0.000     -1.807      0.072        -0.001  2.64e-05\n",
       "educ_coll          0.0594      0.121      0.491      0.624        -0.179     0.298\n",
       "==============================================================================\n",
       "Omnibus:                      110.772   Durbin-Watson:                   1.687\n",
       "Prob(Omnibus):                  0.000   Jarque-Bera (JB):             1222.490\n",
       "Skew:                          -1.077   Prob(JB):                    3.47e-266\n",
       "Kurtosis:                      12.315   Cond. No.                     2.71e+05\n",
       "==============================================================================\n",
       "\n",
       "Warnings:\n",
       "[1] Standard Errors assume that the covariance matrix of the errors is correctly specified.\n",
       "[2] The condition number is large, 2.71e+05. This might indicate that there are\n",
       "strong multicollinearity or other numerical problems.\n",
       "\"\"\""
      ]
     },
     "execution_count": 139,
     "metadata": {},
     "output_type": "execute_result"
    }
   ],
   "source": [
    "m_model = wls(\"m ~ PVI + per_hisp + per_black + average_income + educ_coll\", data=m_regression_data, weights=time_weights).fit()\n",
    "m_model.summary()"
   ]
  },
  {
   "cell_type": "code",
   "execution_count": 140,
   "metadata": {
    "collapsed": false
   },
   "outputs": [],
   "source": [
    "state_resid = pandas.DataFrame(zip(m_model.resid, m_regression_data.State), \n",
    "                               columns=[\"resid\", \"State\"])"
   ]
  },
  {
   "cell_type": "code",
   "execution_count": 141,
   "metadata": {
    "collapsed": false
   },
   "outputs": [],
   "source": [
    "state_resid_group = state_resid.groupby(\"State\")"
   ]
  },
  {
   "cell_type": "code",
   "execution_count": 142,
   "metadata": {
    "collapsed": false
   },
   "outputs": [
    {
     "data": {
      "image/png": "[encoded data removed]",
      "text/plain": [
       "<matplotlib.figure.Figure at 0x102211a90>"
      ]
     },
     "metadata": {},
     "output_type": "display_data"
    }
   ],
   "source": [
    "fig, axes = plt.subplots(figsize=(12,8), subplot_kw={\"ylabel\" : \"Residual\",\n",
    "                                                     \"xlabel\" : \"State\"})\n",
    "i = 0\n",
    "for state, group in state_resid_group:\n",
    "    x = [i] * len(group)\n",
    "    axes.scatter(x, group[\"resid\"], s=91)\n",
    "    i += 1\n",
    "states = m_regression_data.State.unique()\n",
    "states.sort()\n",
    "#axes.xaxis.get_major_locator().set_params(nbins=len(states))\n",
    "axes.margins(.05, .05)\n",
    "axes.xaxis.set_ticks(range(31))\n",
    "axes.xaxis.set_ticklabels(states);\n",
    "for label in axes.xaxis.get_ticklabels():\n",
    "    label.set_rotation(90)\n",
    "    label.set_fontsize('large')"
   ]
  },
  {
   "cell_type": "code",
   "execution_count": 143,
   "metadata": {
    "collapsed": false
   },
   "outputs": [],
   "source": [
    "demo_data = demo_data.drop(demo_data.index[demo_data['State'] == 'District of Columbia'])\n",
    "demo_data.reset_index(drop=True, inplace=True);"
   ]
  },
  {
   "cell_type": "code",
   "execution_count": 144,
   "metadata": {
    "collapsed": false
   },
   "outputs": [
    {
     "name": "stderr",
     "output_type": "stream",
     "text": [
      "/anaconda/envs/pydata/lib/python2.7/site-packages/ipykernel/__main__.py:2: SettingWithCopyWarning: \n",
      "A value is trying to be set on a copy of a slice from a DataFrame.\n",
      "Try using .loc[row_indexer,col_indexer] = value instead\n",
      "\n",
      "See the the caveats in the documentation: http://pandas.pydata.org/pandas-docs/stable/indexing.html#indexing-view-versus-copy\n",
      "  from ipykernel import kernelapp as app\n"
     ]
    }
   ],
   "source": [
    "exog = demo_data[[\"PVI\", \"per_hisp\", \"per_black\", \"average_income\", \"educ_coll\"]]\n",
    "exog[\"const\"] = 1"
   ]
  },
  {
   "cell_type": "code",
   "execution_count": 145,
   "metadata": {
    "collapsed": false
   },
   "outputs": [],
   "source": [
    "state_m = m_model.predict(exog)"
   ]
  },
  {
   "cell_type": "code",
   "execution_count": 146,
   "metadata": {
    "collapsed": false
   },
   "outputs": [
    {
     "data": {
      "text/plain": [
       "array([-15.4217, -21.6313,  -5.0082, -10.561 ,  16.1516,   1.9687,\n",
       "        10.9842,  14.074 ,   2.0836,  -4.6565,  18.1919, -25.1584,\n",
       "        15.7641,  -7.8211,   1.3951, -17.1674, -14.4888,  -9.6044,\n",
       "         6.7223,  17.5189,  18.47  ,   8.243 ,   2.4987,  -8.0447,\n",
       "        -3.1677, -11.2639, -19.1112,   5.3443,   0.8928,   8.2712,\n",
       "        10.5977,  19.1728,  -1.8028, -16.6034,  -0.1732, -24.4563,\n",
       "         6.9845,   4.29  ,  18.3768,  -7.1117, -14.4658, -11.14  ,\n",
       "        -8.1462, -29.3198,  18.9368,  -0.9413,   7.9092, -12.3842,\n",
       "         3.4667, -31.8014])"
      ]
     },
     "execution_count": 146,
     "metadata": {},
     "output_type": "execute_result"
    }
   ],
   "source": [
    "state_m"
   ]
  },
  {
   "cell_type": "code",
   "execution_count": 147,
   "metadata": {
    "collapsed": false
   },
   "outputs": [],
   "source": [
    "unit_m = (state_m - state_m.min())/(state_m.max() - state_m.min())"
   ]
  },
  {
   "cell_type": "code",
   "execution_count": 148,
   "metadata": {
    "collapsed": false
   },
   "outputs": [],
   "source": [
    "unit_m *= 2"
   ]
  },
  {
   "cell_type": "code",
   "execution_count": 149,
   "metadata": {
    "collapsed": false
   },
   "outputs": [],
   "source": [
    "m_correction = zip(demo_data.State, unit_m)"
   ]
  },
  {
   "cell_type": "code",
   "execution_count": 150,
   "metadata": {
    "collapsed": false
   },
   "outputs": [
    {
     "data": {
      "image/png": "[encoded data removed]",
      "text/plain": [
       "<matplotlib.figure.Figure at 0x112691490>"
      ]
     },
     "metadata": {},
     "output_type": "display_data"
    }
   ],
   "source": [
    "fig, axes = plt.subplots(figsize=(12,8), subplot_kw={\"ylabel\" : \"Time Uncertainty\",\n",
    "                                                     \"xlabel\" : \"State\"})\n",
    "\n",
    "axes.scatter(range(len(unit_m)), unit_m, s=91)\n",
    "\n",
    "axes.margins(.05, .05)\n",
    "axes.xaxis.set_ticks(range(len(unit_m)))\n",
    "axes.xaxis.set_ticklabels(demo_data.State);\n",
    "for label in axes.xaxis.get_ticklabels():\n",
    "    label.set_rotation(90)\n",
    "    label.set_fontsize('large')"
   ]
  },
  {
   "cell_type": "code",
   "execution_count": 151,
   "metadata": {
    "collapsed": false
   },
   "outputs": [
    {
     "data": {
      "text/plain": [
       "[('Alabama', 0.64266809431773342),\n",
       " ('Alaska', 0.39903009038644149),\n",
       " ('Arizona', 1.0512469226033543),\n",
       " ('Arkansas', 0.83337963581140184),\n",
       " ('California', 1.8814623532136792),\n",
       " ('Colorado', 1.3249882703341103),\n",
       " ('Connecticut', 1.6787175119991453),\n",
       " ('Delaware', 1.7999466163747961),\n",
       " ('Florida', 1.3294994223426786),\n",
       " ('Georgia', 1.0650469049673186),\n",
       " ('Hawaii', 1.9615175450935425),\n",
       " ('Idaho', 0.26064183981632583),\n",
       " ('Illinois', 1.8662598338917504),\n",
       " ('Indiana', 0.94088023761210882),\n",
       " ('Iowa', 1.3024853082050096),\n",
       " ('Kansas', 0.57417594043008591),\n",
       " ('Kentucky', 0.67927212280314431),\n",
       " ('Louisiana', 0.87091088640011094),\n",
       " ('Maine', 1.5115003017124353),\n",
       " ('Maryland', 1.9351096983106113),\n",
       " ('Massachusetts', 1.9724278597735232),\n",
       " ('Michigan', 1.5711658872393777),\n",
       " ('Minnesota', 1.3457855871862934),\n",
       " ('Mississippi', 0.93210857837487238),\n",
       " ('Missouri', 1.1234597785092251),\n",
       " ('Montana', 0.80580138724825001),\n",
       " ('Nebraska', 0.49790708186787702),\n",
       " ('Nevada', 1.4574319092076853),\n",
       " ('New Hampshire', 1.282774139646089),\n",
       " ('New Jersey', 1.5722723314665354),\n",
       " ('New Mexico', 1.6635531253593678),\n",
       " ('New York', 2.0),\n",
       " ('North Carolina', 1.1770116288991364),\n",
       " ('North Dakota', 0.59630134352742381),\n",
       " ('Ohio', 1.2409505020643312),\n",
       " ('Oklahoma', 0.28819001562207225),\n",
       " ('Oregon', 1.5217875821850322),\n",
       " ('Pennsylvania', 1.4160660286631392),\n",
       " ('Rhode Island', 1.9687713407242826),\n",
       " ('South Carolina', 0.96871534442526586),\n",
       " ('South Dakota', 0.68017110979694684),\n",
       " ('Tennessee', 0.810661554798627),\n",
       " ('Texas', 0.92812466205019539),\n",
       " ('Utah', 0.097369058861893648),\n",
       " ('Vermont', 1.9907421659897),\n",
       " ('Virginia', 1.2108135939642675),\n",
       " ('Washington', 1.5580686388761644),\n",
       " ('West Virginia', 0.76184689415056239),\n",
       " ('Wisconsin', 1.3837649018595504),\n",
       " ('Wyoming', 0.0)]"
      ]
     },
     "execution_count": 151,
     "metadata": {},
     "output_type": "execute_result"
    }
   ],
   "source": [
    "m_correction"
   ]
  },
  {
   "cell_type": "code",
   "execution_count": 152,
   "metadata": {
    "collapsed": false
   },
   "outputs": [],
   "source": [
    "trends = pandas.DataFrame(trends, columns=[\"State\", \"trend\"])\n",
    "m_correction = pandas.DataFrame(m_correction, columns=[\"State\", \"m_correction\"])"
   ]
  },
  {
   "cell_type": "code",
   "execution_count": 153,
   "metadata": {
    "collapsed": false
   },
   "outputs": [],
   "source": [
    "trends = trends.merge(m_correction, on=\"State\")"
   ]
  },
  {
   "cell_type": "code",
   "execution_count": 154,
   "metadata": {
    "collapsed": false
   },
   "outputs": [],
   "source": [
    "trends.set_index(\"State\", inplace=True)"
   ]
  },
  {
   "cell_type": "code",
   "execution_count": 155,
   "metadata": {
    "collapsed": false
   },
   "outputs": [],
   "source": [
    "trends = trends.product(axis=1)"
   ]
  },
  {
   "cell_type": "markdown",
   "metadata": {},
   "source": [
    "### Snapshot: Combine Trend Estimates and State Polls"
   ]
  },
  {
   "cell_type": "code",
   "execution_count": 156,
   "metadata": {
    "collapsed": false
   },
   "outputs": [
    {
     "data": {
      "text/plain": [
       "State  Pollster                    \n",
       "AZ     Public Policy Polling (PPP)     -9.168494\n",
       "       Rasmussen                      -10.209446\n",
       "CA     Field Poll (CA)                 23.343924\n",
       "       Public Policy Polling (PPP)     20.999075\n",
       "       Rasmussen                       22.000000\n",
       "       SurveyUSA                       22.123414\n",
       "CO     American Research Group          2.000000\n",
       "       Public Policy Polling (PPP)      5.469907\n",
       "       Rasmussen                       -1.573788\n",
       "CT     Public Policy Polling (PPP)     12.757757\n",
       "       Quinnipiac                       7.293983\n",
       "       Rasmussen                        8.000000\n",
       "FL     American Research Group          5.000000\n",
       "       Mason-Dixon                     -3.543178\n",
       "       Public Policy Polling (PPP)      3.125154\n",
       "       Quinnipiac                       3.075653\n",
       "       Rasmussen                        0.882884\n",
       "       Suffolk (NH/MA)                 -0.003377\n",
       "       SurveyUSA                        4.168952\n",
       "GA     Insider Advantage              -19.174054\n",
       "       Mason-Dixon                    -17.000000\n",
       "       Public Policy Polling (PPP)     -3.000000\n",
       "       SurveyUSA                       -7.983856\n",
       "HI     Public Policy Polling (PPP)     27.000000\n",
       "IA     American Research Group          7.000000\n",
       "       Mason-Dixon                     -3.000000\n",
       "       Public Policy Polling (PPP)      5.878693\n",
       "       Rasmussen                       -2.749416\n",
       "IL     Chicago Trib. / MarketShares    21.000000\n",
       "IN     Rasmussen                      -16.000000\n",
       "                                         ...    \n",
       "OH     Ohio Poll                        3.000406\n",
       "       Public Policy Polling (PPP)      4.141640\n",
       "       Quinnipiac                       7.729397\n",
       "       Rasmussen                        0.865613\n",
       "OR     Public Policy Polling (PPP)      9.130153\n",
       "       SurveyUSA                        8.675504\n",
       "PA     Public Policy Polling (PPP)      6.160027\n",
       "       Quinnipiac                       6.047221\n",
       "       Rasmussen                       10.874768\n",
       "       SurveyUSA                        0.000000\n",
       "RI     Public Policy Polling (PPP)     17.000000\n",
       "SC     Public Policy Polling (PPP)    -14.558484\n",
       "SD     Public Policy Polling (PPP)     -6.000000\n",
       "TN     Public Policy Polling (PPP)     -7.000000\n",
       "TX     Public Policy Polling (PPP)     -6.998595\n",
       "UT     Mason-Dixon                    -51.000000\n",
       "       Public Policy Polling (PPP)    -32.000000\n",
       "VA     American Research Group          2.000000\n",
       "       Mason-Dixon                      1.000000\n",
       "       Public Policy Polling (PPP)      5.095802\n",
       "       Quinnipiac                       0.578138\n",
       "       Rasmussen                        0.891780\n",
       "VT     Public Policy Polling (PPP)     20.000000\n",
       "WA     Public Policy Polling (PPP)     13.050886\n",
       "       Rasmussen                       11.000000\n",
       "       SurveyUSA                       15.310208\n",
       "WI     CNN / Opinion Research           4.000000\n",
       "       Public Policy Polling (PPP)      5.392554\n",
       "       Rasmussen                        2.116005\n",
       "WV     Public Policy Polling (PPP)    -19.756631\n",
       "Name: poll, dtype: float64"
      ]
     },
     "execution_count": 156,
     "metadata": {},
     "output_type": "execute_result"
    }
   ],
   "source": [
    "state_polls.name = \"poll\"\n",
    "state_polls"
   ]
  },
  {
   "cell_type": "code",
   "execution_count": 157,
   "metadata": {
    "collapsed": false
   },
   "outputs": [],
   "source": [
    "state_polls = state_polls.reset_index()\n",
    "state_polls.State = state_polls.State.replace(states_abbrev_dict)"
   ]
  },
  {
   "cell_type": "code",
   "execution_count": 158,
   "metadata": {
    "collapsed": false
   },
   "outputs": [
    {
     "data": {
      "text/plain": [
       "State\n",
       "Washington        7.030956\n",
       "New Hampshire     5.788660\n",
       "New Jersey        7.095052\n",
       "Nevada            6.576822\n",
       "Colorado          5.979155\n",
       "Connecticut       7.575398\n",
       "Virginia          5.463930\n",
       "Massachusetts     8.900798\n",
       "Rhode Island      8.884297\n",
       "Hawaii            8.851564\n",
       "Vermont           8.983443\n",
       "Maryland          8.732396\n",
       "Minnesota         6.073006\n",
       "Illinois          8.421703\n",
       "North Carolina    3.519400\n",
       "Georgia           3.184612\n",
       "West Virginia     2.278010\n",
       "South Carolina    2.896570\n",
       "Tennessee         2.423971\n",
       "Mississippi       2.787112\n",
       "Wisconsin         7.872436\n",
       "New Mexico        9.464191\n",
       "North Dakota      3.392443\n",
       "Nebraska          2.832664\n",
       "Ohio              7.059944\n",
       "Pennsylvania      8.056202\n",
       "Indiana           5.352802\n",
       "Iowa              7.410025\n",
       "Arizona           5.980694\n",
       "Maine             8.599141\n",
       "Missouri          6.391523\n",
       "Michigan          8.938587\n",
       "Montana           4.584319\n",
       "Kansas            3.266569\n",
       "Oregon            8.657667\n",
       "South Dakota      3.869590\n",
       "Utah              0.553946\n",
       "Florida           4.503946\n",
       "California        6.373831\n",
       "New York          6.775401\n",
       "Texas             3.144208\n",
       "Name: poll, dtype: float64"
      ]
     },
     "execution_count": 158,
     "metadata": {},
     "output_type": "execute_result"
    }
   ],
   "source": [
    "trends.name = \"poll\"\n",
    "trends"
   ]
  },
  {
   "cell_type": "code",
   "execution_count": 159,
   "metadata": {
    "collapsed": false
   },
   "outputs": [],
   "source": [
    "trends = trends.reset_index()\n",
    "trends[\"Pollster\"] = \"National\""
   ]
  },
  {
   "cell_type": "code",
   "execution_count": 206,
   "metadata": {
    "collapsed": false
   },
   "outputs": [
    {
     "data": {
      "text/html": [
       "<div>\n",
       "<table border=\"1\" class=\"dataframe\">\n",
       "  <thead>\n",
       "    <tr style=\"text-align: right;\">\n",
       "      <th></th>\n",
       "      <th>State</th>\n",
       "      <th>poll</th>\n",
       "      <th>Pollster</th>\n",
       "    </tr>\n",
       "  </thead>\n",
       "  <tbody>\n",
       "    <tr>\n",
       "      <th>0</th>\n",
       "      <td>Washington</td>\n",
       "      <td>7.030956</td>\n",
       "      <td>National</td>\n",
       "    </tr>\n",
       "    <tr>\n",
       "      <th>1</th>\n",
       "      <td>New Hampshire</td>\n",
       "      <td>5.788660</td>\n",
       "      <td>National</td>\n",
       "    </tr>\n",
       "    <tr>\n",
       "      <th>2</th>\n",
       "      <td>New Jersey</td>\n",
       "      <td>7.095052</td>\n",
       "      <td>National</td>\n",
       "    </tr>\n",
       "    <tr>\n",
       "      <th>3</th>\n",
       "      <td>Nevada</td>\n",
       "      <td>6.576822</td>\n",
       "      <td>National</td>\n",
       "    </tr>\n",
       "    <tr>\n",
       "      <th>4</th>\n",
       "      <td>Colorado</td>\n",
       "      <td>5.979155</td>\n",
       "      <td>National</td>\n",
       "    </tr>\n",
       "  </tbody>\n",
       "</table>\n",
       "</div>"
      ],
      "text/plain": [
       "           State      poll  Pollster\n",
       "0     Washington  7.030956  National\n",
       "1  New Hampshire  5.788660  National\n",
       "2     New Jersey  7.095052  National\n",
       "3         Nevada  6.576822  National\n",
       "4       Colorado  5.979155  National"
      ]
     },
     "execution_count": 206,
     "metadata": {},
     "output_type": "execute_result"
    }
   ],
   "source": [
    "trends.head()"
   ]
  },
  {
   "cell_type": "code",
   "execution_count": 161,
   "metadata": {
    "collapsed": false
   },
   "outputs": [],
   "source": [
    "polls = pandas.concat((state_polls, trends))"
   ]
  },
  {
   "cell_type": "code",
   "execution_count": 207,
   "metadata": {
    "collapsed": false
   },
   "outputs": [
    {
     "data": {
      "text/html": [
       "<div>\n",
       "<table border=\"1\" class=\"dataframe\">\n",
       "  <thead>\n",
       "    <tr style=\"text-align: right;\">\n",
       "      <th></th>\n",
       "      <th>Pollster</th>\n",
       "      <th>Weight</th>\n",
       "      <th>PIE</th>\n",
       "    </tr>\n",
       "  </thead>\n",
       "  <tbody>\n",
       "    <tr>\n",
       "      <th>0</th>\n",
       "      <td>ABC / Washington Post</td>\n",
       "      <td>0.95</td>\n",
       "      <td>1.41</td>\n",
       "    </tr>\n",
       "    <tr>\n",
       "      <th>1</th>\n",
       "      <td>American Research Group</td>\n",
       "      <td>0.65</td>\n",
       "      <td>1.76</td>\n",
       "    </tr>\n",
       "    <tr>\n",
       "      <th>2</th>\n",
       "      <td>CBS / New York Times</td>\n",
       "      <td>0.66</td>\n",
       "      <td>1.84</td>\n",
       "    </tr>\n",
       "    <tr>\n",
       "      <th>3</th>\n",
       "      <td>Chicago Trib. / MarketShares</td>\n",
       "      <td>1.16</td>\n",
       "      <td>1.13</td>\n",
       "    </tr>\n",
       "    <tr>\n",
       "      <th>4</th>\n",
       "      <td>CNN / Opinion Research</td>\n",
       "      <td>0.77</td>\n",
       "      <td>1.59</td>\n",
       "    </tr>\n",
       "    <tr>\n",
       "      <th>5</th>\n",
       "      <td>Columbus Dispatch (OH)</td>\n",
       "      <td>0.50</td>\n",
       "      <td>6.76</td>\n",
       "    </tr>\n",
       "    <tr>\n",
       "      <th>6</th>\n",
       "      <td>EPIC-MRA</td>\n",
       "      <td>0.75</td>\n",
       "      <td>1.65</td>\n",
       "    </tr>\n",
       "    <tr>\n",
       "      <th>7</th>\n",
       "      <td>Fairleigh-Dickinson (NJ)</td>\n",
       "      <td>0.71</td>\n",
       "      <td>1.72</td>\n",
       "    </tr>\n",
       "    <tr>\n",
       "      <th>8</th>\n",
       "      <td>Field Poll (CA)</td>\n",
       "      <td>1.33</td>\n",
       "      <td>0.88</td>\n",
       "    </tr>\n",
       "    <tr>\n",
       "      <th>9</th>\n",
       "      <td>Fox / Opinion Dynamics</td>\n",
       "      <td>0.79</td>\n",
       "      <td>1.60</td>\n",
       "    </tr>\n",
       "  </tbody>\n",
       "</table>\n",
       "</div>"
      ],
      "text/plain": [
       "                       Pollster  Weight   PIE\n",
       "0         ABC / Washington Post    0.95  1.41\n",
       "1       American Research Group    0.65  1.76\n",
       "2          CBS / New York Times    0.66  1.84\n",
       "3  Chicago Trib. / MarketShares    1.16  1.13\n",
       "4        CNN / Opinion Research    0.77  1.59\n",
       "5        Columbus Dispatch (OH)    0.50  6.76\n",
       "6                      EPIC-MRA    0.75  1.65\n",
       "7      Fairleigh-Dickinson (NJ)    0.71  1.72\n",
       "8               Field Poll (CA)    1.33  0.88\n",
       "9        Fox / Opinion Dynamics    0.79  1.60"
      ]
     },
     "execution_count": 207,
     "metadata": {},
     "output_type": "execute_result"
    }
   ],
   "source": [
    "weights.head(10)"
   ]
  },
  {
   "cell_type": "code",
   "execution_count": 163,
   "metadata": {
    "collapsed": false
   },
   "outputs": [],
   "source": [
    "natl_weight = pandas.DataFrame([[\"National\", weights.Weight.mean(), weights.PIE.mean()]],\n",
    "                                columns=[\"Pollster\", \"Weight\", \"PIE\"])\n",
    "weights = pandas.concat((weights, natl_weight)).reset_index(drop=True)"
   ]
  },
  {
   "cell_type": "code",
   "execution_count": 164,
   "metadata": {
    "collapsed": false
   },
   "outputs": [],
   "source": [
    "polls = polls.merge(weights, on=\"Pollster\", how=\"left\")"
   ]
  },
  {
   "cell_type": "code",
   "execution_count": 165,
   "metadata": {
    "collapsed": false
   },
   "outputs": [],
   "source": [
    "polls = polls.sort(\"State\")"
   ]
  },
  {
   "cell_type": "code",
   "execution_count": 166,
   "metadata": {
    "collapsed": false
   },
   "outputs": [],
   "source": [
    "def weighted_mean(group):\n",
    "    return (group[\"poll\"] * group[\"Weight\"] / group[\"Weight\"].sum()).sum()"
   ]
  },
  {
   "cell_type": "code",
   "execution_count": 167,
   "metadata": {
    "collapsed": false
   },
   "outputs": [
    {
     "data": {
      "text/html": [
       "<div>\n",
       "<table border=\"1\" class=\"dataframe\">\n",
       "  <thead>\n",
       "    <tr style=\"text-align: right;\">\n",
       "      <th></th>\n",
       "      <th>resid</th>\n",
       "      <th>State</th>\n",
       "    </tr>\n",
       "  </thead>\n",
       "  <tbody>\n",
       "    <tr>\n",
       "      <th>304</th>\n",
       "      <td>5.224651</td>\n",
       "      <td>Wisconsin</td>\n",
       "    </tr>\n",
       "    <tr>\n",
       "      <th>305</th>\n",
       "      <td>7.432851</td>\n",
       "      <td>Wisconsin</td>\n",
       "    </tr>\n",
       "    <tr>\n",
       "      <th>306</th>\n",
       "      <td>0.277203</td>\n",
       "      <td>Wisconsin</td>\n",
       "    </tr>\n",
       "    <tr>\n",
       "      <th>307</th>\n",
       "      <td>10.002459</td>\n",
       "      <td>Wisconsin</td>\n",
       "    </tr>\n",
       "    <tr>\n",
       "      <th>308</th>\n",
       "      <td>0.728450</td>\n",
       "      <td>Wisconsin</td>\n",
       "    </tr>\n",
       "    <tr>\n",
       "      <th>309</th>\n",
       "      <td>2.679444</td>\n",
       "      <td>Wisconsin</td>\n",
       "    </tr>\n",
       "    <tr>\n",
       "      <th>310</th>\n",
       "      <td>-0.268988</td>\n",
       "      <td>Wisconsin</td>\n",
       "    </tr>\n",
       "    <tr>\n",
       "      <th>311</th>\n",
       "      <td>0.890637</td>\n",
       "      <td>Wisconsin</td>\n",
       "    </tr>\n",
       "    <tr>\n",
       "      <th>312</th>\n",
       "      <td>7.240347</td>\n",
       "      <td>Wisconsin</td>\n",
       "    </tr>\n",
       "    <tr>\n",
       "      <th>313</th>\n",
       "      <td>-0.644929</td>\n",
       "      <td>Wisconsin</td>\n",
       "    </tr>\n",
       "    <tr>\n",
       "      <th>314</th>\n",
       "      <td>-5.380660</td>\n",
       "      <td>Wisconsin</td>\n",
       "    </tr>\n",
       "    <tr>\n",
       "      <th>315</th>\n",
       "      <td>-1.534117</td>\n",
       "      <td>Wisconsin</td>\n",
       "    </tr>\n",
       "    <tr>\n",
       "      <th>316</th>\n",
       "      <td>-1.534117</td>\n",
       "      <td>Wisconsin</td>\n",
       "    </tr>\n",
       "  </tbody>\n",
       "</table>\n",
       "</div>"
      ],
      "text/plain": [
       "         resid      State\n",
       "304   5.224651  Wisconsin\n",
       "305   7.432851  Wisconsin\n",
       "306   0.277203  Wisconsin\n",
       "307  10.002459  Wisconsin\n",
       "308   0.728450  Wisconsin\n",
       "309   2.679444  Wisconsin\n",
       "310  -0.268988  Wisconsin\n",
       "311   0.890637  Wisconsin\n",
       "312   7.240347  Wisconsin\n",
       "313  -0.644929  Wisconsin\n",
       "314  -5.380660  Wisconsin\n",
       "315  -1.534117  Wisconsin\n",
       "316  -1.534117  Wisconsin"
      ]
     },
     "execution_count": 167,
     "metadata": {},
     "output_type": "execute_result"
    }
   ],
   "source": [
    "group"
   ]
  },
  {
   "cell_type": "code",
   "execution_count": 168,
   "metadata": {
    "collapsed": false
   },
   "outputs": [],
   "source": [
    "results = polls.groupby(\"State\").aggregate(weighted_mean)[\"poll\"]"
   ]
  },
  {
   "cell_type": "code",
   "execution_count": 169,
   "metadata": {
    "collapsed": false
   },
   "outputs": [
    {
     "data": {
      "text/plain": [
       "State\n",
       "Arizona           -5.362448\n",
       "California        19.966475\n",
       "Colorado           2.667843\n",
       "Connecticut        8.936227\n",
       "Florida            2.170963\n",
       "Georgia           -8.858592\n",
       "Hawaii            18.584803\n",
       "Illinois          15.477867\n",
       "Indiana           -7.220115\n",
       "Iowa               2.111760\n",
       "Kansas            -9.708495\n",
       "Maine             12.353797\n",
       "Maryland          16.384295\n",
       "Massachusetts     14.174631\n",
       "Michigan           8.393170\n",
       "Minnesota          6.749915\n",
       "Mississippi       -8.346582\n",
       "Missouri          -2.152930\n",
       "Montana           -7.188138\n",
       "Nebraska          -8.789196\n",
       "Nevada             5.093130\n",
       "New Hampshire     -1.547056\n",
       "New Jersey        10.641219\n",
       "New Mexico        10.709465\n",
       "New York          23.473550\n",
       "North Carolina    -0.466602\n",
       "North Dakota      -9.287194\n",
       "Ohio               4.229394\n",
       "Oregon             8.794742\n",
       "Pennsylvania       5.502556\n",
       "Rhode Island      13.236853\n",
       "South Carolina    -6.464800\n",
       "South Dakota      -1.423598\n",
       "Tennessee         -2.630226\n",
       "Texas             -2.295507\n",
       "Utah             -29.170239\n",
       "Vermont           14.891764\n",
       "Virginia           2.420244\n",
       "Washington        12.312505\n",
       "West Virginia     -9.539451\n",
       "Wisconsin          4.627744\n",
       "Name: poll, dtype: float64"
      ]
     },
     "execution_count": 169,
     "metadata": {},
     "output_type": "execute_result"
    }
   ],
   "source": [
    "results"
   ]
  },
  {
   "cell_type": "code",
   "execution_count": 170,
   "metadata": {
    "collapsed": false
   },
   "outputs": [],
   "source": [
    "results = results.reset_index()\n",
    "results[\"obama\"] = 0\n",
    "results[\"romney\"] = 0\n",
    "results.ix[results[\"poll\"] > 0, [\"obama\"]] = 1\n",
    "results.ix[results[\"poll\"] < 0, [\"romney\"]] = 1"
   ]
  },
  {
   "cell_type": "code",
   "execution_count": 171,
   "metadata": {
    "collapsed": false
   },
   "outputs": [],
   "source": [
    "results[[\"State\", \"poll\"]].to_csv(\"./data/2012-predicted.csv\", index=False)"
   ]
  },
  {
   "cell_type": "code",
   "execution_count": 172,
   "metadata": {
    "collapsed": false
   },
   "outputs": [],
   "source": [
    "electoral_votes = pandas.read_csv(\"./data/electoral_votes.csv\")"
   ]
  },
  {
   "cell_type": "code",
   "execution_count": 173,
   "metadata": {
    "collapsed": false
   },
   "outputs": [],
   "source": [
    "electoral_votes.sort(\"State\", inplace=True)\n",
    "electoral_votes.reset_index(drop=True, inplace=True)"
   ]
  },
  {
   "cell_type": "code",
   "execution_count": 174,
   "metadata": {
    "collapsed": false
   },
   "outputs": [],
   "source": [
    "results = electoral_votes.merge(results, on=\"State\", how=\"left\")"
   ]
  },
  {
   "cell_type": "code",
   "execution_count": 175,
   "metadata": {
    "collapsed": false
   },
   "outputs": [],
   "source": [
    "results = results.set_index(\"State\")\n",
    "red_states = [\"Alabama\", \"Alaska\", \"Arkansas\", \"Idaho\", \"Kentucky\", \"Louisiana\",\n",
    "              \"Oklahoma\", \"Wyoming\"]\n",
    "blue_states = [\"Delaware\", \"District of Columbia\"]\n",
    "results.ix[red_states, [\"romney\"]] = 1\n",
    "results.ix[red_states, [\"obama\"]] = 0\n",
    "results.ix[blue_states, [\"obama\"]] = 1\n",
    "results.ix[blue_states, [\"romney\"]] = 0"
   ]
  },
  {
   "cell_type": "code",
   "execution_count": 176,
   "metadata": {
    "collapsed": false
   },
   "outputs": [
    {
     "data": {
      "text/html": [
       "<div>\n",
       "<table border=\"1\" class=\"dataframe\">\n",
       "  <thead>\n",
       "    <tr style=\"text-align: right;\">\n",
       "      <th></th>\n",
       "      <th>Votes</th>\n",
       "      <th>poll</th>\n",
       "      <th>obama</th>\n",
       "      <th>romney</th>\n",
       "    </tr>\n",
       "    <tr>\n",
       "      <th>State</th>\n",
       "      <th></th>\n",
       "      <th></th>\n",
       "      <th></th>\n",
       "      <th></th>\n",
       "    </tr>\n",
       "  </thead>\n",
       "  <tbody>\n",
       "    <tr>\n",
       "      <th>Alabama</th>\n",
       "      <td>9</td>\n",
       "      <td>NaN</td>\n",
       "      <td>0</td>\n",
       "      <td>1</td>\n",
       "    </tr>\n",
       "    <tr>\n",
       "      <th>Alaska</th>\n",
       "      <td>3</td>\n",
       "      <td>NaN</td>\n",
       "      <td>0</td>\n",
       "      <td>1</td>\n",
       "    </tr>\n",
       "    <tr>\n",
       "      <th>Arizona</th>\n",
       "      <td>11</td>\n",
       "      <td>-5.362448</td>\n",
       "      <td>0</td>\n",
       "      <td>1</td>\n",
       "    </tr>\n",
       "    <tr>\n",
       "      <th>Arkansas</th>\n",
       "      <td>6</td>\n",
       "      <td>NaN</td>\n",
       "      <td>0</td>\n",
       "      <td>1</td>\n",
       "    </tr>\n",
       "    <tr>\n",
       "      <th>California</th>\n",
       "      <td>55</td>\n",
       "      <td>19.966475</td>\n",
       "      <td>1</td>\n",
       "      <td>0</td>\n",
       "    </tr>\n",
       "    <tr>\n",
       "      <th>Colorado</th>\n",
       "      <td>9</td>\n",
       "      <td>2.667843</td>\n",
       "      <td>1</td>\n",
       "      <td>0</td>\n",
       "    </tr>\n",
       "    <tr>\n",
       "      <th>Connecticut</th>\n",
       "      <td>7</td>\n",
       "      <td>8.936227</td>\n",
       "      <td>1</td>\n",
       "      <td>0</td>\n",
       "    </tr>\n",
       "    <tr>\n",
       "      <th>Delaware</th>\n",
       "      <td>3</td>\n",
       "      <td>NaN</td>\n",
       "      <td>1</td>\n",
       "      <td>0</td>\n",
       "    </tr>\n",
       "    <tr>\n",
       "      <th>District of Columbia</th>\n",
       "      <td>3</td>\n",
       "      <td>NaN</td>\n",
       "      <td>1</td>\n",
       "      <td>0</td>\n",
       "    </tr>\n",
       "    <tr>\n",
       "      <th>Florida</th>\n",
       "      <td>29</td>\n",
       "      <td>2.170963</td>\n",
       "      <td>1</td>\n",
       "      <td>0</td>\n",
       "    </tr>\n",
       "    <tr>\n",
       "      <th>Georgia</th>\n",
       "      <td>16</td>\n",
       "      <td>-8.858592</td>\n",
       "      <td>0</td>\n",
       "      <td>1</td>\n",
       "    </tr>\n",
       "    <tr>\n",
       "      <th>Hawaii</th>\n",
       "      <td>4</td>\n",
       "      <td>18.584803</td>\n",
       "      <td>1</td>\n",
       "      <td>0</td>\n",
       "    </tr>\n",
       "    <tr>\n",
       "      <th>Idaho</th>\n",
       "      <td>4</td>\n",
       "      <td>NaN</td>\n",
       "      <td>0</td>\n",
       "      <td>1</td>\n",
       "    </tr>\n",
       "    <tr>\n",
       "      <th>Illinois</th>\n",
       "      <td>20</td>\n",
       "      <td>15.477867</td>\n",
       "      <td>1</td>\n",
       "      <td>0</td>\n",
       "    </tr>\n",
       "    <tr>\n",
       "      <th>Indiana</th>\n",
       "      <td>11</td>\n",
       "      <td>-7.220115</td>\n",
       "      <td>0</td>\n",
       "      <td>1</td>\n",
       "    </tr>\n",
       "    <tr>\n",
       "      <th>Iowa</th>\n",
       "      <td>6</td>\n",
       "      <td>2.111760</td>\n",
       "      <td>1</td>\n",
       "      <td>0</td>\n",
       "    </tr>\n",
       "    <tr>\n",
       "      <th>Kansas</th>\n",
       "      <td>6</td>\n",
       "      <td>-9.708495</td>\n",
       "      <td>0</td>\n",
       "      <td>1</td>\n",
       "    </tr>\n",
       "    <tr>\n",
       "      <th>Kentucky</th>\n",
       "      <td>8</td>\n",
       "      <td>NaN</td>\n",
       "      <td>0</td>\n",
       "      <td>1</td>\n",
       "    </tr>\n",
       "    <tr>\n",
       "      <th>Louisiana</th>\n",
       "      <td>8</td>\n",
       "      <td>NaN</td>\n",
       "      <td>0</td>\n",
       "      <td>1</td>\n",
       "    </tr>\n",
       "    <tr>\n",
       "      <th>Maine</th>\n",
       "      <td>4</td>\n",
       "      <td>12.353797</td>\n",
       "      <td>1</td>\n",
       "      <td>0</td>\n",
       "    </tr>\n",
       "    <tr>\n",
       "      <th>Maryland</th>\n",
       "      <td>10</td>\n",
       "      <td>16.384295</td>\n",
       "      <td>1</td>\n",
       "      <td>0</td>\n",
       "    </tr>\n",
       "    <tr>\n",
       "      <th>Massachusetts</th>\n",
       "      <td>11</td>\n",
       "      <td>14.174631</td>\n",
       "      <td>1</td>\n",
       "      <td>0</td>\n",
       "    </tr>\n",
       "    <tr>\n",
       "      <th>Michigan</th>\n",
       "      <td>16</td>\n",
       "      <td>8.393170</td>\n",
       "      <td>1</td>\n",
       "      <td>0</td>\n",
       "    </tr>\n",
       "    <tr>\n",
       "      <th>Minnesota</th>\n",
       "      <td>10</td>\n",
       "      <td>6.749915</td>\n",
       "      <td>1</td>\n",
       "      <td>0</td>\n",
       "    </tr>\n",
       "    <tr>\n",
       "      <th>Mississippi</th>\n",
       "      <td>6</td>\n",
       "      <td>-8.346582</td>\n",
       "      <td>0</td>\n",
       "      <td>1</td>\n",
       "    </tr>\n",
       "    <tr>\n",
       "      <th>Missouri</th>\n",
       "      <td>10</td>\n",
       "      <td>-2.152930</td>\n",
       "      <td>0</td>\n",
       "      <td>1</td>\n",
       "    </tr>\n",
       "    <tr>\n",
       "      <th>Montana</th>\n",
       "      <td>3</td>\n",
       "      <td>-7.188138</td>\n",
       "      <td>0</td>\n",
       "      <td>1</td>\n",
       "    </tr>\n",
       "    <tr>\n",
       "      <th>Nebraska</th>\n",
       "      <td>5</td>\n",
       "      <td>-8.789196</td>\n",
       "      <td>0</td>\n",
       "      <td>1</td>\n",
       "    </tr>\n",
       "    <tr>\n",
       "      <th>Nevada</th>\n",
       "      <td>6</td>\n",
       "      <td>5.093130</td>\n",
       "      <td>1</td>\n",
       "      <td>0</td>\n",
       "    </tr>\n",
       "    <tr>\n",
       "      <th>New Hampshire</th>\n",
       "      <td>4</td>\n",
       "      <td>-1.547056</td>\n",
       "      <td>0</td>\n",
       "      <td>1</td>\n",
       "    </tr>\n",
       "    <tr>\n",
       "      <th>New Jersey</th>\n",
       "      <td>14</td>\n",
       "      <td>10.641219</td>\n",
       "      <td>1</td>\n",
       "      <td>0</td>\n",
       "    </tr>\n",
       "    <tr>\n",
       "      <th>New Mexico</th>\n",
       "      <td>5</td>\n",
       "      <td>10.709465</td>\n",
       "      <td>1</td>\n",
       "      <td>0</td>\n",
       "    </tr>\n",
       "    <tr>\n",
       "      <th>New York</th>\n",
       "      <td>29</td>\n",
       "      <td>23.473550</td>\n",
       "      <td>1</td>\n",
       "      <td>0</td>\n",
       "    </tr>\n",
       "    <tr>\n",
       "      <th>North Carolina</th>\n",
       "      <td>15</td>\n",
       "      <td>-0.466602</td>\n",
       "      <td>0</td>\n",
       "      <td>1</td>\n",
       "    </tr>\n",
       "    <tr>\n",
       "      <th>North Dakota</th>\n",
       "      <td>3</td>\n",
       "      <td>-9.287194</td>\n",
       "      <td>0</td>\n",
       "      <td>1</td>\n",
       "    </tr>\n",
       "    <tr>\n",
       "      <th>Ohio</th>\n",
       "      <td>18</td>\n",
       "      <td>4.229394</td>\n",
       "      <td>1</td>\n",
       "      <td>0</td>\n",
       "    </tr>\n",
       "    <tr>\n",
       "      <th>Oklahoma</th>\n",
       "      <td>7</td>\n",
       "      <td>NaN</td>\n",
       "      <td>0</td>\n",
       "      <td>1</td>\n",
       "    </tr>\n",
       "    <tr>\n",
       "      <th>Oregon</th>\n",
       "      <td>7</td>\n",
       "      <td>8.794742</td>\n",
       "      <td>1</td>\n",
       "      <td>0</td>\n",
       "    </tr>\n",
       "    <tr>\n",
       "      <th>Pennsylvania</th>\n",
       "      <td>20</td>\n",
       "      <td>5.502556</td>\n",
       "      <td>1</td>\n",
       "      <td>0</td>\n",
       "    </tr>\n",
       "    <tr>\n",
       "      <th>Rhode Island</th>\n",
       "      <td>4</td>\n",
       "      <td>13.236853</td>\n",
       "      <td>1</td>\n",
       "      <td>0</td>\n",
       "    </tr>\n",
       "    <tr>\n",
       "      <th>South Carolina</th>\n",
       "      <td>9</td>\n",
       "      <td>-6.464800</td>\n",
       "      <td>0</td>\n",
       "      <td>1</td>\n",
       "    </tr>\n",
       "    <tr>\n",
       "      <th>South Dakota</th>\n",
       "      <td>3</td>\n",
       "      <td>-1.423598</td>\n",
       "      <td>0</td>\n",
       "      <td>1</td>\n",
       "    </tr>\n",
       "    <tr>\n",
       "      <th>Tennessee</th>\n",
       "      <td>11</td>\n",
       "      <td>-2.630226</td>\n",
       "      <td>0</td>\n",
       "      <td>1</td>\n",
       "    </tr>\n",
       "    <tr>\n",
       "      <th>Texas</th>\n",
       "      <td>38</td>\n",
       "      <td>-2.295507</td>\n",
       "      <td>0</td>\n",
       "      <td>1</td>\n",
       "    </tr>\n",
       "    <tr>\n",
       "      <th>Utah</th>\n",
       "      <td>6</td>\n",
       "      <td>-29.170239</td>\n",
       "      <td>0</td>\n",
       "      <td>1</td>\n",
       "    </tr>\n",
       "    <tr>\n",
       "      <th>Vermont</th>\n",
       "      <td>3</td>\n",
       "      <td>14.891764</td>\n",
       "      <td>1</td>\n",
       "      <td>0</td>\n",
       "    </tr>\n",
       "    <tr>\n",
       "      <th>Virginia</th>\n",
       "      <td>13</td>\n",
       "      <td>2.420244</td>\n",
       "      <td>1</td>\n",
       "      <td>0</td>\n",
       "    </tr>\n",
       "    <tr>\n",
       "      <th>Washington</th>\n",
       "      <td>12</td>\n",
       "      <td>12.312505</td>\n",
       "      <td>1</td>\n",
       "      <td>0</td>\n",
       "    </tr>\n",
       "    <tr>\n",
       "      <th>West Virginia</th>\n",
       "      <td>5</td>\n",
       "      <td>-9.539451</td>\n",
       "      <td>0</td>\n",
       "      <td>1</td>\n",
       "    </tr>\n",
       "    <tr>\n",
       "      <th>Wisconsin</th>\n",
       "      <td>10</td>\n",
       "      <td>4.627744</td>\n",
       "      <td>1</td>\n",
       "      <td>0</td>\n",
       "    </tr>\n",
       "    <tr>\n",
       "      <th>Wyoming</th>\n",
       "      <td>3</td>\n",
       "      <td>NaN</td>\n",
       "      <td>0</td>\n",
       "      <td>1</td>\n",
       "    </tr>\n",
       "  </tbody>\n",
       "</table>\n",
       "</div>"
      ],
      "text/plain": [
       "                      Votes       poll  obama  romney\n",
       "State                                                \n",
       "Alabama                   9        NaN      0       1\n",
       "Alaska                    3        NaN      0       1\n",
       "Arizona                  11  -5.362448      0       1\n",
       "Arkansas                  6        NaN      0       1\n",
       "California               55  19.966475      1       0\n",
       "Colorado                  9   2.667843      1       0\n",
       "Connecticut               7   8.936227      1       0\n",
       "Delaware                  3        NaN      1       0\n",
       "District of Columbia      3        NaN      1       0\n",
       "Florida                  29   2.170963      1       0\n",
       "Georgia                  16  -8.858592      0       1\n",
       "Hawaii                    4  18.584803      1       0\n",
       "Idaho                     4        NaN      0       1\n",
       "Illinois                 20  15.477867      1       0\n",
       "Indiana                  11  -7.220115      0       1\n",
       "Iowa                      6   2.111760      1       0\n",
       "Kansas                    6  -9.708495      0       1\n",
       "Kentucky                  8        NaN      0       1\n",
       "Louisiana                 8        NaN      0       1\n",
       "Maine                     4  12.353797      1       0\n",
       "Maryland                 10  16.384295      1       0\n",
       "Massachusetts            11  14.174631      1       0\n",
       "Michigan                 16   8.393170      1       0\n",
       "Minnesota                10   6.749915      1       0\n",
       "Mississippi               6  -8.346582      0       1\n",
       "Missouri                 10  -2.152930      0       1\n",
       "Montana                   3  -7.188138      0       1\n",
       "Nebraska                  5  -8.789196      0       1\n",
       "Nevada                    6   5.093130      1       0\n",
       "New Hampshire             4  -1.547056      0       1\n",
       "New Jersey               14  10.641219      1       0\n",
       "New Mexico                5  10.709465      1       0\n",
       "New York                 29  23.473550      1       0\n",
       "North Carolina           15  -0.466602      0       1\n",
       "North Dakota              3  -9.287194      0       1\n",
       "Ohio                     18   4.229394      1       0\n",
       "Oklahoma                  7        NaN      0       1\n",
       "Oregon                    7   8.794742      1       0\n",
       "Pennsylvania             20   5.502556      1       0\n",
       "Rhode Island              4  13.236853      1       0\n",
       "South Carolina            9  -6.464800      0       1\n",
       "South Dakota              3  -1.423598      0       1\n",
       "Tennessee                11  -2.630226      0       1\n",
       "Texas                    38  -2.295507      0       1\n",
       "Utah                      6 -29.170239      0       1\n",
       "Vermont                   3  14.891764      1       0\n",
       "Virginia                 13   2.420244      1       0\n",
       "Washington               12  12.312505      1       0\n",
       "West Virginia             5  -9.539451      0       1\n",
       "Wisconsin                10   4.627744      1       0\n",
       "Wyoming                   3        NaN      0       1"
      ]
     },
     "execution_count": 176,
     "metadata": {},
     "output_type": "execute_result"
    }
   ],
   "source": [
    "results"
   ]
  },
  {
   "cell_type": "code",
   "execution_count": 177,
   "metadata": {
    "collapsed": false
   },
   "outputs": [
    {
     "data": {
      "text/plain": [
       "328.0"
      ]
     },
     "execution_count": 177,
     "metadata": {},
     "output_type": "execute_result"
    }
   ],
   "source": [
    "results[\"Votes\"].mul(results[\"obama\"]).sum()"
   ]
  },
  {
   "cell_type": "code",
   "execution_count": 178,
   "metadata": {
    "collapsed": false
   },
   "outputs": [
    {
     "data": {
      "text/plain": [
       "210.0"
      ]
     },
     "execution_count": 178,
     "metadata": {},
     "output_type": "execute_result"
    }
   ],
   "source": [
    "results[\"Votes\"].mul(results[\"romney\"]).sum()"
   ]
  },
  {
   "cell_type": "code",
   "execution_count": 179,
   "metadata": {
    "collapsed": false
   },
   "outputs": [
    {
     "data": {
      "text/html": [
       "<div>\n",
       "<table border=\"1\" class=\"dataframe\">\n",
       "  <thead>\n",
       "    <tr style=\"text-align: right;\">\n",
       "      <th></th>\n",
       "      <th>Votes</th>\n",
       "      <th>poll</th>\n",
       "      <th>obama</th>\n",
       "      <th>romney</th>\n",
       "    </tr>\n",
       "    <tr>\n",
       "      <th>State</th>\n",
       "      <th></th>\n",
       "      <th></th>\n",
       "      <th></th>\n",
       "      <th></th>\n",
       "    </tr>\n",
       "  </thead>\n",
       "  <tbody>\n",
       "    <tr>\n",
       "      <th>Alabama</th>\n",
       "      <td>9</td>\n",
       "      <td>NaN</td>\n",
       "      <td>0</td>\n",
       "      <td>1</td>\n",
       "    </tr>\n",
       "    <tr>\n",
       "      <th>Alaska</th>\n",
       "      <td>3</td>\n",
       "      <td>NaN</td>\n",
       "      <td>0</td>\n",
       "      <td>1</td>\n",
       "    </tr>\n",
       "    <tr>\n",
       "      <th>Arizona</th>\n",
       "      <td>11</td>\n",
       "      <td>-5.362448</td>\n",
       "      <td>0</td>\n",
       "      <td>1</td>\n",
       "    </tr>\n",
       "    <tr>\n",
       "      <th>Arkansas</th>\n",
       "      <td>6</td>\n",
       "      <td>NaN</td>\n",
       "      <td>0</td>\n",
       "      <td>1</td>\n",
       "    </tr>\n",
       "    <tr>\n",
       "      <th>California</th>\n",
       "      <td>55</td>\n",
       "      <td>19.966475</td>\n",
       "      <td>1</td>\n",
       "      <td>0</td>\n",
       "    </tr>\n",
       "    <tr>\n",
       "      <th>Colorado</th>\n",
       "      <td>9</td>\n",
       "      <td>2.667843</td>\n",
       "      <td>1</td>\n",
       "      <td>0</td>\n",
       "    </tr>\n",
       "    <tr>\n",
       "      <th>Connecticut</th>\n",
       "      <td>7</td>\n",
       "      <td>8.936227</td>\n",
       "      <td>1</td>\n",
       "      <td>0</td>\n",
       "    </tr>\n",
       "    <tr>\n",
       "      <th>Delaware</th>\n",
       "      <td>3</td>\n",
       "      <td>NaN</td>\n",
       "      <td>1</td>\n",
       "      <td>0</td>\n",
       "    </tr>\n",
       "    <tr>\n",
       "      <th>District of Columbia</th>\n",
       "      <td>3</td>\n",
       "      <td>NaN</td>\n",
       "      <td>1</td>\n",
       "      <td>0</td>\n",
       "    </tr>\n",
       "    <tr>\n",
       "      <th>Florida</th>\n",
       "      <td>29</td>\n",
       "      <td>2.170963</td>\n",
       "      <td>1</td>\n",
       "      <td>0</td>\n",
       "    </tr>\n",
       "    <tr>\n",
       "      <th>Georgia</th>\n",
       "      <td>16</td>\n",
       "      <td>-8.858592</td>\n",
       "      <td>0</td>\n",
       "      <td>1</td>\n",
       "    </tr>\n",
       "    <tr>\n",
       "      <th>Hawaii</th>\n",
       "      <td>4</td>\n",
       "      <td>18.584803</td>\n",
       "      <td>1</td>\n",
       "      <td>0</td>\n",
       "    </tr>\n",
       "    <tr>\n",
       "      <th>Idaho</th>\n",
       "      <td>4</td>\n",
       "      <td>NaN</td>\n",
       "      <td>0</td>\n",
       "      <td>1</td>\n",
       "    </tr>\n",
       "    <tr>\n",
       "      <th>Illinois</th>\n",
       "      <td>20</td>\n",
       "      <td>15.477867</td>\n",
       "      <td>1</td>\n",
       "      <td>0</td>\n",
       "    </tr>\n",
       "    <tr>\n",
       "      <th>Indiana</th>\n",
       "      <td>11</td>\n",
       "      <td>-7.220115</td>\n",
       "      <td>0</td>\n",
       "      <td>1</td>\n",
       "    </tr>\n",
       "    <tr>\n",
       "      <th>Iowa</th>\n",
       "      <td>6</td>\n",
       "      <td>2.111760</td>\n",
       "      <td>1</td>\n",
       "      <td>0</td>\n",
       "    </tr>\n",
       "    <tr>\n",
       "      <th>Kansas</th>\n",
       "      <td>6</td>\n",
       "      <td>-9.708495</td>\n",
       "      <td>0</td>\n",
       "      <td>1</td>\n",
       "    </tr>\n",
       "    <tr>\n",
       "      <th>Kentucky</th>\n",
       "      <td>8</td>\n",
       "      <td>NaN</td>\n",
       "      <td>0</td>\n",
       "      <td>1</td>\n",
       "    </tr>\n",
       "    <tr>\n",
       "      <th>Louisiana</th>\n",
       "      <td>8</td>\n",
       "      <td>NaN</td>\n",
       "      <td>0</td>\n",
       "      <td>1</td>\n",
       "    </tr>\n",
       "    <tr>\n",
       "      <th>Maine</th>\n",
       "      <td>4</td>\n",
       "      <td>12.353797</td>\n",
       "      <td>1</td>\n",
       "      <td>0</td>\n",
       "    </tr>\n",
       "    <tr>\n",
       "      <th>Maryland</th>\n",
       "      <td>10</td>\n",
       "      <td>16.384295</td>\n",
       "      <td>1</td>\n",
       "      <td>0</td>\n",
       "    </tr>\n",
       "    <tr>\n",
       "      <th>Massachusetts</th>\n",
       "      <td>11</td>\n",
       "      <td>14.174631</td>\n",
       "      <td>1</td>\n",
       "      <td>0</td>\n",
       "    </tr>\n",
       "    <tr>\n",
       "      <th>Michigan</th>\n",
       "      <td>16</td>\n",
       "      <td>8.393170</td>\n",
       "      <td>1</td>\n",
       "      <td>0</td>\n",
       "    </tr>\n",
       "    <tr>\n",
       "      <th>Minnesota</th>\n",
       "      <td>10</td>\n",
       "      <td>6.749915</td>\n",
       "      <td>1</td>\n",
       "      <td>0</td>\n",
       "    </tr>\n",
       "    <tr>\n",
       "      <th>Mississippi</th>\n",
       "      <td>6</td>\n",
       "      <td>-8.346582</td>\n",
       "      <td>0</td>\n",
       "      <td>1</td>\n",
       "    </tr>\n",
       "    <tr>\n",
       "      <th>Missouri</th>\n",
       "      <td>10</td>\n",
       "      <td>-2.152930</td>\n",
       "      <td>0</td>\n",
       "      <td>1</td>\n",
       "    </tr>\n",
       "    <tr>\n",
       "      <th>Montana</th>\n",
       "      <td>3</td>\n",
       "      <td>-7.188138</td>\n",
       "      <td>0</td>\n",
       "      <td>1</td>\n",
       "    </tr>\n",
       "    <tr>\n",
       "      <th>Nebraska</th>\n",
       "      <td>5</td>\n",
       "      <td>-8.789196</td>\n",
       "      <td>0</td>\n",
       "      <td>1</td>\n",
       "    </tr>\n",
       "    <tr>\n",
       "      <th>Nevada</th>\n",
       "      <td>6</td>\n",
       "      <td>5.093130</td>\n",
       "      <td>1</td>\n",
       "      <td>0</td>\n",
       "    </tr>\n",
       "    <tr>\n",
       "      <th>New Hampshire</th>\n",
       "      <td>4</td>\n",
       "      <td>-1.547056</td>\n",
       "      <td>0</td>\n",
       "      <td>1</td>\n",
       "    </tr>\n",
       "    <tr>\n",
       "      <th>New Jersey</th>\n",
       "      <td>14</td>\n",
       "      <td>10.641219</td>\n",
       "      <td>1</td>\n",
       "      <td>0</td>\n",
       "    </tr>\n",
       "    <tr>\n",
       "      <th>New Mexico</th>\n",
       "      <td>5</td>\n",
       "      <td>10.709465</td>\n",
       "      <td>1</td>\n",
       "      <td>0</td>\n",
       "    </tr>\n",
       "    <tr>\n",
       "      <th>New York</th>\n",
       "      <td>29</td>\n",
       "      <td>23.473550</td>\n",
       "      <td>1</td>\n",
       "      <td>0</td>\n",
       "    </tr>\n",
       "    <tr>\n",
       "      <th>North Carolina</th>\n",
       "      <td>15</td>\n",
       "      <td>-0.466602</td>\n",
       "      <td>0</td>\n",
       "      <td>1</td>\n",
       "    </tr>\n",
       "    <tr>\n",
       "      <th>North Dakota</th>\n",
       "      <td>3</td>\n",
       "      <td>-9.287194</td>\n",
       "      <td>0</td>\n",
       "      <td>1</td>\n",
       "    </tr>\n",
       "    <tr>\n",
       "      <th>Ohio</th>\n",
       "      <td>18</td>\n",
       "      <td>4.229394</td>\n",
       "      <td>1</td>\n",
       "      <td>0</td>\n",
       "    </tr>\n",
       "    <tr>\n",
       "      <th>Oklahoma</th>\n",
       "      <td>7</td>\n",
       "      <td>NaN</td>\n",
       "      <td>0</td>\n",
       "      <td>1</td>\n",
       "    </tr>\n",
       "    <tr>\n",
       "      <th>Oregon</th>\n",
       "      <td>7</td>\n",
       "      <td>8.794742</td>\n",
       "      <td>1</td>\n",
       "      <td>0</td>\n",
       "    </tr>\n",
       "    <tr>\n",
       "      <th>Pennsylvania</th>\n",
       "      <td>20</td>\n",
       "      <td>5.502556</td>\n",
       "      <td>1</td>\n",
       "      <td>0</td>\n",
       "    </tr>\n",
       "    <tr>\n",
       "      <th>Rhode Island</th>\n",
       "      <td>4</td>\n",
       "      <td>13.236853</td>\n",
       "      <td>1</td>\n",
       "      <td>0</td>\n",
       "    </tr>\n",
       "    <tr>\n",
       "      <th>South Carolina</th>\n",
       "      <td>9</td>\n",
       "      <td>-6.464800</td>\n",
       "      <td>0</td>\n",
       "      <td>1</td>\n",
       "    </tr>\n",
       "    <tr>\n",
       "      <th>South Dakota</th>\n",
       "      <td>3</td>\n",
       "      <td>-1.423598</td>\n",
       "      <td>0</td>\n",
       "      <td>1</td>\n",
       "    </tr>\n",
       "    <tr>\n",
       "      <th>Tennessee</th>\n",
       "      <td>11</td>\n",
       "      <td>-2.630226</td>\n",
       "      <td>0</td>\n",
       "      <td>1</td>\n",
       "    </tr>\n",
       "    <tr>\n",
       "      <th>Texas</th>\n",
       "      <td>38</td>\n",
       "      <td>-2.295507</td>\n",
       "      <td>0</td>\n",
       "      <td>1</td>\n",
       "    </tr>\n",
       "    <tr>\n",
       "      <th>Utah</th>\n",
       "      <td>6</td>\n",
       "      <td>-29.170239</td>\n",
       "      <td>0</td>\n",
       "      <td>1</td>\n",
       "    </tr>\n",
       "    <tr>\n",
       "      <th>Vermont</th>\n",
       "      <td>3</td>\n",
       "      <td>14.891764</td>\n",
       "      <td>1</td>\n",
       "      <td>0</td>\n",
       "    </tr>\n",
       "    <tr>\n",
       "      <th>Virginia</th>\n",
       "      <td>13</td>\n",
       "      <td>2.420244</td>\n",
       "      <td>1</td>\n",
       "      <td>0</td>\n",
       "    </tr>\n",
       "    <tr>\n",
       "      <th>Washington</th>\n",
       "      <td>12</td>\n",
       "      <td>12.312505</td>\n",
       "      <td>1</td>\n",
       "      <td>0</td>\n",
       "    </tr>\n",
       "    <tr>\n",
       "      <th>West Virginia</th>\n",
       "      <td>5</td>\n",
       "      <td>-9.539451</td>\n",
       "      <td>0</td>\n",
       "      <td>1</td>\n",
       "    </tr>\n",
       "    <tr>\n",
       "      <th>Wisconsin</th>\n",
       "      <td>10</td>\n",
       "      <td>4.627744</td>\n",
       "      <td>1</td>\n",
       "      <td>0</td>\n",
       "    </tr>\n",
       "    <tr>\n",
       "      <th>Wyoming</th>\n",
       "      <td>3</td>\n",
       "      <td>NaN</td>\n",
       "      <td>0</td>\n",
       "      <td>1</td>\n",
       "    </tr>\n",
       "  </tbody>\n",
       "</table>\n",
       "</div>"
      ],
      "text/plain": [
       "                      Votes       poll  obama  romney\n",
       "State                                                \n",
       "Alabama                   9        NaN      0       1\n",
       "Alaska                    3        NaN      0       1\n",
       "Arizona                  11  -5.362448      0       1\n",
       "Arkansas                  6        NaN      0       1\n",
       "California               55  19.966475      1       0\n",
       "Colorado                  9   2.667843      1       0\n",
       "Connecticut               7   8.936227      1       0\n",
       "Delaware                  3        NaN      1       0\n",
       "District of Columbia      3        NaN      1       0\n",
       "Florida                  29   2.170963      1       0\n",
       "Georgia                  16  -8.858592      0       1\n",
       "Hawaii                    4  18.584803      1       0\n",
       "Idaho                     4        NaN      0       1\n",
       "Illinois                 20  15.477867      1       0\n",
       "Indiana                  11  -7.220115      0       1\n",
       "Iowa                      6   2.111760      1       0\n",
       "Kansas                    6  -9.708495      0       1\n",
       "Kentucky                  8        NaN      0       1\n",
       "Louisiana                 8        NaN      0       1\n",
       "Maine                     4  12.353797      1       0\n",
       "Maryland                 10  16.384295      1       0\n",
       "Massachusetts            11  14.174631      1       0\n",
       "Michigan                 16   8.393170      1       0\n",
       "Minnesota                10   6.749915      1       0\n",
       "Mississippi               6  -8.346582      0       1\n",
       "Missouri                 10  -2.152930      0       1\n",
       "Montana                   3  -7.188138      0       1\n",
       "Nebraska                  5  -8.789196      0       1\n",
       "Nevada                    6   5.093130      1       0\n",
       "New Hampshire             4  -1.547056      0       1\n",
       "New Jersey               14  10.641219      1       0\n",
       "New Mexico                5  10.709465      1       0\n",
       "New York                 29  23.473550      1       0\n",
       "North Carolina           15  -0.466602      0       1\n",
       "North Dakota              3  -9.287194      0       1\n",
       "Ohio                     18   4.229394      1       0\n",
       "Oklahoma                  7        NaN      0       1\n",
       "Oregon                    7   8.794742      1       0\n",
       "Pennsylvania             20   5.502556      1       0\n",
       "Rhode Island              4  13.236853      1       0\n",
       "South Carolina            9  -6.464800      0       1\n",
       "South Dakota              3  -1.423598      0       1\n",
       "Tennessee                11  -2.630226      0       1\n",
       "Texas                    38  -2.295507      0       1\n",
       "Utah                      6 -29.170239      0       1\n",
       "Vermont                   3  14.891764      1       0\n",
       "Virginia                 13   2.420244      1       0\n",
       "Washington               12  12.312505      1       0\n",
       "West Virginia             5  -9.539451      0       1\n",
       "Wisconsin                10   4.627744      1       0\n",
       "Wyoming                   3        NaN      0       1"
      ]
     },
     "execution_count": 179,
     "metadata": {},
     "output_type": "execute_result"
    }
   ],
   "source": [
    "results"
   ]
  },
  {
   "cell_type": "markdown",
   "metadata": {},
   "source": [
    "TODO:"
   ]
  },
  {
   "cell_type": "markdown",
   "metadata": {},
   "source": [
    "Divide undecided voters probabilistically."
   ]
  },
  {
   "cell_type": "markdown",
   "metadata": {},
   "source": [
    "Do historical adjustments based on how polls changed in the past conditional on \"election environment\""
   ]
  },
  {
   "cell_type": "markdown",
   "metadata": {},
   "source": [
    "\"Error analysis\""
   ]
  },
  {
   "cell_type": "markdown",
   "metadata": {},
   "source": [
    "# Error Analysis"
   ]
  },
  {
   "cell_type": "markdown",
   "metadata": {},
   "source": [
    "Polling errors are from sample variance and other ambiguities inherent to polling\n",
    "\n",
    "Model the Polling error, based on these factors:\n",
    "\n",
    "* The error is higher in races with fewer polls\n",
    "* The error is higher in races where the polls disagree with one another.\n",
    "* The error is higher when there are a larger number of undecided voters.\n",
    "* The error is higher when the margin between the two candidates is lopsided.\n",
    "* The error is higher the further one is from Election Day.\n",
    "\n",
    "We don't have the data to model this but we will guestimate so we can show you the full process.\n",
    "\n",
    "We need error estimates for each state (local error) and for the generic ballot (national error). These are combined to get the total error for each state.\n",
    "\n",
    "The national error creates correlation between the state results.\n",
    "\n",
    "$$\n",
    "LocalError = \\sqrt{TotalError^{2} + NationalError^{2}}\n",
    "$$\n",
    "\n",
    "\n",
    "\n",
    "Source: http://fivethirtyeight.blogs.nytimes.com/methodology/?_r=0"
   ]
  },
  {
   "cell_type": "code",
   "execution_count": 180,
   "metadata": {
    "collapsed": false
   },
   "outputs": [
    {
     "data": {
      "text/plain": [
       "Colorado         3\n",
       "Florida          3\n",
       "Iowa             3\n",
       "New Hampshire    3\n",
       "Nevada           3\n",
       "Ohio             3\n",
       "Virginia         3\n",
       "Wisconsin        3\n",
       "dtype: float64"
      ]
     },
     "execution_count": 180,
     "metadata": {},
     "output_type": "execute_result"
    }
   ],
   "source": [
    "national_margin_of_error = 3.0\n",
    "local_margin_of_error = Series(np.array([3.0] * 8), index=tossup)\n",
    "local_margin_of_error"
   ]
  },
  {
   "cell_type": "code",
   "execution_count": 181,
   "metadata": {
    "collapsed": true
   },
   "outputs": [],
   "source": [
    "np.random.seed(1)\n",
    "N = 10000\n",
    "local_error_sim = DataFrame(np.random.randn(N, len(tossup)), columns=tossup).multiply(local_margin_of_error)\n",
    "national_error_sim = Series(np.random.randn(N) * national_margin_of_error)"
   ]
  },
  {
   "cell_type": "code",
   "execution_count": 182,
   "metadata": {
    "collapsed": false
   },
   "outputs": [
    {
     "data": {
      "text/html": [
       "<div>\n",
       "<table border=\"1\" class=\"dataframe\">\n",
       "  <thead>\n",
       "    <tr style=\"text-align: right;\">\n",
       "      <th></th>\n",
       "      <th>Colorado</th>\n",
       "      <th>Florida</th>\n",
       "      <th>Iowa</th>\n",
       "      <th>New Hampshire</th>\n",
       "      <th>Nevada</th>\n",
       "      <th>Ohio</th>\n",
       "      <th>Virginia</th>\n",
       "      <th>Wisconsin</th>\n",
       "    </tr>\n",
       "  </thead>\n",
       "  <tbody>\n",
       "    <tr>\n",
       "      <th>0</th>\n",
       "      <td>4.873036</td>\n",
       "      <td>-1.835269</td>\n",
       "      <td>-1.584515</td>\n",
       "      <td>-3.218906</td>\n",
       "      <td>2.596223</td>\n",
       "      <td>-6.904616</td>\n",
       "      <td>5.234435</td>\n",
       "      <td>-2.283621</td>\n",
       "    </tr>\n",
       "    <tr>\n",
       "      <th>1</th>\n",
       "      <td>0.957117</td>\n",
       "      <td>-0.748111</td>\n",
       "      <td>4.386324</td>\n",
       "      <td>-6.180422</td>\n",
       "      <td>-0.967252</td>\n",
       "      <td>-1.152163</td>\n",
       "      <td>3.401308</td>\n",
       "      <td>-3.299674</td>\n",
       "    </tr>\n",
       "    <tr>\n",
       "      <th>2</th>\n",
       "      <td>-0.517285</td>\n",
       "      <td>-2.633575</td>\n",
       "      <td>0.126641</td>\n",
       "      <td>1.748446</td>\n",
       "      <td>-3.301858</td>\n",
       "      <td>3.434171</td>\n",
       "      <td>2.704772</td>\n",
       "      <td>1.507483</td>\n",
       "    </tr>\n",
       "    <tr>\n",
       "      <th>3</th>\n",
       "      <td>2.702568</td>\n",
       "      <td>-2.051184</td>\n",
       "      <td>-0.368671</td>\n",
       "      <td>-2.807308</td>\n",
       "      <td>-0.803664</td>\n",
       "      <td>1.591066</td>\n",
       "      <td>-2.074982</td>\n",
       "      <td>-1.190261</td>\n",
       "    </tr>\n",
       "    <tr>\n",
       "      <th>4</th>\n",
       "      <td>-2.061518</td>\n",
       "      <td>-2.535617</td>\n",
       "      <td>-2.013738</td>\n",
       "      <td>-0.037994</td>\n",
       "      <td>-3.351931</td>\n",
       "      <td>0.703247</td>\n",
       "      <td>4.979407</td>\n",
       "      <td>2.226132</td>\n",
       "    </tr>\n",
       "    <tr>\n",
       "      <th>5</th>\n",
       "      <td>-0.575507</td>\n",
       "      <td>-2.662887</td>\n",
       "      <td>-2.241475</td>\n",
       "      <td>5.077364</td>\n",
       "      <td>0.152423</td>\n",
       "      <td>-1.910987</td>\n",
       "      <td>0.572746</td>\n",
       "      <td>6.300765</td>\n",
       "    </tr>\n",
       "    <tr>\n",
       "      <th>6</th>\n",
       "      <td>0.360477</td>\n",
       "      <td>1.851609</td>\n",
       "      <td>0.900511</td>\n",
       "      <td>-1.056750</td>\n",
       "      <td>-3.427555</td>\n",
       "      <td>-1.048028</td>\n",
       "      <td>-0.626683</td>\n",
       "      <td>1.759870</td>\n",
       "    </tr>\n",
       "    <tr>\n",
       "      <th>7</th>\n",
       "      <td>2.516950</td>\n",
       "      <td>2.793306</td>\n",
       "      <td>0.856762</td>\n",
       "      <td>2.655423</td>\n",
       "      <td>-2.263194</td>\n",
       "      <td>3.758604</td>\n",
       "      <td>1.538789</td>\n",
       "      <td>-0.894279</td>\n",
       "    </tr>\n",
       "    <tr>\n",
       "      <th>8</th>\n",
       "      <td>1.465554</td>\n",
       "      <td>-0.226715</td>\n",
       "      <td>3.394888</td>\n",
       "      <td>4.559450</td>\n",
       "      <td>6.556726</td>\n",
       "      <td>-4.189489</td>\n",
       "      <td>-4.332341</td>\n",
       "      <td>-1.513398</td>\n",
       "    </tr>\n",
       "    <tr>\n",
       "      <th>9</th>\n",
       "      <td>0.480111</td>\n",
       "      <td>2.628507</td>\n",
       "      <td>0.946905</td>\n",
       "      <td>-6.066604</td>\n",
       "      <td>-0.918612</td>\n",
       "      <td>2.483924</td>\n",
       "      <td>0.690284</td>\n",
       "      <td>2.286034</td>\n",
       "    </tr>\n",
       "  </tbody>\n",
       "</table>\n",
       "</div>"
      ],
      "text/plain": [
       "   Colorado   Florida      Iowa  New Hampshire    Nevada      Ohio  Virginia  \\\n",
       "0  4.873036 -1.835269 -1.584515      -3.218906  2.596223 -6.904616  5.234435   \n",
       "1  0.957117 -0.748111  4.386324      -6.180422 -0.967252 -1.152163  3.401308   \n",
       "2 -0.517285 -2.633575  0.126641       1.748446 -3.301858  3.434171  2.704772   \n",
       "3  2.702568 -2.051184 -0.368671      -2.807308 -0.803664  1.591066 -2.074982   \n",
       "4 -2.061518 -2.535617 -2.013738      -0.037994 -3.351931  0.703247  4.979407   \n",
       "5 -0.575507 -2.662887 -2.241475       5.077364  0.152423 -1.910987  0.572746   \n",
       "6  0.360477  1.851609  0.900511      -1.056750 -3.427555 -1.048028 -0.626683   \n",
       "7  2.516950  2.793306  0.856762       2.655423 -2.263194  3.758604  1.538789   \n",
       "8  1.465554 -0.226715  3.394888       4.559450  6.556726 -4.189489 -4.332341   \n",
       "9  0.480111  2.628507  0.946905      -6.066604 -0.918612  2.483924  0.690284   \n",
       "\n",
       "   Wisconsin  \n",
       "0  -2.283621  \n",
       "1  -3.299674  \n",
       "2   1.507483  \n",
       "3  -1.190261  \n",
       "4   2.226132  \n",
       "5   6.300765  \n",
       "6   1.759870  \n",
       "7  -0.894279  \n",
       "8  -1.513398  \n",
       "9   2.286034  "
      ]
     },
     "execution_count": 182,
     "metadata": {},
     "output_type": "execute_result"
    }
   ],
   "source": [
    "# local error deviations\n",
    "local_error_sim.iloc[:10,]"
   ]
  },
  {
   "cell_type": "code",
   "execution_count": 183,
   "metadata": {
    "collapsed": false
   },
   "outputs": [
    {
     "data": {
      "text/html": [
       "<div>\n",
       "<table border=\"1\" class=\"dataframe\">\n",
       "  <thead>\n",
       "    <tr style=\"text-align: right;\">\n",
       "      <th></th>\n",
       "      <th>Colorado</th>\n",
       "      <th>Florida</th>\n",
       "      <th>Iowa</th>\n",
       "      <th>New Hampshire</th>\n",
       "      <th>Nevada</th>\n",
       "      <th>Ohio</th>\n",
       "      <th>Virginia</th>\n",
       "      <th>Wisconsin</th>\n",
       "    </tr>\n",
       "  </thead>\n",
       "  <tbody>\n",
       "    <tr>\n",
       "      <th>0</th>\n",
       "      <td>8.710056</td>\n",
       "      <td>2.001751</td>\n",
       "      <td>2.252505</td>\n",
       "      <td>0.618114</td>\n",
       "      <td>6.433243</td>\n",
       "      <td>-3.067596</td>\n",
       "      <td>9.071456</td>\n",
       "      <td>1.553400</td>\n",
       "    </tr>\n",
       "    <tr>\n",
       "      <th>1</th>\n",
       "      <td>0.472249</td>\n",
       "      <td>-1.232979</td>\n",
       "      <td>3.901456</td>\n",
       "      <td>-6.665290</td>\n",
       "      <td>-1.452120</td>\n",
       "      <td>-1.637031</td>\n",
       "      <td>2.916440</td>\n",
       "      <td>-3.784542</td>\n",
       "    </tr>\n",
       "    <tr>\n",
       "      <th>2</th>\n",
       "      <td>-2.403524</td>\n",
       "      <td>-4.519815</td>\n",
       "      <td>-1.759598</td>\n",
       "      <td>-0.137794</td>\n",
       "      <td>-5.188097</td>\n",
       "      <td>1.547932</td>\n",
       "      <td>0.818533</td>\n",
       "      <td>-0.378756</td>\n",
       "    </tr>\n",
       "    <tr>\n",
       "      <th>3</th>\n",
       "      <td>-1.191917</td>\n",
       "      <td>-5.945668</td>\n",
       "      <td>-4.263155</td>\n",
       "      <td>-6.701793</td>\n",
       "      <td>-4.698149</td>\n",
       "      <td>-2.303418</td>\n",
       "      <td>-5.969467</td>\n",
       "      <td>-5.084745</td>\n",
       "    </tr>\n",
       "    <tr>\n",
       "      <th>4</th>\n",
       "      <td>1.793951</td>\n",
       "      <td>1.319852</td>\n",
       "      <td>1.841730</td>\n",
       "      <td>3.817475</td>\n",
       "      <td>0.503538</td>\n",
       "      <td>4.558716</td>\n",
       "      <td>8.834875</td>\n",
       "      <td>6.081601</td>\n",
       "    </tr>\n",
       "    <tr>\n",
       "      <th>5</th>\n",
       "      <td>-2.572048</td>\n",
       "      <td>-4.659428</td>\n",
       "      <td>-4.238016</td>\n",
       "      <td>3.080822</td>\n",
       "      <td>-1.844118</td>\n",
       "      <td>-3.907528</td>\n",
       "      <td>-1.423795</td>\n",
       "      <td>4.304224</td>\n",
       "    </tr>\n",
       "    <tr>\n",
       "      <th>6</th>\n",
       "      <td>-0.158740</td>\n",
       "      <td>1.332393</td>\n",
       "      <td>0.381295</td>\n",
       "      <td>-1.575966</td>\n",
       "      <td>-3.946771</td>\n",
       "      <td>-1.567245</td>\n",
       "      <td>-1.145899</td>\n",
       "      <td>1.240653</td>\n",
       "    </tr>\n",
       "    <tr>\n",
       "      <th>7</th>\n",
       "      <td>2.745183</td>\n",
       "      <td>3.021539</td>\n",
       "      <td>1.084994</td>\n",
       "      <td>2.883656</td>\n",
       "      <td>-2.034961</td>\n",
       "      <td>3.986837</td>\n",
       "      <td>1.767022</td>\n",
       "      <td>-0.666046</td>\n",
       "    </tr>\n",
       "    <tr>\n",
       "      <th>8</th>\n",
       "      <td>1.963082</td>\n",
       "      <td>0.270812</td>\n",
       "      <td>3.892416</td>\n",
       "      <td>5.056978</td>\n",
       "      <td>7.054254</td>\n",
       "      <td>-3.691961</td>\n",
       "      <td>-3.834814</td>\n",
       "      <td>-1.015870</td>\n",
       "    </tr>\n",
       "    <tr>\n",
       "      <th>9</th>\n",
       "      <td>-3.459845</td>\n",
       "      <td>-1.311450</td>\n",
       "      <td>-2.993052</td>\n",
       "      <td>-10.006560</td>\n",
       "      <td>-4.858569</td>\n",
       "      <td>-1.456033</td>\n",
       "      <td>-3.249672</td>\n",
       "      <td>-1.653923</td>\n",
       "    </tr>\n",
       "  </tbody>\n",
       "</table>\n",
       "</div>"
      ],
      "text/plain": [
       "   Colorado   Florida      Iowa  New Hampshire    Nevada      Ohio  Virginia  \\\n",
       "0  8.710056  2.001751  2.252505       0.618114  6.433243 -3.067596  9.071456   \n",
       "1  0.472249 -1.232979  3.901456      -6.665290 -1.452120 -1.637031  2.916440   \n",
       "2 -2.403524 -4.519815 -1.759598      -0.137794 -5.188097  1.547932  0.818533   \n",
       "3 -1.191917 -5.945668 -4.263155      -6.701793 -4.698149 -2.303418 -5.969467   \n",
       "4  1.793951  1.319852  1.841730       3.817475  0.503538  4.558716  8.834875   \n",
       "5 -2.572048 -4.659428 -4.238016       3.080822 -1.844118 -3.907528 -1.423795   \n",
       "6 -0.158740  1.332393  0.381295      -1.575966 -3.946771 -1.567245 -1.145899   \n",
       "7  2.745183  3.021539  1.084994       2.883656 -2.034961  3.986837  1.767022   \n",
       "8  1.963082  0.270812  3.892416       5.056978  7.054254 -3.691961 -3.834814   \n",
       "9 -3.459845 -1.311450 -2.993052     -10.006560 -4.858569 -1.456033 -3.249672   \n",
       "\n",
       "   Wisconsin  \n",
       "0   1.553400  \n",
       "1  -3.784542  \n",
       "2  -0.378756  \n",
       "3  -5.084745  \n",
       "4   6.081601  \n",
       "5   4.304224  \n",
       "6   1.240653  \n",
       "7  -0.666046  \n",
       "8  -1.015870  \n",
       "9  -1.653923  "
      ]
     },
     "execution_count": 183,
     "metadata": {},
     "output_type": "execute_result"
    }
   ],
   "source": [
    "# total error deviations\n",
    "total_error_sim = local_error_sim.add(national_error_sim, axis='rows')\n",
    "total_error_sim.iloc[:10,]"
   ]
  },
  {
   "cell_type": "code",
   "execution_count": 184,
   "metadata": {
    "collapsed": false
   },
   "outputs": [
    {
     "data": {
      "text/html": [
       "<div>\n",
       "<table border=\"1\" class=\"dataframe\">\n",
       "  <thead>\n",
       "    <tr style=\"text-align: right;\">\n",
       "      <th></th>\n",
       "      <th>Colorado</th>\n",
       "      <th>Florida</th>\n",
       "      <th>Iowa</th>\n",
       "      <th>New Hampshire</th>\n",
       "      <th>Nevada</th>\n",
       "      <th>Ohio</th>\n",
       "      <th>Virginia</th>\n",
       "      <th>Wisconsin</th>\n",
       "    </tr>\n",
       "  </thead>\n",
       "  <tbody>\n",
       "    <tr>\n",
       "      <th>0</th>\n",
       "      <td>11.377900</td>\n",
       "      <td>4.172714</td>\n",
       "      <td>4.364265</td>\n",
       "      <td>-0.928942</td>\n",
       "      <td>11.526373</td>\n",
       "      <td>1.161799</td>\n",
       "      <td>11.491700</td>\n",
       "      <td>6.181143</td>\n",
       "    </tr>\n",
       "    <tr>\n",
       "      <th>1</th>\n",
       "      <td>3.140093</td>\n",
       "      <td>0.937984</td>\n",
       "      <td>6.013216</td>\n",
       "      <td>-8.212346</td>\n",
       "      <td>3.641010</td>\n",
       "      <td>2.592363</td>\n",
       "      <td>5.336685</td>\n",
       "      <td>0.843202</td>\n",
       "    </tr>\n",
       "    <tr>\n",
       "      <th>2</th>\n",
       "      <td>0.264319</td>\n",
       "      <td>-2.348852</td>\n",
       "      <td>0.352162</td>\n",
       "      <td>-1.684850</td>\n",
       "      <td>-0.094967</td>\n",
       "      <td>5.777326</td>\n",
       "      <td>3.238777</td>\n",
       "      <td>4.248987</td>\n",
       "    </tr>\n",
       "    <tr>\n",
       "      <th>3</th>\n",
       "      <td>1.475926</td>\n",
       "      <td>-3.774705</td>\n",
       "      <td>-2.151395</td>\n",
       "      <td>-8.248849</td>\n",
       "      <td>0.394981</td>\n",
       "      <td>1.925976</td>\n",
       "      <td>-3.549223</td>\n",
       "      <td>-0.457002</td>\n",
       "    </tr>\n",
       "    <tr>\n",
       "      <th>4</th>\n",
       "      <td>4.461794</td>\n",
       "      <td>3.490815</td>\n",
       "      <td>3.953491</td>\n",
       "      <td>2.270419</td>\n",
       "      <td>5.596668</td>\n",
       "      <td>8.788110</td>\n",
       "      <td>11.255119</td>\n",
       "      <td>10.709345</td>\n",
       "    </tr>\n",
       "    <tr>\n",
       "      <th>5</th>\n",
       "      <td>0.095795</td>\n",
       "      <td>-2.488465</td>\n",
       "      <td>-2.126256</td>\n",
       "      <td>1.533766</td>\n",
       "      <td>3.249012</td>\n",
       "      <td>0.321866</td>\n",
       "      <td>0.996449</td>\n",
       "      <td>8.931968</td>\n",
       "    </tr>\n",
       "    <tr>\n",
       "      <th>6</th>\n",
       "      <td>2.509104</td>\n",
       "      <td>3.503356</td>\n",
       "      <td>2.493055</td>\n",
       "      <td>-3.123022</td>\n",
       "      <td>1.146359</td>\n",
       "      <td>2.662150</td>\n",
       "      <td>1.274345</td>\n",
       "      <td>5.868397</td>\n",
       "    </tr>\n",
       "    <tr>\n",
       "      <th>7</th>\n",
       "      <td>5.413026</td>\n",
       "      <td>5.192502</td>\n",
       "      <td>3.196755</td>\n",
       "      <td>1.336600</td>\n",
       "      <td>3.058169</td>\n",
       "      <td>8.216231</td>\n",
       "      <td>4.187266</td>\n",
       "      <td>3.961697</td>\n",
       "    </tr>\n",
       "    <tr>\n",
       "      <th>8</th>\n",
       "      <td>4.630925</td>\n",
       "      <td>2.441775</td>\n",
       "      <td>6.004176</td>\n",
       "      <td>3.509922</td>\n",
       "      <td>12.147384</td>\n",
       "      <td>0.537433</td>\n",
       "      <td>-1.414570</td>\n",
       "      <td>3.611874</td>\n",
       "    </tr>\n",
       "    <tr>\n",
       "      <th>9</th>\n",
       "      <td>-0.792002</td>\n",
       "      <td>0.859513</td>\n",
       "      <td>-0.881291</td>\n",
       "      <td>-11.553616</td>\n",
       "      <td>0.234561</td>\n",
       "      <td>2.773362</td>\n",
       "      <td>-0.829428</td>\n",
       "      <td>2.973821</td>\n",
       "    </tr>\n",
       "  </tbody>\n",
       "</table>\n",
       "</div>"
      ],
      "text/plain": [
       "    Colorado   Florida      Iowa  New Hampshire     Nevada      Ohio  \\\n",
       "0  11.377900  4.172714  4.364265      -0.928942  11.526373  1.161799   \n",
       "1   3.140093  0.937984  6.013216      -8.212346   3.641010  2.592363   \n",
       "2   0.264319 -2.348852  0.352162      -1.684850  -0.094967  5.777326   \n",
       "3   1.475926 -3.774705 -2.151395      -8.248849   0.394981  1.925976   \n",
       "4   4.461794  3.490815  3.953491       2.270419   5.596668  8.788110   \n",
       "5   0.095795 -2.488465 -2.126256       1.533766   3.249012  0.321866   \n",
       "6   2.509104  3.503356  2.493055      -3.123022   1.146359  2.662150   \n",
       "7   5.413026  5.192502  3.196755       1.336600   3.058169  8.216231   \n",
       "8   4.630925  2.441775  6.004176       3.509922  12.147384  0.537433   \n",
       "9  -0.792002  0.859513 -0.881291     -11.553616   0.234561  2.773362   \n",
       "\n",
       "    Virginia  Wisconsin  \n",
       "0  11.491700   6.181143  \n",
       "1   5.336685   0.843202  \n",
       "2   3.238777   4.248987  \n",
       "3  -3.549223  -0.457002  \n",
       "4  11.255119  10.709345  \n",
       "5   0.996449   8.931968  \n",
       "6   1.274345   5.868397  \n",
       "7   4.187266   3.961697  \n",
       "8  -1.414570   3.611874  \n",
       "9  -0.829428   2.973821  "
      ]
     },
     "execution_count": 184,
     "metadata": {},
     "output_type": "execute_result"
    }
   ],
   "source": [
    "# to that we add the model predictions for each state\n",
    "simulated_poll_predictions = total_error_sim.add(results.ix[tossup, 'poll'])\n",
    "simulated_poll_predictions.iloc[:10,]"
   ]
  },
  {
   "cell_type": "code",
   "execution_count": 185,
   "metadata": {
    "collapsed": false
   },
   "outputs": [
    {
     "data": {
      "text/html": [
       "<div>\n",
       "<table border=\"1\" class=\"dataframe\">\n",
       "  <thead>\n",
       "    <tr style=\"text-align: right;\">\n",
       "      <th></th>\n",
       "      <th>Colorado</th>\n",
       "      <th>Florida</th>\n",
       "      <th>Iowa</th>\n",
       "      <th>New Hampshire</th>\n",
       "      <th>Nevada</th>\n",
       "      <th>Ohio</th>\n",
       "      <th>Virginia</th>\n",
       "      <th>Wisconsin</th>\n",
       "    </tr>\n",
       "  </thead>\n",
       "  <tbody>\n",
       "    <tr>\n",
       "      <th>Colorado</th>\n",
       "      <td>1.000000</td>\n",
       "      <td>0.495928</td>\n",
       "      <td>0.493505</td>\n",
       "      <td>0.503438</td>\n",
       "      <td>0.500832</td>\n",
       "      <td>0.505176</td>\n",
       "      <td>0.499251</td>\n",
       "      <td>0.502516</td>\n",
       "    </tr>\n",
       "    <tr>\n",
       "      <th>Florida</th>\n",
       "      <td>0.495928</td>\n",
       "      <td>1.000000</td>\n",
       "      <td>0.504859</td>\n",
       "      <td>0.484577</td>\n",
       "      <td>0.495763</td>\n",
       "      <td>0.494672</td>\n",
       "      <td>0.493993</td>\n",
       "      <td>0.501656</td>\n",
       "    </tr>\n",
       "    <tr>\n",
       "      <th>Iowa</th>\n",
       "      <td>0.493505</td>\n",
       "      <td>0.504859</td>\n",
       "      <td>1.000000</td>\n",
       "      <td>0.493213</td>\n",
       "      <td>0.489625</td>\n",
       "      <td>0.502977</td>\n",
       "      <td>0.496665</td>\n",
       "      <td>0.505508</td>\n",
       "    </tr>\n",
       "    <tr>\n",
       "      <th>New Hampshire</th>\n",
       "      <td>0.503438</td>\n",
       "      <td>0.484577</td>\n",
       "      <td>0.493213</td>\n",
       "      <td>1.000000</td>\n",
       "      <td>0.505407</td>\n",
       "      <td>0.500251</td>\n",
       "      <td>0.505616</td>\n",
       "      <td>0.506102</td>\n",
       "    </tr>\n",
       "    <tr>\n",
       "      <th>Nevada</th>\n",
       "      <td>0.500832</td>\n",
       "      <td>0.495763</td>\n",
       "      <td>0.489625</td>\n",
       "      <td>0.505407</td>\n",
       "      <td>1.000000</td>\n",
       "      <td>0.497530</td>\n",
       "      <td>0.491802</td>\n",
       "      <td>0.504529</td>\n",
       "    </tr>\n",
       "    <tr>\n",
       "      <th>Ohio</th>\n",
       "      <td>0.505176</td>\n",
       "      <td>0.494672</td>\n",
       "      <td>0.502977</td>\n",
       "      <td>0.500251</td>\n",
       "      <td>0.497530</td>\n",
       "      <td>1.000000</td>\n",
       "      <td>0.491498</td>\n",
       "      <td>0.493094</td>\n",
       "    </tr>\n",
       "    <tr>\n",
       "      <th>Virginia</th>\n",
       "      <td>0.499251</td>\n",
       "      <td>0.493993</td>\n",
       "      <td>0.496665</td>\n",
       "      <td>0.505616</td>\n",
       "      <td>0.491802</td>\n",
       "      <td>0.491498</td>\n",
       "      <td>1.000000</td>\n",
       "      <td>0.499111</td>\n",
       "    </tr>\n",
       "    <tr>\n",
       "      <th>Wisconsin</th>\n",
       "      <td>0.502516</td>\n",
       "      <td>0.501656</td>\n",
       "      <td>0.505508</td>\n",
       "      <td>0.506102</td>\n",
       "      <td>0.504529</td>\n",
       "      <td>0.493094</td>\n",
       "      <td>0.499111</td>\n",
       "      <td>1.000000</td>\n",
       "    </tr>\n",
       "  </tbody>\n",
       "</table>\n",
       "</div>"
      ],
      "text/plain": [
       "               Colorado   Florida      Iowa  New Hampshire    Nevada  \\\n",
       "Colorado       1.000000  0.495928  0.493505       0.503438  0.500832   \n",
       "Florida        0.495928  1.000000  0.504859       0.484577  0.495763   \n",
       "Iowa           0.493505  0.504859  1.000000       0.493213  0.489625   \n",
       "New Hampshire  0.503438  0.484577  0.493213       1.000000  0.505407   \n",
       "Nevada         0.500832  0.495763  0.489625       0.505407  1.000000   \n",
       "Ohio           0.505176  0.494672  0.502977       0.500251  0.497530   \n",
       "Virginia       0.499251  0.493993  0.496665       0.505616  0.491802   \n",
       "Wisconsin      0.502516  0.501656  0.505508       0.506102  0.504529   \n",
       "\n",
       "                   Ohio  Virginia  Wisconsin  \n",
       "Colorado       0.505176  0.499251   0.502516  \n",
       "Florida        0.494672  0.493993   0.501656  \n",
       "Iowa           0.502977  0.496665   0.505508  \n",
       "New Hampshire  0.500251  0.505616   0.506102  \n",
       "Nevada         0.497530  0.491802   0.504529  \n",
       "Ohio           1.000000  0.491498   0.493094  \n",
       "Virginia       0.491498  1.000000   0.499111  \n",
       "Wisconsin      0.493094  0.499111   1.000000  "
      ]
     },
     "execution_count": 185,
     "metadata": {},
     "output_type": "execute_result"
    }
   ],
   "source": [
    "simulated_poll_predictions.corr()"
   ]
  },
  {
   "cell_type": "code",
   "execution_count": 186,
   "metadata": {
    "collapsed": false
   },
   "outputs": [
    {
     "data": {
      "text/html": [
       "<div>\n",
       "<table border=\"1\" class=\"dataframe\">\n",
       "  <thead>\n",
       "    <tr style=\"text-align: right;\">\n",
       "      <th></th>\n",
       "      <th>DemWinPct</th>\n",
       "      <th>RepWinPct</th>\n",
       "    </tr>\n",
       "  </thead>\n",
       "  <tbody>\n",
       "    <tr>\n",
       "      <th>Colorado</th>\n",
       "      <td>0.7453</td>\n",
       "      <td>0.2547</td>\n",
       "    </tr>\n",
       "    <tr>\n",
       "      <th>Florida</th>\n",
       "      <td>0.6937</td>\n",
       "      <td>0.3063</td>\n",
       "    </tr>\n",
       "    <tr>\n",
       "      <th>Iowa</th>\n",
       "      <td>0.6937</td>\n",
       "      <td>0.3063</td>\n",
       "    </tr>\n",
       "    <tr>\n",
       "      <th>New Hampshire</th>\n",
       "      <td>0.3541</td>\n",
       "      <td>0.6459</td>\n",
       "    </tr>\n",
       "    <tr>\n",
       "      <th>Nevada</th>\n",
       "      <td>0.8871</td>\n",
       "      <td>0.1129</td>\n",
       "    </tr>\n",
       "    <tr>\n",
       "      <th>Ohio</th>\n",
       "      <td>0.8373</td>\n",
       "      <td>0.1627</td>\n",
       "    </tr>\n",
       "    <tr>\n",
       "      <th>Virginia</th>\n",
       "      <td>0.7235</td>\n",
       "      <td>0.2765</td>\n",
       "    </tr>\n",
       "    <tr>\n",
       "      <th>Wisconsin</th>\n",
       "      <td>0.8717</td>\n",
       "      <td>0.1283</td>\n",
       "    </tr>\n",
       "  </tbody>\n",
       "</table>\n",
       "</div>"
      ],
      "text/plain": [
       "               DemWinPct  RepWinPct\n",
       "Colorado          0.7453     0.2547\n",
       "Florida           0.6937     0.3063\n",
       "Iowa              0.6937     0.3063\n",
       "New Hampshire     0.3541     0.6459\n",
       "Nevada            0.8871     0.1129\n",
       "Ohio              0.8373     0.1627\n",
       "Virginia          0.7235     0.2765\n",
       "Wisconsin         0.8717     0.1283"
      ]
     },
     "execution_count": 186,
     "metadata": {},
     "output_type": "execute_result"
    }
   ],
   "source": [
    "wins = DataFrame([sum(simulated_poll_predictions[s] > 0) / float(N) for s in tossup], index=tossup, columns=[\"DemWinPct\"])\n",
    "wins['RepWinPct'] = 1 - wins['DemWinPct']\n",
    "wins"
   ]
  },
  {
   "cell_type": "code",
   "execution_count": 187,
   "metadata": {
    "collapsed": false
   },
   "outputs": [],
   "source": [
    "bins = np.arange(-10, 10, 0.2)\n",
    "histograms = {s: np.histogram(simulated_poll_predictions[s], bins=bins, density=True)[0] for s in tossup}"
   ]
  },
  {
   "cell_type": "code",
   "execution_count": 188,
   "metadata": {
    "collapsed": false
   },
   "outputs": [
    {
     "data": {
      "image/png": "[encoded data removed]",
      "text/plain": [
       "<matplotlib.figure.Figure at 0x117d243d0>"
      ]
     },
     "metadata": {},
     "output_type": "display_data"
    }
   ],
   "source": [
    "fig, axes = plt.subplots(len(tossup), 1, sharex=True, figsize=(16,  12))\n",
    "\n",
    "for state, ax in zip(tossup, axes):\n",
    "    ax.fill_between(bins[1:], 0, histograms[state], facecolor='red')\n",
    "    ax.fill_between(bins[50:], 0, histograms[state][49:], facecolor='blue')\n",
    "    ax.set_title(state)\n",
    "    ax.plot([0.0, 0.0], [0, 0.2], color='k', linewidth=4)  "
   ]
  },
  {
   "cell_type": "code",
   "execution_count": 189,
   "metadata": {
    "collapsed": false
   },
   "outputs": [
    {
     "name": "stdout",
     "output_type": "stream",
     "text": [
      "Solid Obama Electorial College Votes 237.0\n",
      "Solid Romney Electorial College Votes 206.0\n"
     ]
    }
   ],
   "source": [
    "# electorial votes for the non-tossup states\n",
    "solid = set(results.index).difference(tossup)\n",
    "solid_obama = results[\"Votes\"].mul(results[\"obama\"])[solid].sum()\n",
    "solid_romney = results[\"Votes\"].mul(results[\"romney\"])[solid].sum()\n",
    "\n",
    "print \"Solid Obama Electorial College Votes\", solid_obama\n",
    "print \"Solid Romney Electorial College Votes\", solid_romney"
   ]
  },
  {
   "cell_type": "code",
   "execution_count": 190,
   "metadata": {
    "collapsed": true
   },
   "outputs": [],
   "source": [
    "# electorial college votes for the tossup states, from the simulation\n",
    "tossup_electoral_votes = electoral_votes.set_index('State').ix[tossup, 'Votes']\n",
    "\n",
    "obama_simulated_electorial_college = (simulated_poll_predictions > 0).multiply(tossup_electoral_votes)\n",
    "obama_simulated_electorial_college['Solid States'] = solid_obama\n",
    "obama_simulated_electorial_college['Total'] = obama_simulated_electorial_college.sum(axis=1)\n",
    "\n",
    "romney_simulated_electorial_college = (simulated_poll_predictions < 0).multiply(tossup_electoral_votes)\n",
    "romney_simulated_electorial_college['Solid States'] = solid_romney\n",
    "romney_simulated_electorial_college['Total'] = romney_simulated_electorial_college.sum(axis=1)"
   ]
  },
  {
   "cell_type": "code",
   "execution_count": 191,
   "metadata": {
    "collapsed": false
   },
   "outputs": [
    {
     "data": {
      "text/html": [
       "<div>\n",
       "<table border=\"1\" class=\"dataframe\">\n",
       "  <thead>\n",
       "    <tr style=\"text-align: right;\">\n",
       "      <th></th>\n",
       "      <th>Colorado</th>\n",
       "      <th>Florida</th>\n",
       "      <th>Iowa</th>\n",
       "      <th>New Hampshire</th>\n",
       "      <th>Nevada</th>\n",
       "      <th>Ohio</th>\n",
       "      <th>Virginia</th>\n",
       "      <th>Wisconsin</th>\n",
       "      <th>Solid States</th>\n",
       "      <th>Total</th>\n",
       "    </tr>\n",
       "  </thead>\n",
       "  <tbody>\n",
       "    <tr>\n",
       "      <th>0</th>\n",
       "      <td>9</td>\n",
       "      <td>29</td>\n",
       "      <td>6</td>\n",
       "      <td>0</td>\n",
       "      <td>6</td>\n",
       "      <td>18</td>\n",
       "      <td>13</td>\n",
       "      <td>10</td>\n",
       "      <td>237</td>\n",
       "      <td>328</td>\n",
       "    </tr>\n",
       "    <tr>\n",
       "      <th>1</th>\n",
       "      <td>9</td>\n",
       "      <td>29</td>\n",
       "      <td>6</td>\n",
       "      <td>0</td>\n",
       "      <td>6</td>\n",
       "      <td>18</td>\n",
       "      <td>13</td>\n",
       "      <td>10</td>\n",
       "      <td>237</td>\n",
       "      <td>328</td>\n",
       "    </tr>\n",
       "    <tr>\n",
       "      <th>2</th>\n",
       "      <td>9</td>\n",
       "      <td>0</td>\n",
       "      <td>6</td>\n",
       "      <td>0</td>\n",
       "      <td>0</td>\n",
       "      <td>18</td>\n",
       "      <td>13</td>\n",
       "      <td>10</td>\n",
       "      <td>237</td>\n",
       "      <td>293</td>\n",
       "    </tr>\n",
       "    <tr>\n",
       "      <th>3</th>\n",
       "      <td>9</td>\n",
       "      <td>0</td>\n",
       "      <td>0</td>\n",
       "      <td>0</td>\n",
       "      <td>6</td>\n",
       "      <td>18</td>\n",
       "      <td>0</td>\n",
       "      <td>0</td>\n",
       "      <td>237</td>\n",
       "      <td>270</td>\n",
       "    </tr>\n",
       "    <tr>\n",
       "      <th>4</th>\n",
       "      <td>9</td>\n",
       "      <td>29</td>\n",
       "      <td>6</td>\n",
       "      <td>4</td>\n",
       "      <td>6</td>\n",
       "      <td>18</td>\n",
       "      <td>13</td>\n",
       "      <td>10</td>\n",
       "      <td>237</td>\n",
       "      <td>332</td>\n",
       "    </tr>\n",
       "    <tr>\n",
       "      <th>5</th>\n",
       "      <td>9</td>\n",
       "      <td>0</td>\n",
       "      <td>0</td>\n",
       "      <td>4</td>\n",
       "      <td>6</td>\n",
       "      <td>18</td>\n",
       "      <td>13</td>\n",
       "      <td>10</td>\n",
       "      <td>237</td>\n",
       "      <td>297</td>\n",
       "    </tr>\n",
       "    <tr>\n",
       "      <th>6</th>\n",
       "      <td>9</td>\n",
       "      <td>29</td>\n",
       "      <td>6</td>\n",
       "      <td>0</td>\n",
       "      <td>6</td>\n",
       "      <td>18</td>\n",
       "      <td>13</td>\n",
       "      <td>10</td>\n",
       "      <td>237</td>\n",
       "      <td>328</td>\n",
       "    </tr>\n",
       "    <tr>\n",
       "      <th>7</th>\n",
       "      <td>9</td>\n",
       "      <td>29</td>\n",
       "      <td>6</td>\n",
       "      <td>4</td>\n",
       "      <td>6</td>\n",
       "      <td>18</td>\n",
       "      <td>13</td>\n",
       "      <td>10</td>\n",
       "      <td>237</td>\n",
       "      <td>332</td>\n",
       "    </tr>\n",
       "    <tr>\n",
       "      <th>8</th>\n",
       "      <td>9</td>\n",
       "      <td>29</td>\n",
       "      <td>6</td>\n",
       "      <td>4</td>\n",
       "      <td>6</td>\n",
       "      <td>18</td>\n",
       "      <td>0</td>\n",
       "      <td>10</td>\n",
       "      <td>237</td>\n",
       "      <td>319</td>\n",
       "    </tr>\n",
       "    <tr>\n",
       "      <th>9</th>\n",
       "      <td>0</td>\n",
       "      <td>29</td>\n",
       "      <td>0</td>\n",
       "      <td>0</td>\n",
       "      <td>6</td>\n",
       "      <td>18</td>\n",
       "      <td>0</td>\n",
       "      <td>10</td>\n",
       "      <td>237</td>\n",
       "      <td>300</td>\n",
       "    </tr>\n",
       "  </tbody>\n",
       "</table>\n",
       "</div>"
      ],
      "text/plain": [
       "   Colorado  Florida  Iowa  New Hampshire  Nevada  Ohio  Virginia  Wisconsin  \\\n",
       "0         9       29     6              0       6    18        13         10   \n",
       "1         9       29     6              0       6    18        13         10   \n",
       "2         9        0     6              0       0    18        13         10   \n",
       "3         9        0     0              0       6    18         0          0   \n",
       "4         9       29     6              4       6    18        13         10   \n",
       "5         9        0     0              4       6    18        13         10   \n",
       "6         9       29     6              0       6    18        13         10   \n",
       "7         9       29     6              4       6    18        13         10   \n",
       "8         9       29     6              4       6    18         0         10   \n",
       "9         0       29     0              0       6    18         0         10   \n",
       "\n",
       "   Solid States  Total  \n",
       "0           237    328  \n",
       "1           237    328  \n",
       "2           237    293  \n",
       "3           237    270  \n",
       "4           237    332  \n",
       "5           237    297  \n",
       "6           237    328  \n",
       "7           237    332  \n",
       "8           237    319  \n",
       "9           237    300  "
      ]
     },
     "execution_count": 191,
     "metadata": {},
     "output_type": "execute_result"
    }
   ],
   "source": [
    "obama_simulated_electorial_college.iloc[:10,]"
   ]
  },
  {
   "cell_type": "code",
   "execution_count": 192,
   "metadata": {
    "collapsed": false
   },
   "outputs": [
    {
     "data": {
      "text/html": [
       "<div>\n",
       "<table border=\"1\" class=\"dataframe\">\n",
       "  <thead>\n",
       "    <tr style=\"text-align: right;\">\n",
       "      <th></th>\n",
       "      <th>Colorado</th>\n",
       "      <th>Florida</th>\n",
       "      <th>Iowa</th>\n",
       "      <th>New Hampshire</th>\n",
       "      <th>Nevada</th>\n",
       "      <th>Ohio</th>\n",
       "      <th>Virginia</th>\n",
       "      <th>Wisconsin</th>\n",
       "      <th>Solid States</th>\n",
       "      <th>Total</th>\n",
       "    </tr>\n",
       "  </thead>\n",
       "  <tbody>\n",
       "    <tr>\n",
       "      <th>0</th>\n",
       "      <td>0</td>\n",
       "      <td>0</td>\n",
       "      <td>0</td>\n",
       "      <td>4</td>\n",
       "      <td>0</td>\n",
       "      <td>0</td>\n",
       "      <td>0</td>\n",
       "      <td>0</td>\n",
       "      <td>206</td>\n",
       "      <td>210</td>\n",
       "    </tr>\n",
       "    <tr>\n",
       "      <th>1</th>\n",
       "      <td>0</td>\n",
       "      <td>0</td>\n",
       "      <td>0</td>\n",
       "      <td>4</td>\n",
       "      <td>0</td>\n",
       "      <td>0</td>\n",
       "      <td>0</td>\n",
       "      <td>0</td>\n",
       "      <td>206</td>\n",
       "      <td>210</td>\n",
       "    </tr>\n",
       "    <tr>\n",
       "      <th>2</th>\n",
       "      <td>0</td>\n",
       "      <td>29</td>\n",
       "      <td>0</td>\n",
       "      <td>4</td>\n",
       "      <td>6</td>\n",
       "      <td>0</td>\n",
       "      <td>0</td>\n",
       "      <td>0</td>\n",
       "      <td>206</td>\n",
       "      <td>245</td>\n",
       "    </tr>\n",
       "    <tr>\n",
       "      <th>3</th>\n",
       "      <td>0</td>\n",
       "      <td>29</td>\n",
       "      <td>6</td>\n",
       "      <td>4</td>\n",
       "      <td>0</td>\n",
       "      <td>0</td>\n",
       "      <td>13</td>\n",
       "      <td>10</td>\n",
       "      <td>206</td>\n",
       "      <td>268</td>\n",
       "    </tr>\n",
       "    <tr>\n",
       "      <th>4</th>\n",
       "      <td>0</td>\n",
       "      <td>0</td>\n",
       "      <td>0</td>\n",
       "      <td>0</td>\n",
       "      <td>0</td>\n",
       "      <td>0</td>\n",
       "      <td>0</td>\n",
       "      <td>0</td>\n",
       "      <td>206</td>\n",
       "      <td>206</td>\n",
       "    </tr>\n",
       "    <tr>\n",
       "      <th>5</th>\n",
       "      <td>0</td>\n",
       "      <td>29</td>\n",
       "      <td>6</td>\n",
       "      <td>0</td>\n",
       "      <td>0</td>\n",
       "      <td>0</td>\n",
       "      <td>0</td>\n",
       "      <td>0</td>\n",
       "      <td>206</td>\n",
       "      <td>241</td>\n",
       "    </tr>\n",
       "    <tr>\n",
       "      <th>6</th>\n",
       "      <td>0</td>\n",
       "      <td>0</td>\n",
       "      <td>0</td>\n",
       "      <td>4</td>\n",
       "      <td>0</td>\n",
       "      <td>0</td>\n",
       "      <td>0</td>\n",
       "      <td>0</td>\n",
       "      <td>206</td>\n",
       "      <td>210</td>\n",
       "    </tr>\n",
       "    <tr>\n",
       "      <th>7</th>\n",
       "      <td>0</td>\n",
       "      <td>0</td>\n",
       "      <td>0</td>\n",
       "      <td>0</td>\n",
       "      <td>0</td>\n",
       "      <td>0</td>\n",
       "      <td>0</td>\n",
       "      <td>0</td>\n",
       "      <td>206</td>\n",
       "      <td>206</td>\n",
       "    </tr>\n",
       "    <tr>\n",
       "      <th>8</th>\n",
       "      <td>0</td>\n",
       "      <td>0</td>\n",
       "      <td>0</td>\n",
       "      <td>0</td>\n",
       "      <td>0</td>\n",
       "      <td>0</td>\n",
       "      <td>13</td>\n",
       "      <td>0</td>\n",
       "      <td>206</td>\n",
       "      <td>219</td>\n",
       "    </tr>\n",
       "    <tr>\n",
       "      <th>9</th>\n",
       "      <td>9</td>\n",
       "      <td>0</td>\n",
       "      <td>6</td>\n",
       "      <td>4</td>\n",
       "      <td>0</td>\n",
       "      <td>0</td>\n",
       "      <td>13</td>\n",
       "      <td>0</td>\n",
       "      <td>206</td>\n",
       "      <td>238</td>\n",
       "    </tr>\n",
       "  </tbody>\n",
       "</table>\n",
       "</div>"
      ],
      "text/plain": [
       "   Colorado  Florida  Iowa  New Hampshire  Nevada  Ohio  Virginia  Wisconsin  \\\n",
       "0         0        0     0              4       0     0         0          0   \n",
       "1         0        0     0              4       0     0         0          0   \n",
       "2         0       29     0              4       6     0         0          0   \n",
       "3         0       29     6              4       0     0        13         10   \n",
       "4         0        0     0              0       0     0         0          0   \n",
       "5         0       29     6              0       0     0         0          0   \n",
       "6         0        0     0              4       0     0         0          0   \n",
       "7         0        0     0              0       0     0         0          0   \n",
       "8         0        0     0              0       0     0        13          0   \n",
       "9         9        0     6              4       0     0        13          0   \n",
       "\n",
       "   Solid States  Total  \n",
       "0           206    210  \n",
       "1           206    210  \n",
       "2           206    245  \n",
       "3           206    268  \n",
       "4           206    206  \n",
       "5           206    241  \n",
       "6           206    210  \n",
       "7           206    206  \n",
       "8           206    219  \n",
       "9           206    238  "
      ]
     },
     "execution_count": 192,
     "metadata": {},
     "output_type": "execute_result"
    }
   ],
   "source": [
    "romney_simulated_electorial_college.iloc[:10,]"
   ]
  },
  {
   "cell_type": "code",
   "execution_count": 193,
   "metadata": {
    "collapsed": false
   },
   "outputs": [
    {
     "data": {
      "text/plain": [
       "<matplotlib.axes._subplots.AxesSubplot at 0x118427e90>"
      ]
     },
     "execution_count": 193,
     "metadata": {},
     "output_type": "execute_result"
    },
    {
     "data": {
      "image/png": "[encoded data removed]",
      "text/plain": [
       "<matplotlib.figure.Figure at 0x1183a1d10>"
      ]
     },
     "metadata": {},
     "output_type": "display_data"
    }
   ],
   "source": [
    "obama_simulated_electorial_college['Total'].hist(bins=300, figsize=(16, 4))"
   ]
  },
  {
   "cell_type": "code",
   "execution_count": 194,
   "metadata": {
    "collapsed": false
   },
   "outputs": [
    {
     "data": {
      "text/plain": [
       "<matplotlib.axes._subplots.AxesSubplot at 0x11846ee10>"
      ]
     },
     "execution_count": 194,
     "metadata": {},
     "output_type": "execute_result"
    },
    {
     "data": {
      "image/png": "[encoded data removed]",
      "text/plain": [
       "<matplotlib.figure.Figure at 0x1184c7f50>"
      ]
     },
     "metadata": {},
     "output_type": "display_data"
    }
   ],
   "source": [
    "romney_simulated_electorial_college['Total'].hist(bins=300, figsize=(16, 4))"
   ]
  },
  {
   "cell_type": "code",
   "execution_count": 195,
   "metadata": {
    "collapsed": false
   },
   "outputs": [
    {
     "data": {
      "text/plain": [
       "0.89610000000000001"
      ]
     },
     "execution_count": 195,
     "metadata": {},
     "output_type": "execute_result"
    }
   ],
   "source": [
    "sum(obama_simulated_electorial_college['Total'] > romney_simulated_electorial_college['Total']) / float(N)"
   ]
  }
 ],
 "metadata": {
  "kernelspec": {
   "display_name": "Python 2",
   "language": "python",
   "name": "python2"
  },
  "language_info": {
   "codemirror_mode": {
    "name": "ipython",
    "version": 2
   },
   "file_extension": ".py",
   "mimetype": "text/x-python",
   "name": "python",
   "nbconvert_exporter": "python",
   "pygments_lexer": "ipython2",
   "version": "2.7.11"
  }
 },
 "nbformat": 4,
 "nbformat_minor": 0
}
